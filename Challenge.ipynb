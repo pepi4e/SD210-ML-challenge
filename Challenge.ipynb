{
 "cells": [
  {
   "cell_type": "code",
   "execution_count": 1,
   "metadata": {
    "collapsed": true
   },
   "outputs": [],
   "source": [
    "#basic python packages for plotting and array management\n",
    "import numpy as np\n",
    "import matplotlib.pyplot as plt\n",
    "import random\n",
    "\n",
    "#for data import\n",
    "import pandas as pd\n",
    "from __future__ import division\n",
    "import os\n",
    "import sys\n",
    "from importlib import reload\n",
    "reload(sys)\n",
    "\n",
    "#Preprocessing\n",
    "from sklearn import preprocessing\n",
    "from sklearn.preprocessing import StandardScaler\n",
    "from sklearn.utils import shuffle\n",
    "from sklearn.discriminant_analysis import LinearDiscriminantAnalysis\n",
    "from sklearn.decomposition import PCA\n",
    "\n",
    "#Classifiers\n",
    "from sklearn.linear_model import LogisticRegression, RidgeClassifier, RidgeClassifierCV, PassiveAggressiveClassifier, Perceptron, SGDClassifier\n",
    "from sklearn.svm import SVC\n",
    "from sklearn.neighbors import KNeighborsClassifier, NearestCentroid\n",
    "from sklearn.gaussian_process import GaussianProcessClassifier\n",
    "from sklearn.naive_bayes import GaussianNB, MultinomialNB, BernoulliNB\n",
    "from sklearn.tree import DecisionTreeClassifier, ExtraTreeClassifier\n",
    "from sklearn.neural_network import MLPClassifier\n",
    "\n",
    "#Ensemble methods and crossvalidation\n",
    "from sklearn.model_selection import GridSearchCV, cross_val_predict, cross_val_score\n",
    "from sklearn.pipeline import Pipeline\n",
    "from sklearn.ensemble import AdaBoostClassifier, BaggingClassifier, ExtraTreesClassifier, GradientBoostingClassifier,RandomForestClassifier, VotingClassifier\n",
    "\n",
    "#PostProcessing\n",
    "from sklearn.metrics import classification_report, confusion_matrix, roc_auc_score\n",
    "\n",
    "import time"
   ]
  },
  {
   "cell_type": "markdown",
   "metadata": {},
   "source": [
    "# Loading DATA"
   ]
  },
  {
   "cell_type": "code",
   "execution_count": 22,
   "metadata": {
    "collapsed": true
   },
   "outputs": [],
   "source": [
    "customers = pd.read_csv(\"customers.csv\")\n",
    "products = pd.read_csv(\"products.csv\")\n",
    "X_train = pd.read_csv(\"X_train.csv\")\n",
    "X_test   = pd.read_csv(\"X_test.csv\")\n",
    "y_train = pd.read_csv(\"y_train.csv\")"
   ]
  },
  {
   "cell_type": "markdown",
   "metadata": {},
   "source": [
    "# Comprehension of the Data"
   ]
  },
  {
   "cell_type": "code",
   "execution_count": 26,
   "metadata": {},
   "outputs": [
    {
     "name": "stdout",
     "output_type": "stream",
     "text": [
      "We will train our algorithm based on a set of 1067290 orders, each with 20 features.\n",
      "Then we will test it on a set of 800468 orders with the same number of features.\n",
      "\n",
      "The customers set consists of 5 labels:\n",
      "Index(['CustomerId', 'CountryISOCode', 'BirthDate', 'Gender',\n",
      "       'FirstOrderDate'],\n",
      "      dtype='object')\n",
      "\n",
      "The products set consists of 25 labels:\n",
      "Index(['VariantId', 'GenderLabel', 'MarketTargetLabel', 'SeasonLabel',\n",
      "       'SeasonalityLabel', 'BrandId', 'UniverseLabel', 'TypeBrand',\n",
      "       'ProductId', 'ProductType', 'SupplierColor', 'ProductColorId',\n",
      "       'MinSize', 'MaxSize', 'CalfTurn', 'UpperHeight', 'HeelHeight',\n",
      "       'PurchasePriceHT', 'IsNewCollection', 'SubtypeLabel',\n",
      "       'UpperMaterialLabel', 'LiningMaterialLabel', 'OutSoleMaterialLabel',\n",
      "       'RemovableSole', 'SizeAdviceDescription'],\n",
      "      dtype='object')\n",
      "\n",
      "The x_training set consists of 20 labels:\n",
      "Index(['OrderNumber', 'VariantId', 'LineItem', 'CustomerId',\n",
      "       'OrderStatusLabel', 'OrderTypelabel', 'SeasonLabel',\n",
      "       'PayementModeLabel', 'CustomerTypeLabel', 'IsoCode', 'DeviceTypeLabel',\n",
      "       'PricingTypeLabel', 'TotalLineItems', 'Quantity', 'UnitPMPEUR',\n",
      "       'OrderCreationDate', 'OrderShipDate', 'OrderNumCustomer', 'IsOnSale',\n",
      "       'BillingPostalCode'],\n",
      "      dtype='object')\n",
      "\n",
      "The y_training set consists of 4 labels:\n",
      "Index(['OrderNumber', 'LineItem', 'ReturnQuantity', 'ReturnQuantityBin'], dtype='object')\n",
      "\n",
      "There are exactly 845602 orders not returned and 221688 orders returned\n"
     ]
    }
   ],
   "source": [
    "print(\"We will train our algorithm based on a set of %d orders, each with %d features.\"%(X_train.shape[0],X_train.shape[1]))\n",
    "print(\"Then we will test it on a set of %d orders with the same number of features.\"%(X_test.shape[0]))\n",
    "print(\"\\nThe customers set consists of %d labels:\" %(customers.shape[1]))\n",
    "print(customers.columns)\n",
    "print(\"\\nThe products set consists of %d labels:\" %(products.shape[1]))\n",
    "print(products.columns)\n",
    "print(\"\\nThe x_training set consists of %d labels:\" %(X_train.shape[1]))\n",
    "print(X_train.columns)\n",
    "print(\"\\nThe y_training set consists of %d labels:\" %(y_train.shape[1]))\n",
    "print(y_train.columns)\n",
    "print(\"\\nThere are exactly %d orders not returned and %d orders returned\" %((y_train['ReturnQuantityBin'] == 0).sum(),(y_train['ReturnQuantityBin'] == 1).sum() ))"
   ]
  },
  {
   "cell_type": "code",
   "execution_count": 27,
   "metadata": {},
   "outputs": [
    {
     "name": "stdout",
     "output_type": "stream",
     "text": [
      "<class 'pandas.core.frame.DataFrame'>\n",
      "                 VariantId   BrandId  ProductId  ProductColorId   MinSize  \\\n",
      "VariantId         1.000000 -0.016766   0.783185        0.990998 -0.019901   \n",
      "BrandId          -0.016766  1.000000   0.102005       -0.010289  0.071875   \n",
      "ProductId         0.783185  0.102005   1.000000        0.791826 -0.012969   \n",
      "ProductColorId    0.990998 -0.010289   0.791826        1.000000 -0.018809   \n",
      "MinSize          -0.019901  0.071875  -0.012969       -0.018809  1.000000   \n",
      "MaxSize          -0.019533  0.071157  -0.013154       -0.018699  0.996423   \n",
      "CalfTurn          0.308736  0.173388   0.611093        0.314068  0.013149   \n",
      "UpperHeight       0.090000  0.119543   0.224235        0.092973  0.024932   \n",
      "HeelHeight       -0.086091  0.178323   0.012220       -0.081672  0.109033   \n",
      "PurchasePriceHT  -0.036490 -0.031441  -0.008504       -0.034820  0.078680   \n",
      "IsNewCollection   0.404488 -0.003701   0.316906        0.389347 -0.015657   \n",
      "\n",
      "                  MaxSize  CalfTurn  UpperHeight  HeelHeight  PurchasePriceHT  \\\n",
      "VariantId       -0.019533  0.308736     0.090000   -0.086091        -0.036490   \n",
      "BrandId          0.071157  0.173388     0.119543    0.178323        -0.031441   \n",
      "ProductId       -0.013154  0.611093     0.224235    0.012220        -0.008504   \n",
      "ProductColorId  -0.018699  0.314068     0.092973   -0.081672        -0.034820   \n",
      "MinSize          0.996423  0.013149     0.024932    0.109033         0.078680   \n",
      "MaxSize          1.000000  0.011254     0.022836    0.106140         0.078341   \n",
      "CalfTurn         0.011254  1.000000     0.925603    0.225813         0.344563   \n",
      "UpperHeight      0.022836  0.925603     1.000000    0.172266         0.298875   \n",
      "HeelHeight       0.106140  0.225813     0.172266    1.000000         0.266200   \n",
      "PurchasePriceHT  0.078341  0.344563     0.298875    0.266200         1.000000   \n",
      "IsNewCollection -0.015654  0.146032     0.008804   -0.015881         0.017333   \n",
      "\n",
      "                 IsNewCollection  \n",
      "VariantId               0.404488  \n",
      "BrandId                -0.003701  \n",
      "ProductId               0.316906  \n",
      "ProductColorId          0.389347  \n",
      "MinSize                -0.015657  \n",
      "MaxSize                -0.015654  \n",
      "CalfTurn                0.146032  \n",
      "UpperHeight             0.008804  \n",
      "HeelHeight             -0.015881  \n",
      "PurchasePriceHT         0.017333  \n",
      "IsNewCollection         1.000000  \n"
     ]
    }
   ],
   "source": [
    "print(type(X_train))\n",
    "C = products.corr()\n",
    "print((C))"
   ]
  },
  {
   "cell_type": "markdown",
   "metadata": {},
   "source": [
    "# Defining a feature transformation"
   ]
  },
  {
   "cell_type": "code",
   "execution_count": 24,
   "metadata": {
    "collapsed": true
   },
   "outputs": [],
   "source": [
    "features = [\"OrderNumber\", \"VariantId\", \"LineItem\", \"CustomerId\",\n",
    "       \"OrderStatusLabel\", \"OrderTypelabel\", \"SeasonLabel\",\n",
    "       \"PayementModeLabel\", \"CustomerTypeLabel\", \"IsoCode\", \"DeviceTypeLabel\",\n",
    "       \"PricingTypeLabel\", \"TotalLineItems\", \"Quantity\", \"UnitPMPEUR\",\n",
    "       \"OrderCreationDate\", \"OrderShipDate\", \"OrderNumCustomer\", \"IsOnSale\",\n",
    "       \"BillingPostalCode\"]"
   ]
  },
  {
   "cell_type": "code",
   "execution_count": 7,
   "metadata": {
    "collapsed": true
   },
   "outputs": [],
   "source": [
    "F = [\"OrderCreationDate\",\"OrderNumber\",\"VariantId\", \"CustomerId\",\"OrderCreationDate\",\"OrderShipDate\",\"BillingPostalCode\"]"
   ]
  },
  {
   "cell_type": "code",
   "execution_count": null,
   "metadata": {
    "collapsed": true
   },
   "outputs": [],
   "source": [
    "def funk_mask(d,masked_features):\n",
    "    \" Defining a simple mask over the input data \"\n",
    "    columns_ext = masked_features\n",
    "    X1 = d.loc[:,[xx for xx in d.columns if xx not in columns_ext]]\n",
    "    g = lambda x: x.replace(\",\",\".\")\n",
    "    X1.UnitPMPEUR = map(np.float64,(map(g,X1.UnitPMPEUR)))\n",
    "    columns2bin = [x for x in X1.columns if X1[x].dtype == np.dtype('O')]\n",
    "    X2 = pd.get_dummies(X1.loc[:,columns2bin])\n",
    "    X1 = X1.loc[:,[xx for xx in X1.columns if xx not in columns2bin]]\n",
    "    res = pd.concat([X1,X2],axis=1)\n",
    "    res = res.fillna(0)\n",
    "    return(res)"
   ]
  },
  {
   "cell_type": "markdown",
   "metadata": {},
   "source": [
    "# Applying the mask"
   ]
  },
  {
   "cell_type": "code",
   "execution_count": 8,
   "metadata": {
    "collapsed": true
   },
   "outputs": [],
   "source": [
    "x1 = funk_mask(X_train,F)\n",
    "x2 = funk_mask(X_test,F)\n",
    "seleckt_columns = np.intersect1d(x1.columns,x2.columns)\n",
    "x1 = x1.loc[:,seleckt_columns]\n",
    "x2 = x2.loc[:,seleckt_columns]"
   ]
  },
  {
   "cell_type": "markdown",
   "metadata": {},
   "source": [
    "# Supervised learning : Logistic regression model"
   ]
  },
  {
   "cell_type": "code",
   "execution_count": 13,
   "metadata": {},
   "outputs": [
    {
     "name": "stdout",
     "output_type": "stream",
     "text": [
      "0.780679934205\n"
     ]
    }
   ],
   "source": [
    "clf = RandomForestClassifier(n_estimators=10)\n",
    "clf.fit(x1.iloc[:50000], y_train.ReturnQuantityBin[:50000])\n",
    "y_tosubmit = clf.predict_proba(x2.loc[:,x1.columns])\n",
    "score_forest = np.mean(cross_val_score(clf,x1.iloc[:50000], y_train.ReturnQuantityBin[:50000],cv=10))\n",
    "print(score_forest)"
   ]
  },
  {
   "cell_type": "markdown",
   "metadata": {},
   "source": [
    "# Score of our prediction : on the train"
   ]
  },
  {
   "cell_type": "code",
   "execution_count": 66,
   "metadata": {
    "collapsed": true
   },
   "outputs": [],
   "source": [
    "yres = clf.predict_proba(x1.loc[:100000,x1.columns])\n",
    "roc_auc_score(y_train.ReturnQuantityBin.iloc[:100001],yres[:,1])\n",
    "\n",
    "# Submission to the system\n",
    "np.savetxt('y_pred.txt', y_tosubmit[:,1], fmt='%f')"
   ]
  }
 ],
 "metadata": {
  "kernelspec": {
   "display_name": "Python 3",
   "language": "python",
   "name": "python3"
  },
  "language_info": {
   "codemirror_mode": {
    "name": "ipython",
    "version": 3
   },
   "file_extension": ".py",
   "mimetype": "text/x-python",
   "name": "python",
   "nbconvert_exporter": "python",
   "pygments_lexer": "ipython3",
   "version": "3.6.3"
  }
 },
 "nbformat": 4,
 "nbformat_minor": 2
}
