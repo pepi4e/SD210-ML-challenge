{
 "cells": [
  {
   "cell_type": "markdown",
   "metadata": {},
   "source": [
    "# V2"
   ]
  },
  {
   "cell_type": "code",
   "execution_count": 1,
   "metadata": {},
   "outputs": [],
   "source": [
    "%matplotlib inline\n",
    "#basic python packages for plotting and array management\n",
    "import numpy as np\n",
    "import matplotlib.pyplot as plt\n",
    "import random\n",
    "import seaborn as sns\n",
    "\n",
    "#import statsmodels.api as sm\n",
    "from datetime import datetime\n",
    "\n",
    "#for data import\n",
    "import pandas as pd\n",
    "from __future__ import division\n",
    "import os\n",
    "import sys\n",
    "from importlib import reload\n",
    "reload(sys)\n",
    "\n",
    "#Preprocessing\n",
    "from sklearn import preprocessing\n",
    "from sklearn.preprocessing import StandardScaler\n",
    "from sklearn.utils import shuffle\n",
    "from sklearn.discriminant_analysis import LinearDiscriminantAnalysis\n",
    "from sklearn.decomposition import PCA\n",
    "\n",
    "#Classifiers\n",
    "from sklearn.linear_model import LogisticRegression, RidgeClassifier, RidgeClassifierCV, PassiveAggressiveClassifier, Perceptron, SGDClassifier\n",
    "from sklearn.svm import SVC\n",
    "from sklearn.neighbors import KNeighborsClassifier, NearestCentroid\n",
    "from sklearn.gaussian_process import GaussianProcessClassifier\n",
    "from sklearn.naive_bayes import GaussianNB, MultinomialNB, BernoulliNB\n",
    "from sklearn.tree import DecisionTreeClassifier, ExtraTreeClassifier\n",
    "from sklearn.neural_network import MLPClassifier\n",
    "\n",
    "#Ensemble methods and crossvalidation\n",
    "from sklearn.model_selection import GridSearchCV, cross_val_predict, cross_val_score\n",
    "from sklearn.pipeline import Pipeline\n",
    "from sklearn.ensemble import AdaBoostClassifier, BaggingClassifier, ExtraTreesClassifier, GradientBoostingClassifier,RandomForestClassifier, VotingClassifier\n",
    "\n",
    "#PostProcessing\n",
    "from sklearn.metrics import classification_report, confusion_matrix, roc_auc_score\n",
    "\n",
    "import time"
   ]
  },
  {
   "cell_type": "code",
   "execution_count": 2,
   "metadata": {},
   "outputs": [],
   "source": [
    "customers = pd.read_csv(\"customers.csv\")\n",
    "products = pd.read_csv(\"products.csv\")\n",
    "X_train = pd.read_csv(\"X_train.csv\")\n",
    "X_test   = pd.read_csv(\"X_test.csv\")\n",
    "y_train = pd.read_csv(\"y_train.csv\")"
   ]
  },
  {
   "cell_type": "code",
   "execution_count": 3,
   "metadata": {},
   "outputs": [],
   "source": [
    "X_test   = pd.read_csv(\"X_test.csv\")"
   ]
  },
  {
   "cell_type": "markdown",
   "metadata": {},
   "source": [
    "# CUSTOMERS"
   ]
  },
  {
   "cell_type": "code",
   "execution_count": 4,
   "metadata": {},
   "outputs": [
    {
     "data": {
      "text/html": [
       "<div>\n",
       "<style scoped>\n",
       "    .dataframe tbody tr th:only-of-type {\n",
       "        vertical-align: middle;\n",
       "    }\n",
       "\n",
       "    .dataframe tbody tr th {\n",
       "        vertical-align: top;\n",
       "    }\n",
       "\n",
       "    .dataframe thead th {\n",
       "        text-align: right;\n",
       "    }\n",
       "</style>\n",
       "<table border=\"1\" class=\"dataframe\">\n",
       "  <thead>\n",
       "    <tr style=\"text-align: right;\">\n",
       "      <th></th>\n",
       "      <th>CustomerId</th>\n",
       "      <th>CountryISOCode</th>\n",
       "      <th>BirthDate</th>\n",
       "      <th>Gender</th>\n",
       "      <th>FirstOrderDate</th>\n",
       "    </tr>\n",
       "  </thead>\n",
       "  <tbody>\n",
       "    <tr>\n",
       "      <th>0</th>\n",
       "      <td>14089083.0</td>\n",
       "      <td>SE</td>\n",
       "      <td>1979-02-05 00:00:00</td>\n",
       "      <td>Femme</td>\n",
       "      <td>2013-03-16 23:00:05</td>\n",
       "    </tr>\n",
       "    <tr>\n",
       "      <th>1</th>\n",
       "      <td>12862066.0</td>\n",
       "      <td>FR</td>\n",
       "      <td>1982-08-04 00:00:00</td>\n",
       "      <td>Femme</td>\n",
       "      <td>2012-02-14 17:47:33</td>\n",
       "    </tr>\n",
       "    <tr>\n",
       "      <th>2</th>\n",
       "      <td>14791699.0</td>\n",
       "      <td>FR</td>\n",
       "      <td>1965-04-02 00:00:00</td>\n",
       "      <td>Femme</td>\n",
       "      <td>2013-10-04 23:10:42</td>\n",
       "    </tr>\n",
       "    <tr>\n",
       "      <th>3</th>\n",
       "      <td>10794664.0</td>\n",
       "      <td>FR</td>\n",
       "      <td>1966-04-09 00:00:00</td>\n",
       "      <td>Femme</td>\n",
       "      <td>2010-03-25 18:46:59</td>\n",
       "    </tr>\n",
       "    <tr>\n",
       "      <th>4</th>\n",
       "      <td>15268576.0</td>\n",
       "      <td>ES</td>\n",
       "      <td>1980-04-22 00:00:00</td>\n",
       "      <td>Femme</td>\n",
       "      <td>2014-03-19 10:48:39</td>\n",
       "    </tr>\n",
       "  </tbody>\n",
       "</table>\n",
       "</div>"
      ],
      "text/plain": [
       "   CustomerId CountryISOCode            BirthDate Gender       FirstOrderDate\n",
       "0  14089083.0             SE  1979-02-05 00:00:00  Femme  2013-03-16 23:00:05\n",
       "1  12862066.0             FR  1982-08-04 00:00:00  Femme  2012-02-14 17:47:33\n",
       "2  14791699.0             FR  1965-04-02 00:00:00  Femme  2013-10-04 23:10:42\n",
       "3  10794664.0             FR  1966-04-09 00:00:00  Femme  2010-03-25 18:46:59\n",
       "4  15268576.0             ES  1980-04-22 00:00:00  Femme  2014-03-19 10:48:39"
      ]
     },
     "execution_count": 4,
     "metadata": {},
     "output_type": "execute_result"
    }
   ],
   "source": [
    "customers.head()"
   ]
  },
  {
   "cell_type": "markdown",
   "metadata": {},
   "source": [
    "### BirthDate -> Age"
   ]
  },
  {
   "cell_type": "code",
   "execution_count": 5,
   "metadata": {},
   "outputs": [],
   "source": [
    "# Since dates aren't all in the same format, we take x[:19] only first 19 characters, which are we interested in\n",
    "customers['BirthDate'] = customers['BirthDate'].apply(lambda x : datetime.strptime(x[:19], '%Y-%m-%d %H:%M:%S') )\n",
    "customers['Age'] = 2016 - customers['BirthDate'].apply(lambda x : x.year)"
   ]
  },
  {
   "cell_type": "code",
   "execution_count": 6,
   "metadata": {},
   "outputs": [],
   "source": [
    "for i in range(10,60,5):\n",
    "    customers['Age' + str(i) + '-' + str(i+5)] = ((customers['Age']>i) & (customers['Age']<=i+5)).astype('float')"
   ]
  },
  {
   "cell_type": "code",
   "execution_count": 7,
   "metadata": {},
   "outputs": [
    {
     "data": {
      "text/html": [
       "<div>\n",
       "<style scoped>\n",
       "    .dataframe tbody tr th:only-of-type {\n",
       "        vertical-align: middle;\n",
       "    }\n",
       "\n",
       "    .dataframe tbody tr th {\n",
       "        vertical-align: top;\n",
       "    }\n",
       "\n",
       "    .dataframe thead th {\n",
       "        text-align: right;\n",
       "    }\n",
       "</style>\n",
       "<table border=\"1\" class=\"dataframe\">\n",
       "  <thead>\n",
       "    <tr style=\"text-align: right;\">\n",
       "      <th></th>\n",
       "      <th>CustomerId</th>\n",
       "      <th>CountryISOCode</th>\n",
       "      <th>BirthDate</th>\n",
       "      <th>Gender</th>\n",
       "      <th>FirstOrderDate</th>\n",
       "      <th>Age</th>\n",
       "      <th>Age10-15</th>\n",
       "      <th>Age15-20</th>\n",
       "      <th>Age20-25</th>\n",
       "      <th>Age25-30</th>\n",
       "      <th>Age30-35</th>\n",
       "      <th>Age35-40</th>\n",
       "      <th>Age40-45</th>\n",
       "      <th>Age45-50</th>\n",
       "      <th>Age50-55</th>\n",
       "      <th>Age55-60</th>\n",
       "    </tr>\n",
       "  </thead>\n",
       "  <tbody>\n",
       "    <tr>\n",
       "      <th>0</th>\n",
       "      <td>14089083.0</td>\n",
       "      <td>SE</td>\n",
       "      <td>1979-02-05 00:00:00</td>\n",
       "      <td>Femme</td>\n",
       "      <td>2013-03-16 23:00:05</td>\n",
       "      <td>39</td>\n",
       "      <td>0.0</td>\n",
       "      <td>0.0</td>\n",
       "      <td>0.0</td>\n",
       "      <td>0.0</td>\n",
       "      <td>0.0</td>\n",
       "      <td>1.0</td>\n",
       "      <td>0.0</td>\n",
       "      <td>0.0</td>\n",
       "      <td>0.0</td>\n",
       "      <td>0.0</td>\n",
       "    </tr>\n",
       "    <tr>\n",
       "      <th>1</th>\n",
       "      <td>12862066.0</td>\n",
       "      <td>FR</td>\n",
       "      <td>1982-08-04 00:00:00</td>\n",
       "      <td>Femme</td>\n",
       "      <td>2012-02-14 17:47:33</td>\n",
       "      <td>36</td>\n",
       "      <td>0.0</td>\n",
       "      <td>0.0</td>\n",
       "      <td>0.0</td>\n",
       "      <td>0.0</td>\n",
       "      <td>0.0</td>\n",
       "      <td>1.0</td>\n",
       "      <td>0.0</td>\n",
       "      <td>0.0</td>\n",
       "      <td>0.0</td>\n",
       "      <td>0.0</td>\n",
       "    </tr>\n",
       "    <tr>\n",
       "      <th>2</th>\n",
       "      <td>14791699.0</td>\n",
       "      <td>FR</td>\n",
       "      <td>1965-04-02 00:00:00</td>\n",
       "      <td>Femme</td>\n",
       "      <td>2013-10-04 23:10:42</td>\n",
       "      <td>53</td>\n",
       "      <td>0.0</td>\n",
       "      <td>0.0</td>\n",
       "      <td>0.0</td>\n",
       "      <td>0.0</td>\n",
       "      <td>0.0</td>\n",
       "      <td>0.0</td>\n",
       "      <td>0.0</td>\n",
       "      <td>0.0</td>\n",
       "      <td>1.0</td>\n",
       "      <td>0.0</td>\n",
       "    </tr>\n",
       "    <tr>\n",
       "      <th>3</th>\n",
       "      <td>10794664.0</td>\n",
       "      <td>FR</td>\n",
       "      <td>1966-04-09 00:00:00</td>\n",
       "      <td>Femme</td>\n",
       "      <td>2010-03-25 18:46:59</td>\n",
       "      <td>52</td>\n",
       "      <td>0.0</td>\n",
       "      <td>0.0</td>\n",
       "      <td>0.0</td>\n",
       "      <td>0.0</td>\n",
       "      <td>0.0</td>\n",
       "      <td>0.0</td>\n",
       "      <td>0.0</td>\n",
       "      <td>0.0</td>\n",
       "      <td>1.0</td>\n",
       "      <td>0.0</td>\n",
       "    </tr>\n",
       "    <tr>\n",
       "      <th>4</th>\n",
       "      <td>15268576.0</td>\n",
       "      <td>ES</td>\n",
       "      <td>1980-04-22 00:00:00</td>\n",
       "      <td>Femme</td>\n",
       "      <td>2014-03-19 10:48:39</td>\n",
       "      <td>38</td>\n",
       "      <td>0.0</td>\n",
       "      <td>0.0</td>\n",
       "      <td>0.0</td>\n",
       "      <td>0.0</td>\n",
       "      <td>0.0</td>\n",
       "      <td>1.0</td>\n",
       "      <td>0.0</td>\n",
       "      <td>0.0</td>\n",
       "      <td>0.0</td>\n",
       "      <td>0.0</td>\n",
       "    </tr>\n",
       "  </tbody>\n",
       "</table>\n",
       "</div>"
      ],
      "text/plain": [
       "   CustomerId CountryISOCode            BirthDate Gender       FirstOrderDate  \\\n",
       "0  14089083.0             SE  1979-02-05 00:00:00  Femme  2013-03-16 23:00:05   \n",
       "1  12862066.0             FR  1982-08-04 00:00:00  Femme  2012-02-14 17:47:33   \n",
       "2  14791699.0             FR  1965-04-02 00:00:00  Femme  2013-10-04 23:10:42   \n",
       "3  10794664.0             FR  1966-04-09 00:00:00  Femme  2010-03-25 18:46:59   \n",
       "4  15268576.0             ES  1980-04-22 00:00:00  Femme  2014-03-19 10:48:39   \n",
       "\n",
       "   Age  Age10-15  Age15-20  Age20-25  Age25-30  Age30-35  Age35-40  Age40-45  \\\n",
       "0   39       0.0       0.0       0.0       0.0       0.0       1.0       0.0   \n",
       "1   36       0.0       0.0       0.0       0.0       0.0       1.0       0.0   \n",
       "2   53       0.0       0.0       0.0       0.0       0.0       0.0       0.0   \n",
       "3   52       0.0       0.0       0.0       0.0       0.0       0.0       0.0   \n",
       "4   38       0.0       0.0       0.0       0.0       0.0       1.0       0.0   \n",
       "\n",
       "   Age45-50  Age50-55  Age55-60  \n",
       "0       0.0       0.0       0.0  \n",
       "1       0.0       0.0       0.0  \n",
       "2       0.0       1.0       0.0  \n",
       "3       0.0       1.0       0.0  \n",
       "4       0.0       0.0       0.0  "
      ]
     },
     "execution_count": 7,
     "metadata": {},
     "output_type": "execute_result"
    }
   ],
   "source": [
    "customers.head()"
   ]
  },
  {
   "cell_type": "markdown",
   "metadata": {},
   "source": [
    "### Gender -> Binaire"
   ]
  },
  {
   "cell_type": "code",
   "execution_count": 8,
   "metadata": {},
   "outputs": [],
   "source": [
    "## 1 si une femme\n",
    "customers['Sexe'] = customers['Gender'].eq('Femme').astype('float')"
   ]
  },
  {
   "cell_type": "markdown",
   "metadata": {},
   "source": [
    "### FirstOrderDate -> Time in Year since first Order"
   ]
  },
  {
   "cell_type": "code",
   "execution_count": 9,
   "metadata": {},
   "outputs": [],
   "source": [
    "customers['FirstOrderDate'] = customers['FirstOrderDate'].apply(lambda x : datetime.strptime(x[:19], '%Y-%m-%d %H:%M:%S') )\n",
    "customers['FirstOrder'] = 2016 - customers['FirstOrderDate'].apply(lambda x : x.year)"
   ]
  },
  {
   "cell_type": "code",
   "execution_count": 10,
   "metadata": {},
   "outputs": [],
   "source": [
    "for i in range(1,10):\n",
    "    customers['FirstOrder' + '-' + str(i) + 'Y'] = (customers['FirstOrder']==i).astype('float')\n",
    "customers['FirstOrder-10Y+'] = (customers['FirstOrder']>=10).astype('float')"
   ]
  },
  {
   "cell_type": "code",
   "execution_count": 11,
   "metadata": {},
   "outputs": [],
   "source": [
    "def creation(Table,Colonne,Liste):\n",
    "    for element in Liste:     # On parcourt la liste en entier\n",
    "        names = []\n",
    "        for nuance in element:    # On parcourt chaque nuance de chaque sous-liste\n",
    "            name_col = nuance\n",
    "            name = Table[Colonne].str.contains(nuance).astype('float')\n",
    "            names.append(name)\n",
    "        \n",
    "        col = pd.Series(0,index = range(Table.shape[0]))\n",
    "        for column in names :\n",
    "            col = col+column\n",
    "        \n",
    "        Table[name_col] = col\n",
    "    return ('%d colonne(s) ont été ajoutées à la DataFrame' %(len(Liste)))"
   ]
  },
  {
   "cell_type": "code",
   "execution_count": 12,
   "metadata": {},
   "outputs": [
    {
     "data": {
      "text/html": [
       "<div>\n",
       "<style scoped>\n",
       "    .dataframe tbody tr th:only-of-type {\n",
       "        vertical-align: middle;\n",
       "    }\n",
       "\n",
       "    .dataframe tbody tr th {\n",
       "        vertical-align: top;\n",
       "    }\n",
       "\n",
       "    .dataframe thead th {\n",
       "        text-align: right;\n",
       "    }\n",
       "</style>\n",
       "<table border=\"1\" class=\"dataframe\">\n",
       "  <thead>\n",
       "    <tr style=\"text-align: right;\">\n",
       "      <th></th>\n",
       "      <th>CustomerId</th>\n",
       "      <th>CountryISOCode</th>\n",
       "      <th>BirthDate</th>\n",
       "      <th>Gender</th>\n",
       "      <th>FirstOrderDate</th>\n",
       "      <th>Age</th>\n",
       "      <th>Age10-15</th>\n",
       "      <th>Age15-20</th>\n",
       "      <th>Age20-25</th>\n",
       "      <th>Age25-30</th>\n",
       "      <th>...</th>\n",
       "      <th>FirstOrder-1Y</th>\n",
       "      <th>FirstOrder-2Y</th>\n",
       "      <th>FirstOrder-3Y</th>\n",
       "      <th>FirstOrder-4Y</th>\n",
       "      <th>FirstOrder-5Y</th>\n",
       "      <th>FirstOrder-6Y</th>\n",
       "      <th>FirstOrder-7Y</th>\n",
       "      <th>FirstOrder-8Y</th>\n",
       "      <th>FirstOrder-9Y</th>\n",
       "      <th>FirstOrder-10Y+</th>\n",
       "    </tr>\n",
       "  </thead>\n",
       "  <tbody>\n",
       "    <tr>\n",
       "      <th>0</th>\n",
       "      <td>14089083.0</td>\n",
       "      <td>SE</td>\n",
       "      <td>1979-02-05 00:00:00</td>\n",
       "      <td>Femme</td>\n",
       "      <td>2013-03-16 23:00:05</td>\n",
       "      <td>39</td>\n",
       "      <td>0.0</td>\n",
       "      <td>0.0</td>\n",
       "      <td>0.0</td>\n",
       "      <td>0.0</td>\n",
       "      <td>...</td>\n",
       "      <td>0.0</td>\n",
       "      <td>0.0</td>\n",
       "      <td>1.0</td>\n",
       "      <td>0.0</td>\n",
       "      <td>0.0</td>\n",
       "      <td>0.0</td>\n",
       "      <td>0.0</td>\n",
       "      <td>0.0</td>\n",
       "      <td>0.0</td>\n",
       "      <td>0.0</td>\n",
       "    </tr>\n",
       "    <tr>\n",
       "      <th>1</th>\n",
       "      <td>12862066.0</td>\n",
       "      <td>FR</td>\n",
       "      <td>1982-08-04 00:00:00</td>\n",
       "      <td>Femme</td>\n",
       "      <td>2012-02-14 17:47:33</td>\n",
       "      <td>36</td>\n",
       "      <td>0.0</td>\n",
       "      <td>0.0</td>\n",
       "      <td>0.0</td>\n",
       "      <td>0.0</td>\n",
       "      <td>...</td>\n",
       "      <td>0.0</td>\n",
       "      <td>0.0</td>\n",
       "      <td>0.0</td>\n",
       "      <td>1.0</td>\n",
       "      <td>0.0</td>\n",
       "      <td>0.0</td>\n",
       "      <td>0.0</td>\n",
       "      <td>0.0</td>\n",
       "      <td>0.0</td>\n",
       "      <td>0.0</td>\n",
       "    </tr>\n",
       "    <tr>\n",
       "      <th>2</th>\n",
       "      <td>14791699.0</td>\n",
       "      <td>FR</td>\n",
       "      <td>1965-04-02 00:00:00</td>\n",
       "      <td>Femme</td>\n",
       "      <td>2013-10-04 23:10:42</td>\n",
       "      <td>53</td>\n",
       "      <td>0.0</td>\n",
       "      <td>0.0</td>\n",
       "      <td>0.0</td>\n",
       "      <td>0.0</td>\n",
       "      <td>...</td>\n",
       "      <td>0.0</td>\n",
       "      <td>0.0</td>\n",
       "      <td>1.0</td>\n",
       "      <td>0.0</td>\n",
       "      <td>0.0</td>\n",
       "      <td>0.0</td>\n",
       "      <td>0.0</td>\n",
       "      <td>0.0</td>\n",
       "      <td>0.0</td>\n",
       "      <td>0.0</td>\n",
       "    </tr>\n",
       "    <tr>\n",
       "      <th>3</th>\n",
       "      <td>10794664.0</td>\n",
       "      <td>FR</td>\n",
       "      <td>1966-04-09 00:00:00</td>\n",
       "      <td>Femme</td>\n",
       "      <td>2010-03-25 18:46:59</td>\n",
       "      <td>52</td>\n",
       "      <td>0.0</td>\n",
       "      <td>0.0</td>\n",
       "      <td>0.0</td>\n",
       "      <td>0.0</td>\n",
       "      <td>...</td>\n",
       "      <td>0.0</td>\n",
       "      <td>0.0</td>\n",
       "      <td>0.0</td>\n",
       "      <td>0.0</td>\n",
       "      <td>0.0</td>\n",
       "      <td>1.0</td>\n",
       "      <td>0.0</td>\n",
       "      <td>0.0</td>\n",
       "      <td>0.0</td>\n",
       "      <td>0.0</td>\n",
       "    </tr>\n",
       "    <tr>\n",
       "      <th>4</th>\n",
       "      <td>15268576.0</td>\n",
       "      <td>ES</td>\n",
       "      <td>1980-04-22 00:00:00</td>\n",
       "      <td>Femme</td>\n",
       "      <td>2014-03-19 10:48:39</td>\n",
       "      <td>38</td>\n",
       "      <td>0.0</td>\n",
       "      <td>0.0</td>\n",
       "      <td>0.0</td>\n",
       "      <td>0.0</td>\n",
       "      <td>...</td>\n",
       "      <td>0.0</td>\n",
       "      <td>1.0</td>\n",
       "      <td>0.0</td>\n",
       "      <td>0.0</td>\n",
       "      <td>0.0</td>\n",
       "      <td>0.0</td>\n",
       "      <td>0.0</td>\n",
       "      <td>0.0</td>\n",
       "      <td>0.0</td>\n",
       "      <td>0.0</td>\n",
       "    </tr>\n",
       "  </tbody>\n",
       "</table>\n",
       "<p>5 rows × 28 columns</p>\n",
       "</div>"
      ],
      "text/plain": [
       "   CustomerId CountryISOCode            BirthDate Gender      FirstOrderDate  \\\n",
       "0  14089083.0             SE  1979-02-05 00:00:00  Femme 2013-03-16 23:00:05   \n",
       "1  12862066.0             FR  1982-08-04 00:00:00  Femme 2012-02-14 17:47:33   \n",
       "2  14791699.0             FR  1965-04-02 00:00:00  Femme 2013-10-04 23:10:42   \n",
       "3  10794664.0             FR  1966-04-09 00:00:00  Femme 2010-03-25 18:46:59   \n",
       "4  15268576.0             ES  1980-04-22 00:00:00  Femme 2014-03-19 10:48:39   \n",
       "\n",
       "   Age  Age10-15  Age15-20  Age20-25  Age25-30       ...         \\\n",
       "0   39       0.0       0.0       0.0       0.0       ...          \n",
       "1   36       0.0       0.0       0.0       0.0       ...          \n",
       "2   53       0.0       0.0       0.0       0.0       ...          \n",
       "3   52       0.0       0.0       0.0       0.0       ...          \n",
       "4   38       0.0       0.0       0.0       0.0       ...          \n",
       "\n",
       "   FirstOrder-1Y  FirstOrder-2Y  FirstOrder-3Y  FirstOrder-4Y  FirstOrder-5Y  \\\n",
       "0            0.0            0.0            1.0            0.0            0.0   \n",
       "1            0.0            0.0            0.0            1.0            0.0   \n",
       "2            0.0            0.0            1.0            0.0            0.0   \n",
       "3            0.0            0.0            0.0            0.0            0.0   \n",
       "4            0.0            1.0            0.0            0.0            0.0   \n",
       "\n",
       "   FirstOrder-6Y  FirstOrder-7Y  FirstOrder-8Y  FirstOrder-9Y  FirstOrder-10Y+  \n",
       "0            0.0            0.0            0.0            0.0              0.0  \n",
       "1            0.0            0.0            0.0            0.0              0.0  \n",
       "2            0.0            0.0            0.0            0.0              0.0  \n",
       "3            1.0            0.0            0.0            0.0              0.0  \n",
       "4            0.0            0.0            0.0            0.0              0.0  \n",
       "\n",
       "[5 rows x 28 columns]"
      ]
     },
     "execution_count": 12,
     "metadata": {},
     "output_type": "execute_result"
    }
   ],
   "source": [
    "customers.head()"
   ]
  },
  {
   "cell_type": "code",
   "execution_count": 13,
   "metadata": {},
   "outputs": [
    {
     "data": {
      "text/plain": [
       "CustomerId                float64\n",
       "CountryISOCode             object\n",
       "BirthDate                  object\n",
       "Gender                     object\n",
       "FirstOrderDate     datetime64[ns]\n",
       "Age                         int64\n",
       "Age10-15                  float64\n",
       "Age15-20                  float64\n",
       "Age20-25                  float64\n",
       "Age25-30                  float64\n",
       "Age30-35                  float64\n",
       "Age35-40                  float64\n",
       "Age40-45                  float64\n",
       "Age45-50                  float64\n",
       "Age50-55                  float64\n",
       "Age55-60                  float64\n",
       "Sexe                      float64\n",
       "FirstOrder                  int64\n",
       "FirstOrder-1Y             float64\n",
       "FirstOrder-2Y             float64\n",
       "FirstOrder-3Y             float64\n",
       "FirstOrder-4Y             float64\n",
       "FirstOrder-5Y             float64\n",
       "FirstOrder-6Y             float64\n",
       "FirstOrder-7Y             float64\n",
       "FirstOrder-8Y             float64\n",
       "FirstOrder-9Y             float64\n",
       "FirstOrder-10Y+           float64\n",
       "dtype: object"
      ]
     },
     "execution_count": 13,
     "metadata": {},
     "output_type": "execute_result"
    }
   ],
   "source": [
    "customers.dtypes"
   ]
  },
  {
   "cell_type": "markdown",
   "metadata": {},
   "source": [
    "####  Delete columns"
   ]
  },
  {
   "cell_type": "code",
   "execution_count": 14,
   "metadata": {},
   "outputs": [],
   "source": [
    "del customers['Gender']\n",
    "del customers['FirstOrderDate']\n",
    "del customers['FirstOrder']\n",
    "del customers['BirthDate']\n",
    "del customers['Age']"
   ]
  },
  {
   "cell_type": "code",
   "execution_count": 15,
   "metadata": {},
   "outputs": [],
   "source": [
    "customers = customers.fillna(0)"
   ]
  },
  {
   "cell_type": "code",
   "execution_count": 16,
   "metadata": {},
   "outputs": [
    {
     "data": {
      "text/html": [
       "<div>\n",
       "<style scoped>\n",
       "    .dataframe tbody tr th:only-of-type {\n",
       "        vertical-align: middle;\n",
       "    }\n",
       "\n",
       "    .dataframe tbody tr th {\n",
       "        vertical-align: top;\n",
       "    }\n",
       "\n",
       "    .dataframe thead th {\n",
       "        text-align: right;\n",
       "    }\n",
       "</style>\n",
       "<table border=\"1\" class=\"dataframe\">\n",
       "  <thead>\n",
       "    <tr style=\"text-align: right;\">\n",
       "      <th></th>\n",
       "      <th>CustomerId</th>\n",
       "      <th>CountryISOCode</th>\n",
       "      <th>Age10-15</th>\n",
       "      <th>Age15-20</th>\n",
       "      <th>Age20-25</th>\n",
       "      <th>Age25-30</th>\n",
       "      <th>Age30-35</th>\n",
       "      <th>Age35-40</th>\n",
       "      <th>Age40-45</th>\n",
       "      <th>Age45-50</th>\n",
       "      <th>...</th>\n",
       "      <th>FirstOrder-1Y</th>\n",
       "      <th>FirstOrder-2Y</th>\n",
       "      <th>FirstOrder-3Y</th>\n",
       "      <th>FirstOrder-4Y</th>\n",
       "      <th>FirstOrder-5Y</th>\n",
       "      <th>FirstOrder-6Y</th>\n",
       "      <th>FirstOrder-7Y</th>\n",
       "      <th>FirstOrder-8Y</th>\n",
       "      <th>FirstOrder-9Y</th>\n",
       "      <th>FirstOrder-10Y+</th>\n",
       "    </tr>\n",
       "  </thead>\n",
       "  <tbody>\n",
       "    <tr>\n",
       "      <th>0</th>\n",
       "      <td>14089083.0</td>\n",
       "      <td>SE</td>\n",
       "      <td>0.0</td>\n",
       "      <td>0.0</td>\n",
       "      <td>0.0</td>\n",
       "      <td>0.0</td>\n",
       "      <td>0.0</td>\n",
       "      <td>1.0</td>\n",
       "      <td>0.0</td>\n",
       "      <td>0.0</td>\n",
       "      <td>...</td>\n",
       "      <td>0.0</td>\n",
       "      <td>0.0</td>\n",
       "      <td>1.0</td>\n",
       "      <td>0.0</td>\n",
       "      <td>0.0</td>\n",
       "      <td>0.0</td>\n",
       "      <td>0.0</td>\n",
       "      <td>0.0</td>\n",
       "      <td>0.0</td>\n",
       "      <td>0.0</td>\n",
       "    </tr>\n",
       "    <tr>\n",
       "      <th>1</th>\n",
       "      <td>12862066.0</td>\n",
       "      <td>FR</td>\n",
       "      <td>0.0</td>\n",
       "      <td>0.0</td>\n",
       "      <td>0.0</td>\n",
       "      <td>0.0</td>\n",
       "      <td>0.0</td>\n",
       "      <td>1.0</td>\n",
       "      <td>0.0</td>\n",
       "      <td>0.0</td>\n",
       "      <td>...</td>\n",
       "      <td>0.0</td>\n",
       "      <td>0.0</td>\n",
       "      <td>0.0</td>\n",
       "      <td>1.0</td>\n",
       "      <td>0.0</td>\n",
       "      <td>0.0</td>\n",
       "      <td>0.0</td>\n",
       "      <td>0.0</td>\n",
       "      <td>0.0</td>\n",
       "      <td>0.0</td>\n",
       "    </tr>\n",
       "    <tr>\n",
       "      <th>2</th>\n",
       "      <td>14791699.0</td>\n",
       "      <td>FR</td>\n",
       "      <td>0.0</td>\n",
       "      <td>0.0</td>\n",
       "      <td>0.0</td>\n",
       "      <td>0.0</td>\n",
       "      <td>0.0</td>\n",
       "      <td>0.0</td>\n",
       "      <td>0.0</td>\n",
       "      <td>0.0</td>\n",
       "      <td>...</td>\n",
       "      <td>0.0</td>\n",
       "      <td>0.0</td>\n",
       "      <td>1.0</td>\n",
       "      <td>0.0</td>\n",
       "      <td>0.0</td>\n",
       "      <td>0.0</td>\n",
       "      <td>0.0</td>\n",
       "      <td>0.0</td>\n",
       "      <td>0.0</td>\n",
       "      <td>0.0</td>\n",
       "    </tr>\n",
       "    <tr>\n",
       "      <th>3</th>\n",
       "      <td>10794664.0</td>\n",
       "      <td>FR</td>\n",
       "      <td>0.0</td>\n",
       "      <td>0.0</td>\n",
       "      <td>0.0</td>\n",
       "      <td>0.0</td>\n",
       "      <td>0.0</td>\n",
       "      <td>0.0</td>\n",
       "      <td>0.0</td>\n",
       "      <td>0.0</td>\n",
       "      <td>...</td>\n",
       "      <td>0.0</td>\n",
       "      <td>0.0</td>\n",
       "      <td>0.0</td>\n",
       "      <td>0.0</td>\n",
       "      <td>0.0</td>\n",
       "      <td>1.0</td>\n",
       "      <td>0.0</td>\n",
       "      <td>0.0</td>\n",
       "      <td>0.0</td>\n",
       "      <td>0.0</td>\n",
       "    </tr>\n",
       "    <tr>\n",
       "      <th>4</th>\n",
       "      <td>15268576.0</td>\n",
       "      <td>ES</td>\n",
       "      <td>0.0</td>\n",
       "      <td>0.0</td>\n",
       "      <td>0.0</td>\n",
       "      <td>0.0</td>\n",
       "      <td>0.0</td>\n",
       "      <td>1.0</td>\n",
       "      <td>0.0</td>\n",
       "      <td>0.0</td>\n",
       "      <td>...</td>\n",
       "      <td>0.0</td>\n",
       "      <td>1.0</td>\n",
       "      <td>0.0</td>\n",
       "      <td>0.0</td>\n",
       "      <td>0.0</td>\n",
       "      <td>0.0</td>\n",
       "      <td>0.0</td>\n",
       "      <td>0.0</td>\n",
       "      <td>0.0</td>\n",
       "      <td>0.0</td>\n",
       "    </tr>\n",
       "  </tbody>\n",
       "</table>\n",
       "<p>5 rows × 23 columns</p>\n",
       "</div>"
      ],
      "text/plain": [
       "   CustomerId CountryISOCode  Age10-15  Age15-20  Age20-25  Age25-30  \\\n",
       "0  14089083.0             SE       0.0       0.0       0.0       0.0   \n",
       "1  12862066.0             FR       0.0       0.0       0.0       0.0   \n",
       "2  14791699.0             FR       0.0       0.0       0.0       0.0   \n",
       "3  10794664.0             FR       0.0       0.0       0.0       0.0   \n",
       "4  15268576.0             ES       0.0       0.0       0.0       0.0   \n",
       "\n",
       "   Age30-35  Age35-40  Age40-45  Age45-50       ...         FirstOrder-1Y  \\\n",
       "0       0.0       1.0       0.0       0.0       ...                   0.0   \n",
       "1       0.0       1.0       0.0       0.0       ...                   0.0   \n",
       "2       0.0       0.0       0.0       0.0       ...                   0.0   \n",
       "3       0.0       0.0       0.0       0.0       ...                   0.0   \n",
       "4       0.0       1.0       0.0       0.0       ...                   0.0   \n",
       "\n",
       "   FirstOrder-2Y  FirstOrder-3Y  FirstOrder-4Y  FirstOrder-5Y  FirstOrder-6Y  \\\n",
       "0            0.0            1.0            0.0            0.0            0.0   \n",
       "1            0.0            0.0            1.0            0.0            0.0   \n",
       "2            0.0            1.0            0.0            0.0            0.0   \n",
       "3            0.0            0.0            0.0            0.0            1.0   \n",
       "4            1.0            0.0            0.0            0.0            0.0   \n",
       "\n",
       "   FirstOrder-7Y  FirstOrder-8Y  FirstOrder-9Y  FirstOrder-10Y+  \n",
       "0            0.0            0.0            0.0              0.0  \n",
       "1            0.0            0.0            0.0              0.0  \n",
       "2            0.0            0.0            0.0              0.0  \n",
       "3            0.0            0.0            0.0              0.0  \n",
       "4            0.0            0.0            0.0              0.0  \n",
       "\n",
       "[5 rows x 23 columns]"
      ]
     },
     "execution_count": 16,
     "metadata": {},
     "output_type": "execute_result"
    }
   ],
   "source": [
    "customers.head()"
   ]
  },
  {
   "cell_type": "markdown",
   "metadata": {},
   "source": [
    "# Products"
   ]
  },
  {
   "cell_type": "code",
   "execution_count": 17,
   "metadata": {},
   "outputs": [
    {
     "data": {
      "text/html": [
       "<div>\n",
       "<style scoped>\n",
       "    .dataframe tbody tr th:only-of-type {\n",
       "        vertical-align: middle;\n",
       "    }\n",
       "\n",
       "    .dataframe tbody tr th {\n",
       "        vertical-align: top;\n",
       "    }\n",
       "\n",
       "    .dataframe thead th {\n",
       "        text-align: right;\n",
       "    }\n",
       "</style>\n",
       "<table border=\"1\" class=\"dataframe\">\n",
       "  <thead>\n",
       "    <tr style=\"text-align: right;\">\n",
       "      <th></th>\n",
       "      <th>VariantId</th>\n",
       "      <th>GenderLabel</th>\n",
       "      <th>MarketTargetLabel</th>\n",
       "      <th>SeasonLabel</th>\n",
       "      <th>SeasonalityLabel</th>\n",
       "      <th>BrandId</th>\n",
       "      <th>UniverseLabel</th>\n",
       "      <th>TypeBrand</th>\n",
       "      <th>ProductId</th>\n",
       "      <th>ProductType</th>\n",
       "      <th>...</th>\n",
       "      <th>UpperHeight</th>\n",
       "      <th>HeelHeight</th>\n",
       "      <th>PurchasePriceHT</th>\n",
       "      <th>IsNewCollection</th>\n",
       "      <th>SubtypeLabel</th>\n",
       "      <th>UpperMaterialLabel</th>\n",
       "      <th>LiningMaterialLabel</th>\n",
       "      <th>OutSoleMaterialLabel</th>\n",
       "      <th>RemovableSole</th>\n",
       "      <th>SizeAdviceDescription</th>\n",
       "    </tr>\n",
       "  </thead>\n",
       "  <tbody>\n",
       "    <tr>\n",
       "      <th>0</th>\n",
       "      <td>728257.0</td>\n",
       "      <td>Homme</td>\n",
       "      <td>Classique</td>\n",
       "      <td>Automne/Hiver</td>\n",
       "      <td>Saisonnier</td>\n",
       "      <td>66.0</td>\n",
       "      <td>DÃ©tente</td>\n",
       "      <td>Standard</td>\n",
       "      <td>17267.0</td>\n",
       "      <td>Baskets</td>\n",
       "      <td>...</td>\n",
       "      <td>NaN</td>\n",
       "      <td>0.0</td>\n",
       "      <td>30.50</td>\n",
       "      <td>0.0</td>\n",
       "      <td>Montantes</td>\n",
       "      <td>NaN</td>\n",
       "      <td>NaN</td>\n",
       "      <td>NaN</td>\n",
       "      <td>False</td>\n",
       "      <td>Prenez une taille en dessous de votre pointure...</td>\n",
       "    </tr>\n",
       "    <tr>\n",
       "      <th>1</th>\n",
       "      <td>806356.0</td>\n",
       "      <td>Femme</td>\n",
       "      <td>ND</td>\n",
       "      <td>Automne/Hiver</td>\n",
       "      <td>Saisonnier</td>\n",
       "      <td>842.0</td>\n",
       "      <td>ND</td>\n",
       "      <td>Standard</td>\n",
       "      <td>30824.0</td>\n",
       "      <td>Baskets</td>\n",
       "      <td>...</td>\n",
       "      <td>0.0</td>\n",
       "      <td>0.0</td>\n",
       "      <td>43.00</td>\n",
       "      <td>0.0</td>\n",
       "      <td>Montantes</td>\n",
       "      <td>NaN</td>\n",
       "      <td>NaN</td>\n",
       "      <td>NaN</td>\n",
       "      <td>True</td>\n",
       "      <td>Prenez votre pointure habituelle</td>\n",
       "    </tr>\n",
       "    <tr>\n",
       "      <th>2</th>\n",
       "      <td>768790.0</td>\n",
       "      <td>Femme</td>\n",
       "      <td>ND</td>\n",
       "      <td>Automne/Hiver</td>\n",
       "      <td>Reconduit</td>\n",
       "      <td>988.0</td>\n",
       "      <td>Ville</td>\n",
       "      <td>Standard</td>\n",
       "      <td>62475.0</td>\n",
       "      <td>Bottines et boots</td>\n",
       "      <td>...</td>\n",
       "      <td>6.0</td>\n",
       "      <td>3.0</td>\n",
       "      <td>54.90</td>\n",
       "      <td>0.0</td>\n",
       "      <td>Bout pointu</td>\n",
       "      <td>NaN</td>\n",
       "      <td>NaN</td>\n",
       "      <td>NaN</td>\n",
       "      <td>False</td>\n",
       "      <td>Prenez votre pointure habituelle</td>\n",
       "    </tr>\n",
       "    <tr>\n",
       "      <th>3</th>\n",
       "      <td>515679.0</td>\n",
       "      <td>Femme</td>\n",
       "      <td>ND</td>\n",
       "      <td>Automne/Hiver</td>\n",
       "      <td>Saisonnier</td>\n",
       "      <td>769.0</td>\n",
       "      <td>Ville</td>\n",
       "      <td>Standard</td>\n",
       "      <td>43983.0</td>\n",
       "      <td>Escarpins</td>\n",
       "      <td>...</td>\n",
       "      <td>0.0</td>\n",
       "      <td>13.0</td>\n",
       "      <td>34.50</td>\n",
       "      <td>0.0</td>\n",
       "      <td>Bout rond</td>\n",
       "      <td>NaN</td>\n",
       "      <td>NaN</td>\n",
       "      <td>NaN</td>\n",
       "      <td>False</td>\n",
       "      <td>Prenez votre pointure habituelle</td>\n",
       "    </tr>\n",
       "    <tr>\n",
       "      <th>4</th>\n",
       "      <td>1025246.0</td>\n",
       "      <td>Femme</td>\n",
       "      <td>ND</td>\n",
       "      <td>Automne/Hiver</td>\n",
       "      <td>Saisonnier</td>\n",
       "      <td>1244.0</td>\n",
       "      <td>ND</td>\n",
       "      <td>Standard</td>\n",
       "      <td>81493.0</td>\n",
       "      <td>Bottines et boots</td>\n",
       "      <td>...</td>\n",
       "      <td>8.0</td>\n",
       "      <td>4.0</td>\n",
       "      <td>43.76</td>\n",
       "      <td>0.0</td>\n",
       "      <td>Bout rond</td>\n",
       "      <td>NaN</td>\n",
       "      <td>NaN</td>\n",
       "      <td>NaN</td>\n",
       "      <td>False</td>\n",
       "      <td>Prenez votre pointure habituelle</td>\n",
       "    </tr>\n",
       "  </tbody>\n",
       "</table>\n",
       "<p>5 rows × 25 columns</p>\n",
       "</div>"
      ],
      "text/plain": [
       "   VariantId GenderLabel MarketTargetLabel    SeasonLabel SeasonalityLabel  \\\n",
       "0   728257.0       Homme         Classique  Automne/Hiver       Saisonnier   \n",
       "1   806356.0       Femme                ND  Automne/Hiver       Saisonnier   \n",
       "2   768790.0       Femme                ND  Automne/Hiver        Reconduit   \n",
       "3   515679.0       Femme                ND  Automne/Hiver       Saisonnier   \n",
       "4  1025246.0       Femme                ND  Automne/Hiver       Saisonnier   \n",
       "\n",
       "   BrandId UniverseLabel TypeBrand  ProductId        ProductType  \\\n",
       "0     66.0      DÃ©tente  Standard    17267.0            Baskets   \n",
       "1    842.0            ND  Standard    30824.0            Baskets   \n",
       "2    988.0         Ville  Standard    62475.0  Bottines et boots   \n",
       "3    769.0         Ville  Standard    43983.0          Escarpins   \n",
       "4   1244.0            ND  Standard    81493.0  Bottines et boots   \n",
       "\n",
       "                         ...                         UpperHeight  HeelHeight  \\\n",
       "0                        ...                                 NaN         0.0   \n",
       "1                        ...                                 0.0         0.0   \n",
       "2                        ...                                 6.0         3.0   \n",
       "3                        ...                                 0.0        13.0   \n",
       "4                        ...                                 8.0         4.0   \n",
       "\n",
       "   PurchasePriceHT  IsNewCollection  SubtypeLabel  UpperMaterialLabel  \\\n",
       "0            30.50              0.0     Montantes                 NaN   \n",
       "1            43.00              0.0     Montantes                 NaN   \n",
       "2            54.90              0.0   Bout pointu                 NaN   \n",
       "3            34.50              0.0     Bout rond                 NaN   \n",
       "4            43.76              0.0     Bout rond                 NaN   \n",
       "\n",
       "   LiningMaterialLabel  OutSoleMaterialLabel  RemovableSole  \\\n",
       "0                  NaN                   NaN          False   \n",
       "1                  NaN                   NaN           True   \n",
       "2                  NaN                   NaN          False   \n",
       "3                  NaN                   NaN          False   \n",
       "4                  NaN                   NaN          False   \n",
       "\n",
       "                               SizeAdviceDescription  \n",
       "0  Prenez une taille en dessous de votre pointure...  \n",
       "1                   Prenez votre pointure habituelle  \n",
       "2                   Prenez votre pointure habituelle  \n",
       "3                   Prenez votre pointure habituelle  \n",
       "4                   Prenez votre pointure habituelle  \n",
       "\n",
       "[5 rows x 25 columns]"
      ]
     },
     "execution_count": 17,
     "metadata": {},
     "output_type": "execute_result"
    }
   ],
   "source": [
    "products.head()"
   ]
  },
  {
   "cell_type": "markdown",
   "metadata": {},
   "source": [
    "#### 1) Fonction qui crée les colonnes nécessaires"
   ]
  },
  {
   "cell_type": "code",
   "execution_count": 18,
   "metadata": {},
   "outputs": [],
   "source": [
    "def creation(Table,Colonne,Liste):\n",
    "    for element in Liste:     # On parcourt la liste en entier\n",
    "        names = []\n",
    "        for nuance in element:    # On parcourt chaque nuance de chaque sous-liste\n",
    "            name_col = nuance\n",
    "            name = Table[Colonne].str.contains(nuance).astype('float')\n",
    "            names.append(name)\n",
    "        \n",
    "        col = pd.Series(0,index = range(Table.shape[0]))\n",
    "        for column in names :\n",
    "            col = col+column\n",
    "        \n",
    "        Table[name_col] = col\n",
    "    return ('%d colonne(s) ont été ajoutées à la DataFrame' %(len(Liste)))"
   ]
  },
  {
   "cell_type": "markdown",
   "metadata": {},
   "source": [
    "#### 2) Analyse de la table"
   ]
  },
  {
   "cell_type": "code",
   "execution_count": 19,
   "metadata": {},
   "outputs": [
    {
     "data": {
      "text/plain": [
       "VariantId                float64\n",
       "GenderLabel               object\n",
       "MarketTargetLabel         object\n",
       "SeasonLabel               object\n",
       "SeasonalityLabel          object\n",
       "BrandId                  float64\n",
       "UniverseLabel             object\n",
       "TypeBrand                 object\n",
       "ProductId                float64\n",
       "ProductType               object\n",
       "SupplierColor             object\n",
       "ProductColorId           float64\n",
       "MinSize                  float64\n",
       "MaxSize                  float64\n",
       "CalfTurn                 float64\n",
       "UpperHeight              float64\n",
       "HeelHeight               float64\n",
       "PurchasePriceHT          float64\n",
       "IsNewCollection          float64\n",
       "SubtypeLabel              object\n",
       "UpperMaterialLabel        object\n",
       "LiningMaterialLabel       object\n",
       "OutSoleMaterialLabel      object\n",
       "RemovableSole             object\n",
       "SizeAdviceDescription     object\n",
       "dtype: object"
      ]
     },
     "execution_count": 19,
     "metadata": {},
     "output_type": "execute_result"
    }
   ],
   "source": [
    "products.dtypes"
   ]
  },
  {
   "cell_type": "markdown",
   "metadata": {},
   "source": [
    "#### 3) Modification+ajout de colonnes"
   ]
  },
  {
   "cell_type": "markdown",
   "metadata": {},
   "source": [
    "##### * Gender Label"
   ]
  },
  {
   "cell_type": "code",
   "execution_count": 20,
   "metadata": {},
   "outputs": [
    {
     "data": {
      "text/plain": [
       "'5 colonne(s) ont été ajoutées à la DataFrame'"
      ]
     },
     "execution_count": 20,
     "metadata": {},
     "output_type": "execute_result"
    }
   ],
   "source": [
    "Label = [['Femme'],['Enfant'],['Homme'],['Sacs'],['Accessoires']]\n",
    "creation(products,'GenderLabel',Label)"
   ]
  },
  {
   "cell_type": "markdown",
   "metadata": {},
   "source": [
    "##### *MarketTargetLabel"
   ]
  },
  {
   "cell_type": "code",
   "execution_count": 21,
   "metadata": {},
   "outputs": [
    {
     "data": {
      "text/plain": [
       "'7 colonne(s) ont été ajoutées à la DataFrame'"
      ]
     },
     "execution_count": 21,
     "metadata": {},
     "output_type": "execute_result"
    }
   ],
   "source": [
    "Label2 = [['Contemporaine','contemporain'],['Suiveur'],['Fashionistas'],['Classique'],['Confort'],['Baroudeur','Aventurier'],['Skate']]\n",
    "creation(products,'MarketTargetLabel',Label2)\n"
   ]
  },
  {
   "cell_type": "markdown",
   "metadata": {},
   "source": [
    "##### *SeasonLabel"
   ]
  },
  {
   "cell_type": "code",
   "execution_count": 22,
   "metadata": {},
   "outputs": [],
   "source": [
    "Label3 = products['SeasonLabel'].eq('Automne/Hiver').astype('float')\n",
    "products['SeasonLabel'] = Label3"
   ]
  },
  {
   "cell_type": "markdown",
   "metadata": {},
   "source": [
    "##### *SeasonalityLabel"
   ]
  },
  {
   "cell_type": "code",
   "execution_count": 23,
   "metadata": {},
   "outputs": [
    {
     "data": {
      "text/plain": [
       "'3 colonne(s) ont été ajoutées à la DataFrame'"
      ]
     },
     "execution_count": 23,
     "metadata": {},
     "output_type": "execute_result"
    }
   ],
   "source": [
    "Label4 = [['Saisonnier'],['Reconduit'],['Permanent']]\n",
    "creation(products,'SeasonalityLabel',Label4)"
   ]
  },
  {
   "cell_type": "markdown",
   "metadata": {},
   "source": [
    "##### *BrandId"
   ]
  },
  {
   "cell_type": "code",
   "execution_count": 24,
   "metadata": {},
   "outputs": [],
   "source": [
    "## Problème car représenté par des nombres donc ordonés mais il y en a trop"
   ]
  },
  {
   "cell_type": "markdown",
   "metadata": {},
   "source": [
    "##### *UniverseLabel"
   ]
  },
  {
   "cell_type": "code",
   "execution_count": 25,
   "metadata": {},
   "outputs": [
    {
     "data": {
      "text/plain": [
       "'7 colonne(s) ont été ajoutées à la DataFrame'"
      ]
     },
     "execution_count": 25,
     "metadata": {},
     "output_type": "execute_result"
    }
   ],
   "source": [
    "Label5 = [['tente'],['Ville'],['Sport'],['Green'],['Luxe'],['Confort'],['Soir']]\n",
    "creation(products,'UniverseLabel',Label5)"
   ]
  },
  {
   "cell_type": "markdown",
   "metadata": {},
   "source": [
    "##### *TypeBrand"
   ]
  },
  {
   "cell_type": "code",
   "execution_count": 26,
   "metadata": {},
   "outputs": [
    {
     "data": {
      "text/plain": [
       "'3 colonne(s) ont été ajoutées à la DataFrame'"
      ]
     },
     "execution_count": 26,
     "metadata": {},
     "output_type": "execute_result"
    }
   ],
   "source": [
    "Label6 = [['Standard'],['Luxe'],['Super']]\n",
    "creation(products,'TypeBrand',Label6)"
   ]
  },
  {
   "cell_type": "markdown",
   "metadata": {},
   "source": [
    "##### *ProductType"
   ]
  },
  {
   "cell_type": "code",
   "execution_count": 27,
   "metadata": {},
   "outputs": [
    {
     "data": {
      "text/plain": [
       "'16 colonne(s) ont été ajoutées à la DataFrame'"
      ]
     },
     "execution_count": 27,
     "metadata": {},
     "output_type": "execute_result"
    }
   ],
   "source": [
    "Label7 = [['Baskets'],['Sandales'],['Bottines'],['Escarpin'],['lacets'],['Ballerines'],['sport'],['Bottes']\\\n",
    "          ,['Mocass'],['Tongs'],['Chaussons'],['Mules'],['scratch'],['Sacs'],['Espadrilles'],['Maroquinerie']]\n",
    "creation(products,'ProductType',Label7)"
   ]
  },
  {
   "cell_type": "markdown",
   "metadata": {},
   "source": [
    "##### *SupplierColor"
   ]
  },
  {
   "cell_type": "code",
   "execution_count": 28,
   "metadata": {},
   "outputs": [
    {
     "data": {
      "text/plain": [
       "'2 colonne(s) ont été ajoutées à la DataFrame'"
      ]
     },
     "execution_count": 28,
     "metadata": {},
     "output_type": "execute_result"
    }
   ],
   "source": [
    "Label8 = [['Rouge','Red','Bordeaux','rouge','red'],['Jaune','Yellow','jaune','yellow'],\\\n",
    "          ['Vert','vert','green','Green'],['Marine','Bleu','BlUE','Navy','bleu','blue'],\\\n",
    "          ['Noir','Black','Nero','noir','black','nero','Schwarz','NOIR'],\\\n",
    "          ['Blanc','Incolore','Beige','blanc','incolor','beige'],\\\n",
    "          ['Gris','Grey','Anthracite','gris','grey','anthracite'],\\\n",
    "          ['Marron','Brown','Taupe','Tan','Cognac','Chocolate','marron','brown','taupe','tan','cognac'],\\\n",
    "          ['Rose','Pink','rose','pink','purple','Purple']]\n",
    "\n",
    "Label9 = [['Dark','dark','Fonc','fonc'],['Light','light','clair','Clair']]\n",
    "\n",
    "creation(products,'SupplierColor',Label8)\n",
    "creation(products,'SupplierColor',Label9)"
   ]
  },
  {
   "cell_type": "markdown",
   "metadata": {},
   "source": [
    "##### *ProductColorId"
   ]
  },
  {
   "cell_type": "code",
   "execution_count": 29,
   "metadata": {},
   "outputs": [],
   "source": [
    "# Faut le del y'a au maximum 20 commande pour un seul ProductColorId"
   ]
  },
  {
   "cell_type": "markdown",
   "metadata": {},
   "source": [
    "##### *MinSize"
   ]
  },
  {
   "cell_type": "code",
   "execution_count": 30,
   "metadata": {},
   "outputs": [],
   "source": [
    "Label10 = [35,36,37,38,39,40,41,42,43,200]\n",
    "for i in (Label10):\n",
    "    products['MinSize' + str(i)] = (products['MinSize'].eq(i)).astype('float')\n",
    "\n",
    "products['MinSize' + '18' + '-' + '34'] = ((products['MinSize']>=18) & (products['MinSize']<=34)).astype('float')\n",
    "products['MinSize' + '44' + '-' + '48'] = ((products['MinSize']>=44) & (products['MinSize']<=48)).astype('float')"
   ]
  },
  {
   "cell_type": "markdown",
   "metadata": {},
   "source": [
    "##### *MaxSize"
   ]
  },
  {
   "cell_type": "code",
   "execution_count": 31,
   "metadata": {},
   "outputs": [],
   "source": [
    "Label11 = [35,36,37,38,39,40,41,42,43,44,45,200]\n",
    "for i in (Label11):\n",
    "    products['MaxSize' + str(i)] = (products['MaxSize'].eq(i)).astype('float')\n",
    "\n",
    "products['MaxSize' + '18' + '-' + '34'] = ((products['MaxSize']>=18) & (products['MaxSize']<=34)).astype('float')\n",
    "products['MaxSize' + '46' + '-' + '48'] = ((products['MaxSize']>=46) & (products['MaxSize']<=48)).astype('float')"
   ]
  },
  {
   "cell_type": "markdown",
   "metadata": {},
   "source": [
    "##### *CalfTurn"
   ]
  },
  {
   "cell_type": "code",
   "execution_count": 32,
   "metadata": {},
   "outputs": [],
   "source": [
    "# Soit il y en a un soit non\n",
    "Label12 = products['CalfTurn'].eq(0).astype('float')\n",
    "products['CalfTurn'] = Label12"
   ]
  },
  {
   "cell_type": "markdown",
   "metadata": {},
   "source": [
    "##### *UpperHeight"
   ]
  },
  {
   "cell_type": "code",
   "execution_count": 33,
   "metadata": {},
   "outputs": [],
   "source": [
    "Label13 = [0,2,5,6,7,8,9,10,30]\n",
    "for i in (Label13):\n",
    "    products['UpperHeight' + str(i)] = (products['UpperHeight'].eq(i)).astype('float')\n",
    "\n",
    "products['UpperHeight' + '31' + '-' + '38'] = ((products['UpperHeight']>=31) & (products['UpperHeight']<=38)).astype('float')"
   ]
  },
  {
   "cell_type": "markdown",
   "metadata": {},
   "source": [
    "##### *HeelHeight"
   ]
  },
  {
   "cell_type": "code",
   "execution_count": 34,
   "metadata": {},
   "outputs": [],
   "source": [
    "Label14 = [0,1,2,3,4,5,6,7,8,9,10]\n",
    "for i in (Label14):\n",
    "    products['HeelHeight' + str(i)] = (products['HeelHeight'].eq(i)).astype('float')\n",
    "\n",
    "products['HeelHeightsup' + '11'] = ((products['HeelHeight']>=11)).astype('float')"
   ]
  },
  {
   "cell_type": "markdown",
   "metadata": {},
   "source": [
    "##### *PurchasePriceHT"
   ]
  },
  {
   "cell_type": "code",
   "execution_count": 35,
   "metadata": {},
   "outputs": [],
   "source": [
    "# Pas besoin de changer, c'est une relation d'ordre"
   ]
  },
  {
   "cell_type": "markdown",
   "metadata": {},
   "source": [
    "##### *IsNewCollection"
   ]
  },
  {
   "cell_type": "code",
   "execution_count": 36,
   "metadata": {},
   "outputs": [],
   "source": [
    "# Déja en Binaire"
   ]
  },
  {
   "cell_type": "markdown",
   "metadata": {},
   "source": [
    "##### *SubtypeLabel"
   ]
  },
  {
   "cell_type": "code",
   "execution_count": 37,
   "metadata": {},
   "outputs": [
    {
     "data": {
      "text/plain": [
       "'22 colonne(s) ont été ajoutées à la DataFrame'"
      ]
     },
     "execution_count": 37,
     "metadata": {},
     "output_type": "execute_result"
    }
   ],
   "source": [
    "Label15 = [['rond'],['Basses'],['Montantes'],['scratch'],['lacet'],['bride'],['zip'],\\\n",
    "           ['pointu'],['compens'],['carr'],['ouvert'],['lastiques'],['Derbies'],['pluie'],\\\n",
    "           ['Bateau'],['Salom'],['Fourr'],['aiguille'],['boots'],['Spartiates'],['Richelieus'],\\\n",
    "           ['Babies']]\n",
    "creation(products,'SubtypeLabel',Label15)"
   ]
  },
  {
   "cell_type": "markdown",
   "metadata": {},
   "source": [
    "##### *UpperMaterialLabel"
   ]
  },
  {
   "cell_type": "code",
   "execution_count": 38,
   "metadata": {},
   "outputs": [
    {
     "data": {
      "text/plain": [
       "'6 colonne(s) ont été ajoutées à la DataFrame'"
      ]
     },
     "execution_count": 38,
     "metadata": {},
     "output_type": "execute_result"
    }
   ],
   "source": [
    "Label16 = [['Cuir'],['Nubuck'],['Textile'],['verni'],['Synth'],['Caoutchouc']]\n",
    "creation(products,'UpperMaterialLabel',Label16)"
   ]
  },
  {
   "cell_type": "markdown",
   "metadata": {},
   "source": [
    "##### *LiningMaterialLabel"
   ]
  },
  {
   "cell_type": "code",
   "execution_count": 39,
   "metadata": {},
   "outputs": [
    {
     "data": {
      "text/plain": [
       "'6 colonne(s) ont été ajoutées à la DataFrame'"
      ]
     },
     "execution_count": 39,
     "metadata": {},
     "output_type": "execute_result"
    }
   ],
   "source": [
    "Label17 = [['Textile'],['Cuir'],['Synth'],['doubl']]\n",
    "creation(products,'LiningMaterialLabel',Label16)"
   ]
  },
  {
   "cell_type": "markdown",
   "metadata": {},
   "source": [
    "##### *OutSoleMaterialLabel"
   ]
  },
  {
   "cell_type": "code",
   "execution_count": 40,
   "metadata": {},
   "outputs": [
    {
     "data": {
      "text/plain": [
       "'4 colonne(s) ont été ajoutées à la DataFrame'"
      ]
     },
     "execution_count": 40,
     "metadata": {},
     "output_type": "execute_result"
    }
   ],
   "source": [
    "Label18 = [['Gomme'],['Caoutchouc'],['Synth'],['Cuir']]\n",
    "creation(products,'OutSoleMaterialLabel',Label17)"
   ]
  },
  {
   "cell_type": "markdown",
   "metadata": {},
   "source": [
    "##### *RemovableSole"
   ]
  },
  {
   "cell_type": "code",
   "execution_count": 41,
   "metadata": {},
   "outputs": [],
   "source": [
    "Label19 = products['RemovableSole'].eq(True).astype('float')\n",
    "products['RemovableSole'] = Label19"
   ]
  },
  {
   "cell_type": "code",
   "execution_count": 42,
   "metadata": {},
   "outputs": [
    {
     "data": {
      "text/plain": [
       "0.0    444714\n",
       "1.0     88806\n",
       "Name: RemovableSole, dtype: int64"
      ]
     },
     "execution_count": 42,
     "metadata": {},
     "output_type": "execute_result"
    }
   ],
   "source": [
    "products['RemovableSole'].value_counts()"
   ]
  },
  {
   "cell_type": "markdown",
   "metadata": {},
   "source": [
    "##### *SizeAdviceDescription"
   ]
  },
  {
   "cell_type": "code",
   "execution_count": 43,
   "metadata": {},
   "outputs": [
    {
     "data": {
      "text/plain": [
       "'5 colonne(s) ont été ajoutées à la DataFrame'"
      ]
     },
     "execution_count": 43,
     "metadata": {},
     "output_type": "execute_result"
    }
   ],
   "source": [
    "Label20 = [['chausse normalement','Prenez votre pointure habituelle'],['dessous'],['dessus'],['larges'],['fins']]\n",
    "creation(products,'SizeAdviceDescription',Label20)"
   ]
  },
  {
   "cell_type": "markdown",
   "metadata": {},
   "source": [
    "#### 4) Delete columns"
   ]
  },
  {
   "cell_type": "code",
   "execution_count": 44,
   "metadata": {},
   "outputs": [],
   "source": [
    "#del products['VariantId'] # Necessaire pour merge orders/products\n",
    "del products['GenderLabel']\n",
    "del products['MarketTargetLabel']\n",
    "del products['SeasonalityLabel']\n",
    "del products ['UniverseLabel']\n",
    "del products ['TypeBrand']\n",
    "del products ['ProductId'] #environ 600 par productId\n",
    "del products['ProductType']\n",
    "del products['SupplierColor']\n",
    "del products['ProductColorId'] #max 20 par productIdcolor\n",
    "del products['MinSize']\n",
    "del products['MaxSize']\n",
    "del products['CalfTurn']\n",
    "del products['UpperHeight']\n",
    "del products['HeelHeight']\n",
    "del products['SubtypeLabel']\n",
    "del products['UpperMaterialLabel']\n",
    "del products['LiningMaterialLabel']\n",
    "del products['OutSoleMaterialLabel']\n",
    "del products['SizeAdviceDescription']\n",
    "\n",
    "# del products['BrandId']  # peut être a supprimer essayer de le traiter"
   ]
  },
  {
   "cell_type": "code",
   "execution_count": 45,
   "metadata": {},
   "outputs": [],
   "source": [
    "products = products.fillna(0)"
   ]
  },
  {
   "cell_type": "code",
   "execution_count": 46,
   "metadata": {},
   "outputs": [
    {
     "data": {
      "text/html": [
       "<div>\n",
       "<style scoped>\n",
       "    .dataframe tbody tr th:only-of-type {\n",
       "        vertical-align: middle;\n",
       "    }\n",
       "\n",
       "    .dataframe tbody tr th {\n",
       "        vertical-align: top;\n",
       "    }\n",
       "\n",
       "    .dataframe thead th {\n",
       "        text-align: right;\n",
       "    }\n",
       "</style>\n",
       "<table border=\"1\" class=\"dataframe\">\n",
       "  <thead>\n",
       "    <tr style=\"text-align: right;\">\n",
       "      <th></th>\n",
       "      <th>VariantId</th>\n",
       "      <th>SeasonLabel</th>\n",
       "      <th>BrandId</th>\n",
       "      <th>PurchasePriceHT</th>\n",
       "      <th>IsNewCollection</th>\n",
       "      <th>RemovableSole</th>\n",
       "      <th>Femme</th>\n",
       "      <th>Enfant</th>\n",
       "      <th>Homme</th>\n",
       "      <th>Sacs</th>\n",
       "      <th>...</th>\n",
       "      <th>Textile</th>\n",
       "      <th>verni</th>\n",
       "      <th>Synth</th>\n",
       "      <th>Caoutchouc</th>\n",
       "      <th>doubl</th>\n",
       "      <th>Prenez votre pointure habituelle</th>\n",
       "      <th>dessous</th>\n",
       "      <th>dessus</th>\n",
       "      <th>larges</th>\n",
       "      <th>fins</th>\n",
       "    </tr>\n",
       "  </thead>\n",
       "  <tbody>\n",
       "    <tr>\n",
       "      <th>0</th>\n",
       "      <td>728257.0</td>\n",
       "      <td>1.0</td>\n",
       "      <td>66.0</td>\n",
       "      <td>30.50</td>\n",
       "      <td>0.0</td>\n",
       "      <td>0.0</td>\n",
       "      <td>0.0</td>\n",
       "      <td>0.0</td>\n",
       "      <td>1.0</td>\n",
       "      <td>0.0</td>\n",
       "      <td>...</td>\n",
       "      <td>0.0</td>\n",
       "      <td>0.0</td>\n",
       "      <td>0.0</td>\n",
       "      <td>0.0</td>\n",
       "      <td>0.0</td>\n",
       "      <td>0.0</td>\n",
       "      <td>1.0</td>\n",
       "      <td>0.0</td>\n",
       "      <td>0.0</td>\n",
       "      <td>0.0</td>\n",
       "    </tr>\n",
       "    <tr>\n",
       "      <th>1</th>\n",
       "      <td>806356.0</td>\n",
       "      <td>1.0</td>\n",
       "      <td>842.0</td>\n",
       "      <td>43.00</td>\n",
       "      <td>0.0</td>\n",
       "      <td>1.0</td>\n",
       "      <td>1.0</td>\n",
       "      <td>0.0</td>\n",
       "      <td>0.0</td>\n",
       "      <td>0.0</td>\n",
       "      <td>...</td>\n",
       "      <td>0.0</td>\n",
       "      <td>0.0</td>\n",
       "      <td>0.0</td>\n",
       "      <td>0.0</td>\n",
       "      <td>0.0</td>\n",
       "      <td>1.0</td>\n",
       "      <td>0.0</td>\n",
       "      <td>0.0</td>\n",
       "      <td>0.0</td>\n",
       "      <td>0.0</td>\n",
       "    </tr>\n",
       "    <tr>\n",
       "      <th>2</th>\n",
       "      <td>768790.0</td>\n",
       "      <td>1.0</td>\n",
       "      <td>988.0</td>\n",
       "      <td>54.90</td>\n",
       "      <td>0.0</td>\n",
       "      <td>0.0</td>\n",
       "      <td>1.0</td>\n",
       "      <td>0.0</td>\n",
       "      <td>0.0</td>\n",
       "      <td>0.0</td>\n",
       "      <td>...</td>\n",
       "      <td>0.0</td>\n",
       "      <td>0.0</td>\n",
       "      <td>0.0</td>\n",
       "      <td>0.0</td>\n",
       "      <td>0.0</td>\n",
       "      <td>1.0</td>\n",
       "      <td>0.0</td>\n",
       "      <td>0.0</td>\n",
       "      <td>0.0</td>\n",
       "      <td>0.0</td>\n",
       "    </tr>\n",
       "    <tr>\n",
       "      <th>3</th>\n",
       "      <td>515679.0</td>\n",
       "      <td>1.0</td>\n",
       "      <td>769.0</td>\n",
       "      <td>34.50</td>\n",
       "      <td>0.0</td>\n",
       "      <td>0.0</td>\n",
       "      <td>1.0</td>\n",
       "      <td>0.0</td>\n",
       "      <td>0.0</td>\n",
       "      <td>0.0</td>\n",
       "      <td>...</td>\n",
       "      <td>0.0</td>\n",
       "      <td>0.0</td>\n",
       "      <td>0.0</td>\n",
       "      <td>0.0</td>\n",
       "      <td>0.0</td>\n",
       "      <td>1.0</td>\n",
       "      <td>0.0</td>\n",
       "      <td>0.0</td>\n",
       "      <td>0.0</td>\n",
       "      <td>0.0</td>\n",
       "    </tr>\n",
       "    <tr>\n",
       "      <th>4</th>\n",
       "      <td>1025246.0</td>\n",
       "      <td>1.0</td>\n",
       "      <td>1244.0</td>\n",
       "      <td>43.76</td>\n",
       "      <td>0.0</td>\n",
       "      <td>0.0</td>\n",
       "      <td>1.0</td>\n",
       "      <td>0.0</td>\n",
       "      <td>0.0</td>\n",
       "      <td>0.0</td>\n",
       "      <td>...</td>\n",
       "      <td>0.0</td>\n",
       "      <td>0.0</td>\n",
       "      <td>0.0</td>\n",
       "      <td>0.0</td>\n",
       "      <td>0.0</td>\n",
       "      <td>1.0</td>\n",
       "      <td>0.0</td>\n",
       "      <td>0.0</td>\n",
       "      <td>0.0</td>\n",
       "      <td>0.0</td>\n",
       "    </tr>\n",
       "  </tbody>\n",
       "</table>\n",
       "<p>5 rows × 135 columns</p>\n",
       "</div>"
      ],
      "text/plain": [
       "   VariantId  SeasonLabel  BrandId  PurchasePriceHT  IsNewCollection  \\\n",
       "0   728257.0          1.0     66.0            30.50              0.0   \n",
       "1   806356.0          1.0    842.0            43.00              0.0   \n",
       "2   768790.0          1.0    988.0            54.90              0.0   \n",
       "3   515679.0          1.0    769.0            34.50              0.0   \n",
       "4  1025246.0          1.0   1244.0            43.76              0.0   \n",
       "\n",
       "   RemovableSole  Femme  Enfant  Homme  Sacs  ...   Textile  verni  Synth  \\\n",
       "0            0.0    0.0     0.0    1.0   0.0  ...       0.0    0.0    0.0   \n",
       "1            1.0    1.0     0.0    0.0   0.0  ...       0.0    0.0    0.0   \n",
       "2            0.0    1.0     0.0    0.0   0.0  ...       0.0    0.0    0.0   \n",
       "3            0.0    1.0     0.0    0.0   0.0  ...       0.0    0.0    0.0   \n",
       "4            0.0    1.0     0.0    0.0   0.0  ...       0.0    0.0    0.0   \n",
       "\n",
       "   Caoutchouc  doubl  Prenez votre pointure habituelle  dessous  dessus  \\\n",
       "0         0.0    0.0                               0.0      1.0     0.0   \n",
       "1         0.0    0.0                               1.0      0.0     0.0   \n",
       "2         0.0    0.0                               1.0      0.0     0.0   \n",
       "3         0.0    0.0                               1.0      0.0     0.0   \n",
       "4         0.0    0.0                               1.0      0.0     0.0   \n",
       "\n",
       "   larges  fins  \n",
       "0     0.0   0.0  \n",
       "1     0.0   0.0  \n",
       "2     0.0   0.0  \n",
       "3     0.0   0.0  \n",
       "4     0.0   0.0  \n",
       "\n",
       "[5 rows x 135 columns]"
      ]
     },
     "execution_count": 46,
     "metadata": {},
     "output_type": "execute_result"
    }
   ],
   "source": [
    "products.head()"
   ]
  },
  {
   "cell_type": "markdown",
   "metadata": {},
   "source": [
    "# ORDERS\n",
    "### We need a function to process orders since it will have to be applied to both X_test and X_train"
   ]
  },
  {
   "cell_type": "code",
   "execution_count": 47,
   "metadata": {},
   "outputs": [],
   "source": [
    "orders = X_train"
   ]
  },
  {
   "cell_type": "code",
   "execution_count": 48,
   "metadata": {},
   "outputs": [],
   "source": [
    "def processOrders(orders):\n",
    "    \n",
    "    # LineItem to binary\n",
    "    for i in range(1,5):\n",
    "        orders['LineItem' + '_' + str(i) ] = (orders['LineItem']==i).astype('float')\n",
    "    orders['LineItem_5+'] = (orders['LineItem']>=5).astype('float')\n",
    "    \n",
    "    # OrderStatusLabel to binary (expedie = 1)\n",
    "    orders['OrderStatus'] = orders['OrderStatusLabel'].eq('Expédié').astype('float')\n",
    "    \n",
    "    # OrderTypeLabel to binary\n",
    "    orders['OrderType'] = orders['OrderTypelabel'].eq('DIRECT').astype('float')\n",
    "    \n",
    "    # SeasonLabel to binary\n",
    "    orders['Season'] = orders['SeasonLabel'].eq('Automne/Hiver').astype('float')\n",
    "    \n",
    "    # PayementModeLabel to binary\n",
    "    Label = [['Carte','maestro'],['PayPal'],['Gratuit'],['iDeal'],['que'],['Bank'],['DHL']]\n",
    "    creation(orders,'PayementModeLabel',Label)\n",
    "    \n",
    "    # CustomerTypeLabel to binary (fidelise = 1)\n",
    "    orders['CustomerType'] = orders['CustomerTypeLabel'].eq('Fidélisé').astype('float')\n",
    "    \n",
    "    # DeviceTypeLabel to binary (attention, ND majoritaire)\n",
    "    Label2 = [['Desktop'],['Tablet'],['Mobile']]\n",
    "    creation(orders,'DeviceTypeLabel',Label2)\n",
    "    \n",
    "    # PricingTypeLabel to binary\n",
    "    Label3 = [['Plein'],['Soldes'],['Avec CP'],['Sans CP'],['Vente Priv']]\n",
    "    creation(orders,'PricingTypeLabel',Label3)\n",
    "    \n",
    "    # TotalLineItems = as LineItem\n",
    "    for i in range(1,6):\n",
    "        orders['TotalLineItems' + '_' + str(i) ] = (orders['TotalLineItems']==i).astype('float')\n",
    "    orders['TotalLineItems_6+'] = (orders['TotalLineItems']>=6).astype('float')\n",
    "    \n",
    "    # OrderCreationDate -> Categories based on order creation hour\n",
    "    orders['OrderCreationDate'] = orders['OrderCreationDate'].apply(lambda x : datetime.strptime(x[:19], '%Y-%m-%d %H:%M:%S') )\n",
    "    temp = orders['OrderCreationDate'].apply(lambda x : x.hour)\n",
    "    for i in range(0, 21, 3):\n",
    "        orders['Hour_'+str(i)+'H_'+str((i+3))+'H'] = ((temp>=i) & (temp<(i+3))).astype('float')\n",
    "\n",
    "    # Difference in days between OrderCreationDate and OrderShippingDate\n",
    "    orders['OrderShipDate'] = orders['OrderShipDate'].apply(lambda x : datetime.strptime(x[:19], '%Y-%m-%d %H:%M:%S') )\n",
    "    orders['CreationToShipDays'] = (orders['OrderCreationDate']-orders['OrderShipDate']).astype('timedelta64[D]')\n",
    "    \n",
    "    for i in range(1,10):\n",
    "        orders['CreationToShip_'+str(i)+'_Day'] = (orders['CreationToShipDays']==i).astype('float')\n",
    "    orders['CreationToShip_>10_Days'] = (orders['CreationToShipDays']>10).astype('float')\n",
    "    \n",
    "    # Delete columns \n",
    "    #del orders['OrderNumber']\n",
    "    #del orders['VariantId'] # Necssaire pour merge orders/products\n",
    "    #del orders['LineItem']\n",
    "    #del orders['CustomerId'] # Necessaire pour merge orders/customers\n",
    "    del orders['OrderStatusLabel']\n",
    "    del orders['OrderTypelabel']\n",
    "    del orders['SeasonLabel']\n",
    "    del orders['PayementModeLabel']\n",
    "    del orders['CustomerTypeLabel']\n",
    "    del orders['DeviceTypeLabel']\n",
    "    del orders['PricingTypeLabel']\n",
    "    del orders['TotalLineItems']\n",
    "    del orders['OrderCreationDate']\n",
    "    del orders['OrderShipDate']\n",
    "    del orders['CreationToShipDays']\n",
    "    del orders['BillingPostalCode']\n",
    "    # del orders['OrderNumCustomer']  # Le garder et voir statistiques dessus, pas traité.\n",
    "    \n",
    "    # Fill nulls\n",
    "    orders = orders.fillna(0)\n",
    "\n",
    "    return orders"
   ]
  },
  {
   "cell_type": "code",
   "execution_count": 49,
   "metadata": {},
   "outputs": [
    {
     "data": {
      "text/html": [
       "<div>\n",
       "<style scoped>\n",
       "    .dataframe tbody tr th:only-of-type {\n",
       "        vertical-align: middle;\n",
       "    }\n",
       "\n",
       "    .dataframe tbody tr th {\n",
       "        vertical-align: top;\n",
       "    }\n",
       "\n",
       "    .dataframe thead th {\n",
       "        text-align: right;\n",
       "    }\n",
       "</style>\n",
       "<table border=\"1\" class=\"dataframe\">\n",
       "  <thead>\n",
       "    <tr style=\"text-align: right;\">\n",
       "      <th></th>\n",
       "      <th>OrderNumber</th>\n",
       "      <th>VariantId</th>\n",
       "      <th>LineItem</th>\n",
       "      <th>CustomerId</th>\n",
       "      <th>IsoCode</th>\n",
       "      <th>Quantity</th>\n",
       "      <th>UnitPMPEUR</th>\n",
       "      <th>OrderNumCustomer</th>\n",
       "      <th>IsOnSale</th>\n",
       "      <th>LineItem_1</th>\n",
       "      <th>...</th>\n",
       "      <th>CreationToShip_1_Day</th>\n",
       "      <th>CreationToShip_2_Day</th>\n",
       "      <th>CreationToShip_3_Day</th>\n",
       "      <th>CreationToShip_4_Day</th>\n",
       "      <th>CreationToShip_5_Day</th>\n",
       "      <th>CreationToShip_6_Day</th>\n",
       "      <th>CreationToShip_7_Day</th>\n",
       "      <th>CreationToShip_8_Day</th>\n",
       "      <th>CreationToShip_9_Day</th>\n",
       "      <th>CreationToShip_&gt;10_Days</th>\n",
       "    </tr>\n",
       "  </thead>\n",
       "  <tbody>\n",
       "    <tr>\n",
       "      <th>0</th>\n",
       "      <td>73521754</td>\n",
       "      <td>439729</td>\n",
       "      <td>1</td>\n",
       "      <td>12443972</td>\n",
       "      <td>FR</td>\n",
       "      <td>1</td>\n",
       "      <td>52,64</td>\n",
       "      <td>1</td>\n",
       "      <td>0.0</td>\n",
       "      <td>1.0</td>\n",
       "      <td>...</td>\n",
       "      <td>0.0</td>\n",
       "      <td>0.0</td>\n",
       "      <td>0.0</td>\n",
       "      <td>0.0</td>\n",
       "      <td>0.0</td>\n",
       "      <td>0.0</td>\n",
       "      <td>0.0</td>\n",
       "      <td>0.0</td>\n",
       "      <td>0.0</td>\n",
       "      <td>0.0</td>\n",
       "    </tr>\n",
       "    <tr>\n",
       "      <th>1</th>\n",
       "      <td>73521754</td>\n",
       "      <td>440174</td>\n",
       "      <td>2</td>\n",
       "      <td>12443972</td>\n",
       "      <td>FR</td>\n",
       "      <td>1</td>\n",
       "      <td>52,64</td>\n",
       "      <td>1</td>\n",
       "      <td>0.0</td>\n",
       "      <td>0.0</td>\n",
       "      <td>...</td>\n",
       "      <td>0.0</td>\n",
       "      <td>0.0</td>\n",
       "      <td>0.0</td>\n",
       "      <td>0.0</td>\n",
       "      <td>0.0</td>\n",
       "      <td>0.0</td>\n",
       "      <td>0.0</td>\n",
       "      <td>0.0</td>\n",
       "      <td>0.0</td>\n",
       "      <td>0.0</td>\n",
       "    </tr>\n",
       "    <tr>\n",
       "      <th>2</th>\n",
       "      <td>73525226</td>\n",
       "      <td>494501</td>\n",
       "      <td>1</td>\n",
       "      <td>12443958</td>\n",
       "      <td>FR</td>\n",
       "      <td>1</td>\n",
       "      <td>13,17</td>\n",
       "      <td>1</td>\n",
       "      <td>0.0</td>\n",
       "      <td>1.0</td>\n",
       "      <td>...</td>\n",
       "      <td>0.0</td>\n",
       "      <td>0.0</td>\n",
       "      <td>0.0</td>\n",
       "      <td>0.0</td>\n",
       "      <td>0.0</td>\n",
       "      <td>0.0</td>\n",
       "      <td>0.0</td>\n",
       "      <td>0.0</td>\n",
       "      <td>0.0</td>\n",
       "      <td>0.0</td>\n",
       "    </tr>\n",
       "    <tr>\n",
       "      <th>3</th>\n",
       "      <td>73529009</td>\n",
       "      <td>439590</td>\n",
       "      <td>1</td>\n",
       "      <td>12443946</td>\n",
       "      <td>FR</td>\n",
       "      <td>1</td>\n",
       "      <td>56,4</td>\n",
       "      <td>1</td>\n",
       "      <td>0.0</td>\n",
       "      <td>1.0</td>\n",
       "      <td>...</td>\n",
       "      <td>0.0</td>\n",
       "      <td>0.0</td>\n",
       "      <td>0.0</td>\n",
       "      <td>0.0</td>\n",
       "      <td>0.0</td>\n",
       "      <td>0.0</td>\n",
       "      <td>0.0</td>\n",
       "      <td>0.0</td>\n",
       "      <td>0.0</td>\n",
       "      <td>0.0</td>\n",
       "    </tr>\n",
       "    <tr>\n",
       "      <th>4</th>\n",
       "      <td>73529009</td>\n",
       "      <td>559476</td>\n",
       "      <td>2</td>\n",
       "      <td>12443946</td>\n",
       "      <td>FR</td>\n",
       "      <td>1</td>\n",
       "      <td>37</td>\n",
       "      <td>1</td>\n",
       "      <td>0.0</td>\n",
       "      <td>0.0</td>\n",
       "      <td>...</td>\n",
       "      <td>0.0</td>\n",
       "      <td>0.0</td>\n",
       "      <td>0.0</td>\n",
       "      <td>0.0</td>\n",
       "      <td>0.0</td>\n",
       "      <td>0.0</td>\n",
       "      <td>0.0</td>\n",
       "      <td>0.0</td>\n",
       "      <td>0.0</td>\n",
       "      <td>0.0</td>\n",
       "    </tr>\n",
       "  </tbody>\n",
       "</table>\n",
       "<p>5 rows × 56 columns</p>\n",
       "</div>"
      ],
      "text/plain": [
       "   OrderNumber  VariantId  LineItem  CustomerId IsoCode  Quantity UnitPMPEUR  \\\n",
       "0     73521754     439729         1    12443972      FR         1      52,64   \n",
       "1     73521754     440174         2    12443972      FR         1      52,64   \n",
       "2     73525226     494501         1    12443958      FR         1      13,17   \n",
       "3     73529009     439590         1    12443946      FR         1       56,4   \n",
       "4     73529009     559476         2    12443946      FR         1         37   \n",
       "\n",
       "   OrderNumCustomer  IsOnSale  LineItem_1           ...             \\\n",
       "0                 1       0.0         1.0           ...              \n",
       "1                 1       0.0         0.0           ...              \n",
       "2                 1       0.0         1.0           ...              \n",
       "3                 1       0.0         1.0           ...              \n",
       "4                 1       0.0         0.0           ...              \n",
       "\n",
       "   CreationToShip_1_Day  CreationToShip_2_Day  CreationToShip_3_Day  \\\n",
       "0                   0.0                   0.0                   0.0   \n",
       "1                   0.0                   0.0                   0.0   \n",
       "2                   0.0                   0.0                   0.0   \n",
       "3                   0.0                   0.0                   0.0   \n",
       "4                   0.0                   0.0                   0.0   \n",
       "\n",
       "   CreationToShip_4_Day  CreationToShip_5_Day  CreationToShip_6_Day  \\\n",
       "0                   0.0                   0.0                   0.0   \n",
       "1                   0.0                   0.0                   0.0   \n",
       "2                   0.0                   0.0                   0.0   \n",
       "3                   0.0                   0.0                   0.0   \n",
       "4                   0.0                   0.0                   0.0   \n",
       "\n",
       "   CreationToShip_7_Day  CreationToShip_8_Day  CreationToShip_9_Day  \\\n",
       "0                   0.0                   0.0                   0.0   \n",
       "1                   0.0                   0.0                   0.0   \n",
       "2                   0.0                   0.0                   0.0   \n",
       "3                   0.0                   0.0                   0.0   \n",
       "4                   0.0                   0.0                   0.0   \n",
       "\n",
       "   CreationToShip_>10_Days  \n",
       "0                      0.0  \n",
       "1                      0.0  \n",
       "2                      0.0  \n",
       "3                      0.0  \n",
       "4                      0.0  \n",
       "\n",
       "[5 rows x 56 columns]"
      ]
     },
     "execution_count": 49,
     "metadata": {},
     "output_type": "execute_result"
    }
   ],
   "source": [
    "orders = processOrders(orders)\n",
    "orders.head()"
   ]
  },
  {
   "cell_type": "code",
   "execution_count": 50,
   "metadata": {},
   "outputs": [
    {
     "data": {
      "text/plain": [
       "Index(['OrderNumber', 'VariantId', 'LineItem', 'CustomerId', 'IsoCode',\n",
       "       'Quantity', 'UnitPMPEUR', 'OrderNumCustomer', 'IsOnSale', 'LineItem_1',\n",
       "       'LineItem_2', 'LineItem_3', 'LineItem_4', 'LineItem_5+', 'OrderStatus',\n",
       "       'OrderType', 'Season', 'maestro', 'PayPal', 'Gratuit', 'iDeal', 'que',\n",
       "       'Bank', 'DHL', 'CustomerType', 'Desktop', 'Tablet', 'Mobile', 'Plein',\n",
       "       'Soldes', 'Avec CP', 'Sans CP', 'Vente Priv', 'TotalLineItems_1',\n",
       "       'TotalLineItems_2', 'TotalLineItems_3', 'TotalLineItems_4',\n",
       "       'TotalLineItems_5', 'TotalLineItems_6+', 'Hour_0H_3H', 'Hour_3H_6H',\n",
       "       'Hour_6H_9H', 'Hour_9H_12H', 'Hour_12H_15H', 'Hour_15H_18H',\n",
       "       'Hour_18H_21H', 'CreationToShip_1_Day', 'CreationToShip_2_Day',\n",
       "       'CreationToShip_3_Day', 'CreationToShip_4_Day', 'CreationToShip_5_Day',\n",
       "       'CreationToShip_6_Day', 'CreationToShip_7_Day', 'CreationToShip_8_Day',\n",
       "       'CreationToShip_9_Day', 'CreationToShip_>10_Days'],\n",
       "      dtype='object')"
      ]
     },
     "execution_count": 50,
     "metadata": {},
     "output_type": "execute_result"
    }
   ],
   "source": [
    "orders.columns"
   ]
  },
  {
   "cell_type": "markdown",
   "metadata": {},
   "source": [
    "# MERGING"
   ]
  },
  {
   "cell_type": "code",
   "execution_count": 51,
   "metadata": {},
   "outputs": [],
   "source": [
    "def merge(orders, products, customers):\n",
    "    orders_products = pd.merge(orders,products,how='inner',on='VariantId')\n",
    "    data = pd.merge(orders_products,customers,how='inner',on='CustomerId')\n",
    "    del data['OrderNumber']\n",
    "    del data['VariantId']\n",
    "    del data['CustomerId']\n",
    "    del data['LineItem']\n",
    "    # Pour tester une premiere fois on supprime ces colonnes\n",
    "    #del X_data['IsoCode']\n",
    "    #del X_data['CountryISOCode']\n",
    "    #del X_data['BrandId']\n",
    "    \n",
    "    return data"
   ]
  },
  {
   "cell_type": "markdown",
   "metadata": {},
   "source": [
    "### Merge X_train"
   ]
  },
  {
   "cell_type": "code",
   "execution_count": null,
   "metadata": {},
   "outputs": [],
   "source": [
    "X_train = merge(orders, products, customers)"
   ]
  },
  {
   "cell_type": "markdown",
   "metadata": {},
   "source": [
    "# Preprocessing Test set"
   ]
  },
  {
   "cell_type": "code",
   "execution_count": null,
   "metadata": {},
   "outputs": [],
   "source": [
    "X_test = processOrders(X_test)\n",
    "X_test = merge(X_test, products, customers)"
   ]
  },
  {
   "cell_type": "markdown",
   "metadata": {},
   "source": [
    "# Defining a feature transformation"
   ]
  },
  {
   "cell_type": "code",
   "execution_count": null,
   "metadata": {},
   "outputs": [],
   "source": [
    "def funk_mask(d,masked_features):\n",
    "    \" Defining a simple mask over the input data \"\n",
    "    columns_ext = masked_features\n",
    "    X1 = d.loc[:,[xx for xx in d.columns if xx not in columns_ext]]\n",
    "    print(\"1\")\n",
    "    g = lambda x: x.replace(\",\",\".\")\n",
    "    print(\"2\")\n",
    "    X1.UnitPMPEUR = map(np.float64,(map(g,X1.UnitPMPEUR)))\n",
    "    print(\"3\")\n",
    "    columns2bin = [x for x in X1.columns if X1[x].dtype == np.dtype('O')]\n",
    "    print(\"4\")\n",
    "    X2 = pd.get_dummies(X1.loc[:,columns2bin])\n",
    "    print(\"5\")\n",
    "    X1 = X1.loc[:,[xx for xx in X1.columns if xx not in columns2bin]]\n",
    "    print(\"6\")\n",
    "    res = pd.concat([X1,X2],axis=1)\n",
    "    print(\"7\")\n",
    "    res = res.fillna(0)\n",
    "    return(res)"
   ]
  },
  {
   "cell_type": "markdown",
   "metadata": {},
   "source": [
    "# Applying the mask"
   ]
  },
  {
   "cell_type": "code",
   "execution_count": null,
   "metadata": {},
   "outputs": [],
   "source": [
    "features = []"
   ]
  },
  {
   "cell_type": "code",
   "execution_count": null,
   "metadata": {},
   "outputs": [],
   "source": [
    "x1 = funk_mask(X_train,features)\n",
    "x2 = funk_mask(X_test,features)\n",
    "seleckt_columns = np.intersect1d(x1.columns,x2.columns)\n",
    "x1 = x1.loc[:,seleckt_columns]\n",
    "x2 = x2.loc[:,seleckt_columns]"
   ]
  },
  {
   "cell_type": "markdown",
   "metadata": {},
   "source": [
    "# Standardizing the Data"
   ]
  },
  {
   "cell_type": "code",
   "execution_count": null,
   "metadata": {},
   "outputs": [],
   "source": [
    "from sklearn.preprocessing import StandardScaler\n",
    "scaler = StandardScaler()\n",
    "\n",
    "# Fit on training set only.\n",
    "scaler.fit(x1)\n",
    "\n",
    "# Apply transform to both the training set and the test set.\n",
    "x1 = scaler.transform(x1)\n",
    "x2 = scaler.transform(x2)"
   ]
  },
  {
   "cell_type": "markdown",
   "metadata": {},
   "source": [
    "# PCA"
   ]
  },
  {
   "cell_type": "code",
   "execution_count": null,
   "metadata": {},
   "outputs": [],
   "source": [
    "# Make an instance of the Model\n",
    "pca = PCA(.95)\n",
    "\n",
    "# Fit PCA on training set\n",
    "pca.fit(x1)\n",
    "\n",
    "# Apply the mapping (transform) to both the training set and the test set\n",
    "x1 = pca.transform(x1)\n",
    "x2 = pca.transform(x2)"
   ]
  },
  {
   "cell_type": "code",
   "execution_count": null,
   "metadata": {},
   "outputs": [],
   "source": [
    "x1"
   ]
  },
  {
   "cell_type": "code",
   "execution_count": null,
   "metadata": {},
   "outputs": [],
   "source": [
    "x2"
   ]
  },
  {
   "cell_type": "markdown",
   "metadata": {},
   "source": [
    "# Supervised learning : Logistic regression model"
   ]
  },
  {
   "cell_type": "code",
   "execution_count": null,
   "metadata": {},
   "outputs": [],
   "source": [
    "clf = RandomForestClassifier()\n",
    "clf.fit(x1[:100000], data.ReturnQuantityBin[:100000])\n",
    "y_tosubmit = clf.predict_proba(x2)\n",
    "score_forest = np.mean(cross_val_score(clf,x1[:100000], data.ReturnQuantityBin[:100000],cv=10))\n",
    "print(score_forest)"
   ]
  },
  {
   "cell_type": "code",
   "execution_count": null,
   "metadata": {},
   "outputs": [],
   "source": [
    "print(y_tosubmit[:,1].shape)\n",
    "np.savetxt('y_pred.txt', y_tosubmit[:,1], fmt='%f')"
   ]
  },
  {
   "cell_type": "markdown",
   "metadata": {},
   "source": [
    "# Score of our prediction : on the train"
   ]
  },
  {
   "cell_type": "code",
   "execution_count": null,
   "metadata": {},
   "outputs": [],
   "source": [
    "yres = clf.predict_proba(x1[:100001])\n",
    "print(roc_auc_score(data.ReturnQuantityBin.iloc[:100001],yres[:,1]))\n",
    "\n",
    "# Submission to the system\n",
    "np.savetxt('y_pred.txt', y_tosubmit[:,1], fmt='%f')"
   ]
  },
  {
   "cell_type": "code",
   "execution_count": null,
   "metadata": {},
   "outputs": [],
   "source": []
  }
 ],
 "metadata": {
  "kernelspec": {
   "display_name": "Python 3",
   "language": "python",
   "name": "python3"
  },
  "language_info": {
   "codemirror_mode": {
    "name": "ipython",
    "version": 3
   },
   "file_extension": ".py",
   "mimetype": "text/x-python",
   "name": "python",
   "nbconvert_exporter": "python",
   "pygments_lexer": "ipython3",
   "version": "3.6.4"
  }
 },
 "nbformat": 4,
 "nbformat_minor": 2
}
