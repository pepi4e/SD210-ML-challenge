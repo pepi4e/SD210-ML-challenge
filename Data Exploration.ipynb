{
 "cells": [
  {
   "cell_type": "code",
   "execution_count": 1,
   "metadata": {
    "collapsed": true
   },
   "outputs": [],
   "source": [
    "from datetime import datetime\n",
    "from dateutil.parser import parse\n",
    "from __future__ import division\n",
    "from matplotlib import pyplot as plt\n",
    "import numpy as np\n",
    "import os\n",
    "import pandas as pd\n",
    "import random\n",
    "import seaborn as sns\n",
    "from sklearn.ensemble import RandomForestClassifier\n",
    "from sklearn.metrics import roc_auc_score\n",
    "from sklearn.linear_model import LogisticRegression\n",
    "import sys\n",
    "\n",
    "%matplotlib inline"
   ]
  },
  {
   "cell_type": "markdown",
   "metadata": {},
   "source": [
    "## Data loading"
   ]
  },
  {
   "cell_type": "code",
   "execution_count": 2,
   "metadata": {
    "collapsed": false
   },
   "outputs": [],
   "source": [
    "customers = pd.read_csv(\"customers.csv\")\n",
    "products = pd.read_csv(\"products.csv\")\n",
    "orders = pd.read_csv(\"X_train.csv\")\n",
    "orders_label = pd.read_csv(\"X_test.csv\")\n",
    "y_train = pd.read_csv(\"y_train.csv\")"
   ]
  },
  {
   "cell_type": "markdown",
   "metadata": {},
   "source": [
    "# 1 Exploration des données\n",
    "Puisque on dispose de trois séries de données, dont deux ont un nombre important de colonnes, on préfère les examiner séparément.\n",
    "Dans cette phase on vise à connaître la façon dont les données sont organisées et à decouvrir éventuels erreurs dans leur représentation. \n",
    "\n",
    "## 1.1 Table Customers"
   ]
  },
  {
   "cell_type": "code",
   "execution_count": 3,
   "metadata": {},
   "outputs": [
    {
     "data": {
      "text/html": [
       "<div>\n",
       "<style scoped>\n",
       "    .dataframe tbody tr th:only-of-type {\n",
       "        vertical-align: middle;\n",
       "    }\n",
       "\n",
       "    .dataframe tbody tr th {\n",
       "        vertical-align: top;\n",
       "    }\n",
       "\n",
       "    .dataframe thead th {\n",
       "        text-align: right;\n",
       "    }\n",
       "</style>\n",
       "<table border=\"1\" class=\"dataframe\">\n",
       "  <thead>\n",
       "    <tr style=\"text-align: right;\">\n",
       "      <th></th>\n",
       "      <th>CustomerId</th>\n",
       "      <th>CountryISOCode</th>\n",
       "      <th>BirthDate</th>\n",
       "      <th>Gender</th>\n",
       "      <th>FirstOrderDate</th>\n",
       "    </tr>\n",
       "  </thead>\n",
       "  <tbody>\n",
       "    <tr>\n",
       "      <th>0</th>\n",
       "      <td>14089083.0</td>\n",
       "      <td>SE</td>\n",
       "      <td>1979-02-05 00:00:00</td>\n",
       "      <td>Femme</td>\n",
       "      <td>2013-03-16 23:00:05</td>\n",
       "    </tr>\n",
       "    <tr>\n",
       "      <th>1</th>\n",
       "      <td>12862066.0</td>\n",
       "      <td>FR</td>\n",
       "      <td>1982-08-04 00:00:00</td>\n",
       "      <td>Femme</td>\n",
       "      <td>2012-02-14 17:47:33</td>\n",
       "    </tr>\n",
       "    <tr>\n",
       "      <th>2</th>\n",
       "      <td>14791699.0</td>\n",
       "      <td>FR</td>\n",
       "      <td>1965-04-02 00:00:00</td>\n",
       "      <td>Femme</td>\n",
       "      <td>2013-10-04 23:10:42</td>\n",
       "    </tr>\n",
       "    <tr>\n",
       "      <th>3</th>\n",
       "      <td>10794664.0</td>\n",
       "      <td>FR</td>\n",
       "      <td>1966-04-09 00:00:00</td>\n",
       "      <td>Femme</td>\n",
       "      <td>2010-03-25 18:46:59</td>\n",
       "    </tr>\n",
       "    <tr>\n",
       "      <th>4</th>\n",
       "      <td>15268576.0</td>\n",
       "      <td>ES</td>\n",
       "      <td>1980-04-22 00:00:00</td>\n",
       "      <td>Femme</td>\n",
       "      <td>2014-03-19 10:48:39</td>\n",
       "    </tr>\n",
       "  </tbody>\n",
       "</table>\n",
       "</div>"
      ],
      "text/plain": [
       "   CustomerId CountryISOCode            BirthDate Gender       FirstOrderDate\n",
       "0  14089083.0             SE  1979-02-05 00:00:00  Femme  2013-03-16 23:00:05\n",
       "1  12862066.0             FR  1982-08-04 00:00:00  Femme  2012-02-14 17:47:33\n",
       "2  14791699.0             FR  1965-04-02 00:00:00  Femme  2013-10-04 23:10:42\n",
       "3  10794664.0             FR  1966-04-09 00:00:00  Femme  2010-03-25 18:46:59\n",
       "4  15268576.0             ES  1980-04-22 00:00:00  Femme  2014-03-19 10:48:39"
      ]
     },
     "execution_count": 3,
     "metadata": {},
     "output_type": "execute_result"
    }
   ],
   "source": [
    "customers.head()"
   ]
  },
  {
   "cell_type": "markdown",
   "metadata": {},
   "source": [
    "La table customers est constituèe par les cinq colonnes colonnes suivantes : « CustomersId », « CountryISOCode », « BirthDate », « Gender », « FirstOrderDate »."
   ]
  },
  {
   "cell_type": "code",
   "execution_count": 4,
   "metadata": {},
   "outputs": [
    {
     "data": {
      "text/plain": [
       "CustomerId        float64\n",
       "CountryISOCode     object\n",
       "BirthDate          object\n",
       "Gender             object\n",
       "FirstOrderDate     object\n",
       "dtype: object"
      ]
     },
     "execution_count": 4,
     "metadata": {},
     "output_type": "execute_result"
    }
   ],
   "source": [
    "customers.dtypes"
   ]
  },
  {
   "cell_type": "markdown",
   "metadata": {},
   "source": [
    "Grâce au command précédent, on peut observer que le type de la colonne « CustomersId » est à tort considerè comme un nombre, et que les colonnes contenant des dates devront être transformè en object de type 'datetime', puisque pour l'instant ils sont considerèes comme objects."
   ]
  },
  {
   "cell_type": "code",
   "execution_count": 5,
   "metadata": {},
   "outputs": [
    {
     "data": {
      "text/plain": [
       "CustomerId        0\n",
       "CountryISOCode    0\n",
       "BirthDate         0\n",
       "Gender            0\n",
       "FirstOrderDate    0\n",
       "dtype: int64"
      ]
     },
     "execution_count": 5,
     "metadata": {},
     "output_type": "execute_result"
    }
   ],
   "source": [
    "customers.isnull().sum()"
   ]
  },
  {
   "cell_type": "markdown",
   "metadata": {},
   "source": [
    "Heureusement, aucune colonne de la table Customers contient des valeurs nulls. "
   ]
  },
  {
   "cell_type": "code",
   "execution_count": null,
   "metadata": {},
   "outputs": [
    {
     "data": {
      "text/plain": [
       "Index(['CustomerId'], dtype='object')"
      ]
     },
     "execution_count": 6,
     "metadata": {},
     "output_type": "execute_result"
    }
   ],
   "source": [
    "customers_contvars = customers.describe().columns\n",
    "customers_contvars"
   ]
  },
  {
   "cell_type": "code",
   "execution_count": null,
   "metadata": {},
   "outputs": [],
   "source": [
    "customers_catvars = customers.describe(include=[\"object\"]).columns\n",
    "customers_catvars"
   ]
  },
  {
   "cell_type": "markdown",
   "metadata": {},
   "source": [
    "L'analyse des colonnes continues et catégoriques confirme ce que on avait déjà trouvé concernant la colonne 'CustomerId', qui est considerèe comme continue."
   ]
  },
  {
   "cell_type": "markdown",
   "metadata": {},
   "source": [
    "## 1.2 Table Products"
   ]
  },
  {
   "cell_type": "code",
   "execution_count": null,
   "metadata": {},
   "outputs": [],
   "source": [
    "products.head()"
   ]
  },
  {
   "cell_type": "markdown",
   "metadata": {},
   "source": [
    "La table Products, en revanche, est constituèe par un nombre plus elevè de colonnes (25), qui nous donnent des informations concernant les produit vendus.  "
   ]
  },
  {
   "cell_type": "code",
   "execution_count": null,
   "metadata": {},
   "outputs": [],
   "source": [
    "products.dtypes"
   ]
  },
  {
   "cell_type": "markdown",
   "metadata": {},
   "source": [
    "Les colonnes « VariantId », « BrandId », « ProductId », « ProductColorId » et  « IsNewCollection », comme on a déjà vu dans la table 'Customers', sont à tort considerèe comme numerique, et devront être transformèe en categorique (ou directement supprimèe, comme elles n'ajoutent pas d'information utile\n",
    "dans notre intérêt)."
   ]
  },
  {
   "cell_type": "code",
   "execution_count": null,
   "metadata": {},
   "outputs": [],
   "source": [
    "products.isnull().sum()"
   ]
  },
  {
   "cell_type": "markdown",
   "metadata": {},
   "source": [
    "D'ailleurs, dans la table 'Products' on peut retrouver plusieurs colonnes qui contiennent un grand nombre de valeurs nulls: on va ainsi inspecter ces colonnes afin de savoir si les valeurs nulls peuvent être considerèes comme des zeros ou s'ils constituent vraiment des donnèes manquantes.\n",
    "\n",
    "On commencera par la colonne « ProductType »."
   ]
  },
  {
   "cell_type": "code",
   "execution_count": null,
   "metadata": {},
   "outputs": [],
   "source": [
    "products['ProductType'].drop_duplicates()"
   ]
  },
  {
   "cell_type": "markdown",
   "metadata": {},
   "source": [
    "Tout d'abord, on peut observer que en vrai nos donnèes concernent soit des chaussures (pour la plupart) soit autres produits, comme sacs, ceintures, etc...\n",
    "\n",
    "Puisque les autres colonnes ayants des valeurs nulls sont spécifiques pour les chaussures (« CalfTurn », « UpperHeight », « HeelHeight », « OutSoleMaterialLabel », « RemovableSole », « SizeAdviceDescription »), on veut decouvrir si en effet les valeurs nulls correspondent à produits qui ne sont pas des chaussures. \n",
    "\n",
    "On va observer les colonne « CalfTurn » et « UpperHeight »."
   ]
  },
  {
   "cell_type": "code",
   "execution_count": null,
   "metadata": {},
   "outputs": [],
   "source": [
    "nochauss = products.loc[products['CalfTurn'].isnull()]\n",
    "nochauss['ProductType'].drop_duplicates()"
   ]
  },
  {
   "cell_type": "code",
   "execution_count": null,
   "metadata": {},
   "outputs": [],
   "source": [
    "nochauss = products.loc[products['UpperHeight'].isnull()]\n",
    "nochauss['ProductType'].drop_duplicates()"
   ]
  },
  {
   "cell_type": "markdown",
   "metadata": {},
   "source": [
    "On a ainsi decouvert que les valeurs nulls dans ces colonnes sont dus au fait que pour le produit consideré (soit-il une chaussure ou pas) cette valeur n'est pas mesurable."
   ]
  },
  {
   "cell_type": "code",
   "execution_count": null,
   "metadata": {},
   "outputs": [],
   "source": [
    "products.describe()"
   ]
  },
  {
   "cell_type": "markdown",
   "metadata": {},
   "source": [
    "Par rapport seulement aux colonnes numeriques ( « MinSize », « MaxSize », « CalfTurn », « UpperHeight », « HeelHeight » et « PurchasePriceHT » ) on peut observer que:\n",
    "\n",
    "- On a plusieurs valeurs de 0 dans certains colonnes, qu'on devra decider comme traiter comparé aux valeurs nulls présents dans les memes colonnes.\n",
    "\n",
    "- Certaines valeurs mins et max ne sont pas consistantes (par exemple, 1 et 720 comme valeurs max et min des colonnes MaxSize et MinSize, alors qu'on aurait espéré valeurs entre 35 et 48)\n",
    "\n",
    "- Certaines valeurs semblent clairement des outliers ( « HeelHeight » 113, par exemple)"
   ]
  },
  {
   "cell_type": "code",
   "execution_count": null,
   "metadata": {},
   "outputs": [],
   "source": [
    "products_contvars = products.describe().columns\n",
    "products_contvars"
   ]
  },
  {
   "cell_type": "code",
   "execution_count": null,
   "metadata": {},
   "outputs": [],
   "source": [
    "products_catvars = products.describe(include=[\"object\"]).columns\n",
    "products_catvars"
   ]
  },
  {
   "cell_type": "markdown",
   "metadata": {},
   "source": [
    "L'analyse des colonnes continues et catégoriques confirme les erreurs dans les colonnes déjà mentionnées.\n",
    "\n",
    "En outre, la colonne « SizeAdviceDescription » semble interessant si on arrive à en extraire des informations."
   ]
  },
  {
   "cell_type": "code",
   "execution_count": null,
   "metadata": {},
   "outputs": [],
   "source": [
    "products['SizeAdviceDescription'].drop_duplicates()"
   ]
  },
  {
   "cell_type": "markdown",
   "metadata": {},
   "source": [
    "Meme si les donnèes sont de type chaîne, il y a peu de valeurs differents, ce qui nous permettra heureusement d'en extraire des bonnes features."
   ]
  },
  {
   "cell_type": "markdown",
   "metadata": {},
   "source": [
    "## 1.2 Table Orders"
   ]
  },
  {
   "cell_type": "code",
   "execution_count": null,
   "metadata": {},
   "outputs": [],
   "source": [
    "orders.head()"
   ]
  },
  {
   "cell_type": "markdown",
   "metadata": {},
   "source": [
    "Enfin, la table Orders est constituèe par 20 colonnes et contient les informations concernant les ordres d'achat. Ces données sont du meme type que celles qui nous sont données pour le test: on devra ainsi réaliser les memes operations sur tous les deux groupes de données."
   ]
  },
  {
   "cell_type": "code",
   "execution_count": null,
   "metadata": {},
   "outputs": [],
   "source": [
    "orders.dtypes"
   ]
  },
  {
   "cell_type": "markdown",
   "metadata": {},
   "source": [
    "Comme dans les tables precedentes, aussi ici on retrouve des colonnes qui ne devraient pas être numerique mais plutôt categoriques ( « OrderNumber », « VariantId », « LineItem », « CustomerId », « OrderNumCustomer » et « IsOnSale » )."
   ]
  },
  {
   "cell_type": "code",
   "execution_count": null,
   "metadata": {},
   "outputs": [],
   "source": [
    "orders.isnull().sum()"
   ]
  },
  {
   "cell_type": "markdown",
   "metadata": {},
   "source": [
    "Heureusement, les colonnes contenant des valeurs nulls sont seulement deux. \n",
    "Notamment, pour la colonne « IsOnSale » on peut très bien supposer que les valeurs nulls soient equivalentes à des zeros (produits non en offre)."
   ]
  },
  {
   "cell_type": "code",
   "execution_count": null,
   "metadata": {},
   "outputs": [],
   "source": [
    "orders.describe()"
   ]
  },
  {
   "cell_type": "markdown",
   "metadata": {},
   "source": [
    "En ce cas, le command 'describe' nous donne des informations seulement à propos de la colonne « Quantity », dont on peut observer des valeurs consistantes, puisque toutes les autres colonnes ne sont pas à considerer comme numeriques, comme déjà remarquè."
   ]
  },
  {
   "cell_type": "code",
   "execution_count": null,
   "metadata": {},
   "outputs": [],
   "source": [
    "orders_contvars = orders.describe().columns\n",
    "orders_contvars"
   ]
  },
  {
   "cell_type": "code",
   "execution_count": null,
   "metadata": {},
   "outputs": [],
   "source": [
    "orders_catvars = orders.describe(include=[\"object\"]).columns\n",
    "orders_catvars"
   ]
  }
 ],
 "metadata": {
  "anaconda-cloud": {},
  "kernelspec": {
   "display_name": "Python 3",
   "language": "python",
   "name": "python3"
  },
  "language_info": {
   "codemirror_mode": {
    "name": "ipython",
    "version": 3
   },
   "file_extension": ".py",
   "mimetype": "text/x-python",
   "name": "python",
   "nbconvert_exporter": "python",
   "pygments_lexer": "ipython3",
   "version": "3.6.4"
  }
 },
 "nbformat": 4,
 "nbformat_minor": 2
}
