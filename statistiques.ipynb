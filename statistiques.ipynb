{
 "cells": [
  {
   "cell_type": "code",
   "execution_count": 66,
   "metadata": {
    "collapsed": true
   },
   "outputs": [],
   "source": [
    "%matplotlib inline\n",
    "#basic python packages for plotting and array management\n",
    "import numpy as np\n",
    "import matplotlib.pyplot as plt\n",
    "import random\n",
    "import seaborn as sns\n",
    "\n",
    "#for data import\n",
    "import pandas as pd\n",
    "from __future__ import division\n",
    "import os\n",
    "import sys\n",
    "from importlib import reload\n",
    "reload(sys)\n",
    "\n",
    "#Preprocessing\n",
    "from sklearn import preprocessing\n",
    "from sklearn.preprocessing import StandardScaler\n",
    "from sklearn.utils import shuffle\n",
    "from sklearn.discriminant_analysis import LinearDiscriminantAnalysis\n",
    "from sklearn.decomposition import PCA\n",
    "\n",
    "#Classifiers\n",
    "from sklearn.linear_model import LogisticRegression, RidgeClassifier, RidgeClassifierCV, PassiveAggressiveClassifier, Perceptron, SGDClassifier\n",
    "from sklearn.svm import SVC\n",
    "from sklearn.neighbors import KNeighborsClassifier, NearestCentroid\n",
    "from sklearn.gaussian_process import GaussianProcessClassifier\n",
    "from sklearn.naive_bayes import GaussianNB, MultinomialNB, BernoulliNB\n",
    "from sklearn.tree import DecisionTreeClassifier, ExtraTreeClassifier\n",
    "from sklearn.neural_network import MLPClassifier\n",
    "\n",
    "#Ensemble methods and crossvalidation\n",
    "from sklearn.model_selection import GridSearchCV, cross_val_predict, cross_val_score\n",
    "from sklearn.pipeline import Pipeline\n",
    "from sklearn.ensemble import AdaBoostClassifier, BaggingClassifier, ExtraTreesClassifier, GradientBoostingClassifier,RandomForestClassifier, VotingClassifier\n",
    "\n",
    "#PostProcessing\n",
    "from sklearn.metrics import classification_report, confusion_matrix, roc_auc_score\n",
    "\n",
    "import time"
   ]
  },
  {
   "cell_type": "code",
   "execution_count": 2,
   "metadata": {
    "collapsed": true
   },
   "outputs": [],
   "source": [
    "customers = pd.read_csv(\"customers.csv\")\n",
    "products = pd.read_csv(\"products.csv\")\n",
    "X_train = pd.read_csv(\"X_train.csv\")\n",
    "X_test   = pd.read_csv(\"X_test.csv\")\n",
    "y_train = pd.read_csv(\"y_train.csv\")"
   ]
  },
  {
   "cell_type": "code",
   "execution_count": 3,
   "metadata": {
    "collapsed": true
   },
   "outputs": [],
   "source": [
    "# Preprocessing Products\n",
    "col = products['SizeAdviceDescription'].eq('Prenez votre pointure habituelle').astype('float')\n",
    "col1 = products['SizeAdviceDescription'].eq(products['SizeAdviceDescription'][7]).astype('float')\n",
    "products['SizeAdviceDescription'] = col+col1"
   ]
  },
  {
   "cell_type": "code",
   "execution_count": 4,
   "metadata": {},
   "outputs": [],
   "source": [
    "# Preprocessing customers\n",
    "birth = pd.DataFrame(np.zeros((customers.shape[0],1)))\n",
    "firstorder = pd.DataFrame(np.zeros((customers.shape[0],1)))\n",
    "le = customers.shape[0]\n",
    "for i in range (le):\n",
    "    birth.iloc[i]=2018-int(customers['BirthDate'][i][:4])\n",
    "    firstorder.iloc[i]=2018-int(customers['FirstOrderDate'][i][:4])\n",
    "    \n",
    "customers['BirthDate']=birth\n",
    "customers['FirstOrderDate']=firstorder"
   ]
  },
  {
   "cell_type": "code",
   "execution_count": 4,
   "metadata": {},
   "outputs": [
    {
     "data": {
      "text/html": [
       "<div>\n",
       "<style>\n",
       "    .dataframe thead tr:only-child th {\n",
       "        text-align: right;\n",
       "    }\n",
       "\n",
       "    .dataframe thead th {\n",
       "        text-align: left;\n",
       "    }\n",
       "\n",
       "    .dataframe tbody tr th {\n",
       "        vertical-align: top;\n",
       "    }\n",
       "</style>\n",
       "<table border=\"1\" class=\"dataframe\">\n",
       "  <thead>\n",
       "    <tr style=\"text-align: right;\">\n",
       "      <th></th>\n",
       "      <th>VariantId</th>\n",
       "      <th>GenderLabel</th>\n",
       "      <th>MarketTargetLabel</th>\n",
       "      <th>SeasonLabel</th>\n",
       "      <th>SeasonalityLabel</th>\n",
       "      <th>BrandId</th>\n",
       "      <th>UniverseLabel</th>\n",
       "      <th>TypeBrand</th>\n",
       "      <th>ProductId</th>\n",
       "      <th>ProductType</th>\n",
       "      <th>...</th>\n",
       "      <th>UpperHeight</th>\n",
       "      <th>HeelHeight</th>\n",
       "      <th>PurchasePriceHT</th>\n",
       "      <th>IsNewCollection</th>\n",
       "      <th>SubtypeLabel</th>\n",
       "      <th>UpperMaterialLabel</th>\n",
       "      <th>LiningMaterialLabel</th>\n",
       "      <th>OutSoleMaterialLabel</th>\n",
       "      <th>RemovableSole</th>\n",
       "      <th>SizeAdviceDescription</th>\n",
       "    </tr>\n",
       "  </thead>\n",
       "  <tbody>\n",
       "    <tr>\n",
       "      <th>0</th>\n",
       "      <td>728257.0</td>\n",
       "      <td>Homme</td>\n",
       "      <td>Classique</td>\n",
       "      <td>Automne/Hiver</td>\n",
       "      <td>Saisonnier</td>\n",
       "      <td>66.0</td>\n",
       "      <td>DÃ©tente</td>\n",
       "      <td>Standard</td>\n",
       "      <td>17267.0</td>\n",
       "      <td>Baskets</td>\n",
       "      <td>...</td>\n",
       "      <td>NaN</td>\n",
       "      <td>0.0</td>\n",
       "      <td>30.50</td>\n",
       "      <td>0.0</td>\n",
       "      <td>Montantes</td>\n",
       "      <td>NaN</td>\n",
       "      <td>NaN</td>\n",
       "      <td>NaN</td>\n",
       "      <td>False</td>\n",
       "      <td>0.0</td>\n",
       "    </tr>\n",
       "    <tr>\n",
       "      <th>1</th>\n",
       "      <td>806356.0</td>\n",
       "      <td>Femme</td>\n",
       "      <td>ND</td>\n",
       "      <td>Automne/Hiver</td>\n",
       "      <td>Saisonnier</td>\n",
       "      <td>842.0</td>\n",
       "      <td>ND</td>\n",
       "      <td>Standard</td>\n",
       "      <td>30824.0</td>\n",
       "      <td>Baskets</td>\n",
       "      <td>...</td>\n",
       "      <td>0.0</td>\n",
       "      <td>0.0</td>\n",
       "      <td>43.00</td>\n",
       "      <td>0.0</td>\n",
       "      <td>Montantes</td>\n",
       "      <td>NaN</td>\n",
       "      <td>NaN</td>\n",
       "      <td>NaN</td>\n",
       "      <td>True</td>\n",
       "      <td>1.0</td>\n",
       "    </tr>\n",
       "    <tr>\n",
       "      <th>2</th>\n",
       "      <td>768790.0</td>\n",
       "      <td>Femme</td>\n",
       "      <td>ND</td>\n",
       "      <td>Automne/Hiver</td>\n",
       "      <td>Reconduit</td>\n",
       "      <td>988.0</td>\n",
       "      <td>Ville</td>\n",
       "      <td>Standard</td>\n",
       "      <td>62475.0</td>\n",
       "      <td>Bottines et boots</td>\n",
       "      <td>...</td>\n",
       "      <td>6.0</td>\n",
       "      <td>3.0</td>\n",
       "      <td>54.90</td>\n",
       "      <td>0.0</td>\n",
       "      <td>Bout pointu</td>\n",
       "      <td>NaN</td>\n",
       "      <td>NaN</td>\n",
       "      <td>NaN</td>\n",
       "      <td>False</td>\n",
       "      <td>1.0</td>\n",
       "    </tr>\n",
       "    <tr>\n",
       "      <th>3</th>\n",
       "      <td>515679.0</td>\n",
       "      <td>Femme</td>\n",
       "      <td>ND</td>\n",
       "      <td>Automne/Hiver</td>\n",
       "      <td>Saisonnier</td>\n",
       "      <td>769.0</td>\n",
       "      <td>Ville</td>\n",
       "      <td>Standard</td>\n",
       "      <td>43983.0</td>\n",
       "      <td>Escarpins</td>\n",
       "      <td>...</td>\n",
       "      <td>0.0</td>\n",
       "      <td>13.0</td>\n",
       "      <td>34.50</td>\n",
       "      <td>0.0</td>\n",
       "      <td>Bout rond</td>\n",
       "      <td>NaN</td>\n",
       "      <td>NaN</td>\n",
       "      <td>NaN</td>\n",
       "      <td>False</td>\n",
       "      <td>1.0</td>\n",
       "    </tr>\n",
       "    <tr>\n",
       "      <th>4</th>\n",
       "      <td>1025246.0</td>\n",
       "      <td>Femme</td>\n",
       "      <td>ND</td>\n",
       "      <td>Automne/Hiver</td>\n",
       "      <td>Saisonnier</td>\n",
       "      <td>1244.0</td>\n",
       "      <td>ND</td>\n",
       "      <td>Standard</td>\n",
       "      <td>81493.0</td>\n",
       "      <td>Bottines et boots</td>\n",
       "      <td>...</td>\n",
       "      <td>8.0</td>\n",
       "      <td>4.0</td>\n",
       "      <td>43.76</td>\n",
       "      <td>0.0</td>\n",
       "      <td>Bout rond</td>\n",
       "      <td>NaN</td>\n",
       "      <td>NaN</td>\n",
       "      <td>NaN</td>\n",
       "      <td>False</td>\n",
       "      <td>1.0</td>\n",
       "    </tr>\n",
       "  </tbody>\n",
       "</table>\n",
       "<p>5 rows × 25 columns</p>\n",
       "</div>"
      ],
      "text/plain": [
       "   VariantId GenderLabel MarketTargetLabel    SeasonLabel SeasonalityLabel  \\\n",
       "0   728257.0       Homme         Classique  Automne/Hiver       Saisonnier   \n",
       "1   806356.0       Femme                ND  Automne/Hiver       Saisonnier   \n",
       "2   768790.0       Femme                ND  Automne/Hiver        Reconduit   \n",
       "3   515679.0       Femme                ND  Automne/Hiver       Saisonnier   \n",
       "4  1025246.0       Femme                ND  Automne/Hiver       Saisonnier   \n",
       "\n",
       "   BrandId UniverseLabel TypeBrand  ProductId        ProductType  \\\n",
       "0     66.0      DÃ©tente  Standard    17267.0            Baskets   \n",
       "1    842.0            ND  Standard    30824.0            Baskets   \n",
       "2    988.0         Ville  Standard    62475.0  Bottines et boots   \n",
       "3    769.0         Ville  Standard    43983.0          Escarpins   \n",
       "4   1244.0            ND  Standard    81493.0  Bottines et boots   \n",
       "\n",
       "           ...          UpperHeight  HeelHeight  PurchasePriceHT  \\\n",
       "0          ...                  NaN         0.0            30.50   \n",
       "1          ...                  0.0         0.0            43.00   \n",
       "2          ...                  6.0         3.0            54.90   \n",
       "3          ...                  0.0        13.0            34.50   \n",
       "4          ...                  8.0         4.0            43.76   \n",
       "\n",
       "   IsNewCollection  SubtypeLabel  UpperMaterialLabel  LiningMaterialLabel  \\\n",
       "0              0.0     Montantes                 NaN                  NaN   \n",
       "1              0.0     Montantes                 NaN                  NaN   \n",
       "2              0.0   Bout pointu                 NaN                  NaN   \n",
       "3              0.0     Bout rond                 NaN                  NaN   \n",
       "4              0.0     Bout rond                 NaN                  NaN   \n",
       "\n",
       "   OutSoleMaterialLabel  RemovableSole SizeAdviceDescription  \n",
       "0                   NaN          False                   0.0  \n",
       "1                   NaN           True                   1.0  \n",
       "2                   NaN          False                   1.0  \n",
       "3                   NaN          False                   1.0  \n",
       "4                   NaN          False                   1.0  \n",
       "\n",
       "[5 rows x 25 columns]"
      ]
     },
     "execution_count": 4,
     "metadata": {},
     "output_type": "execute_result"
    }
   ],
   "source": [
    "products.head()"
   ]
  },
  {
   "cell_type": "code",
   "execution_count": 5,
   "metadata": {
    "collapsed": true
   },
   "outputs": [],
   "source": [
    "index = pd.DataFrame({'index':np.arange(X_train.shape[0])})\n",
    "X_train['index']=index # Evite les duplicata\n",
    "y_train['index']=index"
   ]
  },
  {
   "cell_type": "code",
   "execution_count": 6,
   "metadata": {},
   "outputs": [
    {
     "data": {
      "text/html": [
       "<div>\n",
       "<style>\n",
       "    .dataframe thead tr:only-child th {\n",
       "        text-align: right;\n",
       "    }\n",
       "\n",
       "    .dataframe thead th {\n",
       "        text-align: left;\n",
       "    }\n",
       "\n",
       "    .dataframe tbody tr th {\n",
       "        vertical-align: top;\n",
       "    }\n",
       "</style>\n",
       "<table border=\"1\" class=\"dataframe\">\n",
       "  <thead>\n",
       "    <tr style=\"text-align: right;\">\n",
       "      <th></th>\n",
       "      <th>OrderNumber_x</th>\n",
       "      <th>LineItem_x</th>\n",
       "      <th>ReturnQuantity</th>\n",
       "      <th>ReturnQuantityBin</th>\n",
       "      <th>index</th>\n",
       "      <th>OrderNumber_y</th>\n",
       "      <th>VariantId</th>\n",
       "      <th>LineItem_y</th>\n",
       "      <th>CustomerId</th>\n",
       "      <th>OrderStatusLabel</th>\n",
       "      <th>...</th>\n",
       "      <th>SubtypeLabel</th>\n",
       "      <th>UpperMaterialLabel</th>\n",
       "      <th>LiningMaterialLabel</th>\n",
       "      <th>OutSoleMaterialLabel</th>\n",
       "      <th>RemovableSole</th>\n",
       "      <th>SizeAdviceDescription</th>\n",
       "      <th>CountryISOCode</th>\n",
       "      <th>BirthDate</th>\n",
       "      <th>Gender</th>\n",
       "      <th>FirstOrderDate</th>\n",
       "    </tr>\n",
       "  </thead>\n",
       "  <tbody>\n",
       "    <tr>\n",
       "      <th>0</th>\n",
       "      <td>73521754</td>\n",
       "      <td>1</td>\n",
       "      <td>0.0</td>\n",
       "      <td>0.0</td>\n",
       "      <td>0</td>\n",
       "      <td>73521754</td>\n",
       "      <td>439729</td>\n",
       "      <td>1</td>\n",
       "      <td>12443972</td>\n",
       "      <td>Expédié</td>\n",
       "      <td>...</td>\n",
       "      <td>NaN</td>\n",
       "      <td>NaN</td>\n",
       "      <td>NaN</td>\n",
       "      <td>NaN</td>\n",
       "      <td>NaN</td>\n",
       "      <td>NaN</td>\n",
       "      <td>FR</td>\n",
       "      <td>60.0</td>\n",
       "      <td>Femme</td>\n",
       "      <td>7.0</td>\n",
       "    </tr>\n",
       "    <tr>\n",
       "      <th>1</th>\n",
       "      <td>73521754</td>\n",
       "      <td>2</td>\n",
       "      <td>0.0</td>\n",
       "      <td>0.0</td>\n",
       "      <td>1</td>\n",
       "      <td>73521754</td>\n",
       "      <td>440174</td>\n",
       "      <td>2</td>\n",
       "      <td>12443972</td>\n",
       "      <td>Expédié</td>\n",
       "      <td>...</td>\n",
       "      <td>NaN</td>\n",
       "      <td>NaN</td>\n",
       "      <td>NaN</td>\n",
       "      <td>NaN</td>\n",
       "      <td>NaN</td>\n",
       "      <td>NaN</td>\n",
       "      <td>FR</td>\n",
       "      <td>60.0</td>\n",
       "      <td>Femme</td>\n",
       "      <td>7.0</td>\n",
       "    </tr>\n",
       "    <tr>\n",
       "      <th>2</th>\n",
       "      <td>73525226</td>\n",
       "      <td>1</td>\n",
       "      <td>1.0</td>\n",
       "      <td>1.0</td>\n",
       "      <td>2</td>\n",
       "      <td>73525226</td>\n",
       "      <td>494501</td>\n",
       "      <td>1</td>\n",
       "      <td>12443958</td>\n",
       "      <td>Expédié</td>\n",
       "      <td>...</td>\n",
       "      <td>Bout rond</td>\n",
       "      <td>NaN</td>\n",
       "      <td>NaN</td>\n",
       "      <td>NaN</td>\n",
       "      <td>False</td>\n",
       "      <td>1.0</td>\n",
       "      <td>FR</td>\n",
       "      <td>46.0</td>\n",
       "      <td>Femme</td>\n",
       "      <td>7.0</td>\n",
       "    </tr>\n",
       "    <tr>\n",
       "      <th>3</th>\n",
       "      <td>73529009</td>\n",
       "      <td>1</td>\n",
       "      <td>1.0</td>\n",
       "      <td>1.0</td>\n",
       "      <td>3</td>\n",
       "      <td>73529009</td>\n",
       "      <td>439590</td>\n",
       "      <td>1</td>\n",
       "      <td>12443946</td>\n",
       "      <td>Expédié</td>\n",
       "      <td>...</td>\n",
       "      <td>NaN</td>\n",
       "      <td>NaN</td>\n",
       "      <td>NaN</td>\n",
       "      <td>NaN</td>\n",
       "      <td>NaN</td>\n",
       "      <td>NaN</td>\n",
       "      <td>FR</td>\n",
       "      <td>48.0</td>\n",
       "      <td>Femme</td>\n",
       "      <td>7.0</td>\n",
       "    </tr>\n",
       "    <tr>\n",
       "      <th>4</th>\n",
       "      <td>73529009</td>\n",
       "      <td>2</td>\n",
       "      <td>1.0</td>\n",
       "      <td>1.0</td>\n",
       "      <td>4</td>\n",
       "      <td>73529009</td>\n",
       "      <td>559476</td>\n",
       "      <td>2</td>\n",
       "      <td>12443946</td>\n",
       "      <td>Expédié</td>\n",
       "      <td>...</td>\n",
       "      <td>Bout rond</td>\n",
       "      <td>Cuir</td>\n",
       "      <td>NaN</td>\n",
       "      <td>NaN</td>\n",
       "      <td>False</td>\n",
       "      <td>1.0</td>\n",
       "      <td>FR</td>\n",
       "      <td>48.0</td>\n",
       "      <td>Femme</td>\n",
       "      <td>7.0</td>\n",
       "    </tr>\n",
       "  </tbody>\n",
       "</table>\n",
       "<p>5 rows × 53 columns</p>\n",
       "</div>"
      ],
      "text/plain": [
       "   OrderNumber_x  LineItem_x  ReturnQuantity  ReturnQuantityBin  index  \\\n",
       "0       73521754           1             0.0                0.0      0   \n",
       "1       73521754           2             0.0                0.0      1   \n",
       "2       73525226           1             1.0                1.0      2   \n",
       "3       73529009           1             1.0                1.0      3   \n",
       "4       73529009           2             1.0                1.0      4   \n",
       "\n",
       "   OrderNumber_y VariantId  LineItem_y CustomerId OrderStatusLabel  \\\n",
       "0       73521754    439729           1   12443972          Expédié   \n",
       "1       73521754    440174           2   12443972          Expédié   \n",
       "2       73525226    494501           1   12443958          Expédié   \n",
       "3       73529009    439590           1   12443946          Expédié   \n",
       "4       73529009    559476           2   12443946          Expédié   \n",
       "\n",
       "       ...       SubtypeLabel UpperMaterialLabel LiningMaterialLabel  \\\n",
       "0      ...                NaN                NaN                 NaN   \n",
       "1      ...                NaN                NaN                 NaN   \n",
       "2      ...          Bout rond                NaN                 NaN   \n",
       "3      ...                NaN                NaN                 NaN   \n",
       "4      ...          Bout rond               Cuir                 NaN   \n",
       "\n",
       "  OutSoleMaterialLabel RemovableSole SizeAdviceDescription CountryISOCode  \\\n",
       "0                  NaN           NaN                   NaN             FR   \n",
       "1                  NaN           NaN                   NaN             FR   \n",
       "2                  NaN         False                   1.0             FR   \n",
       "3                  NaN           NaN                   NaN             FR   \n",
       "4                  NaN         False                   1.0             FR   \n",
       "\n",
       "   BirthDate  Gender FirstOrderDate  \n",
       "0       60.0   Femme            7.0  \n",
       "1       60.0   Femme            7.0  \n",
       "2       46.0   Femme            7.0  \n",
       "3       48.0   Femme            7.0  \n",
       "4       48.0   Femme            7.0  \n",
       "\n",
       "[5 rows x 53 columns]"
      ]
     },
     "execution_count": 6,
     "metadata": {},
     "output_type": "execute_result"
    }
   ],
   "source": [
    "X_Product = pd.merge(X_train,products,how='left',on='VariantId')\n",
    "X_data = pd.merge(X_Product,customers,how='left',on='CustomerId')\n",
    "data = pd.merge(y_train,X_data,how='left',on=\"index\")\n",
    "data = data.sort_values(by='index')\n",
    "data.head()"
   ]
  },
  {
   "cell_type": "code",
   "execution_count": 43,
   "metadata": {},
   "outputs": [],
   "source": [
    "one = pd.Series(1,index = range(data.shape[0]))\n",
    "data['one']=one"
   ]
  },
  {
   "cell_type": "code",
   "execution_count": 7,
   "metadata": {},
   "outputs": [
    {
     "data": {
      "text/plain": [
       "array(['OrderNumber_x', 'LineItem_x', 'ReturnQuantity',\n",
       "       'ReturnQuantityBin', 'index', 'OrderNumber_y', 'VariantId',\n",
       "       'LineItem_y', 'CustomerId', 'OrderStatusLabel', 'OrderTypelabel',\n",
       "       'SeasonLabel_x', 'PayementModeLabel', 'CustomerTypeLabel',\n",
       "       'IsoCode', 'DeviceTypeLabel', 'PricingTypeLabel', 'TotalLineItems',\n",
       "       'Quantity', 'UnitPMPEUR', 'OrderCreationDate', 'OrderShipDate',\n",
       "       'OrderNumCustomer', 'IsOnSale', 'BillingPostalCode', 'GenderLabel',\n",
       "       'MarketTargetLabel', 'SeasonLabel_y', 'SeasonalityLabel', 'BrandId',\n",
       "       'UniverseLabel', 'TypeBrand', 'ProductId', 'ProductType',\n",
       "       'SupplierColor', 'ProductColorId', 'MinSize', 'MaxSize', 'CalfTurn',\n",
       "       'UpperHeight', 'HeelHeight', 'PurchasePriceHT', 'IsNewCollection',\n",
       "       'SubtypeLabel', 'UpperMaterialLabel', 'LiningMaterialLabel',\n",
       "       'OutSoleMaterialLabel', 'RemovableSole', 'SizeAdviceDescription',\n",
       "       'CountryISOCode', 'BirthDate', 'Gender', 'FirstOrderDate'], dtype=object)"
      ]
     },
     "execution_count": 7,
     "metadata": {},
     "output_type": "execute_result"
    }
   ],
   "source": [
    "data.columns.values"
   ]
  },
  {
   "cell_type": "code",
   "execution_count": 44,
   "metadata": {
    "collapsed": true
   },
   "outputs": [],
   "source": [
    "returndata = data[data['ReturnQuantityBin']==1]"
   ]
  },
  {
   "cell_type": "code",
   "execution_count": 124,
   "metadata": {
    "collapsed": true
   },
   "outputs": [],
   "source": [
    "def autolabel(rects):\n",
    "        \"\"\"\n",
    "        Attach a text label above each bar displaying its height\n",
    "        \"\"\"\n",
    "        for rect in rects:\n",
    "            height = rect.get_height()\n",
    "            ax.text(rect.get_x() + rect.get_width()/2., 1.005*height,\n",
    "                '%f' %height,\n",
    "                ha='center', va='bottom')\n",
    "\n",
    "def histogramme (column):\n",
    "    d = pd.crosstab(data['one'],data[column],normalize='index')\n",
    "    returnd = pd.crosstab(returndata['one'],returndata[column],normalize='index')\n",
    "    label = d.columns.tolist()\n",
    "    liste1 = d.values[0]\n",
    "    liste2 = returnd.values[0]\n",
    "    # Plot the scores\n",
    "    N = len(label)\n",
    "    ind = np.arange(N)  # the x locations for the groups\n",
    "    width = 0.35       # the width of the bars\n",
    "\n",
    "    sns.set(style='darkgrid')\n",
    "    fig, ax = plt.subplots(figsize=(20, 10))\n",
    "\n",
    "    rects1 = ax.bar(ind, liste1, width, color='indianred')\n",
    "    rects2 = ax.bar(ind + width, liste2, width, color='seagreen')\n",
    "\n",
    "    # add some text for labels, title and axes ticks\n",
    "    ax.set_ylabel('Ratio')\n",
    "    ax.set_title('Ratio for data and returned data')\n",
    "    ax.set_xticks(ind + width / 2)\n",
    "    ax.set_xticklabels(label,rotation=90)\n",
    "    ax.legend((rects1[0], rects2[0]), ('Data', 'Return Data'))\n",
    "    \n",
    "    autolabel(rects1)\n",
    "    autolabel(rects2)\n",
    "\n",
    "    plt.show()"
   ]
  },
  {
   "cell_type": "markdown",
   "metadata": {},
   "source": [
    "## Products"
   ]
  },
  {
   "cell_type": "markdown",
   "metadata": {},
   "source": [
    "##### Price HT"
   ]
  },
  {
   "cell_type": "code",
   "execution_count": 64,
   "metadata": {},
   "outputs": [
    {
     "name": "stdout",
     "output_type": "stream",
     "text": [
      "pour les prix entre 0 et 20€\n",
      "0.155964170938\n",
      "0.128892858432\n",
      "\n",
      "pour les prix entre 20 et 40€\n",
      "0.295360211376\n",
      "0.30245660568\n",
      "\n",
      "pour les prix entre 40 et 60€\n",
      "0.133006961557\n",
      "0.152421421096\n",
      "\n",
      "pour les prix entre 60 et 80€\n",
      "0.0341912694769\n",
      "0.0433988307892\n"
     ]
    }
   ],
   "source": [
    "print('pour les prix entre 0 et 20€')\n",
    "# Pour toutes les données\n",
    "price020 = ((data['PurchasePriceHT']>0) & (data['PurchasePriceHT']<20)).sum()/(data.shape[0])\n",
    "print(price020)\n",
    "\n",
    "# Pour les données retournées\n",
    "price020return = ((returndata['PurchasePriceHT']>0) & (returndata['PurchasePriceHT']<20)).sum()/(returndata.shape[0])\n",
    "print(price020return)\n",
    "\n",
    "print('\\npour les prix entre 20 et 40€')\n",
    "# Pour toutes les données\n",
    "price = ((data['PurchasePriceHT']>20) & (data['PurchasePriceHT']<40)).sum()/(data.shape[0])\n",
    "print(price)\n",
    "\n",
    "# Pour les données retournées\n",
    "pricereturn = ((returndata['PurchasePriceHT']>20) & (returndata['PurchasePriceHT']<40)).sum()/(returndata.shape[0])\n",
    "print(pricereturn)\n",
    "\n",
    "print('\\npour les prix entre 40 et 60€')\n",
    "# Pour toutes les données\n",
    "price = ((data['PurchasePriceHT']>40) & (data['PurchasePriceHT']<60)).sum()/(data.shape[0])\n",
    "print(price)\n",
    "\n",
    "# Pour les données retournées\n",
    "pricereturn = ((returndata['PurchasePriceHT']>40) & (returndata['PurchasePriceHT']<60)).sum()/(returndata.shape[0])\n",
    "print(pricereturn)\n",
    "\n",
    "print('\\npour les prix entre 60 et 80€')\n",
    "# Pour toutes les données\n",
    "price = ((data['PurchasePriceHT']>60) & (data['PurchasePriceHT']<80)).sum()/(data.shape[0])\n",
    "print(price)\n",
    "\n",
    "# Pour les données retournées\n",
    "pricereturn = ((returndata['PurchasePriceHT']>60) & (returndata['PurchasePriceHT']<80)).sum()/(returndata.shape[0])\n",
    "print(pricereturn)"
   ]
  },
  {
   "cell_type": "markdown",
   "metadata": {},
   "source": [
    "##### SeasonLabel"
   ]
  },
  {
   "cell_type": "code",
   "execution_count": 17,
   "metadata": {},
   "outputs": [
    {
     "name": "stdout",
     "output_type": "stream",
     "text": [
      "0.444673893693\n",
      "0.455599761827\n"
     ]
    }
   ],
   "source": [
    "# Pour toutes les données\n",
    "d = ((data['SeasonLabel_x'] == 'Automne/Hiver').sum())/(data.shape[0])\n",
    "print(d)\n",
    "\n",
    "# Pour les données retournées\n",
    "dreturn = ((returndata['SeasonLabel_x'] == 'Automne/Hiver').sum())/(returndata.shape[0])\n",
    "print(dreturn)"
   ]
  },
  {
   "cell_type": "markdown",
   "metadata": {},
   "source": [
    "##### GenderLabel"
   ]
  },
  {
   "cell_type": "code",
   "execution_count": 19,
   "metadata": {},
   "outputs": [
    {
     "name": "stdout",
     "output_type": "stream",
     "text": [
      "femme\n",
      "0.350230958783\n",
      "0.427812962362\n",
      "\n",
      "homme\n",
      "0.144029270395\n",
      "0.111476489481\n",
      "\n",
      "enfant\n",
      "0.131143363097\n",
      "0.112486918552\n"
     ]
    }
   ],
   "source": [
    "print('femme')\n",
    "# Pour toutes les données\n",
    "d = ((data['GenderLabel'] == 'Femme').sum())/(data.shape[0])\n",
    "print(d)\n",
    "\n",
    "# Pour les données retournées\n",
    "dreturn = ((returndata['GenderLabel'] == 'Femme').sum())/(returndata.shape[0])\n",
    "print(dreturn)\n",
    "\n",
    "print('\\nhomme')\n",
    "# Pour toutes les données\n",
    "d = ((data['GenderLabel'] == 'Homme').sum())/(data.shape[0])\n",
    "print(d)\n",
    "\n",
    "# Pour les données retournées\n",
    "dreturn = ((returndata['GenderLabel'] == 'Homme').sum())/(returndata.shape[0])\n",
    "print(dreturn)\n",
    "\n",
    "print('\\nenfant')\n",
    "# Pour toutes les données\n",
    "d = ((data['GenderLabel'] == 'Enfant').sum())/(data.shape[0])\n",
    "print(d)\n",
    "\n",
    "# Pour les données retournées\n",
    "dreturn = ((returndata['GenderLabel'] == 'Enfant').sum())/(returndata.shape[0])\n",
    "print(dreturn)"
   ]
  },
  {
   "cell_type": "markdown",
   "metadata": {},
   "source": [
    "###### Size advice description"
   ]
  },
  {
   "cell_type": "code",
   "execution_count": 15,
   "metadata": {},
   "outputs": [
    {
     "name": "stdout",
     "output_type": "stream",
     "text": [
      "0.40445989375\n",
      "0.406142867453\n"
     ]
    }
   ],
   "source": [
    "# Pour toutes les données\n",
    "d = ((data['SizeAdviceDescription'] == 1).sum())/(data.shape[0])\n",
    "print(d)\n",
    "\n",
    "# Pour les données retournées\n",
    "dreturn = ((returndata['SizeAdviceDescription'] == 1).sum())/(returndata.shape[0])\n",
    "print(dreturn)"
   ]
  },
  {
   "cell_type": "markdown",
   "metadata": {},
   "source": [
    "###### UniverseLabel"
   ]
  },
  {
   "cell_type": "code",
   "execution_count": 133,
   "metadata": {},
   "outputs": [
    {
     "data": {
      "image/png": "[encoded data removed]",
      "text/plain": [
       "<matplotlib.figure.Figure at 0x1a1c785ac8>"
      ]
     },
     "metadata": {},
     "output_type": "display_data"
    }
   ],
   "source": [
    "histogramme('UniverseLabel')"
   ]
  },
  {
   "cell_type": "markdown",
   "metadata": {},
   "source": [
    "###### Product Type"
   ]
  },
  {
   "cell_type": "code",
   "execution_count": 105,
   "metadata": {},
   "outputs": [
    {
     "name": "stdout",
     "output_type": "stream",
     "text": [
      "<bound method Index.tolist of Index(['Bagages', 'Ballerines', 'Baskets', 'Bottes', 'Bottines et boots',\n",
      "       'Business', 'Ceintures', 'Chaussettes et collants', 'Chaussons',\n",
      "       'Chaussures de sport', 'Chaussures Ã  lacets', 'Chaussures Ã  scratch',\n",
      "       'Divers', 'Escarpins', 'Espadrilles', 'Isotherme', 'Lacets',\n",
      "       'Mocassins', 'Mules et sabots', 'Petite Maroquinerie',\n",
      "       'Produits d'entretien', 'Sacs de sport', 'Sacs homme',\n",
      "       'Sacs ordinateur', 'Sacs pochettes', 'Sacs Ã  dos', 'Sacs Ã  main',\n",
      "       'Sandales et nu-pieds', 'Scolaire', 'Semelles', 'Tongs'],\n",
      "      dtype='object', name='ProductType')>\n",
      "(1, 31)\n",
      "[  7.01403097e-04   7.73624333e-02   2.63491823e-01   4.64293926e-02\n",
      "   1.35580346e-01   1.55705667e-04   3.59432708e-04   4.05998888e-04\n",
      "   1.11103997e-02   5.78599347e-02   5.85642482e-02   8.37027099e-03\n",
      "   5.38421465e-05   7.05695917e-02   8.08068755e-03   7.13044642e-05\n",
      "   7.69797175e-04   2.59460938e-02   1.35769521e-02   2.87837205e-03\n",
      "   5.84987645e-03   8.74571082e-04   1.10740199e-03   1.03318713e-04\n",
      "   1.50758010e-03   1.29657709e-03   1.36642637e-02   1.49765568e-01\n",
      "   4.13274854e-04   1.91648938e-03   4.11630486e-02]\n"
     ]
    }
   ],
   "source": [
    "d = pd.crosstab(data['one'],data['ProductType'],normalize='index')\n",
    "#d.iloc[0].plot.bar()\n",
    "print(d.columns.tolist)\n",
    "print(d.shape)\n",
    "print(d.values[0])"
   ]
  },
  {
   "cell_type": "code",
   "execution_count": 104,
   "metadata": {},
   "outputs": [],
   "source": [
    "returnd = pd.crosstab(returndata['one'],returndata['ProductType'],normalize='index')"
   ]
  },
  {
   "cell_type": "code",
   "execution_count": 109,
   "metadata": {},
   "outputs": [
    {
     "data": {
      "image/png": "[encoded data removed]",
      "text/plain": [
       "<matplotlib.figure.Figure at 0x1a1e942278>"
      ]
     },
     "metadata": {},
     "output_type": "display_data"
    }
   ],
   "source": [
    "# Plot the scores\n",
    "N = d.shape[1]\n",
    "ind = np.arange(N)  # the x locations for the groups\n",
    "width = 0.35       # the width of the bars\n",
    "\n",
    "sns.set(style='darkgrid')\n",
    "fig, ax = plt.subplots(figsize=(20, 10))\n",
    "\n",
    "rects1 = ax.bar(ind, d.values[0], width, color='indianred')\n",
    "rects2 = ax.bar(ind + width, returnd.values[0], width, color='seagreen')\n",
    "\n",
    "# add some text for labels, title and axes ticks\n",
    "ax.set_ylabel('Ratio')\n",
    "ax.set_title('Ratio for data and returned data')\n",
    "ax.set_xticks(ind + width / 2)\n",
    "ax.set_xticklabels(['Bagages', 'Ballerines', 'Baskets', 'Bottes', 'Bottines et boots',\n",
    "       'Business', 'Ceintures', 'Chaussettes et collants', 'Chaussons',\n",
    "       'Chaussures de sport', 'Chaussures Ã  lacets', 'Chaussures Ã  scratch',\n",
    "       'Divers', 'Escarpins', 'Espadrilles', 'Isotherme', 'Lacets',\n",
    "       'Mocassins', 'Mules et sabots', 'Petite Maroquinerie',\n",
    "       'Produits d entretien', 'Sacs de sport', 'Sacs homme',\n",
    "       'Sacs ordinateur', 'Sacs pochettes', 'Sacs Ã  dos', 'Sacs Ã  main',\n",
    "       'Sandales et nu-pieds', 'Scolaire', 'Semelles', 'Tongs'],rotation=90)\n",
    "ax.legend((rects1[0], rects2[0]), ('Data', 'Return Data'))\n",
    "\n",
    "\n",
    "def autolabel(rects):\n",
    "    \"\"\"\n",
    "    Attach a text label above each bar displaying its height\n",
    "    \"\"\"\n",
    "    for rect in rects:\n",
    "        height = rect.get_height()\n",
    "        ax.text(rect.get_x() + rect.get_width()/2., 1.005*height,\n",
    "                '%f' %height,\n",
    "                ha='center', va='bottom')\n",
    "\n",
    "autolabel(rects1)\n",
    "autolabel(rects2)\n",
    "\n",
    "plt.show()"
   ]
  },
  {
   "cell_type": "markdown",
   "metadata": {},
   "source": [
    "# Customers"
   ]
  },
  {
   "cell_type": "markdown",
   "metadata": {},
   "source": [
    "##### FirstOrderDate"
   ]
  },
  {
   "cell_type": "code",
   "execution_count": 134,
   "metadata": {},
   "outputs": [
    {
     "data": {
      "image/png": "[encoded data removed]",
      "text/plain": [
       "<matplotlib.figure.Figure at 0x1a1e201fd0>"
      ]
     },
     "metadata": {},
     "output_type": "display_data"
    }
   ],
   "source": [
    "histogramme('FirstOrderDate')"
   ]
  },
  {
   "cell_type": "markdown",
   "metadata": {},
   "source": [
    "##### Modification age/orderdate"
   ]
  },
  {
   "cell_type": "code",
   "execution_count": 24,
   "metadata": {},
   "outputs": [
    {
     "data": {
      "text/html": [
       "<div>\n",
       "<style>\n",
       "    .dataframe thead tr:only-child th {\n",
       "        text-align: right;\n",
       "    }\n",
       "\n",
       "    .dataframe thead th {\n",
       "        text-align: left;\n",
       "    }\n",
       "\n",
       "    .dataframe tbody tr th {\n",
       "        vertical-align: top;\n",
       "    }\n",
       "</style>\n",
       "<table border=\"1\" class=\"dataframe\">\n",
       "  <thead>\n",
       "    <tr style=\"text-align: right;\">\n",
       "      <th></th>\n",
       "      <th>CustomerId</th>\n",
       "      <th>CountryISOCode</th>\n",
       "      <th>BirthDate</th>\n",
       "      <th>Gender</th>\n",
       "      <th>FirstOrderDate</th>\n",
       "    </tr>\n",
       "  </thead>\n",
       "  <tbody>\n",
       "    <tr>\n",
       "      <th>0</th>\n",
       "      <td>14089083.0</td>\n",
       "      <td>SE</td>\n",
       "      <td>1979-02-05 00:00:00</td>\n",
       "      <td>Femme</td>\n",
       "      <td>2013-03-16 23:00:05</td>\n",
       "    </tr>\n",
       "    <tr>\n",
       "      <th>1</th>\n",
       "      <td>12862066.0</td>\n",
       "      <td>FR</td>\n",
       "      <td>1982-08-04 00:00:00</td>\n",
       "      <td>Femme</td>\n",
       "      <td>2012-02-14 17:47:33</td>\n",
       "    </tr>\n",
       "    <tr>\n",
       "      <th>2</th>\n",
       "      <td>14791699.0</td>\n",
       "      <td>FR</td>\n",
       "      <td>1965-04-02 00:00:00</td>\n",
       "      <td>Femme</td>\n",
       "      <td>2013-10-04 23:10:42</td>\n",
       "    </tr>\n",
       "    <tr>\n",
       "      <th>3</th>\n",
       "      <td>10794664.0</td>\n",
       "      <td>FR</td>\n",
       "      <td>1966-04-09 00:00:00</td>\n",
       "      <td>Femme</td>\n",
       "      <td>2010-03-25 18:46:59</td>\n",
       "    </tr>\n",
       "    <tr>\n",
       "      <th>4</th>\n",
       "      <td>15268576.0</td>\n",
       "      <td>ES</td>\n",
       "      <td>1980-04-22 00:00:00</td>\n",
       "      <td>Femme</td>\n",
       "      <td>2014-03-19 10:48:39</td>\n",
       "    </tr>\n",
       "  </tbody>\n",
       "</table>\n",
       "</div>"
      ],
      "text/plain": [
       "   CustomerId CountryISOCode            BirthDate Gender       FirstOrderDate\n",
       "0  14089083.0             SE  1979-02-05 00:00:00  Femme  2013-03-16 23:00:05\n",
       "1  12862066.0             FR  1982-08-04 00:00:00  Femme  2012-02-14 17:47:33\n",
       "2  14791699.0             FR  1965-04-02 00:00:00  Femme  2013-10-04 23:10:42\n",
       "3  10794664.0             FR  1966-04-09 00:00:00  Femme  2010-03-25 18:46:59\n",
       "4  15268576.0             ES  1980-04-22 00:00:00  Femme  2014-03-19 10:48:39"
      ]
     },
     "execution_count": 24,
     "metadata": {},
     "output_type": "execute_result"
    }
   ],
   "source": [
    "customers.head()"
   ]
  },
  {
   "cell_type": "markdown",
   "metadata": {},
   "source": [
    "###### Age"
   ]
  },
  {
   "cell_type": "code",
   "execution_count": 8,
   "metadata": {},
   "outputs": [
    {
     "name": "stdout",
     "output_type": "stream",
     "text": [
      "10\n"
     ]
    }
   ],
   "source": [
    "age1015 = (data['BirthDate']>10) & (data['BirthDate']<15)\n",
    "age1520 = (data['BirthDate']>15) & (data['BirthDate']<20)\n",
    "age2025 = (data['BirthDate']>20) & (data['BirthDate']<25)\n",
    "age2530 = (data['BirthDate']>25) & (data['BirthDate']<30)\n",
    "age3035 = (data['BirthDate']>30) & (data['BirthDate']<35)\n",
    "age3540 = (data['BirthDate']>35) & (data['BirthDate']<40)\n",
    "age4045 = (data['BirthDate']>40) & (data['BirthDate']<45)\n",
    "age4550 = (data['BirthDate']>45) & (data['BirthDate']<50)\n",
    "age5055 = (data['BirthDate']>50) & (data['BirthDate']<55)\n",
    "age5560 = (data['BirthDate']>55) & (data['BirthDate']<60)\n",
    "    \n",
    "age = [age1015,age1520,age2025,age2530,age3035,age3540,age4045,age4550,age5055,age5560]\n",
    "\n",
    "returnage1015 = (returndata['BirthDate']>10) & (returndata['BirthDate']<15)\n",
    "returnage1520 = (returndata['BirthDate']>15) & (returndata['BirthDate']<20)\n",
    "returnage2025 = (returndata['BirthDate']>20) & (returndata['BirthDate']<25)\n",
    "returnage2530 = (returndata['BirthDate']>25) & (returndata['BirthDate']<30)\n",
    "returnage3035 = (returndata['BirthDate']>30) & (returndata['BirthDate']<35)\n",
    "returnage3540 = (returndata['BirthDate']>35) & (returndata['BirthDate']<40)\n",
    "returnage4045 = (returndata['BirthDate']>40) & (returndata['BirthDate']<45)\n",
    "returnage4550 = (returndata['BirthDate']>45) & (returndata['BirthDate']<50)\n",
    "returnage5055 = (returndata['BirthDate']>50) & (returndata['BirthDate']<55)\n",
    "returnage5560 = (returndata['BirthDate']>55) & (returndata['BirthDate']<60)\n",
    "    \n",
    "returnage = [returnage1015,returnage1520,returnage2025,returnage2530,returnage3035,returnage3540,returnage4045,returnage4550,returnage5055,returnage5560]\n",
    "\n",
    "ratio = []\n",
    "ratioreturn = []\n",
    "for j in range (len(ratio)):\n",
    "    #print('\\nAge du consomateur entre :%f et %f',%(10+5*j) %(10+5*(j+1)))\n",
    "    ratio.append(age[j].sum()/(data.shape[0]))\n",
    "    ratioreturn.append(returnage[j].sum()/(returndata.shape[0]))"
   ]
  },
  {
   "cell_type": "code",
   "execution_count": 11,
   "metadata": {},
   "outputs": [
    {
     "data": {
      "image/png": "[encoded data removed]",
      "text/plain": [
       "<matplotlib.figure.Figure at 0x1a1ab560f0>"
      ]
     },
     "metadata": {},
     "output_type": "display_data"
    }
   ],
   "source": [
    "# Plot the scores\n",
    "N = len(ratio)\n",
    "ind = np.arange(N)  # the x locations for the groups\n",
    "width = 0.35       # the width of the bars\n",
    "\n",
    "sns.set(style='darkgrid')\n",
    "fig, ax = plt.subplots(figsize=(12, 8))\n",
    "\n",
    "rects1 = ax.bar(ind, ratio, width, color='indianred')\n",
    "rects2 = ax.bar(ind + width, ratioreturn, width, color='seagreen')\n",
    "\n",
    "# add some text for labels, title and axes ticks\n",
    "ax.set_ylabel('Ratio')\n",
    "ax.set_title('Ratio for data and returned data')\n",
    "ax.set_xticks(ind + width / 2)\n",
    "ax.set_xticklabels(('10-15', '15-20', '20-25', '25-30','30-35','35-40','40-45','45-50','50-55','55-60'))\n",
    "ax.legend((rects1[0], rects2[0]), ('Data', 'Return Data'))\n",
    "\n",
    "\n",
    "def autolabel(rects):\n",
    "    \"\"\"\n",
    "    Attach a text label above each bar displaying its height\n",
    "    \"\"\"\n",
    "    for rect in rects:\n",
    "        height = rect.get_height()\n",
    "        ax.text(rect.get_x() + rect.get_width()/2., 1.005*height,\n",
    "                '%f' %height,\n",
    "                ha='center', va='bottom')\n",
    "\n",
    "autolabel(rects1)\n",
    "autolabel(rects2)\n",
    "\n",
    "plt.show()"
   ]
  },
  {
   "cell_type": "markdown",
   "metadata": {},
   "source": [
    "##### Country ISO CODE"
   ]
  },
  {
   "cell_type": "code",
   "execution_count": 16,
   "metadata": {},
   "outputs": [
    {
     "data": {
      "text/html": [
       "<div>\n",
       "<style>\n",
       "    .dataframe thead tr:only-child th {\n",
       "        text-align: right;\n",
       "    }\n",
       "\n",
       "    .dataframe thead th {\n",
       "        text-align: left;\n",
       "    }\n",
       "\n",
       "    .dataframe tbody tr th {\n",
       "        vertical-align: top;\n",
       "    }\n",
       "</style>\n",
       "<table border=\"1\" class=\"dataframe\">\n",
       "  <thead>\n",
       "    <tr style=\"text-align: right;\">\n",
       "      <th>CountryISOCode</th>\n",
       "      <th>AT</th>\n",
       "      <th>BE</th>\n",
       "      <th>BG</th>\n",
       "      <th>CZ</th>\n",
       "      <th>DE</th>\n",
       "      <th>DK</th>\n",
       "      <th>EE</th>\n",
       "      <th>ES</th>\n",
       "      <th>FI</th>\n",
       "      <th>FR</th>\n",
       "      <th>...</th>\n",
       "      <th>LT</th>\n",
       "      <th>LU</th>\n",
       "      <th>LV</th>\n",
       "      <th>NL</th>\n",
       "      <th>PL</th>\n",
       "      <th>PT</th>\n",
       "      <th>RO</th>\n",
       "      <th>SE</th>\n",
       "      <th>SI</th>\n",
       "      <th>SK</th>\n",
       "    </tr>\n",
       "    <tr>\n",
       "      <th>Gender</th>\n",
       "      <th></th>\n",
       "      <th></th>\n",
       "      <th></th>\n",
       "      <th></th>\n",
       "      <th></th>\n",
       "      <th></th>\n",
       "      <th></th>\n",
       "      <th></th>\n",
       "      <th></th>\n",
       "      <th></th>\n",
       "      <th></th>\n",
       "      <th></th>\n",
       "      <th></th>\n",
       "      <th></th>\n",
       "      <th></th>\n",
       "      <th></th>\n",
       "      <th></th>\n",
       "      <th></th>\n",
       "      <th></th>\n",
       "      <th></th>\n",
       "      <th></th>\n",
       "    </tr>\n",
       "  </thead>\n",
       "  <tbody>\n",
       "    <tr>\n",
       "      <th>Femme</th>\n",
       "      <td>0.72679</td>\n",
       "      <td>0.836421</td>\n",
       "      <td>0.863636</td>\n",
       "      <td>0.980198</td>\n",
       "      <td>0.801984</td>\n",
       "      <td>0.801681</td>\n",
       "      <td>0.92</td>\n",
       "      <td>0.764643</td>\n",
       "      <td>0.880478</td>\n",
       "      <td>0.820193</td>\n",
       "      <td>...</td>\n",
       "      <td>0.9</td>\n",
       "      <td>0.869467</td>\n",
       "      <td>0.85</td>\n",
       "      <td>0.823275</td>\n",
       "      <td>0.832692</td>\n",
       "      <td>0.785714</td>\n",
       "      <td>0.72973</td>\n",
       "      <td>0.736024</td>\n",
       "      <td>0.657143</td>\n",
       "      <td>0.694444</td>\n",
       "    </tr>\n",
       "    <tr>\n",
       "      <th>Homme</th>\n",
       "      <td>0.27321</td>\n",
       "      <td>0.163579</td>\n",
       "      <td>0.136364</td>\n",
       "      <td>0.019802</td>\n",
       "      <td>0.198016</td>\n",
       "      <td>0.198319</td>\n",
       "      <td>0.08</td>\n",
       "      <td>0.235357</td>\n",
       "      <td>0.119522</td>\n",
       "      <td>0.179804</td>\n",
       "      <td>...</td>\n",
       "      <td>0.1</td>\n",
       "      <td>0.130533</td>\n",
       "      <td>0.15</td>\n",
       "      <td>0.176725</td>\n",
       "      <td>0.167308</td>\n",
       "      <td>0.214286</td>\n",
       "      <td>0.27027</td>\n",
       "      <td>0.263976</td>\n",
       "      <td>0.342857</td>\n",
       "      <td>0.305556</td>\n",
       "    </tr>\n",
       "    <tr>\n",
       "      <th>NC</th>\n",
       "      <td>0.00000</td>\n",
       "      <td>0.000000</td>\n",
       "      <td>0.000000</td>\n",
       "      <td>0.000000</td>\n",
       "      <td>0.000000</td>\n",
       "      <td>0.000000</td>\n",
       "      <td>0.00</td>\n",
       "      <td>0.000000</td>\n",
       "      <td>0.000000</td>\n",
       "      <td>0.000003</td>\n",
       "      <td>...</td>\n",
       "      <td>0.0</td>\n",
       "      <td>0.000000</td>\n",
       "      <td>0.00</td>\n",
       "      <td>0.000000</td>\n",
       "      <td>0.000000</td>\n",
       "      <td>0.000000</td>\n",
       "      <td>0.00000</td>\n",
       "      <td>0.000000</td>\n",
       "      <td>0.000000</td>\n",
       "      <td>0.000000</td>\n",
       "    </tr>\n",
       "  </tbody>\n",
       "</table>\n",
       "<p>3 rows × 25 columns</p>\n",
       "</div>"
      ],
      "text/plain": [
       "CountryISOCode       AT        BE        BG        CZ        DE        DK  \\\n",
       "Gender                                                                      \n",
       "Femme           0.72679  0.836421  0.863636  0.980198  0.801984  0.801681   \n",
       "Homme           0.27321  0.163579  0.136364  0.019802  0.198016  0.198319   \n",
       "NC              0.00000  0.000000  0.000000  0.000000  0.000000  0.000000   \n",
       "\n",
       "CountryISOCode    EE        ES        FI        FR    ...      LT        LU  \\\n",
       "Gender                                                ...                     \n",
       "Femme           0.92  0.764643  0.880478  0.820193    ...     0.9  0.869467   \n",
       "Homme           0.08  0.235357  0.119522  0.179804    ...     0.1  0.130533   \n",
       "NC              0.00  0.000000  0.000000  0.000003    ...     0.0  0.000000   \n",
       "\n",
       "CountryISOCode    LV        NL        PL        PT       RO        SE  \\\n",
       "Gender                                                                  \n",
       "Femme           0.85  0.823275  0.832692  0.785714  0.72973  0.736024   \n",
       "Homme           0.15  0.176725  0.167308  0.214286  0.27027  0.263976   \n",
       "NC              0.00  0.000000  0.000000  0.000000  0.00000  0.000000   \n",
       "\n",
       "CountryISOCode        SI        SK  \n",
       "Gender                              \n",
       "Femme           0.657143  0.694444  \n",
       "Homme           0.342857  0.305556  \n",
       "NC              0.000000  0.000000  \n",
       "\n",
       "[3 rows x 25 columns]"
      ]
     },
     "execution_count": 16,
     "metadata": {},
     "output_type": "execute_result"
    }
   ],
   "source": [
    "pd.crosstab(data['Gender'],data['CountryISOCode'],normalize='columns')"
   ]
  },
  {
   "cell_type": "code",
   "execution_count": 17,
   "metadata": {},
   "outputs": [
    {
     "data": {
      "text/html": [
       "<div>\n",
       "<style>\n",
       "    .dataframe thead tr:only-child th {\n",
       "        text-align: right;\n",
       "    }\n",
       "\n",
       "    .dataframe thead th {\n",
       "        text-align: left;\n",
       "    }\n",
       "\n",
       "    .dataframe tbody tr th {\n",
       "        vertical-align: top;\n",
       "    }\n",
       "</style>\n",
       "<table border=\"1\" class=\"dataframe\">\n",
       "  <thead>\n",
       "    <tr style=\"text-align: right;\">\n",
       "      <th>CountryISOCode</th>\n",
       "      <th>AT</th>\n",
       "      <th>BE</th>\n",
       "      <th>BG</th>\n",
       "      <th>CZ</th>\n",
       "      <th>DE</th>\n",
       "      <th>DK</th>\n",
       "      <th>EE</th>\n",
       "      <th>ES</th>\n",
       "      <th>FI</th>\n",
       "      <th>FR</th>\n",
       "      <th>...</th>\n",
       "      <th>LT</th>\n",
       "      <th>LU</th>\n",
       "      <th>LV</th>\n",
       "      <th>NL</th>\n",
       "      <th>PL</th>\n",
       "      <th>PT</th>\n",
       "      <th>RO</th>\n",
       "      <th>SE</th>\n",
       "      <th>SI</th>\n",
       "      <th>SK</th>\n",
       "    </tr>\n",
       "    <tr>\n",
       "      <th>Gender</th>\n",
       "      <th></th>\n",
       "      <th></th>\n",
       "      <th></th>\n",
       "      <th></th>\n",
       "      <th></th>\n",
       "      <th></th>\n",
       "      <th></th>\n",
       "      <th></th>\n",
       "      <th></th>\n",
       "      <th></th>\n",
       "      <th></th>\n",
       "      <th></th>\n",
       "      <th></th>\n",
       "      <th></th>\n",
       "      <th></th>\n",
       "      <th></th>\n",
       "      <th></th>\n",
       "      <th></th>\n",
       "      <th></th>\n",
       "      <th></th>\n",
       "      <th></th>\n",
       "    </tr>\n",
       "  </thead>\n",
       "  <tbody>\n",
       "    <tr>\n",
       "      <th>Femme</th>\n",
       "      <td>0.759615</td>\n",
       "      <td>0.88563</td>\n",
       "      <td>1.0</td>\n",
       "      <td>1.0</td>\n",
       "      <td>0.84154</td>\n",
       "      <td>0.859784</td>\n",
       "      <td>1.0</td>\n",
       "      <td>0.810058</td>\n",
       "      <td>0.931818</td>\n",
       "      <td>0.862718</td>\n",
       "      <td>...</td>\n",
       "      <td>1.0</td>\n",
       "      <td>0.89759</td>\n",
       "      <td>0.666667</td>\n",
       "      <td>0.873645</td>\n",
       "      <td>0.85614</td>\n",
       "      <td>0.75</td>\n",
       "      <td>0.5</td>\n",
       "      <td>0.775322</td>\n",
       "      <td>1.0</td>\n",
       "      <td>0.5</td>\n",
       "    </tr>\n",
       "    <tr>\n",
       "      <th>Homme</th>\n",
       "      <td>0.240385</td>\n",
       "      <td>0.11437</td>\n",
       "      <td>0.0</td>\n",
       "      <td>0.0</td>\n",
       "      <td>0.15846</td>\n",
       "      <td>0.140216</td>\n",
       "      <td>0.0</td>\n",
       "      <td>0.189942</td>\n",
       "      <td>0.068182</td>\n",
       "      <td>0.137275</td>\n",
       "      <td>...</td>\n",
       "      <td>0.0</td>\n",
       "      <td>0.10241</td>\n",
       "      <td>0.333333</td>\n",
       "      <td>0.126355</td>\n",
       "      <td>0.14386</td>\n",
       "      <td>0.25</td>\n",
       "      <td>0.5</td>\n",
       "      <td>0.224678</td>\n",
       "      <td>0.0</td>\n",
       "      <td>0.5</td>\n",
       "    </tr>\n",
       "    <tr>\n",
       "      <th>NC</th>\n",
       "      <td>0.000000</td>\n",
       "      <td>0.00000</td>\n",
       "      <td>0.0</td>\n",
       "      <td>0.0</td>\n",
       "      <td>0.00000</td>\n",
       "      <td>0.000000</td>\n",
       "      <td>0.0</td>\n",
       "      <td>0.000000</td>\n",
       "      <td>0.000000</td>\n",
       "      <td>0.000007</td>\n",
       "      <td>...</td>\n",
       "      <td>0.0</td>\n",
       "      <td>0.00000</td>\n",
       "      <td>0.000000</td>\n",
       "      <td>0.000000</td>\n",
       "      <td>0.00000</td>\n",
       "      <td>0.00</td>\n",
       "      <td>0.0</td>\n",
       "      <td>0.000000</td>\n",
       "      <td>0.0</td>\n",
       "      <td>0.0</td>\n",
       "    </tr>\n",
       "  </tbody>\n",
       "</table>\n",
       "<p>3 rows × 24 columns</p>\n",
       "</div>"
      ],
      "text/plain": [
       "CountryISOCode        AT       BE   BG   CZ       DE        DK   EE        ES  \\\n",
       "Gender                                                                          \n",
       "Femme           0.759615  0.88563  1.0  1.0  0.84154  0.859784  1.0  0.810058   \n",
       "Homme           0.240385  0.11437  0.0  0.0  0.15846  0.140216  0.0  0.189942   \n",
       "NC              0.000000  0.00000  0.0  0.0  0.00000  0.000000  0.0  0.000000   \n",
       "\n",
       "CountryISOCode        FI        FR ...    LT       LU        LV        NL  \\\n",
       "Gender                             ...                                      \n",
       "Femme           0.931818  0.862718 ...   1.0  0.89759  0.666667  0.873645   \n",
       "Homme           0.068182  0.137275 ...   0.0  0.10241  0.333333  0.126355   \n",
       "NC              0.000000  0.000007 ...   0.0  0.00000  0.000000  0.000000   \n",
       "\n",
       "CountryISOCode       PL    PT   RO        SE   SI   SK  \n",
       "Gender                                                  \n",
       "Femme           0.85614  0.75  0.5  0.775322  1.0  0.5  \n",
       "Homme           0.14386  0.25  0.5  0.224678  0.0  0.5  \n",
       "NC              0.00000  0.00  0.0  0.000000  0.0  0.0  \n",
       "\n",
       "[3 rows x 24 columns]"
      ]
     },
     "execution_count": 17,
     "metadata": {},
     "output_type": "execute_result"
    }
   ],
   "source": [
    "pd.crosstab(returndata['Gender'],returndata['CountryISOCode'],normalize='columns')"
   ]
  },
  {
   "cell_type": "markdown",
   "metadata": {},
   "source": [
    "Peu importe le pays, les femmes sont toujours celles qui renvoient le plus les commandes. Information inutile dans CountryISOCode ?"
   ]
  },
  {
   "cell_type": "markdown",
   "metadata": {},
   "source": [
    "###### Gender"
   ]
  },
  {
   "cell_type": "code",
   "execution_count": 16,
   "metadata": {},
   "outputs": [
    {
     "name": "stdout",
     "output_type": "stream",
     "text": [
      "homme\n",
      "0.135259395291\n",
      "0.102914907437\n",
      "\n",
      "femme\n",
      "0.605318142211\n",
      "0.635090758183\n"
     ]
    }
   ],
   "source": [
    "print('homme')\n",
    "# Pour toutes les données\n",
    "d = ((data['Gender'] == 'Homme').sum())/(data.shape[0])\n",
    "print(d)\n",
    "\n",
    "# Pour les données retournées\n",
    "dreturn = ((returndata['Gender'] == 'Homme').sum())/(returndata.shape[0])\n",
    "print(dreturn)\n",
    "\n",
    "print('\\nfemme')\n",
    "# Pour toutes les données\n",
    "d = ((data['Gender'] == 'Femme').sum())/(data.shape[0])\n",
    "print(d)\n",
    "\n",
    "# Pour les données retournées\n",
    "dreturn = ((returndata['Gender'] == 'Femme').sum())/(returndata.shape[0])\n",
    "print(dreturn)"
   ]
  },
  {
   "cell_type": "markdown",
   "metadata": {},
   "source": [
    "# Orders"
   ]
  },
  {
   "cell_type": "markdown",
   "metadata": {},
   "source": [
    "##### Customer type label"
   ]
  },
  {
   "cell_type": "code",
   "execution_count": 75,
   "metadata": {},
   "outputs": [
    {
     "name": "stdout",
     "output_type": "stream",
     "text": [
      "fidélisé\n",
      "0.576905995559\n",
      "0.616560210747\n",
      "\n",
      "nouveau\n",
      "0.423094004441\n",
      "0.383439789253\n"
     ]
    }
   ],
   "source": [
    "print('fidélisé')\n",
    "# Pour toutes les données\n",
    "d = ((data['CustomerTypeLabel'] == 'Fidélisé').sum())/(data.shape[0])\n",
    "print(d)\n",
    "\n",
    "# Pour les données retournées\n",
    "dreturn = ((returndata['CustomerTypeLabel'] == 'Fidélisé').sum())/(returndata.shape[0])\n",
    "print(dreturn)\n",
    "\n",
    "print('\\nnouveau')\n",
    "# Pour toutes les données\n",
    "d = ((data['CustomerTypeLabel'] == 'Nouveau').sum())/(data.shape[0])\n",
    "print(d)\n",
    "\n",
    "# Pour les données retournées\n",
    "dreturn = ((returndata['CustomerTypeLabel'] == 'Nouveau').sum())/(returndata.shape[0])\n",
    "print(dreturn)"
   ]
  },
  {
   "cell_type": "code",
   "execution_count": 10,
   "metadata": {},
   "outputs": [
    {
     "name": "stdout",
     "output_type": "stream",
     "text": [
      "femmes fidélisées\n",
      "0.38333255254\n",
      "0.423211901411\n"
     ]
    }
   ],
   "source": [
    "print('femmes fidélisées')\n",
    "# Pour toutes les données\n",
    "price = ((data['CustomerTypeLabel'] == 'Fidélisé') & (data['Gender'] == 'Femme')).sum()/(data.shape[0])\n",
    "print(price)\n",
    "#price = ((data['CustomerTypeLabel'] == 'Nouveau') & (data['Gender'] == 'Femme')).sum()/(data.shape[0])\n",
    "#print(price)\n",
    "\n",
    "# Pour les données retournées\n",
    "pricereturn = ((returndata['CustomerTypeLabel'] == 'Fidélisé') & (returndata['Gender'] == 'Femme')).sum()/(returndata.shape[0])\n",
    "print(pricereturn)"
   ]
  },
  {
   "cell_type": "code",
   "execution_count": 73,
   "metadata": {},
   "outputs": [
    {
     "name": "stdout",
     "output_type": "stream",
     "text": [
      "hommes non fidélisées\n",
      "0.0722802612223\n",
      "0.0513153621306\n"
     ]
    }
   ],
   "source": [
    "print('hommes non fidélisées')\n",
    "# Pour toutes les données\n",
    "price = ((data['CustomerTypeLabel'] == 'Nouveau') & (data['Gender'] == 'Homme')).sum()/(data.shape[0])\n",
    "print(price)\n",
    "\n",
    "# Pour les données retournées\n",
    "pricereturn = ((returndata['CustomerTypeLabel'] == 'Nouveau') & (returndata['Gender'] == 'Homme')).sum()/(returndata.shape[0])\n",
    "print(pricereturn)"
   ]
  },
  {
   "cell_type": "code",
   "execution_count": 22,
   "metadata": {},
   "outputs": [
    {
     "data": {
      "text/html": [
       "<div>\n",
       "<style>\n",
       "    .dataframe thead tr:only-child th {\n",
       "        text-align: right;\n",
       "    }\n",
       "\n",
       "    .dataframe thead th {\n",
       "        text-align: left;\n",
       "    }\n",
       "\n",
       "    .dataframe tbody tr th {\n",
       "        vertical-align: top;\n",
       "    }\n",
       "</style>\n",
       "<table border=\"1\" class=\"dataframe\">\n",
       "  <thead>\n",
       "    <tr style=\"text-align: right;\">\n",
       "      <th>CustomerTypeLabel</th>\n",
       "      <th>Fidélisé</th>\n",
       "      <th>Nouveau</th>\n",
       "    </tr>\n",
       "    <tr>\n",
       "      <th>Gender</th>\n",
       "      <th></th>\n",
       "      <th></th>\n",
       "    </tr>\n",
       "  </thead>\n",
       "  <tbody>\n",
       "    <tr>\n",
       "      <th>Femme</th>\n",
       "      <td>0.517612</td>\n",
       "      <td>0.299746</td>\n",
       "    </tr>\n",
       "    <tr>\n",
       "      <th>Homme</th>\n",
       "      <td>0.085040</td>\n",
       "      <td>0.097600</td>\n",
       "    </tr>\n",
       "    <tr>\n",
       "      <th>NC</th>\n",
       "      <td>0.000003</td>\n",
       "      <td>0.000000</td>\n",
       "    </tr>\n",
       "  </tbody>\n",
       "</table>\n",
       "</div>"
      ],
      "text/plain": [
       "CustomerTypeLabel  Fidélisé   Nouveau\n",
       "Gender                               \n",
       "Femme              0.517612  0.299746\n",
       "Homme              0.085040  0.097600\n",
       "NC                 0.000003  0.000000"
      ]
     },
     "execution_count": 22,
     "metadata": {},
     "output_type": "execute_result"
    }
   ],
   "source": [
    "pd.crosstab(data['Gender'],data['CustomerTypeLabel'],normalize='all')"
   ]
  },
  {
   "cell_type": "code",
   "execution_count": 23,
   "metadata": {},
   "outputs": [
    {
     "data": {
      "text/html": [
       "<div>\n",
       "<style>\n",
       "    .dataframe thead tr:only-child th {\n",
       "        text-align: right;\n",
       "    }\n",
       "\n",
       "    .dataframe thead th {\n",
       "        text-align: left;\n",
       "    }\n",
       "\n",
       "    .dataframe tbody tr th {\n",
       "        vertical-align: top;\n",
       "    }\n",
       "</style>\n",
       "<table border=\"1\" class=\"dataframe\">\n",
       "  <thead>\n",
       "    <tr style=\"text-align: right;\">\n",
       "      <th>CustomerTypeLabel</th>\n",
       "      <th>Fidélisé</th>\n",
       "      <th>Nouveau</th>\n",
       "    </tr>\n",
       "    <tr>\n",
       "      <th>Gender</th>\n",
       "      <th></th>\n",
       "      <th></th>\n",
       "    </tr>\n",
       "  </thead>\n",
       "  <tbody>\n",
       "    <tr>\n",
       "      <th>Femme</th>\n",
       "      <td>0.573450</td>\n",
       "      <td>0.287095</td>\n",
       "    </tr>\n",
       "    <tr>\n",
       "      <th>Homme</th>\n",
       "      <td>0.069917</td>\n",
       "      <td>0.069532</td>\n",
       "    </tr>\n",
       "    <tr>\n",
       "      <th>NC</th>\n",
       "      <td>0.000006</td>\n",
       "      <td>0.000000</td>\n",
       "    </tr>\n",
       "  </tbody>\n",
       "</table>\n",
       "</div>"
      ],
      "text/plain": [
       "CustomerTypeLabel  Fidélisé   Nouveau\n",
       "Gender                               \n",
       "Femme              0.573450  0.287095\n",
       "Homme              0.069917  0.069532\n",
       "NC                 0.000006  0.000000"
      ]
     },
     "execution_count": 23,
     "metadata": {},
     "output_type": "execute_result"
    }
   ],
   "source": [
    "pd.crosstab(returndata['Gender'],returndata['CustomerTypeLabel'],normalize='all')"
   ]
  },
  {
   "cell_type": "code",
   "execution_count": 152,
   "metadata": {},
   "outputs": [
    {
     "data": {
      "image/png": "[encoded data removed]",
      "text/plain": [
       "<matplotlib.figure.Figure at 0x1a50141a58>"
      ]
     },
     "metadata": {},
     "output_type": "display_data"
    }
   ],
   "source": [
    "histogramme('UpperMaterialLabel')"
   ]
  },
  {
   "cell_type": "code",
   "execution_count": null,
   "metadata": {
    "collapsed": true
   },
   "outputs": [],
   "source": []
  }
 ],
 "metadata": {
  "kernelspec": {
   "display_name": "Python 3",
   "language": "python",
   "name": "python3"
  },
  "language_info": {
   "codemirror_mode": {
    "name": "ipython",
    "version": 3
   },
   "file_extension": ".py",
   "mimetype": "text/x-python",
   "name": "python",
   "nbconvert_exporter": "python",
   "pygments_lexer": "ipython3",
   "version": "3.6.3"
  }
 },
 "nbformat": 4,
 "nbformat_minor": 2
}
