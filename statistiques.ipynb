{
 "cells": [
  {
   "cell_type": "code",
   "execution_count": 1,
   "metadata": {
    "collapsed": true
   },
   "outputs": [],
   "source": [
    "#basic python packages for plotting and array management\n",
    "import numpy as np\n",
    "import matplotlib.pyplot as plt\n",
    "import random\n",
    "\n",
    "#for data import\n",
    "import pandas as pd\n",
    "from __future__ import division\n",
    "import os\n",
    "import sys\n",
    "from importlib import reload\n",
    "reload(sys)\n",
    "\n",
    "#Preprocessing\n",
    "from sklearn import preprocessing\n",
    "from sklearn.preprocessing import StandardScaler\n",
    "from sklearn.utils import shuffle\n",
    "from sklearn.discriminant_analysis import LinearDiscriminantAnalysis\n",
    "from sklearn.decomposition import PCA\n",
    "\n",
    "#Classifiers\n",
    "from sklearn.linear_model import LogisticRegression, RidgeClassifier, RidgeClassifierCV, PassiveAggressiveClassifier, Perceptron, SGDClassifier\n",
    "from sklearn.svm import SVC\n",
    "from sklearn.neighbors import KNeighborsClassifier, NearestCentroid\n",
    "from sklearn.gaussian_process import GaussianProcessClassifier\n",
    "from sklearn.naive_bayes import GaussianNB, MultinomialNB, BernoulliNB\n",
    "from sklearn.tree import DecisionTreeClassifier, ExtraTreeClassifier\n",
    "from sklearn.neural_network import MLPClassifier\n",
    "\n",
    "#Ensemble methods and crossvalidation\n",
    "from sklearn.model_selection import GridSearchCV, cross_val_predict, cross_val_score\n",
    "from sklearn.pipeline import Pipeline\n",
    "from sklearn.ensemble import AdaBoostClassifier, BaggingClassifier, ExtraTreesClassifier, GradientBoostingClassifier,RandomForestClassifier, VotingClassifier\n",
    "\n",
    "#PostProcessing\n",
    "from sklearn.metrics import classification_report, confusion_matrix, roc_auc_score\n",
    "\n",
    "import time"
   ]
  },
  {
   "cell_type": "code",
   "execution_count": 2,
   "metadata": {
    "collapsed": true
   },
   "outputs": [],
   "source": [
    "customers = pd.read_csv(\"customers.csv\")\n",
    "products = pd.read_csv(\"products.csv\")\n",
    "X_train = pd.read_csv(\"X_train.csv\")\n",
    "X_test   = pd.read_csv(\"X_test.csv\")\n",
    "y_train = pd.read_csv(\"y_train.csv\")"
   ]
  },
  {
   "cell_type": "code",
   "execution_count": 3,
   "metadata": {
    "collapsed": true
   },
   "outputs": [],
   "source": [
    "# Preprocessing Products\n",
    "col = products['SizeAdviceDescription'].eq('Prenez votre pointure habituelle').astype('float')\n",
    "col1 = products['SizeAdviceDescription'].eq(products['SizeAdviceDescription'][7]).astype('float')\n",
    "products['SizeAdviceDescription'] = col+col1"
   ]
  },
  {
   "cell_type": "code",
   "execution_count": 4,
   "metadata": {},
   "outputs": [
    {
     "data": {
      "text/html": [
       "<div>\n",
       "<style>\n",
       "    .dataframe thead tr:only-child th {\n",
       "        text-align: right;\n",
       "    }\n",
       "\n",
       "    .dataframe thead th {\n",
       "        text-align: left;\n",
       "    }\n",
       "\n",
       "    .dataframe tbody tr th {\n",
       "        vertical-align: top;\n",
       "    }\n",
       "</style>\n",
       "<table border=\"1\" class=\"dataframe\">\n",
       "  <thead>\n",
       "    <tr style=\"text-align: right;\">\n",
       "      <th></th>\n",
       "      <th>VariantId</th>\n",
       "      <th>GenderLabel</th>\n",
       "      <th>MarketTargetLabel</th>\n",
       "      <th>SeasonLabel</th>\n",
       "      <th>SeasonalityLabel</th>\n",
       "      <th>BrandId</th>\n",
       "      <th>UniverseLabel</th>\n",
       "      <th>TypeBrand</th>\n",
       "      <th>ProductId</th>\n",
       "      <th>ProductType</th>\n",
       "      <th>...</th>\n",
       "      <th>UpperHeight</th>\n",
       "      <th>HeelHeight</th>\n",
       "      <th>PurchasePriceHT</th>\n",
       "      <th>IsNewCollection</th>\n",
       "      <th>SubtypeLabel</th>\n",
       "      <th>UpperMaterialLabel</th>\n",
       "      <th>LiningMaterialLabel</th>\n",
       "      <th>OutSoleMaterialLabel</th>\n",
       "      <th>RemovableSole</th>\n",
       "      <th>SizeAdviceDescription</th>\n",
       "    </tr>\n",
       "  </thead>\n",
       "  <tbody>\n",
       "    <tr>\n",
       "      <th>0</th>\n",
       "      <td>728257.0</td>\n",
       "      <td>Homme</td>\n",
       "      <td>Classique</td>\n",
       "      <td>Automne/Hiver</td>\n",
       "      <td>Saisonnier</td>\n",
       "      <td>66.0</td>\n",
       "      <td>DÃ©tente</td>\n",
       "      <td>Standard</td>\n",
       "      <td>17267.0</td>\n",
       "      <td>Baskets</td>\n",
       "      <td>...</td>\n",
       "      <td>NaN</td>\n",
       "      <td>0.0</td>\n",
       "      <td>30.50</td>\n",
       "      <td>0.0</td>\n",
       "      <td>Montantes</td>\n",
       "      <td>NaN</td>\n",
       "      <td>NaN</td>\n",
       "      <td>NaN</td>\n",
       "      <td>False</td>\n",
       "      <td>0.0</td>\n",
       "    </tr>\n",
       "    <tr>\n",
       "      <th>1</th>\n",
       "      <td>806356.0</td>\n",
       "      <td>Femme</td>\n",
       "      <td>ND</td>\n",
       "      <td>Automne/Hiver</td>\n",
       "      <td>Saisonnier</td>\n",
       "      <td>842.0</td>\n",
       "      <td>ND</td>\n",
       "      <td>Standard</td>\n",
       "      <td>30824.0</td>\n",
       "      <td>Baskets</td>\n",
       "      <td>...</td>\n",
       "      <td>0.0</td>\n",
       "      <td>0.0</td>\n",
       "      <td>43.00</td>\n",
       "      <td>0.0</td>\n",
       "      <td>Montantes</td>\n",
       "      <td>NaN</td>\n",
       "      <td>NaN</td>\n",
       "      <td>NaN</td>\n",
       "      <td>True</td>\n",
       "      <td>1.0</td>\n",
       "    </tr>\n",
       "    <tr>\n",
       "      <th>2</th>\n",
       "      <td>768790.0</td>\n",
       "      <td>Femme</td>\n",
       "      <td>ND</td>\n",
       "      <td>Automne/Hiver</td>\n",
       "      <td>Reconduit</td>\n",
       "      <td>988.0</td>\n",
       "      <td>Ville</td>\n",
       "      <td>Standard</td>\n",
       "      <td>62475.0</td>\n",
       "      <td>Bottines et boots</td>\n",
       "      <td>...</td>\n",
       "      <td>6.0</td>\n",
       "      <td>3.0</td>\n",
       "      <td>54.90</td>\n",
       "      <td>0.0</td>\n",
       "      <td>Bout pointu</td>\n",
       "      <td>NaN</td>\n",
       "      <td>NaN</td>\n",
       "      <td>NaN</td>\n",
       "      <td>False</td>\n",
       "      <td>1.0</td>\n",
       "    </tr>\n",
       "    <tr>\n",
       "      <th>3</th>\n",
       "      <td>515679.0</td>\n",
       "      <td>Femme</td>\n",
       "      <td>ND</td>\n",
       "      <td>Automne/Hiver</td>\n",
       "      <td>Saisonnier</td>\n",
       "      <td>769.0</td>\n",
       "      <td>Ville</td>\n",
       "      <td>Standard</td>\n",
       "      <td>43983.0</td>\n",
       "      <td>Escarpins</td>\n",
       "      <td>...</td>\n",
       "      <td>0.0</td>\n",
       "      <td>13.0</td>\n",
       "      <td>34.50</td>\n",
       "      <td>0.0</td>\n",
       "      <td>Bout rond</td>\n",
       "      <td>NaN</td>\n",
       "      <td>NaN</td>\n",
       "      <td>NaN</td>\n",
       "      <td>False</td>\n",
       "      <td>1.0</td>\n",
       "    </tr>\n",
       "    <tr>\n",
       "      <th>4</th>\n",
       "      <td>1025246.0</td>\n",
       "      <td>Femme</td>\n",
       "      <td>ND</td>\n",
       "      <td>Automne/Hiver</td>\n",
       "      <td>Saisonnier</td>\n",
       "      <td>1244.0</td>\n",
       "      <td>ND</td>\n",
       "      <td>Standard</td>\n",
       "      <td>81493.0</td>\n",
       "      <td>Bottines et boots</td>\n",
       "      <td>...</td>\n",
       "      <td>8.0</td>\n",
       "      <td>4.0</td>\n",
       "      <td>43.76</td>\n",
       "      <td>0.0</td>\n",
       "      <td>Bout rond</td>\n",
       "      <td>NaN</td>\n",
       "      <td>NaN</td>\n",
       "      <td>NaN</td>\n",
       "      <td>False</td>\n",
       "      <td>1.0</td>\n",
       "    </tr>\n",
       "  </tbody>\n",
       "</table>\n",
       "<p>5 rows × 25 columns</p>\n",
       "</div>"
      ],
      "text/plain": [
       "   VariantId GenderLabel MarketTargetLabel    SeasonLabel SeasonalityLabel  \\\n",
       "0   728257.0       Homme         Classique  Automne/Hiver       Saisonnier   \n",
       "1   806356.0       Femme                ND  Automne/Hiver       Saisonnier   \n",
       "2   768790.0       Femme                ND  Automne/Hiver        Reconduit   \n",
       "3   515679.0       Femme                ND  Automne/Hiver       Saisonnier   \n",
       "4  1025246.0       Femme                ND  Automne/Hiver       Saisonnier   \n",
       "\n",
       "   BrandId UniverseLabel TypeBrand  ProductId        ProductType  \\\n",
       "0     66.0      DÃ©tente  Standard    17267.0            Baskets   \n",
       "1    842.0            ND  Standard    30824.0            Baskets   \n",
       "2    988.0         Ville  Standard    62475.0  Bottines et boots   \n",
       "3    769.0         Ville  Standard    43983.0          Escarpins   \n",
       "4   1244.0            ND  Standard    81493.0  Bottines et boots   \n",
       "\n",
       "           ...          UpperHeight  HeelHeight  PurchasePriceHT  \\\n",
       "0          ...                  NaN         0.0            30.50   \n",
       "1          ...                  0.0         0.0            43.00   \n",
       "2          ...                  6.0         3.0            54.90   \n",
       "3          ...                  0.0        13.0            34.50   \n",
       "4          ...                  8.0         4.0            43.76   \n",
       "\n",
       "   IsNewCollection  SubtypeLabel  UpperMaterialLabel  LiningMaterialLabel  \\\n",
       "0              0.0     Montantes                 NaN                  NaN   \n",
       "1              0.0     Montantes                 NaN                  NaN   \n",
       "2              0.0   Bout pointu                 NaN                  NaN   \n",
       "3              0.0     Bout rond                 NaN                  NaN   \n",
       "4              0.0     Bout rond                 NaN                  NaN   \n",
       "\n",
       "   OutSoleMaterialLabel  RemovableSole SizeAdviceDescription  \n",
       "0                   NaN          False                   0.0  \n",
       "1                   NaN           True                   1.0  \n",
       "2                   NaN          False                   1.0  \n",
       "3                   NaN          False                   1.0  \n",
       "4                   NaN          False                   1.0  \n",
       "\n",
       "[5 rows x 25 columns]"
      ]
     },
     "execution_count": 4,
     "metadata": {},
     "output_type": "execute_result"
    }
   ],
   "source": [
    "products.head()"
   ]
  },
  {
   "cell_type": "code",
   "execution_count": 5,
   "metadata": {
    "collapsed": true
   },
   "outputs": [],
   "source": [
    "index = pd.DataFrame({'index':np.arange(X_train.shape[0])})\n",
    "X_train['index']=index # Evite les duplicata\n",
    "y_train['index']=index"
   ]
  },
  {
   "cell_type": "code",
   "execution_count": 6,
   "metadata": {},
   "outputs": [
    {
     "data": {
      "text/html": [
       "<div>\n",
       "<style>\n",
       "    .dataframe thead tr:only-child th {\n",
       "        text-align: right;\n",
       "    }\n",
       "\n",
       "    .dataframe thead th {\n",
       "        text-align: left;\n",
       "    }\n",
       "\n",
       "    .dataframe tbody tr th {\n",
       "        vertical-align: top;\n",
       "    }\n",
       "</style>\n",
       "<table border=\"1\" class=\"dataframe\">\n",
       "  <thead>\n",
       "    <tr style=\"text-align: right;\">\n",
       "      <th></th>\n",
       "      <th>OrderNumber_x</th>\n",
       "      <th>LineItem_x</th>\n",
       "      <th>ReturnQuantity</th>\n",
       "      <th>ReturnQuantityBin</th>\n",
       "      <th>index</th>\n",
       "      <th>OrderNumber_y</th>\n",
       "      <th>VariantId</th>\n",
       "      <th>LineItem_y</th>\n",
       "      <th>CustomerId</th>\n",
       "      <th>OrderStatusLabel</th>\n",
       "      <th>...</th>\n",
       "      <th>SubtypeLabel</th>\n",
       "      <th>UpperMaterialLabel</th>\n",
       "      <th>LiningMaterialLabel</th>\n",
       "      <th>OutSoleMaterialLabel</th>\n",
       "      <th>RemovableSole</th>\n",
       "      <th>SizeAdviceDescription</th>\n",
       "      <th>CountryISOCode</th>\n",
       "      <th>BirthDate</th>\n",
       "      <th>Gender</th>\n",
       "      <th>FirstOrderDate</th>\n",
       "    </tr>\n",
       "  </thead>\n",
       "  <tbody>\n",
       "    <tr>\n",
       "      <th>0</th>\n",
       "      <td>73521754</td>\n",
       "      <td>1</td>\n",
       "      <td>0.0</td>\n",
       "      <td>0.0</td>\n",
       "      <td>0</td>\n",
       "      <td>73521754</td>\n",
       "      <td>439729</td>\n",
       "      <td>1</td>\n",
       "      <td>12443972</td>\n",
       "      <td>Expédié</td>\n",
       "      <td>...</td>\n",
       "      <td>NaN</td>\n",
       "      <td>NaN</td>\n",
       "      <td>NaN</td>\n",
       "      <td>NaN</td>\n",
       "      <td>NaN</td>\n",
       "      <td>NaN</td>\n",
       "      <td>FR</td>\n",
       "      <td>1958-03-05 00:00:00</td>\n",
       "      <td>Femme</td>\n",
       "      <td>2011-10-26 12:10:48</td>\n",
       "    </tr>\n",
       "    <tr>\n",
       "      <th>1</th>\n",
       "      <td>73521754</td>\n",
       "      <td>2</td>\n",
       "      <td>0.0</td>\n",
       "      <td>0.0</td>\n",
       "      <td>1</td>\n",
       "      <td>73521754</td>\n",
       "      <td>440174</td>\n",
       "      <td>2</td>\n",
       "      <td>12443972</td>\n",
       "      <td>Expédié</td>\n",
       "      <td>...</td>\n",
       "      <td>NaN</td>\n",
       "      <td>NaN</td>\n",
       "      <td>NaN</td>\n",
       "      <td>NaN</td>\n",
       "      <td>NaN</td>\n",
       "      <td>NaN</td>\n",
       "      <td>FR</td>\n",
       "      <td>1958-03-05 00:00:00</td>\n",
       "      <td>Femme</td>\n",
       "      <td>2011-10-26 12:10:48</td>\n",
       "    </tr>\n",
       "    <tr>\n",
       "      <th>2</th>\n",
       "      <td>73525226</td>\n",
       "      <td>1</td>\n",
       "      <td>1.0</td>\n",
       "      <td>1.0</td>\n",
       "      <td>2</td>\n",
       "      <td>73525226</td>\n",
       "      <td>494501</td>\n",
       "      <td>1</td>\n",
       "      <td>12443958</td>\n",
       "      <td>Expédié</td>\n",
       "      <td>...</td>\n",
       "      <td>Bout rond</td>\n",
       "      <td>NaN</td>\n",
       "      <td>NaN</td>\n",
       "      <td>NaN</td>\n",
       "      <td>False</td>\n",
       "      <td>1.0</td>\n",
       "      <td>FR</td>\n",
       "      <td>1972-06-14 00:00:00</td>\n",
       "      <td>Femme</td>\n",
       "      <td>2011-10-26 12:11:38</td>\n",
       "    </tr>\n",
       "    <tr>\n",
       "      <th>3</th>\n",
       "      <td>73529009</td>\n",
       "      <td>1</td>\n",
       "      <td>1.0</td>\n",
       "      <td>1.0</td>\n",
       "      <td>3</td>\n",
       "      <td>73529009</td>\n",
       "      <td>439590</td>\n",
       "      <td>1</td>\n",
       "      <td>12443946</td>\n",
       "      <td>Expédié</td>\n",
       "      <td>...</td>\n",
       "      <td>NaN</td>\n",
       "      <td>NaN</td>\n",
       "      <td>NaN</td>\n",
       "      <td>NaN</td>\n",
       "      <td>NaN</td>\n",
       "      <td>NaN</td>\n",
       "      <td>FR</td>\n",
       "      <td>1970-05-14 00:00:00</td>\n",
       "      <td>Femme</td>\n",
       "      <td>2011-10-26 12:13:09</td>\n",
       "    </tr>\n",
       "    <tr>\n",
       "      <th>4</th>\n",
       "      <td>73529009</td>\n",
       "      <td>2</td>\n",
       "      <td>1.0</td>\n",
       "      <td>1.0</td>\n",
       "      <td>4</td>\n",
       "      <td>73529009</td>\n",
       "      <td>559476</td>\n",
       "      <td>2</td>\n",
       "      <td>12443946</td>\n",
       "      <td>Expédié</td>\n",
       "      <td>...</td>\n",
       "      <td>Bout rond</td>\n",
       "      <td>Cuir</td>\n",
       "      <td>NaN</td>\n",
       "      <td>NaN</td>\n",
       "      <td>False</td>\n",
       "      <td>1.0</td>\n",
       "      <td>FR</td>\n",
       "      <td>1970-05-14 00:00:00</td>\n",
       "      <td>Femme</td>\n",
       "      <td>2011-10-26 12:13:09</td>\n",
       "    </tr>\n",
       "  </tbody>\n",
       "</table>\n",
       "<p>5 rows × 53 columns</p>\n",
       "</div>"
      ],
      "text/plain": [
       "   OrderNumber_x  LineItem_x  ReturnQuantity  ReturnQuantityBin  index  \\\n",
       "0       73521754           1             0.0                0.0      0   \n",
       "1       73521754           2             0.0                0.0      1   \n",
       "2       73525226           1             1.0                1.0      2   \n",
       "3       73529009           1             1.0                1.0      3   \n",
       "4       73529009           2             1.0                1.0      4   \n",
       "\n",
       "   OrderNumber_y VariantId  LineItem_y CustomerId OrderStatusLabel  \\\n",
       "0       73521754    439729           1   12443972          Expédié   \n",
       "1       73521754    440174           2   12443972          Expédié   \n",
       "2       73525226    494501           1   12443958          Expédié   \n",
       "3       73529009    439590           1   12443946          Expédié   \n",
       "4       73529009    559476           2   12443946          Expédié   \n",
       "\n",
       "          ...          SubtypeLabel UpperMaterialLabel LiningMaterialLabel  \\\n",
       "0         ...                   NaN                NaN                 NaN   \n",
       "1         ...                   NaN                NaN                 NaN   \n",
       "2         ...             Bout rond                NaN                 NaN   \n",
       "3         ...                   NaN                NaN                 NaN   \n",
       "4         ...             Bout rond               Cuir                 NaN   \n",
       "\n",
       "  OutSoleMaterialLabel RemovableSole SizeAdviceDescription CountryISOCode  \\\n",
       "0                  NaN           NaN                   NaN             FR   \n",
       "1                  NaN           NaN                   NaN             FR   \n",
       "2                  NaN         False                   1.0             FR   \n",
       "3                  NaN           NaN                   NaN             FR   \n",
       "4                  NaN         False                   1.0             FR   \n",
       "\n",
       "             BirthDate  Gender       FirstOrderDate  \n",
       "0  1958-03-05 00:00:00   Femme  2011-10-26 12:10:48  \n",
       "1  1958-03-05 00:00:00   Femme  2011-10-26 12:10:48  \n",
       "2  1972-06-14 00:00:00   Femme  2011-10-26 12:11:38  \n",
       "3  1970-05-14 00:00:00   Femme  2011-10-26 12:13:09  \n",
       "4  1970-05-14 00:00:00   Femme  2011-10-26 12:13:09  \n",
       "\n",
       "[5 rows x 53 columns]"
      ]
     },
     "execution_count": 6,
     "metadata": {},
     "output_type": "execute_result"
    }
   ],
   "source": [
    "X_Product = pd.merge(X_train,products,how='left',on='VariantId')\n",
    "X_data = pd.merge(X_Product,customers,how='left',on='CustomerId')\n",
    "data = pd.merge(y_train,X_data,how='left',on=\"index\")\n",
    "data = data.sort_values(by='index')\n",
    "data.head()"
   ]
  },
  {
   "cell_type": "code",
   "execution_count": 7,
   "metadata": {},
   "outputs": [
    {
     "data": {
      "text/plain": [
       "array(['OrderNumber_x', 'LineItem_x', 'ReturnQuantity',\n",
       "       'ReturnQuantityBin', 'index', 'OrderNumber_y', 'VariantId',\n",
       "       'LineItem_y', 'CustomerId', 'OrderStatusLabel', 'OrderTypelabel',\n",
       "       'SeasonLabel_x', 'PayementModeLabel', 'CustomerTypeLabel',\n",
       "       'IsoCode', 'DeviceTypeLabel', 'PricingTypeLabel', 'TotalLineItems',\n",
       "       'Quantity', 'UnitPMPEUR', 'OrderCreationDate', 'OrderShipDate',\n",
       "       'OrderNumCustomer', 'IsOnSale', 'BillingPostalCode', 'GenderLabel',\n",
       "       'MarketTargetLabel', 'SeasonLabel_y', 'SeasonalityLabel', 'BrandId',\n",
       "       'UniverseLabel', 'TypeBrand', 'ProductId', 'ProductType',\n",
       "       'SupplierColor', 'ProductColorId', 'MinSize', 'MaxSize', 'CalfTurn',\n",
       "       'UpperHeight', 'HeelHeight', 'PurchasePriceHT', 'IsNewCollection',\n",
       "       'SubtypeLabel', 'UpperMaterialLabel', 'LiningMaterialLabel',\n",
       "       'OutSoleMaterialLabel', 'RemovableSole', 'SizeAdviceDescription',\n",
       "       'CountryISOCode', 'BirthDate', 'Gender', 'FirstOrderDate'], dtype=object)"
      ]
     },
     "execution_count": 7,
     "metadata": {},
     "output_type": "execute_result"
    }
   ],
   "source": [
    "data.columns.values"
   ]
  },
  {
   "cell_type": "code",
   "execution_count": 8,
   "metadata": {
    "collapsed": true
   },
   "outputs": [],
   "source": [
    "returndata = data[data['ReturnQuantityBin']==1]"
   ]
  },
  {
   "cell_type": "markdown",
   "metadata": {},
   "source": [
    "## Products"
   ]
  },
  {
   "cell_type": "code",
   "execution_count": 9,
   "metadata": {},
   "outputs": [
    {
     "data": {
      "text/plain": [
       "Baskets                    181070\n",
       "Sandales et nu-pieds       102918\n",
       "Bottines et boots           93170\n",
       "Ballerines                  53163\n",
       "Escarpins                   48495\n",
       "Chaussures Ã  lacets        40245\n",
       "Chaussures de sport         39761\n",
       "Bottes                      31906\n",
       "Tongs                       28287\n",
       "Mocassins                   17830\n",
       "Sacs Ã  main                 9390\n",
       "Mules et sabots              9330\n",
       "Chaussons                    7635\n",
       "Chaussures Ã  scratch        5752\n",
       "Espadrilles                  5553\n",
       "Produits d'entretien         4020\n",
       "Petite Maroquinerie          1978\n",
       "Semelles                     1317\n",
       "Sacs pochettes               1036\n",
       "Sacs Ã  dos                   891\n",
       "Sacs homme                    761\n",
       "Sacs de sport                 601\n",
       "Lacets                        529\n",
       "Bagages                       482\n",
       "Scolaire                      284\n",
       "Chaussettes et collants       279\n",
       "Ceintures                     247\n",
       "Business                      107\n",
       "Sacs ordinateur                71\n",
       "Isotherme                      49\n",
       "Divers                         37\n",
       "Name: ProductType, dtype: int64"
      ]
     },
     "execution_count": 9,
     "metadata": {},
     "output_type": "execute_result"
    }
   ],
   "source": [
    "data.ProductType.value_counts()"
   ]
  },
  {
   "cell_type": "markdown",
   "metadata": {},
   "source": [
    "##### Price HT"
   ]
  },
  {
   "cell_type": "code",
   "execution_count": 64,
   "metadata": {},
   "outputs": [
    {
     "name": "stdout",
     "output_type": "stream",
     "text": [
      "pour les prix entre 0 et 20€\n",
      "0.155964170938\n",
      "0.128892858432\n",
      "\n",
      "pour les prix entre 20 et 40€\n",
      "0.295360211376\n",
      "0.30245660568\n",
      "\n",
      "pour les prix entre 40 et 60€\n",
      "0.133006961557\n",
      "0.152421421096\n",
      "\n",
      "pour les prix entre 60 et 80€\n",
      "0.0341912694769\n",
      "0.0433988307892\n"
     ]
    }
   ],
   "source": [
    "print('pour les prix entre 0 et 20€')\n",
    "# Pour toutes les données\n",
    "price020 = ((data['PurchasePriceHT']>0) & (data['PurchasePriceHT']<20)).sum()/(data.shape[0])\n",
    "print(price020)\n",
    "\n",
    "# Pour les données retournées\n",
    "price020return = ((returndata['PurchasePriceHT']>0) & (returndata['PurchasePriceHT']<20)).sum()/(returndata.shape[0])\n",
    "print(price020return)\n",
    "\n",
    "print('\\npour les prix entre 20 et 40€')\n",
    "# Pour toutes les données\n",
    "price = ((data['PurchasePriceHT']>20) & (data['PurchasePriceHT']<40)).sum()/(data.shape[0])\n",
    "print(price)\n",
    "\n",
    "# Pour les données retournées\n",
    "pricereturn = ((returndata['PurchasePriceHT']>20) & (returndata['PurchasePriceHT']<40)).sum()/(returndata.shape[0])\n",
    "print(pricereturn)\n",
    "\n",
    "print('\\npour les prix entre 40 et 60€')\n",
    "# Pour toutes les données\n",
    "price = ((data['PurchasePriceHT']>40) & (data['PurchasePriceHT']<60)).sum()/(data.shape[0])\n",
    "print(price)\n",
    "\n",
    "# Pour les données retournées\n",
    "pricereturn = ((returndata['PurchasePriceHT']>40) & (returndata['PurchasePriceHT']<60)).sum()/(returndata.shape[0])\n",
    "print(pricereturn)\n",
    "\n",
    "print('\\npour les prix entre 60 et 80€')\n",
    "# Pour toutes les données\n",
    "price = ((data['PurchasePriceHT']>60) & (data['PurchasePriceHT']<80)).sum()/(data.shape[0])\n",
    "print(price)\n",
    "\n",
    "# Pour les données retournées\n",
    "pricereturn = ((returndata['PurchasePriceHT']>60) & (returndata['PurchasePriceHT']<80)).sum()/(returndata.shape[0])\n",
    "print(pricereturn)"
   ]
  },
  {
   "cell_type": "markdown",
   "metadata": {},
   "source": [
    "##### SeasonLabel"
   ]
  },
  {
   "cell_type": "code",
   "execution_count": 17,
   "metadata": {},
   "outputs": [
    {
     "name": "stdout",
     "output_type": "stream",
     "text": [
      "0.444673893693\n",
      "0.455599761827\n"
     ]
    }
   ],
   "source": [
    "# Pour toutes les données\n",
    "d = ((data['SeasonLabel_x'] == 'Automne/Hiver').sum())/(data.shape[0])\n",
    "print(d)\n",
    "\n",
    "# Pour les données retournées\n",
    "dreturn = ((returndata['SeasonLabel_x'] == 'Automne/Hiver').sum())/(returndata.shape[0])\n",
    "print(dreturn)"
   ]
  },
  {
   "cell_type": "markdown",
   "metadata": {},
   "source": [
    "##### GenderLabel"
   ]
  },
  {
   "cell_type": "code",
   "execution_count": 19,
   "metadata": {},
   "outputs": [
    {
     "name": "stdout",
     "output_type": "stream",
     "text": [
      "femme\n",
      "0.350230958783\n",
      "0.427812962362\n",
      "\n",
      "homme\n",
      "0.144029270395\n",
      "0.111476489481\n",
      "\n",
      "enfant\n",
      "0.131143363097\n",
      "0.112486918552\n"
     ]
    }
   ],
   "source": [
    "print('femme')\n",
    "# Pour toutes les données\n",
    "d = ((data['GenderLabel'] == 'Femme').sum())/(data.shape[0])\n",
    "print(d)\n",
    "\n",
    "# Pour les données retournées\n",
    "dreturn = ((returndata['GenderLabel'] == 'Femme').sum())/(returndata.shape[0])\n",
    "print(dreturn)\n",
    "\n",
    "print('\\nhomme')\n",
    "# Pour toutes les données\n",
    "d = ((data['GenderLabel'] == 'Homme').sum())/(data.shape[0])\n",
    "print(d)\n",
    "\n",
    "# Pour les données retournées\n",
    "dreturn = ((returndata['GenderLabel'] == 'Homme').sum())/(returndata.shape[0])\n",
    "print(dreturn)\n",
    "\n",
    "print('\\nenfant')\n",
    "# Pour toutes les données\n",
    "d = ((data['GenderLabel'] == 'Enfant').sum())/(data.shape[0])\n",
    "print(d)\n",
    "\n",
    "# Pour les données retournées\n",
    "dreturn = ((returndata['GenderLabel'] == 'Enfant').sum())/(returndata.shape[0])\n",
    "print(dreturn)"
   ]
  },
  {
   "cell_type": "markdown",
   "metadata": {},
   "source": [
    "###### Size advice description"
   ]
  },
  {
   "cell_type": "code",
   "execution_count": 15,
   "metadata": {},
   "outputs": [
    {
     "name": "stdout",
     "output_type": "stream",
     "text": [
      "0.40445989375\n",
      "0.406142867453\n"
     ]
    }
   ],
   "source": [
    "# Pour toutes les données\n",
    "d = ((data['SizeAdviceDescription'] == 1).sum())/(data.shape[0])\n",
    "print(d)\n",
    "\n",
    "# Pour les données retournées\n",
    "dreturn = ((returndata['SizeAdviceDescription'] == 1).sum())/(returndata.shape[0])\n",
    "print(dreturn)"
   ]
  },
  {
   "cell_type": "markdown",
   "metadata": {},
   "source": [
    "# Customers"
   ]
  },
  {
   "cell_type": "markdown",
   "metadata": {},
   "source": [
    "##### Gender"
   ]
  },
  {
   "cell_type": "code",
   "execution_count": 16,
   "metadata": {},
   "outputs": [
    {
     "name": "stdout",
     "output_type": "stream",
     "text": [
      "homme\n",
      "0.135259395291\n",
      "0.102914907437\n",
      "\n",
      "femme\n",
      "0.605318142211\n",
      "0.635090758183\n"
     ]
    }
   ],
   "source": [
    "print('homme')\n",
    "# Pour toutes les données\n",
    "d = ((data['Gender'] == 'Homme').sum())/(data.shape[0])\n",
    "print(d)\n",
    "\n",
    "# Pour les données retournées\n",
    "dreturn = ((returndata['Gender'] == 'Homme').sum())/(returndata.shape[0])\n",
    "print(dreturn)\n",
    "\n",
    "print('\\nfemme')\n",
    "# Pour toutes les données\n",
    "d = ((data['Gender'] == 'Femme').sum())/(data.shape[0])\n",
    "print(d)\n",
    "\n",
    "# Pour les données retournées\n",
    "dreturn = ((returndata['Gender'] == 'Femme').sum())/(returndata.shape[0])\n",
    "print(dreturn)"
   ]
  },
  {
   "cell_type": "markdown",
   "metadata": {},
   "source": [
    "# Orders"
   ]
  },
  {
   "cell_type": "markdown",
   "metadata": {},
   "source": [
    "##### Customer type label"
   ]
  },
  {
   "cell_type": "code",
   "execution_count": 75,
   "metadata": {},
   "outputs": [
    {
     "name": "stdout",
     "output_type": "stream",
     "text": [
      "fidélisé\n",
      "0.576905995559\n",
      "0.616560210747\n",
      "\n",
      "nouveau\n",
      "0.423094004441\n",
      "0.383439789253\n"
     ]
    }
   ],
   "source": [
    "print('fidélisé')\n",
    "# Pour toutes les données\n",
    "d = ((data['CustomerTypeLabel'] == 'Fidélisé').sum())/(data.shape[0])\n",
    "print(d)\n",
    "\n",
    "# Pour les données retournées\n",
    "dreturn = ((returndata['CustomerTypeLabel'] == 'Fidélisé').sum())/(returndata.shape[0])\n",
    "print(dreturn)\n",
    "\n",
    "print('\\nnouveau')\n",
    "# Pour toutes les données\n",
    "d = ((data['CustomerTypeLabel'] == 'Nouveau').sum())/(data.shape[0])\n",
    "print(d)\n",
    "\n",
    "# Pour les données retournées\n",
    "dreturn = ((returndata['CustomerTypeLabel'] == 'Nouveau').sum())/(returndata.shape[0])\n",
    "print(dreturn)"
   ]
  },
  {
   "cell_type": "code",
   "execution_count": 10,
   "metadata": {},
   "outputs": [
    {
     "name": "stdout",
     "output_type": "stream",
     "text": [
      "femmes fidélisées\n",
      "0.38333255254\n",
      "0.423211901411\n"
     ]
    }
   ],
   "source": [
    "print('femmes fidélisées')\n",
    "# Pour toutes les données\n",
    "price = ((data['CustomerTypeLabel'] == 'Fidélisé') & (data['Gender'] == 'Femme')).sum()/(data.shape[0])\n",
    "print(price)\n",
    "#price = ((data['CustomerTypeLabel'] == 'Nouveau') & (data['Gender'] == 'Femme')).sum()/(data.shape[0])\n",
    "#print(price)\n",
    "\n",
    "# Pour les données retournées\n",
    "pricereturn = ((returndata['CustomerTypeLabel'] == 'Fidélisé') & (returndata['Gender'] == 'Femme')).sum()/(returndata.shape[0])\n",
    "print(pricereturn)"
   ]
  },
  {
   "cell_type": "code",
   "execution_count": 73,
   "metadata": {},
   "outputs": [
    {
     "name": "stdout",
     "output_type": "stream",
     "text": [
      "hommes non fidélisées\n",
      "0.0722802612223\n",
      "0.0513153621306\n"
     ]
    }
   ],
   "source": [
    "print('hommes non fidélisées')\n",
    "# Pour toutes les données\n",
    "price = ((data['CustomerTypeLabel'] == 'Nouveau') & (data['Gender'] == 'Homme')).sum()/(data.shape[0])\n",
    "print(price)\n",
    "\n",
    "# Pour les données retournées\n",
    "pricereturn = ((returndata['CustomerTypeLabel'] == 'Nouveau') & (returndata['Gender'] == 'Homme')).sum()/(returndata.shape[0])\n",
    "print(pricereturn)"
   ]
  },
  {
   "cell_type": "code",
   "execution_count": 22,
   "metadata": {},
   "outputs": [
    {
     "data": {
      "text/html": [
       "<div>\n",
       "<style>\n",
       "    .dataframe thead tr:only-child th {\n",
       "        text-align: right;\n",
       "    }\n",
       "\n",
       "    .dataframe thead th {\n",
       "        text-align: left;\n",
       "    }\n",
       "\n",
       "    .dataframe tbody tr th {\n",
       "        vertical-align: top;\n",
       "    }\n",
       "</style>\n",
       "<table border=\"1\" class=\"dataframe\">\n",
       "  <thead>\n",
       "    <tr style=\"text-align: right;\">\n",
       "      <th>CustomerTypeLabel</th>\n",
       "      <th>Fidélisé</th>\n",
       "      <th>Nouveau</th>\n",
       "    </tr>\n",
       "    <tr>\n",
       "      <th>Gender</th>\n",
       "      <th></th>\n",
       "      <th></th>\n",
       "    </tr>\n",
       "  </thead>\n",
       "  <tbody>\n",
       "    <tr>\n",
       "      <th>Femme</th>\n",
       "      <td>0.517612</td>\n",
       "      <td>0.299746</td>\n",
       "    </tr>\n",
       "    <tr>\n",
       "      <th>Homme</th>\n",
       "      <td>0.085040</td>\n",
       "      <td>0.097600</td>\n",
       "    </tr>\n",
       "    <tr>\n",
       "      <th>NC</th>\n",
       "      <td>0.000003</td>\n",
       "      <td>0.000000</td>\n",
       "    </tr>\n",
       "  </tbody>\n",
       "</table>\n",
       "</div>"
      ],
      "text/plain": [
       "CustomerTypeLabel  Fidélisé   Nouveau\n",
       "Gender                               \n",
       "Femme              0.517612  0.299746\n",
       "Homme              0.085040  0.097600\n",
       "NC                 0.000003  0.000000"
      ]
     },
     "execution_count": 22,
     "metadata": {},
     "output_type": "execute_result"
    }
   ],
   "source": [
    "pd.crosstab(data['Gender'],data['CustomerTypeLabel'],normalize='all')"
   ]
  },
  {
   "cell_type": "code",
   "execution_count": 23,
   "metadata": {},
   "outputs": [
    {
     "data": {
      "text/html": [
       "<div>\n",
       "<style>\n",
       "    .dataframe thead tr:only-child th {\n",
       "        text-align: right;\n",
       "    }\n",
       "\n",
       "    .dataframe thead th {\n",
       "        text-align: left;\n",
       "    }\n",
       "\n",
       "    .dataframe tbody tr th {\n",
       "        vertical-align: top;\n",
       "    }\n",
       "</style>\n",
       "<table border=\"1\" class=\"dataframe\">\n",
       "  <thead>\n",
       "    <tr style=\"text-align: right;\">\n",
       "      <th>CustomerTypeLabel</th>\n",
       "      <th>Fidélisé</th>\n",
       "      <th>Nouveau</th>\n",
       "    </tr>\n",
       "    <tr>\n",
       "      <th>Gender</th>\n",
       "      <th></th>\n",
       "      <th></th>\n",
       "    </tr>\n",
       "  </thead>\n",
       "  <tbody>\n",
       "    <tr>\n",
       "      <th>Femme</th>\n",
       "      <td>0.573450</td>\n",
       "      <td>0.287095</td>\n",
       "    </tr>\n",
       "    <tr>\n",
       "      <th>Homme</th>\n",
       "      <td>0.069917</td>\n",
       "      <td>0.069532</td>\n",
       "    </tr>\n",
       "    <tr>\n",
       "      <th>NC</th>\n",
       "      <td>0.000006</td>\n",
       "      <td>0.000000</td>\n",
       "    </tr>\n",
       "  </tbody>\n",
       "</table>\n",
       "</div>"
      ],
      "text/plain": [
       "CustomerTypeLabel  Fidélisé   Nouveau\n",
       "Gender                               \n",
       "Femme              0.573450  0.287095\n",
       "Homme              0.069917  0.069532\n",
       "NC                 0.000006  0.000000"
      ]
     },
     "execution_count": 23,
     "metadata": {},
     "output_type": "execute_result"
    }
   ],
   "source": [
    "pd.crosstab(returndata['Gender'],returndata['CustomerTypeLabel'],normalize='all')"
   ]
  }
 ],
 "metadata": {
  "kernelspec": {
   "display_name": "Python 3",
   "language": "python",
   "name": "python3"
  },
  "language_info": {
   "codemirror_mode": {
    "name": "ipython",
    "version": 3
   },
   "file_extension": ".py",
   "mimetype": "text/x-python",
   "name": "python",
   "nbconvert_exporter": "python",
   "pygments_lexer": "ipython3",
   "version": "3.6.3"
  }
 },
 "nbformat": 4,
 "nbformat_minor": 2
}
