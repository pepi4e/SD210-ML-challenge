{
 "cells": [
  {
   "cell_type": "code",
   "execution_count": 3,
   "metadata": {
    "collapsed": true
   },
   "outputs": [],
   "source": [
    "%matplotlib inline\n",
    "#basic python packages for plotting and array management\n",
    "import numpy as np\n",
    "import matplotlib.pyplot as plt\n",
    "import random\n",
    "import seaborn as sns\n",
    "#import statsmodels.api as sm\n",
    "from datetime import datetime\n",
    "\n",
    "#for data import\n",
    "import pandas as pd\n",
    "from __future__ import division\n",
    "import os\n",
    "import sys\n",
    "from importlib import reload\n",
    "reload(sys)\n",
    "\n",
    "#Preprocessing\n",
    "from sklearn import preprocessing\n",
    "from sklearn.preprocessing import StandardScaler\n",
    "from sklearn.utils import shuffle\n",
    "from sklearn.discriminant_analysis import LinearDiscriminantAnalysis\n",
    "from sklearn.decomposition import PCA\n",
    "\n",
    "#Classifiers\n",
    "from sklearn.linear_model import LogisticRegression, RidgeClassifier, RidgeClassifierCV, PassiveAggressiveClassifier, Perceptron, SGDClassifier\n",
    "from sklearn.svm import SVC\n",
    "from sklearn.neighbors import KNeighborsClassifier, NearestCentroid\n",
    "from sklearn.gaussian_process import GaussianProcessClassifier\n",
    "from sklearn.naive_bayes import GaussianNB, MultinomialNB, BernoulliNB\n",
    "from sklearn.tree import DecisionTreeClassifier, ExtraTreeClassifier\n",
    "from sklearn.neural_network import MLPClassifier\n",
    "\n",
    "#Ensemble methods and crossvalidation\n",
    "from sklearn.model_selection import GridSearchCV, cross_val_predict, cross_val_score\n",
    "from sklearn.pipeline import Pipeline\n",
    "from sklearn.ensemble import AdaBoostClassifier, BaggingClassifier, ExtraTreesClassifier, GradientBoostingClassifier,RandomForestClassifier, VotingClassifier\n",
    "\n",
    "#PostProcessing\n",
    "from sklearn.metrics import classification_report, confusion_matrix, roc_auc_score\n",
    "\n",
    "import time"
   ]
  },
  {
   "cell_type": "code",
   "execution_count": 4,
   "metadata": {},
   "outputs": [],
   "source": [
    "customers = pd.read_csv(\"customers6.csv\")\n",
    "products = pd.read_csv(\"products.csv\")\n",
    "X_train = pd.read_csv(\"X_train.csv\")\n",
    "X_test   = pd.read_csv(\"X_test.csv\")\n",
    "y_train = pd.read_csv(\"y_train.csv\")"
   ]
  },
  {
   "cell_type": "markdown",
   "metadata": {},
   "source": [
    "# CUSTOMERS"
   ]
  },
  {
   "cell_type": "code",
   "execution_count": 5,
   "metadata": {},
   "outputs": [
    {
     "data": {
      "text/html": [
       "<div>\n",
       "<style>\n",
       "    .dataframe thead tr:only-child th {\n",
       "        text-align: right;\n",
       "    }\n",
       "\n",
       "    .dataframe thead th {\n",
       "        text-align: left;\n",
       "    }\n",
       "\n",
       "    .dataframe tbody tr th {\n",
       "        vertical-align: top;\n",
       "    }\n",
       "</style>\n",
       "<table border=\"1\" class=\"dataframe\">\n",
       "  <thead>\n",
       "    <tr style=\"text-align: right;\">\n",
       "      <th></th>\n",
       "      <th>CustomerId</th>\n",
       "      <th>CountryISOCode</th>\n",
       "      <th>BirthDate</th>\n",
       "      <th>Gender</th>\n",
       "      <th>FirstOrderDate</th>\n",
       "    </tr>\n",
       "  </thead>\n",
       "  <tbody>\n",
       "    <tr>\n",
       "      <th>0</th>\n",
       "      <td>17860216.0</td>\n",
       "      <td>GB</td>\n",
       "      <td>22/10/2015 15:00</td>\n",
       "      <td>Femme</td>\n",
       "      <td>17/10/2015 12:58</td>\n",
       "    </tr>\n",
       "    <tr>\n",
       "      <th>1</th>\n",
       "      <td>10588204.0</td>\n",
       "      <td>FR</td>\n",
       "      <td>20/10/2015 19:46</td>\n",
       "      <td>Femme</td>\n",
       "      <td>20/10/2015 00:07</td>\n",
       "    </tr>\n",
       "    <tr>\n",
       "      <th>2</th>\n",
       "      <td>17841489.0</td>\n",
       "      <td>DE</td>\n",
       "      <td>20/10/2015 16:40</td>\n",
       "      <td>Homme</td>\n",
       "      <td>12/10/2015 23:04</td>\n",
       "    </tr>\n",
       "    <tr>\n",
       "      <th>3</th>\n",
       "      <td>17849688.0</td>\n",
       "      <td>DE</td>\n",
       "      <td>15/10/2015 14:17</td>\n",
       "      <td>Homme</td>\n",
       "      <td>22/10/2015 10:41</td>\n",
       "    </tr>\n",
       "    <tr>\n",
       "      <th>4</th>\n",
       "      <td>12916644.0</td>\n",
       "      <td>FR</td>\n",
       "      <td>13/10/2015 15:54</td>\n",
       "      <td>Femme</td>\n",
       "      <td>15/03/2012 10:04</td>\n",
       "    </tr>\n",
       "  </tbody>\n",
       "</table>\n",
       "</div>"
      ],
      "text/plain": [
       "   CustomerId CountryISOCode         BirthDate Gender    FirstOrderDate\n",
       "0  17860216.0             GB  22/10/2015 15:00  Femme  17/10/2015 12:58\n",
       "1  10588204.0             FR  20/10/2015 19:46  Femme  20/10/2015 00:07\n",
       "2  17841489.0             DE  20/10/2015 16:40  Homme  12/10/2015 23:04\n",
       "3  17849688.0             DE  15/10/2015 14:17  Homme  22/10/2015 10:41\n",
       "4  12916644.0             FR  13/10/2015 15:54  Femme  15/03/2012 10:04"
      ]
     },
     "execution_count": 5,
     "metadata": {},
     "output_type": "execute_result"
    }
   ],
   "source": [
    "customers.head()"
   ]
  },
  {
   "cell_type": "markdown",
   "metadata": {},
   "source": [
    "### BirthDate -> Age"
   ]
  },
  {
   "cell_type": "code",
   "execution_count": 6,
   "metadata": {
    "collapsed": true
   },
   "outputs": [],
   "source": [
    "customers['BirthDate'] = customers['BirthDate'].apply(lambda x : datetime.strptime(x, '%d/%m/%Y %H:%M') )\n",
    "customers['Age'] = 2018 - customers['BirthDate'].apply(lambda x : x.year)"
   ]
  },
  {
   "cell_type": "code",
   "execution_count": 7,
   "metadata": {
    "collapsed": true
   },
   "outputs": [],
   "source": [
    "for i in range(10,60,5):\n",
    "    customers['Age' + str(i) + '-' + str(i+5)] = ((customers['Age']>i) & (customers['Age']<=i+5)).astype('float')"
   ]
  },
  {
   "cell_type": "code",
   "execution_count": 8,
   "metadata": {},
   "outputs": [
    {
     "data": {
      "text/html": [
       "<div>\n",
       "<style>\n",
       "    .dataframe thead tr:only-child th {\n",
       "        text-align: right;\n",
       "    }\n",
       "\n",
       "    .dataframe thead th {\n",
       "        text-align: left;\n",
       "    }\n",
       "\n",
       "    .dataframe tbody tr th {\n",
       "        vertical-align: top;\n",
       "    }\n",
       "</style>\n",
       "<table border=\"1\" class=\"dataframe\">\n",
       "  <thead>\n",
       "    <tr style=\"text-align: right;\">\n",
       "      <th></th>\n",
       "      <th>CustomerId</th>\n",
       "      <th>CountryISOCode</th>\n",
       "      <th>BirthDate</th>\n",
       "      <th>Gender</th>\n",
       "      <th>FirstOrderDate</th>\n",
       "      <th>Age</th>\n",
       "      <th>Age10-15</th>\n",
       "      <th>Age15-20</th>\n",
       "      <th>Age20-25</th>\n",
       "      <th>Age25-30</th>\n",
       "      <th>Age30-35</th>\n",
       "      <th>Age35-40</th>\n",
       "      <th>Age40-45</th>\n",
       "      <th>Age45-50</th>\n",
       "      <th>Age50-55</th>\n",
       "      <th>Age55-60</th>\n",
       "    </tr>\n",
       "  </thead>\n",
       "  <tbody>\n",
       "    <tr>\n",
       "      <th>0</th>\n",
       "      <td>17860216.0</td>\n",
       "      <td>GB</td>\n",
       "      <td>2015-10-22 15:00:00</td>\n",
       "      <td>Femme</td>\n",
       "      <td>17/10/2015 12:58</td>\n",
       "      <td>3</td>\n",
       "      <td>0.0</td>\n",
       "      <td>0.0</td>\n",
       "      <td>0.0</td>\n",
       "      <td>0.0</td>\n",
       "      <td>0.0</td>\n",
       "      <td>0.0</td>\n",
       "      <td>0.0</td>\n",
       "      <td>0.0</td>\n",
       "      <td>0.0</td>\n",
       "      <td>0.0</td>\n",
       "    </tr>\n",
       "    <tr>\n",
       "      <th>1</th>\n",
       "      <td>10588204.0</td>\n",
       "      <td>FR</td>\n",
       "      <td>2015-10-20 19:46:00</td>\n",
       "      <td>Femme</td>\n",
       "      <td>20/10/2015 00:07</td>\n",
       "      <td>3</td>\n",
       "      <td>0.0</td>\n",
       "      <td>0.0</td>\n",
       "      <td>0.0</td>\n",
       "      <td>0.0</td>\n",
       "      <td>0.0</td>\n",
       "      <td>0.0</td>\n",
       "      <td>0.0</td>\n",
       "      <td>0.0</td>\n",
       "      <td>0.0</td>\n",
       "      <td>0.0</td>\n",
       "    </tr>\n",
       "    <tr>\n",
       "      <th>2</th>\n",
       "      <td>17841489.0</td>\n",
       "      <td>DE</td>\n",
       "      <td>2015-10-20 16:40:00</td>\n",
       "      <td>Homme</td>\n",
       "      <td>12/10/2015 23:04</td>\n",
       "      <td>3</td>\n",
       "      <td>0.0</td>\n",
       "      <td>0.0</td>\n",
       "      <td>0.0</td>\n",
       "      <td>0.0</td>\n",
       "      <td>0.0</td>\n",
       "      <td>0.0</td>\n",
       "      <td>0.0</td>\n",
       "      <td>0.0</td>\n",
       "      <td>0.0</td>\n",
       "      <td>0.0</td>\n",
       "    </tr>\n",
       "    <tr>\n",
       "      <th>3</th>\n",
       "      <td>17849688.0</td>\n",
       "      <td>DE</td>\n",
       "      <td>2015-10-15 14:17:00</td>\n",
       "      <td>Homme</td>\n",
       "      <td>22/10/2015 10:41</td>\n",
       "      <td>3</td>\n",
       "      <td>0.0</td>\n",
       "      <td>0.0</td>\n",
       "      <td>0.0</td>\n",
       "      <td>0.0</td>\n",
       "      <td>0.0</td>\n",
       "      <td>0.0</td>\n",
       "      <td>0.0</td>\n",
       "      <td>0.0</td>\n",
       "      <td>0.0</td>\n",
       "      <td>0.0</td>\n",
       "    </tr>\n",
       "    <tr>\n",
       "      <th>4</th>\n",
       "      <td>12916644.0</td>\n",
       "      <td>FR</td>\n",
       "      <td>2015-10-13 15:54:00</td>\n",
       "      <td>Femme</td>\n",
       "      <td>15/03/2012 10:04</td>\n",
       "      <td>3</td>\n",
       "      <td>0.0</td>\n",
       "      <td>0.0</td>\n",
       "      <td>0.0</td>\n",
       "      <td>0.0</td>\n",
       "      <td>0.0</td>\n",
       "      <td>0.0</td>\n",
       "      <td>0.0</td>\n",
       "      <td>0.0</td>\n",
       "      <td>0.0</td>\n",
       "      <td>0.0</td>\n",
       "    </tr>\n",
       "  </tbody>\n",
       "</table>\n",
       "</div>"
      ],
      "text/plain": [
       "   CustomerId CountryISOCode           BirthDate Gender    FirstOrderDate  \\\n",
       "0  17860216.0             GB 2015-10-22 15:00:00  Femme  17/10/2015 12:58   \n",
       "1  10588204.0             FR 2015-10-20 19:46:00  Femme  20/10/2015 00:07   \n",
       "2  17841489.0             DE 2015-10-20 16:40:00  Homme  12/10/2015 23:04   \n",
       "3  17849688.0             DE 2015-10-15 14:17:00  Homme  22/10/2015 10:41   \n",
       "4  12916644.0             FR 2015-10-13 15:54:00  Femme  15/03/2012 10:04   \n",
       "\n",
       "   Age  Age10-15  Age15-20  Age20-25  Age25-30  Age30-35  Age35-40  Age40-45  \\\n",
       "0    3       0.0       0.0       0.0       0.0       0.0       0.0       0.0   \n",
       "1    3       0.0       0.0       0.0       0.0       0.0       0.0       0.0   \n",
       "2    3       0.0       0.0       0.0       0.0       0.0       0.0       0.0   \n",
       "3    3       0.0       0.0       0.0       0.0       0.0       0.0       0.0   \n",
       "4    3       0.0       0.0       0.0       0.0       0.0       0.0       0.0   \n",
       "\n",
       "   Age45-50  Age50-55  Age55-60  \n",
       "0       0.0       0.0       0.0  \n",
       "1       0.0       0.0       0.0  \n",
       "2       0.0       0.0       0.0  \n",
       "3       0.0       0.0       0.0  \n",
       "4       0.0       0.0       0.0  "
      ]
     },
     "execution_count": 8,
     "metadata": {},
     "output_type": "execute_result"
    }
   ],
   "source": [
    "customers.head()"
   ]
  },
  {
   "cell_type": "markdown",
   "metadata": {},
   "source": [
    "### Gender -> Binaire"
   ]
  },
  {
   "cell_type": "code",
   "execution_count": 9,
   "metadata": {
    "collapsed": true
   },
   "outputs": [],
   "source": [
    "## 1 si une femme\n",
    "customers['Sexe'] = customers['Gender'].eq('Femme').astype('float')"
   ]
  },
  {
   "cell_type": "markdown",
   "metadata": {},
   "source": [
    "### FirstOrderDate -> Time in Year since first Order"
   ]
  },
  {
   "cell_type": "code",
   "execution_count": 10,
   "metadata": {
    "collapsed": true
   },
   "outputs": [],
   "source": [
    "customers['FirstOrderDate'] = customers['FirstOrderDate'].apply(lambda x : datetime.strptime(x, '%d/%m/%Y %H:%M') )\n",
    "customers['FirstOrder'] = 2018 - customers['FirstOrderDate'].apply(lambda x : x.year)"
   ]
  },
  {
   "cell_type": "code",
   "execution_count": 11,
   "metadata": {
    "collapsed": true
   },
   "outputs": [],
   "source": [
    "for i in range(3,10):\n",
    "    customers['FirstOrder' + '-' + str(i) + 'Y'] = (customers['FirstOrder']==i).astype('float')\n",
    "customers['FirstOrder-10Y+'] = (customers['FirstOrder']>=10).astype('float')"
   ]
  },
  {
   "cell_type": "code",
   "execution_count": 12,
   "metadata": {
    "collapsed": true
   },
   "outputs": [],
   "source": [
    "def creation(Table,Colonne,Liste):\n",
    "    for element in Liste:     # On parcourt la liste en entier\n",
    "        names = []\n",
    "        for nuance in element:    # On parcourt chaque nuance de chaque sous-liste\n",
    "            name_col = nuance\n",
    "            name = Table[Colonne].str.contains(nuance).astype('float')\n",
    "            names.append(name)\n",
    "        \n",
    "        col = pd.Series(0,index = range(Table.shape[0]))\n",
    "        for column in names :\n",
    "            col = col+column\n",
    "        \n",
    "        Table[name_col] = col\n",
    "    return ('%d colonne(s) ont étaient ajoutées à la DataFrame' %(len(Liste)))"
   ]
  },
  {
   "cell_type": "code",
   "execution_count": 13,
   "metadata": {},
   "outputs": [
    {
     "data": {
      "text/html": [
       "<div>\n",
       "<style>\n",
       "    .dataframe thead tr:only-child th {\n",
       "        text-align: right;\n",
       "    }\n",
       "\n",
       "    .dataframe thead th {\n",
       "        text-align: left;\n",
       "    }\n",
       "\n",
       "    .dataframe tbody tr th {\n",
       "        vertical-align: top;\n",
       "    }\n",
       "</style>\n",
       "<table border=\"1\" class=\"dataframe\">\n",
       "  <thead>\n",
       "    <tr style=\"text-align: right;\">\n",
       "      <th></th>\n",
       "      <th>CustomerId</th>\n",
       "      <th>CountryISOCode</th>\n",
       "      <th>BirthDate</th>\n",
       "      <th>Gender</th>\n",
       "      <th>FirstOrderDate</th>\n",
       "      <th>Age</th>\n",
       "      <th>Age10-15</th>\n",
       "      <th>Age15-20</th>\n",
       "      <th>Age20-25</th>\n",
       "      <th>Age25-30</th>\n",
       "      <th>...</th>\n",
       "      <th>Sexe</th>\n",
       "      <th>FirstOrder</th>\n",
       "      <th>FirstOrder-3Y</th>\n",
       "      <th>FirstOrder-4Y</th>\n",
       "      <th>FirstOrder-5Y</th>\n",
       "      <th>FirstOrder-6Y</th>\n",
       "      <th>FirstOrder-7Y</th>\n",
       "      <th>FirstOrder-8Y</th>\n",
       "      <th>FirstOrder-9Y</th>\n",
       "      <th>FirstOrder-10Y+</th>\n",
       "    </tr>\n",
       "  </thead>\n",
       "  <tbody>\n",
       "    <tr>\n",
       "      <th>0</th>\n",
       "      <td>17860216.0</td>\n",
       "      <td>GB</td>\n",
       "      <td>2015-10-22 15:00:00</td>\n",
       "      <td>Femme</td>\n",
       "      <td>2015-10-17 12:58:00</td>\n",
       "      <td>3</td>\n",
       "      <td>0.0</td>\n",
       "      <td>0.0</td>\n",
       "      <td>0.0</td>\n",
       "      <td>0.0</td>\n",
       "      <td>...</td>\n",
       "      <td>1.0</td>\n",
       "      <td>3</td>\n",
       "      <td>1.0</td>\n",
       "      <td>0.0</td>\n",
       "      <td>0.0</td>\n",
       "      <td>0.0</td>\n",
       "      <td>0.0</td>\n",
       "      <td>0.0</td>\n",
       "      <td>0.0</td>\n",
       "      <td>0.0</td>\n",
       "    </tr>\n",
       "    <tr>\n",
       "      <th>1</th>\n",
       "      <td>10588204.0</td>\n",
       "      <td>FR</td>\n",
       "      <td>2015-10-20 19:46:00</td>\n",
       "      <td>Femme</td>\n",
       "      <td>2015-10-20 00:07:00</td>\n",
       "      <td>3</td>\n",
       "      <td>0.0</td>\n",
       "      <td>0.0</td>\n",
       "      <td>0.0</td>\n",
       "      <td>0.0</td>\n",
       "      <td>...</td>\n",
       "      <td>1.0</td>\n",
       "      <td>3</td>\n",
       "      <td>1.0</td>\n",
       "      <td>0.0</td>\n",
       "      <td>0.0</td>\n",
       "      <td>0.0</td>\n",
       "      <td>0.0</td>\n",
       "      <td>0.0</td>\n",
       "      <td>0.0</td>\n",
       "      <td>0.0</td>\n",
       "    </tr>\n",
       "    <tr>\n",
       "      <th>2</th>\n",
       "      <td>17841489.0</td>\n",
       "      <td>DE</td>\n",
       "      <td>2015-10-20 16:40:00</td>\n",
       "      <td>Homme</td>\n",
       "      <td>2015-10-12 23:04:00</td>\n",
       "      <td>3</td>\n",
       "      <td>0.0</td>\n",
       "      <td>0.0</td>\n",
       "      <td>0.0</td>\n",
       "      <td>0.0</td>\n",
       "      <td>...</td>\n",
       "      <td>0.0</td>\n",
       "      <td>3</td>\n",
       "      <td>1.0</td>\n",
       "      <td>0.0</td>\n",
       "      <td>0.0</td>\n",
       "      <td>0.0</td>\n",
       "      <td>0.0</td>\n",
       "      <td>0.0</td>\n",
       "      <td>0.0</td>\n",
       "      <td>0.0</td>\n",
       "    </tr>\n",
       "    <tr>\n",
       "      <th>3</th>\n",
       "      <td>17849688.0</td>\n",
       "      <td>DE</td>\n",
       "      <td>2015-10-15 14:17:00</td>\n",
       "      <td>Homme</td>\n",
       "      <td>2015-10-22 10:41:00</td>\n",
       "      <td>3</td>\n",
       "      <td>0.0</td>\n",
       "      <td>0.0</td>\n",
       "      <td>0.0</td>\n",
       "      <td>0.0</td>\n",
       "      <td>...</td>\n",
       "      <td>0.0</td>\n",
       "      <td>3</td>\n",
       "      <td>1.0</td>\n",
       "      <td>0.0</td>\n",
       "      <td>0.0</td>\n",
       "      <td>0.0</td>\n",
       "      <td>0.0</td>\n",
       "      <td>0.0</td>\n",
       "      <td>0.0</td>\n",
       "      <td>0.0</td>\n",
       "    </tr>\n",
       "    <tr>\n",
       "      <th>4</th>\n",
       "      <td>12916644.0</td>\n",
       "      <td>FR</td>\n",
       "      <td>2015-10-13 15:54:00</td>\n",
       "      <td>Femme</td>\n",
       "      <td>2012-03-15 10:04:00</td>\n",
       "      <td>3</td>\n",
       "      <td>0.0</td>\n",
       "      <td>0.0</td>\n",
       "      <td>0.0</td>\n",
       "      <td>0.0</td>\n",
       "      <td>...</td>\n",
       "      <td>1.0</td>\n",
       "      <td>6</td>\n",
       "      <td>0.0</td>\n",
       "      <td>0.0</td>\n",
       "      <td>0.0</td>\n",
       "      <td>1.0</td>\n",
       "      <td>0.0</td>\n",
       "      <td>0.0</td>\n",
       "      <td>0.0</td>\n",
       "      <td>0.0</td>\n",
       "    </tr>\n",
       "  </tbody>\n",
       "</table>\n",
       "<p>5 rows × 26 columns</p>\n",
       "</div>"
      ],
      "text/plain": [
       "   CustomerId CountryISOCode           BirthDate Gender      FirstOrderDate  \\\n",
       "0  17860216.0             GB 2015-10-22 15:00:00  Femme 2015-10-17 12:58:00   \n",
       "1  10588204.0             FR 2015-10-20 19:46:00  Femme 2015-10-20 00:07:00   \n",
       "2  17841489.0             DE 2015-10-20 16:40:00  Homme 2015-10-12 23:04:00   \n",
       "3  17849688.0             DE 2015-10-15 14:17:00  Homme 2015-10-22 10:41:00   \n",
       "4  12916644.0             FR 2015-10-13 15:54:00  Femme 2012-03-15 10:04:00   \n",
       "\n",
       "   Age  Age10-15  Age15-20  Age20-25  Age25-30       ...         Sexe  \\\n",
       "0    3       0.0       0.0       0.0       0.0       ...          1.0   \n",
       "1    3       0.0       0.0       0.0       0.0       ...          1.0   \n",
       "2    3       0.0       0.0       0.0       0.0       ...          0.0   \n",
       "3    3       0.0       0.0       0.0       0.0       ...          0.0   \n",
       "4    3       0.0       0.0       0.0       0.0       ...          1.0   \n",
       "\n",
       "   FirstOrder  FirstOrder-3Y  FirstOrder-4Y  FirstOrder-5Y  FirstOrder-6Y  \\\n",
       "0           3            1.0            0.0            0.0            0.0   \n",
       "1           3            1.0            0.0            0.0            0.0   \n",
       "2           3            1.0            0.0            0.0            0.0   \n",
       "3           3            1.0            0.0            0.0            0.0   \n",
       "4           6            0.0            0.0            0.0            1.0   \n",
       "\n",
       "   FirstOrder-7Y  FirstOrder-8Y  FirstOrder-9Y  FirstOrder-10Y+  \n",
       "0            0.0            0.0            0.0              0.0  \n",
       "1            0.0            0.0            0.0              0.0  \n",
       "2            0.0            0.0            0.0              0.0  \n",
       "3            0.0            0.0            0.0              0.0  \n",
       "4            0.0            0.0            0.0              0.0  \n",
       "\n",
       "[5 rows x 26 columns]"
      ]
     },
     "execution_count": 13,
     "metadata": {},
     "output_type": "execute_result"
    }
   ],
   "source": [
    "customers.head()"
   ]
  },
  {
   "cell_type": "code",
   "execution_count": 14,
   "metadata": {},
   "outputs": [
    {
     "data": {
      "text/plain": [
       "CustomerId                float64\n",
       "CountryISOCode             object\n",
       "BirthDate          datetime64[ns]\n",
       "Gender                     object\n",
       "FirstOrderDate     datetime64[ns]\n",
       "Age                         int64\n",
       "Age10-15                  float64\n",
       "Age15-20                  float64\n",
       "Age20-25                  float64\n",
       "Age25-30                  float64\n",
       "Age30-35                  float64\n",
       "Age35-40                  float64\n",
       "Age40-45                  float64\n",
       "Age45-50                  float64\n",
       "Age50-55                  float64\n",
       "Age55-60                  float64\n",
       "Sexe                      float64\n",
       "FirstOrder                  int64\n",
       "FirstOrder-3Y             float64\n",
       "FirstOrder-4Y             float64\n",
       "FirstOrder-5Y             float64\n",
       "FirstOrder-6Y             float64\n",
       "FirstOrder-7Y             float64\n",
       "FirstOrder-8Y             float64\n",
       "FirstOrder-9Y             float64\n",
       "FirstOrder-10Y+           float64\n",
       "dtype: object"
      ]
     },
     "execution_count": 14,
     "metadata": {},
     "output_type": "execute_result"
    }
   ],
   "source": [
    "customers.dtypes"
   ]
  },
  {
   "cell_type": "markdown",
   "metadata": {},
   "source": [
    "####  Delete columns"
   ]
  },
  {
   "cell_type": "code",
   "execution_count": 15,
   "metadata": {
    "collapsed": true
   },
   "outputs": [],
   "source": [
    "del customers['Gender']\n",
    "del customers['FirstOrderDate']\n",
    "del customers['FirstOrder']\n",
    "del customers['BirthDate']\n",
    "del customers['Age']"
   ]
  },
  {
   "cell_type": "code",
   "execution_count": 16,
   "metadata": {
    "collapsed": true
   },
   "outputs": [],
   "source": [
    "customers = customers.fillna(0)"
   ]
  },
  {
   "cell_type": "code",
   "execution_count": 17,
   "metadata": {},
   "outputs": [
    {
     "data": {
      "text/html": [
       "<div>\n",
       "<style>\n",
       "    .dataframe thead tr:only-child th {\n",
       "        text-align: right;\n",
       "    }\n",
       "\n",
       "    .dataframe thead th {\n",
       "        text-align: left;\n",
       "    }\n",
       "\n",
       "    .dataframe tbody tr th {\n",
       "        vertical-align: top;\n",
       "    }\n",
       "</style>\n",
       "<table border=\"1\" class=\"dataframe\">\n",
       "  <thead>\n",
       "    <tr style=\"text-align: right;\">\n",
       "      <th></th>\n",
       "      <th>CustomerId</th>\n",
       "      <th>CountryISOCode</th>\n",
       "      <th>Age10-15</th>\n",
       "      <th>Age15-20</th>\n",
       "      <th>Age20-25</th>\n",
       "      <th>Age25-30</th>\n",
       "      <th>Age30-35</th>\n",
       "      <th>Age35-40</th>\n",
       "      <th>Age40-45</th>\n",
       "      <th>Age45-50</th>\n",
       "      <th>...</th>\n",
       "      <th>Age55-60</th>\n",
       "      <th>Sexe</th>\n",
       "      <th>FirstOrder-3Y</th>\n",
       "      <th>FirstOrder-4Y</th>\n",
       "      <th>FirstOrder-5Y</th>\n",
       "      <th>FirstOrder-6Y</th>\n",
       "      <th>FirstOrder-7Y</th>\n",
       "      <th>FirstOrder-8Y</th>\n",
       "      <th>FirstOrder-9Y</th>\n",
       "      <th>FirstOrder-10Y+</th>\n",
       "    </tr>\n",
       "  </thead>\n",
       "  <tbody>\n",
       "    <tr>\n",
       "      <th>0</th>\n",
       "      <td>17860216.0</td>\n",
       "      <td>GB</td>\n",
       "      <td>0.0</td>\n",
       "      <td>0.0</td>\n",
       "      <td>0.0</td>\n",
       "      <td>0.0</td>\n",
       "      <td>0.0</td>\n",
       "      <td>0.0</td>\n",
       "      <td>0.0</td>\n",
       "      <td>0.0</td>\n",
       "      <td>...</td>\n",
       "      <td>0.0</td>\n",
       "      <td>1.0</td>\n",
       "      <td>1.0</td>\n",
       "      <td>0.0</td>\n",
       "      <td>0.0</td>\n",
       "      <td>0.0</td>\n",
       "      <td>0.0</td>\n",
       "      <td>0.0</td>\n",
       "      <td>0.0</td>\n",
       "      <td>0.0</td>\n",
       "    </tr>\n",
       "    <tr>\n",
       "      <th>1</th>\n",
       "      <td>10588204.0</td>\n",
       "      <td>FR</td>\n",
       "      <td>0.0</td>\n",
       "      <td>0.0</td>\n",
       "      <td>0.0</td>\n",
       "      <td>0.0</td>\n",
       "      <td>0.0</td>\n",
       "      <td>0.0</td>\n",
       "      <td>0.0</td>\n",
       "      <td>0.0</td>\n",
       "      <td>...</td>\n",
       "      <td>0.0</td>\n",
       "      <td>1.0</td>\n",
       "      <td>1.0</td>\n",
       "      <td>0.0</td>\n",
       "      <td>0.0</td>\n",
       "      <td>0.0</td>\n",
       "      <td>0.0</td>\n",
       "      <td>0.0</td>\n",
       "      <td>0.0</td>\n",
       "      <td>0.0</td>\n",
       "    </tr>\n",
       "    <tr>\n",
       "      <th>2</th>\n",
       "      <td>17841489.0</td>\n",
       "      <td>DE</td>\n",
       "      <td>0.0</td>\n",
       "      <td>0.0</td>\n",
       "      <td>0.0</td>\n",
       "      <td>0.0</td>\n",
       "      <td>0.0</td>\n",
       "      <td>0.0</td>\n",
       "      <td>0.0</td>\n",
       "      <td>0.0</td>\n",
       "      <td>...</td>\n",
       "      <td>0.0</td>\n",
       "      <td>0.0</td>\n",
       "      <td>1.0</td>\n",
       "      <td>0.0</td>\n",
       "      <td>0.0</td>\n",
       "      <td>0.0</td>\n",
       "      <td>0.0</td>\n",
       "      <td>0.0</td>\n",
       "      <td>0.0</td>\n",
       "      <td>0.0</td>\n",
       "    </tr>\n",
       "    <tr>\n",
       "      <th>3</th>\n",
       "      <td>17849688.0</td>\n",
       "      <td>DE</td>\n",
       "      <td>0.0</td>\n",
       "      <td>0.0</td>\n",
       "      <td>0.0</td>\n",
       "      <td>0.0</td>\n",
       "      <td>0.0</td>\n",
       "      <td>0.0</td>\n",
       "      <td>0.0</td>\n",
       "      <td>0.0</td>\n",
       "      <td>...</td>\n",
       "      <td>0.0</td>\n",
       "      <td>0.0</td>\n",
       "      <td>1.0</td>\n",
       "      <td>0.0</td>\n",
       "      <td>0.0</td>\n",
       "      <td>0.0</td>\n",
       "      <td>0.0</td>\n",
       "      <td>0.0</td>\n",
       "      <td>0.0</td>\n",
       "      <td>0.0</td>\n",
       "    </tr>\n",
       "    <tr>\n",
       "      <th>4</th>\n",
       "      <td>12916644.0</td>\n",
       "      <td>FR</td>\n",
       "      <td>0.0</td>\n",
       "      <td>0.0</td>\n",
       "      <td>0.0</td>\n",
       "      <td>0.0</td>\n",
       "      <td>0.0</td>\n",
       "      <td>0.0</td>\n",
       "      <td>0.0</td>\n",
       "      <td>0.0</td>\n",
       "      <td>...</td>\n",
       "      <td>0.0</td>\n",
       "      <td>1.0</td>\n",
       "      <td>0.0</td>\n",
       "      <td>0.0</td>\n",
       "      <td>0.0</td>\n",
       "      <td>1.0</td>\n",
       "      <td>0.0</td>\n",
       "      <td>0.0</td>\n",
       "      <td>0.0</td>\n",
       "      <td>0.0</td>\n",
       "    </tr>\n",
       "  </tbody>\n",
       "</table>\n",
       "<p>5 rows × 21 columns</p>\n",
       "</div>"
      ],
      "text/plain": [
       "   CustomerId CountryISOCode  Age10-15  Age15-20  Age20-25  Age25-30  \\\n",
       "0  17860216.0             GB       0.0       0.0       0.0       0.0   \n",
       "1  10588204.0             FR       0.0       0.0       0.0       0.0   \n",
       "2  17841489.0             DE       0.0       0.0       0.0       0.0   \n",
       "3  17849688.0             DE       0.0       0.0       0.0       0.0   \n",
       "4  12916644.0             FR       0.0       0.0       0.0       0.0   \n",
       "\n",
       "   Age30-35  Age35-40  Age40-45  Age45-50       ...         Age55-60  Sexe  \\\n",
       "0       0.0       0.0       0.0       0.0       ...              0.0   1.0   \n",
       "1       0.0       0.0       0.0       0.0       ...              0.0   1.0   \n",
       "2       0.0       0.0       0.0       0.0       ...              0.0   0.0   \n",
       "3       0.0       0.0       0.0       0.0       ...              0.0   0.0   \n",
       "4       0.0       0.0       0.0       0.0       ...              0.0   1.0   \n",
       "\n",
       "   FirstOrder-3Y  FirstOrder-4Y  FirstOrder-5Y  FirstOrder-6Y  FirstOrder-7Y  \\\n",
       "0            1.0            0.0            0.0            0.0            0.0   \n",
       "1            1.0            0.0            0.0            0.0            0.0   \n",
       "2            1.0            0.0            0.0            0.0            0.0   \n",
       "3            1.0            0.0            0.0            0.0            0.0   \n",
       "4            0.0            0.0            0.0            1.0            0.0   \n",
       "\n",
       "   FirstOrder-8Y  FirstOrder-9Y  FirstOrder-10Y+  \n",
       "0            0.0            0.0              0.0  \n",
       "1            0.0            0.0              0.0  \n",
       "2            0.0            0.0              0.0  \n",
       "3            0.0            0.0              0.0  \n",
       "4            0.0            0.0              0.0  \n",
       "\n",
       "[5 rows x 21 columns]"
      ]
     },
     "execution_count": 17,
     "metadata": {},
     "output_type": "execute_result"
    }
   ],
   "source": [
    "customers.head()"
   ]
  },
  {
   "cell_type": "markdown",
   "metadata": {},
   "source": [
    "# ORDERS"
   ]
  },
  {
   "cell_type": "code",
   "execution_count": 18,
   "metadata": {
    "collapsed": true
   },
   "outputs": [],
   "source": [
    "orders = X_train"
   ]
  },
  {
   "cell_type": "markdown",
   "metadata": {},
   "source": [
    "### LineItem -> LineItem binary position"
   ]
  },
  {
   "cell_type": "code",
   "execution_count": 19,
   "metadata": {
    "collapsed": true
   },
   "outputs": [],
   "source": [
    "for i in range(1,5):\n",
    "    orders['LineItem' + '_' + str(i) ] = (orders['LineItem']==i).astype('float')\n",
    "orders['LineItem_5+'] = (orders['LineItem']>=5).astype('float')"
   ]
  },
  {
   "cell_type": "markdown",
   "metadata": {},
   "source": [
    "### OrderStatusLabel -> Binary (Expedie = 1)"
   ]
  },
  {
   "cell_type": "code",
   "execution_count": 20,
   "metadata": {
    "collapsed": true
   },
   "outputs": [],
   "source": [
    "orders['OrderStatus'] = orders['OrderStatusLabel'].eq('Expédié').astype('float')"
   ]
  },
  {
   "cell_type": "markdown",
   "metadata": {},
   "source": [
    "### OrderTypelabel -> Binary (DIRECT = 1)"
   ]
  },
  {
   "cell_type": "code",
   "execution_count": 21,
   "metadata": {
    "collapsed": true
   },
   "outputs": [],
   "source": [
    "orders['OrderType'] = orders['OrderTypelabel'].eq('DIRECT').astype('float')"
   ]
  },
  {
   "cell_type": "markdown",
   "metadata": {},
   "source": [
    "### SeasonLabel -> Binary (Automne/Hiver = 1)"
   ]
  },
  {
   "cell_type": "code",
   "execution_count": 22,
   "metadata": {
    "collapsed": true
   },
   "outputs": [],
   "source": [
    "orders['Season'] = orders['SeasonLabel'].eq('Automne/Hiver').astype('float')"
   ]
  },
  {
   "cell_type": "markdown",
   "metadata": {},
   "source": [
    "### PayementModeLabel -> Binary Payement Mode"
   ]
  },
  {
   "cell_type": "code",
   "execution_count": 23,
   "metadata": {},
   "outputs": [
    {
     "data": {
      "text/plain": [
       "'7 colonne(s) ont étaient ajoutées à la DataFrame'"
      ]
     },
     "execution_count": 23,
     "metadata": {},
     "output_type": "execute_result"
    }
   ],
   "source": [
    "Label = [['Carte','maestro'],['PayPal'],['Gratuit'],['iDeal'],['que'],['Bank'],['DHL']]\n",
    "creation(orders,'PayementModeLabel',Label)"
   ]
  },
  {
   "cell_type": "markdown",
   "metadata": {},
   "source": [
    "### CustomerTypeLabel -> Binary Type (Fidelise = 1)"
   ]
  },
  {
   "cell_type": "code",
   "execution_count": 24,
   "metadata": {
    "collapsed": true
   },
   "outputs": [],
   "source": [
    "orders['CustomerType'] = orders['CustomerTypeLabel'].eq('Fidélisé').astype('float')"
   ]
  },
  {
   "cell_type": "markdown",
   "metadata": {},
   "source": [
    "### IsoCode : Inchangé"
   ]
  },
  {
   "cell_type": "markdown",
   "metadata": {},
   "source": [
    "### DeviceTypeLabel  (attention, ND majoritaire)"
   ]
  },
  {
   "cell_type": "code",
   "execution_count": 25,
   "metadata": {},
   "outputs": [
    {
     "data": {
      "text/plain": [
       "'3 colonne(s) ont étaient ajoutées à la DataFrame'"
      ]
     },
     "execution_count": 25,
     "metadata": {},
     "output_type": "execute_result"
    }
   ],
   "source": [
    "Label2 = [['Desktop'],['Tablet'],['Mobile']]\n",
    "creation(orders,'DeviceTypeLabel',Label2)"
   ]
  },
  {
   "cell_type": "markdown",
   "metadata": {},
   "source": [
    "### PricingTypeLabel -> Binary Type"
   ]
  },
  {
   "cell_type": "code",
   "execution_count": 26,
   "metadata": {},
   "outputs": [
    {
     "data": {
      "text/plain": [
       "'5 colonne(s) ont étaient ajoutées à la DataFrame'"
      ]
     },
     "execution_count": 26,
     "metadata": {},
     "output_type": "execute_result"
    }
   ],
   "source": [
    "Label3 = [['Plein'],['Soldes'],['Avec CP'],['Sans CP'],['Vente Priv']]\n",
    "creation(orders,'PricingTypeLabel',Label3)"
   ]
  },
  {
   "cell_type": "markdown",
   "metadata": {},
   "source": [
    "### TotalLineItems -> Same as LineItem"
   ]
  },
  {
   "cell_type": "code",
   "execution_count": 27,
   "metadata": {
    "collapsed": true
   },
   "outputs": [],
   "source": [
    "for i in range(1,6):\n",
    "    orders['TotalLineItems' + '_' + str(i) ] = (orders['TotalLineItems']==i).astype('float')\n",
    "orders['TotalLineItems_6+'] = (orders['TotalLineItems']>=6).astype('float')"
   ]
  },
  {
   "cell_type": "markdown",
   "metadata": {},
   "source": [
    "### OrderCreationDate -> Categories based on order creation hour"
   ]
  },
  {
   "cell_type": "code",
   "execution_count": 28,
   "metadata": {
    "collapsed": true
   },
   "outputs": [],
   "source": [
    "orders['OrderCreationDate'] = orders['OrderCreationDate'].apply(lambda x : datetime.strptime(x, '%Y-%m-%d %H:%M:%S') )"
   ]
  },
  {
   "cell_type": "code",
   "execution_count": 29,
   "metadata": {
    "collapsed": true
   },
   "outputs": [],
   "source": [
    "temp = orders['OrderCreationDate'].apply(lambda x : x.hour)\n",
    "\n",
    "orders['Hour_21H_1H'] = ((temp<=1) | (temp>=21)).astype('float')"
   ]
  },
  {
   "cell_type": "markdown",
   "metadata": {},
   "source": [
    "### OrderShipDate -> on pense que la date d'envoi ne joue pas dans le retour du produit"
   ]
  },
  {
   "cell_type": "code",
   "execution_count": 30,
   "metadata": {},
   "outputs": [
    {
     "data": {
      "text/html": [
       "<div>\n",
       "<style>\n",
       "    .dataframe thead tr:only-child th {\n",
       "        text-align: right;\n",
       "    }\n",
       "\n",
       "    .dataframe thead th {\n",
       "        text-align: left;\n",
       "    }\n",
       "\n",
       "    .dataframe tbody tr th {\n",
       "        vertical-align: top;\n",
       "    }\n",
       "</style>\n",
       "<table border=\"1\" class=\"dataframe\">\n",
       "  <thead>\n",
       "    <tr style=\"text-align: right;\">\n",
       "      <th></th>\n",
       "      <th>OrderNumber</th>\n",
       "      <th>VariantId</th>\n",
       "      <th>LineItem</th>\n",
       "      <th>CustomerId</th>\n",
       "      <th>OrderStatusLabel</th>\n",
       "      <th>OrderTypelabel</th>\n",
       "      <th>SeasonLabel</th>\n",
       "      <th>PayementModeLabel</th>\n",
       "      <th>CustomerTypeLabel</th>\n",
       "      <th>IsoCode</th>\n",
       "      <th>...</th>\n",
       "      <th>Avec CP</th>\n",
       "      <th>Sans CP</th>\n",
       "      <th>Vente Priv</th>\n",
       "      <th>TotalLineItems_1</th>\n",
       "      <th>TotalLineItems_2</th>\n",
       "      <th>TotalLineItems_3</th>\n",
       "      <th>TotalLineItems_4</th>\n",
       "      <th>TotalLineItems_5</th>\n",
       "      <th>TotalLineItems_6+</th>\n",
       "      <th>Hour_21H_1H</th>\n",
       "    </tr>\n",
       "  </thead>\n",
       "  <tbody>\n",
       "    <tr>\n",
       "      <th>0</th>\n",
       "      <td>73521754</td>\n",
       "      <td>439729</td>\n",
       "      <td>1</td>\n",
       "      <td>12443972</td>\n",
       "      <td>Expédié</td>\n",
       "      <td>DIRECT</td>\n",
       "      <td>Automne/Hiver</td>\n",
       "      <td>Carte bancaire</td>\n",
       "      <td>Nouveau</td>\n",
       "      <td>FR</td>\n",
       "      <td>...</td>\n",
       "      <td>0.0</td>\n",
       "      <td>0.0</td>\n",
       "      <td>0.0</td>\n",
       "      <td>0.0</td>\n",
       "      <td>1.0</td>\n",
       "      <td>0.0</td>\n",
       "      <td>0.0</td>\n",
       "      <td>0.0</td>\n",
       "      <td>0.0</td>\n",
       "      <td>0.0</td>\n",
       "    </tr>\n",
       "    <tr>\n",
       "      <th>1</th>\n",
       "      <td>73521754</td>\n",
       "      <td>440174</td>\n",
       "      <td>2</td>\n",
       "      <td>12443972</td>\n",
       "      <td>Expédié</td>\n",
       "      <td>DIRECT</td>\n",
       "      <td>Automne/Hiver</td>\n",
       "      <td>Carte bancaire</td>\n",
       "      <td>Nouveau</td>\n",
       "      <td>FR</td>\n",
       "      <td>...</td>\n",
       "      <td>0.0</td>\n",
       "      <td>0.0</td>\n",
       "      <td>0.0</td>\n",
       "      <td>0.0</td>\n",
       "      <td>1.0</td>\n",
       "      <td>0.0</td>\n",
       "      <td>0.0</td>\n",
       "      <td>0.0</td>\n",
       "      <td>0.0</td>\n",
       "      <td>0.0</td>\n",
       "    </tr>\n",
       "    <tr>\n",
       "      <th>2</th>\n",
       "      <td>73525226</td>\n",
       "      <td>494501</td>\n",
       "      <td>1</td>\n",
       "      <td>12443958</td>\n",
       "      <td>Expédié</td>\n",
       "      <td>DIRECT</td>\n",
       "      <td>Automne/Hiver</td>\n",
       "      <td>Carte bancaire</td>\n",
       "      <td>Nouveau</td>\n",
       "      <td>FR</td>\n",
       "      <td>...</td>\n",
       "      <td>0.0</td>\n",
       "      <td>0.0</td>\n",
       "      <td>0.0</td>\n",
       "      <td>1.0</td>\n",
       "      <td>0.0</td>\n",
       "      <td>0.0</td>\n",
       "      <td>0.0</td>\n",
       "      <td>0.0</td>\n",
       "      <td>0.0</td>\n",
       "      <td>0.0</td>\n",
       "    </tr>\n",
       "    <tr>\n",
       "      <th>3</th>\n",
       "      <td>73529009</td>\n",
       "      <td>439590</td>\n",
       "      <td>1</td>\n",
       "      <td>12443946</td>\n",
       "      <td>Expédié</td>\n",
       "      <td>DIRECT</td>\n",
       "      <td>Automne/Hiver</td>\n",
       "      <td>Carte bancaire</td>\n",
       "      <td>Nouveau</td>\n",
       "      <td>FR</td>\n",
       "      <td>...</td>\n",
       "      <td>0.0</td>\n",
       "      <td>0.0</td>\n",
       "      <td>0.0</td>\n",
       "      <td>0.0</td>\n",
       "      <td>1.0</td>\n",
       "      <td>0.0</td>\n",
       "      <td>0.0</td>\n",
       "      <td>0.0</td>\n",
       "      <td>0.0</td>\n",
       "      <td>0.0</td>\n",
       "    </tr>\n",
       "    <tr>\n",
       "      <th>4</th>\n",
       "      <td>73529009</td>\n",
       "      <td>559476</td>\n",
       "      <td>2</td>\n",
       "      <td>12443946</td>\n",
       "      <td>Expédié</td>\n",
       "      <td>DIRECT</td>\n",
       "      <td>Automne/Hiver</td>\n",
       "      <td>Carte bancaire</td>\n",
       "      <td>Nouveau</td>\n",
       "      <td>FR</td>\n",
       "      <td>...</td>\n",
       "      <td>0.0</td>\n",
       "      <td>0.0</td>\n",
       "      <td>0.0</td>\n",
       "      <td>0.0</td>\n",
       "      <td>1.0</td>\n",
       "      <td>0.0</td>\n",
       "      <td>0.0</td>\n",
       "      <td>0.0</td>\n",
       "      <td>0.0</td>\n",
       "      <td>0.0</td>\n",
       "    </tr>\n",
       "  </tbody>\n",
       "</table>\n",
       "<p>5 rows × 51 columns</p>\n",
       "</div>"
      ],
      "text/plain": [
       "   OrderNumber  VariantId  LineItem  CustomerId OrderStatusLabel  \\\n",
       "0     73521754     439729         1    12443972          Expédié   \n",
       "1     73521754     440174         2    12443972          Expédié   \n",
       "2     73525226     494501         1    12443958          Expédié   \n",
       "3     73529009     439590         1    12443946          Expédié   \n",
       "4     73529009     559476         2    12443946          Expédié   \n",
       "\n",
       "  OrderTypelabel    SeasonLabel PayementModeLabel CustomerTypeLabel IsoCode  \\\n",
       "0         DIRECT  Automne/Hiver    Carte bancaire           Nouveau      FR   \n",
       "1         DIRECT  Automne/Hiver    Carte bancaire           Nouveau      FR   \n",
       "2         DIRECT  Automne/Hiver    Carte bancaire           Nouveau      FR   \n",
       "3         DIRECT  Automne/Hiver    Carte bancaire           Nouveau      FR   \n",
       "4         DIRECT  Automne/Hiver    Carte bancaire           Nouveau      FR   \n",
       "\n",
       "      ...     Avec CP Sans CP  Vente Priv  TotalLineItems_1 TotalLineItems_2  \\\n",
       "0     ...         0.0     0.0         0.0               0.0              1.0   \n",
       "1     ...         0.0     0.0         0.0               0.0              1.0   \n",
       "2     ...         0.0     0.0         0.0               1.0              0.0   \n",
       "3     ...         0.0     0.0         0.0               0.0              1.0   \n",
       "4     ...         0.0     0.0         0.0               0.0              1.0   \n",
       "\n",
       "  TotalLineItems_3 TotalLineItems_4  TotalLineItems_5  TotalLineItems_6+  \\\n",
       "0              0.0              0.0               0.0                0.0   \n",
       "1              0.0              0.0               0.0                0.0   \n",
       "2              0.0              0.0               0.0                0.0   \n",
       "3              0.0              0.0               0.0                0.0   \n",
       "4              0.0              0.0               0.0                0.0   \n",
       "\n",
       "  Hour_21H_1H  \n",
       "0         0.0  \n",
       "1         0.0  \n",
       "2         0.0  \n",
       "3         0.0  \n",
       "4         0.0  \n",
       "\n",
       "[5 rows x 51 columns]"
      ]
     },
     "execution_count": 30,
     "metadata": {},
     "output_type": "execute_result"
    }
   ],
   "source": [
    "orders.head()"
   ]
  },
  {
   "cell_type": "code",
   "execution_count": 31,
   "metadata": {},
   "outputs": [
    {
     "data": {
      "text/plain": [
       "Index(['OrderNumber', 'VariantId', 'LineItem', 'CustomerId',\n",
       "       'OrderStatusLabel', 'OrderTypelabel', 'SeasonLabel',\n",
       "       'PayementModeLabel', 'CustomerTypeLabel', 'IsoCode', 'DeviceTypeLabel',\n",
       "       'PricingTypeLabel', 'TotalLineItems', 'Quantity', 'UnitPMPEUR',\n",
       "       'OrderCreationDate', 'OrderShipDate', 'OrderNumCustomer', 'IsOnSale',\n",
       "       'BillingPostalCode', 'LineItem_1', 'LineItem_2', 'LineItem_3',\n",
       "       'LineItem_4', 'LineItem_5+', 'OrderStatus', 'OrderType', 'Season',\n",
       "       'maestro', 'PayPal', 'Gratuit', 'iDeal', 'que', 'Bank', 'DHL',\n",
       "       'CustomerType', 'Desktop', 'Tablet', 'Mobile', 'Plein', 'Soldes',\n",
       "       'Avec CP', 'Sans CP', 'Vente Priv', 'TotalLineItems_1',\n",
       "       'TotalLineItems_2', 'TotalLineItems_3', 'TotalLineItems_4',\n",
       "       'TotalLineItems_5', 'TotalLineItems_6+', 'Hour_21H_1H'],\n",
       "      dtype='object')"
      ]
     },
     "execution_count": 31,
     "metadata": {},
     "output_type": "execute_result"
    }
   ],
   "source": [
    "orders.columns"
   ]
  },
  {
   "cell_type": "code",
   "execution_count": 32,
   "metadata": {
    "collapsed": true
   },
   "outputs": [],
   "source": [
    "# delete columns \n",
    "del orders['OrderNumber']\n",
    "#del orders['VariantId'] # Necssaire pour merge orders/products\n",
    "del orders['LineItem']\n",
    "#del orders['CustomerId'] # Necessaire pour merge orders/customers\n",
    "del orders['OrderStatusLabel']\n",
    "del orders['OrderTypelabel']\n",
    "del orders['SeasonLabel']\n",
    "del orders['PayementModeLabel']\n",
    "del orders['CustomerTypeLabel']\n",
    "del orders['DeviceTypeLabel']\n",
    "del orders['PricingTypeLabel']\n",
    "del orders['TotalLineItems']\n",
    "del orders['OrderCreationDate']\n",
    "del orders['OrderShipDate']\n",
    "del orders['BillingPostalCode']\n",
    "# del orders['OrderNumCustomer']  # Le garder et voir statistiques dessus, pas traité."
   ]
  },
  {
   "cell_type": "code",
   "execution_count": 33,
   "metadata": {
    "collapsed": true
   },
   "outputs": [],
   "source": [
    "orders = orders.fillna(0)"
   ]
  },
  {
   "cell_type": "code",
   "execution_count": 34,
   "metadata": {},
   "outputs": [
    {
     "data": {
      "text/html": [
       "<div>\n",
       "<style>\n",
       "    .dataframe thead tr:only-child th {\n",
       "        text-align: right;\n",
       "    }\n",
       "\n",
       "    .dataframe thead th {\n",
       "        text-align: left;\n",
       "    }\n",
       "\n",
       "    .dataframe tbody tr th {\n",
       "        vertical-align: top;\n",
       "    }\n",
       "</style>\n",
       "<table border=\"1\" class=\"dataframe\">\n",
       "  <thead>\n",
       "    <tr style=\"text-align: right;\">\n",
       "      <th></th>\n",
       "      <th>VariantId</th>\n",
       "      <th>CustomerId</th>\n",
       "      <th>IsoCode</th>\n",
       "      <th>Quantity</th>\n",
       "      <th>UnitPMPEUR</th>\n",
       "      <th>OrderNumCustomer</th>\n",
       "      <th>IsOnSale</th>\n",
       "      <th>LineItem_1</th>\n",
       "      <th>LineItem_2</th>\n",
       "      <th>LineItem_3</th>\n",
       "      <th>...</th>\n",
       "      <th>Avec CP</th>\n",
       "      <th>Sans CP</th>\n",
       "      <th>Vente Priv</th>\n",
       "      <th>TotalLineItems_1</th>\n",
       "      <th>TotalLineItems_2</th>\n",
       "      <th>TotalLineItems_3</th>\n",
       "      <th>TotalLineItems_4</th>\n",
       "      <th>TotalLineItems_5</th>\n",
       "      <th>TotalLineItems_6+</th>\n",
       "      <th>Hour_21H_1H</th>\n",
       "    </tr>\n",
       "  </thead>\n",
       "  <tbody>\n",
       "    <tr>\n",
       "      <th>0</th>\n",
       "      <td>439729</td>\n",
       "      <td>12443972</td>\n",
       "      <td>FR</td>\n",
       "      <td>1</td>\n",
       "      <td>52,64</td>\n",
       "      <td>1</td>\n",
       "      <td>0.0</td>\n",
       "      <td>1.0</td>\n",
       "      <td>0.0</td>\n",
       "      <td>0.0</td>\n",
       "      <td>...</td>\n",
       "      <td>0.0</td>\n",
       "      <td>0.0</td>\n",
       "      <td>0.0</td>\n",
       "      <td>0.0</td>\n",
       "      <td>1.0</td>\n",
       "      <td>0.0</td>\n",
       "      <td>0.0</td>\n",
       "      <td>0.0</td>\n",
       "      <td>0.0</td>\n",
       "      <td>0.0</td>\n",
       "    </tr>\n",
       "    <tr>\n",
       "      <th>1</th>\n",
       "      <td>440174</td>\n",
       "      <td>12443972</td>\n",
       "      <td>FR</td>\n",
       "      <td>1</td>\n",
       "      <td>52,64</td>\n",
       "      <td>1</td>\n",
       "      <td>0.0</td>\n",
       "      <td>0.0</td>\n",
       "      <td>1.0</td>\n",
       "      <td>0.0</td>\n",
       "      <td>...</td>\n",
       "      <td>0.0</td>\n",
       "      <td>0.0</td>\n",
       "      <td>0.0</td>\n",
       "      <td>0.0</td>\n",
       "      <td>1.0</td>\n",
       "      <td>0.0</td>\n",
       "      <td>0.0</td>\n",
       "      <td>0.0</td>\n",
       "      <td>0.0</td>\n",
       "      <td>0.0</td>\n",
       "    </tr>\n",
       "    <tr>\n",
       "      <th>2</th>\n",
       "      <td>494501</td>\n",
       "      <td>12443958</td>\n",
       "      <td>FR</td>\n",
       "      <td>1</td>\n",
       "      <td>13,17</td>\n",
       "      <td>1</td>\n",
       "      <td>0.0</td>\n",
       "      <td>1.0</td>\n",
       "      <td>0.0</td>\n",
       "      <td>0.0</td>\n",
       "      <td>...</td>\n",
       "      <td>0.0</td>\n",
       "      <td>0.0</td>\n",
       "      <td>0.0</td>\n",
       "      <td>1.0</td>\n",
       "      <td>0.0</td>\n",
       "      <td>0.0</td>\n",
       "      <td>0.0</td>\n",
       "      <td>0.0</td>\n",
       "      <td>0.0</td>\n",
       "      <td>0.0</td>\n",
       "    </tr>\n",
       "    <tr>\n",
       "      <th>3</th>\n",
       "      <td>439590</td>\n",
       "      <td>12443946</td>\n",
       "      <td>FR</td>\n",
       "      <td>1</td>\n",
       "      <td>56,4</td>\n",
       "      <td>1</td>\n",
       "      <td>0.0</td>\n",
       "      <td>1.0</td>\n",
       "      <td>0.0</td>\n",
       "      <td>0.0</td>\n",
       "      <td>...</td>\n",
       "      <td>0.0</td>\n",
       "      <td>0.0</td>\n",
       "      <td>0.0</td>\n",
       "      <td>0.0</td>\n",
       "      <td>1.0</td>\n",
       "      <td>0.0</td>\n",
       "      <td>0.0</td>\n",
       "      <td>0.0</td>\n",
       "      <td>0.0</td>\n",
       "      <td>0.0</td>\n",
       "    </tr>\n",
       "    <tr>\n",
       "      <th>4</th>\n",
       "      <td>559476</td>\n",
       "      <td>12443946</td>\n",
       "      <td>FR</td>\n",
       "      <td>1</td>\n",
       "      <td>37</td>\n",
       "      <td>1</td>\n",
       "      <td>0.0</td>\n",
       "      <td>0.0</td>\n",
       "      <td>1.0</td>\n",
       "      <td>0.0</td>\n",
       "      <td>...</td>\n",
       "      <td>0.0</td>\n",
       "      <td>0.0</td>\n",
       "      <td>0.0</td>\n",
       "      <td>0.0</td>\n",
       "      <td>1.0</td>\n",
       "      <td>0.0</td>\n",
       "      <td>0.0</td>\n",
       "      <td>0.0</td>\n",
       "      <td>0.0</td>\n",
       "      <td>0.0</td>\n",
       "    </tr>\n",
       "  </tbody>\n",
       "</table>\n",
       "<p>5 rows × 38 columns</p>\n",
       "</div>"
      ],
      "text/plain": [
       "   VariantId  CustomerId IsoCode  Quantity UnitPMPEUR  OrderNumCustomer  \\\n",
       "0     439729    12443972      FR         1      52,64                 1   \n",
       "1     440174    12443972      FR         1      52,64                 1   \n",
       "2     494501    12443958      FR         1      13,17                 1   \n",
       "3     439590    12443946      FR         1       56,4                 1   \n",
       "4     559476    12443946      FR         1         37                 1   \n",
       "\n",
       "   IsOnSale  LineItem_1  LineItem_2  LineItem_3     ...       Avec CP  \\\n",
       "0       0.0         1.0         0.0         0.0     ...           0.0   \n",
       "1       0.0         0.0         1.0         0.0     ...           0.0   \n",
       "2       0.0         1.0         0.0         0.0     ...           0.0   \n",
       "3       0.0         1.0         0.0         0.0     ...           0.0   \n",
       "4       0.0         0.0         1.0         0.0     ...           0.0   \n",
       "\n",
       "   Sans CP  Vente Priv  TotalLineItems_1  TotalLineItems_2  TotalLineItems_3  \\\n",
       "0      0.0         0.0               0.0               1.0               0.0   \n",
       "1      0.0         0.0               0.0               1.0               0.0   \n",
       "2      0.0         0.0               1.0               0.0               0.0   \n",
       "3      0.0         0.0               0.0               1.0               0.0   \n",
       "4      0.0         0.0               0.0               1.0               0.0   \n",
       "\n",
       "   TotalLineItems_4  TotalLineItems_5  TotalLineItems_6+  Hour_21H_1H  \n",
       "0               0.0               0.0                0.0          0.0  \n",
       "1               0.0               0.0                0.0          0.0  \n",
       "2               0.0               0.0                0.0          0.0  \n",
       "3               0.0               0.0                0.0          0.0  \n",
       "4               0.0               0.0                0.0          0.0  \n",
       "\n",
       "[5 rows x 38 columns]"
      ]
     },
     "execution_count": 34,
     "metadata": {},
     "output_type": "execute_result"
    }
   ],
   "source": [
    "orders.head()"
   ]
  },
  {
   "cell_type": "markdown",
   "metadata": {},
   "source": [
    "# Products"
   ]
  },
  {
   "cell_type": "code",
   "execution_count": 35,
   "metadata": {},
   "outputs": [
    {
     "data": {
      "text/html": [
       "<div>\n",
       "<style>\n",
       "    .dataframe thead tr:only-child th {\n",
       "        text-align: right;\n",
       "    }\n",
       "\n",
       "    .dataframe thead th {\n",
       "        text-align: left;\n",
       "    }\n",
       "\n",
       "    .dataframe tbody tr th {\n",
       "        vertical-align: top;\n",
       "    }\n",
       "</style>\n",
       "<table border=\"1\" class=\"dataframe\">\n",
       "  <thead>\n",
       "    <tr style=\"text-align: right;\">\n",
       "      <th></th>\n",
       "      <th>VariantId</th>\n",
       "      <th>GenderLabel</th>\n",
       "      <th>MarketTargetLabel</th>\n",
       "      <th>SeasonLabel</th>\n",
       "      <th>SeasonalityLabel</th>\n",
       "      <th>BrandId</th>\n",
       "      <th>UniverseLabel</th>\n",
       "      <th>TypeBrand</th>\n",
       "      <th>ProductId</th>\n",
       "      <th>ProductType</th>\n",
       "      <th>...</th>\n",
       "      <th>UpperHeight</th>\n",
       "      <th>HeelHeight</th>\n",
       "      <th>PurchasePriceHT</th>\n",
       "      <th>IsNewCollection</th>\n",
       "      <th>SubtypeLabel</th>\n",
       "      <th>UpperMaterialLabel</th>\n",
       "      <th>LiningMaterialLabel</th>\n",
       "      <th>OutSoleMaterialLabel</th>\n",
       "      <th>RemovableSole</th>\n",
       "      <th>SizeAdviceDescription</th>\n",
       "    </tr>\n",
       "  </thead>\n",
       "  <tbody>\n",
       "    <tr>\n",
       "      <th>0</th>\n",
       "      <td>728257.0</td>\n",
       "      <td>Homme</td>\n",
       "      <td>Classique</td>\n",
       "      <td>Automne/Hiver</td>\n",
       "      <td>Saisonnier</td>\n",
       "      <td>66.0</td>\n",
       "      <td>DÃ©tente</td>\n",
       "      <td>Standard</td>\n",
       "      <td>17267.0</td>\n",
       "      <td>Baskets</td>\n",
       "      <td>...</td>\n",
       "      <td>NaN</td>\n",
       "      <td>0.0</td>\n",
       "      <td>30.50</td>\n",
       "      <td>0.0</td>\n",
       "      <td>Montantes</td>\n",
       "      <td>NaN</td>\n",
       "      <td>NaN</td>\n",
       "      <td>NaN</td>\n",
       "      <td>False</td>\n",
       "      <td>Prenez une taille en dessous de votre pointure...</td>\n",
       "    </tr>\n",
       "    <tr>\n",
       "      <th>1</th>\n",
       "      <td>806356.0</td>\n",
       "      <td>Femme</td>\n",
       "      <td>ND</td>\n",
       "      <td>Automne/Hiver</td>\n",
       "      <td>Saisonnier</td>\n",
       "      <td>842.0</td>\n",
       "      <td>ND</td>\n",
       "      <td>Standard</td>\n",
       "      <td>30824.0</td>\n",
       "      <td>Baskets</td>\n",
       "      <td>...</td>\n",
       "      <td>0.0</td>\n",
       "      <td>0.0</td>\n",
       "      <td>43.00</td>\n",
       "      <td>0.0</td>\n",
       "      <td>Montantes</td>\n",
       "      <td>NaN</td>\n",
       "      <td>NaN</td>\n",
       "      <td>NaN</td>\n",
       "      <td>True</td>\n",
       "      <td>Prenez votre pointure habituelle</td>\n",
       "    </tr>\n",
       "    <tr>\n",
       "      <th>2</th>\n",
       "      <td>768790.0</td>\n",
       "      <td>Femme</td>\n",
       "      <td>ND</td>\n",
       "      <td>Automne/Hiver</td>\n",
       "      <td>Reconduit</td>\n",
       "      <td>988.0</td>\n",
       "      <td>Ville</td>\n",
       "      <td>Standard</td>\n",
       "      <td>62475.0</td>\n",
       "      <td>Bottines et boots</td>\n",
       "      <td>...</td>\n",
       "      <td>6.0</td>\n",
       "      <td>3.0</td>\n",
       "      <td>54.90</td>\n",
       "      <td>0.0</td>\n",
       "      <td>Bout pointu</td>\n",
       "      <td>NaN</td>\n",
       "      <td>NaN</td>\n",
       "      <td>NaN</td>\n",
       "      <td>False</td>\n",
       "      <td>Prenez votre pointure habituelle</td>\n",
       "    </tr>\n",
       "    <tr>\n",
       "      <th>3</th>\n",
       "      <td>515679.0</td>\n",
       "      <td>Femme</td>\n",
       "      <td>ND</td>\n",
       "      <td>Automne/Hiver</td>\n",
       "      <td>Saisonnier</td>\n",
       "      <td>769.0</td>\n",
       "      <td>Ville</td>\n",
       "      <td>Standard</td>\n",
       "      <td>43983.0</td>\n",
       "      <td>Escarpins</td>\n",
       "      <td>...</td>\n",
       "      <td>0.0</td>\n",
       "      <td>13.0</td>\n",
       "      <td>34.50</td>\n",
       "      <td>0.0</td>\n",
       "      <td>Bout rond</td>\n",
       "      <td>NaN</td>\n",
       "      <td>NaN</td>\n",
       "      <td>NaN</td>\n",
       "      <td>False</td>\n",
       "      <td>Prenez votre pointure habituelle</td>\n",
       "    </tr>\n",
       "    <tr>\n",
       "      <th>4</th>\n",
       "      <td>1025246.0</td>\n",
       "      <td>Femme</td>\n",
       "      <td>ND</td>\n",
       "      <td>Automne/Hiver</td>\n",
       "      <td>Saisonnier</td>\n",
       "      <td>1244.0</td>\n",
       "      <td>ND</td>\n",
       "      <td>Standard</td>\n",
       "      <td>81493.0</td>\n",
       "      <td>Bottines et boots</td>\n",
       "      <td>...</td>\n",
       "      <td>8.0</td>\n",
       "      <td>4.0</td>\n",
       "      <td>43.76</td>\n",
       "      <td>0.0</td>\n",
       "      <td>Bout rond</td>\n",
       "      <td>NaN</td>\n",
       "      <td>NaN</td>\n",
       "      <td>NaN</td>\n",
       "      <td>False</td>\n",
       "      <td>Prenez votre pointure habituelle</td>\n",
       "    </tr>\n",
       "  </tbody>\n",
       "</table>\n",
       "<p>5 rows × 25 columns</p>\n",
       "</div>"
      ],
      "text/plain": [
       "   VariantId GenderLabel MarketTargetLabel    SeasonLabel SeasonalityLabel  \\\n",
       "0   728257.0       Homme         Classique  Automne/Hiver       Saisonnier   \n",
       "1   806356.0       Femme                ND  Automne/Hiver       Saisonnier   \n",
       "2   768790.0       Femme                ND  Automne/Hiver        Reconduit   \n",
       "3   515679.0       Femme                ND  Automne/Hiver       Saisonnier   \n",
       "4  1025246.0       Femme                ND  Automne/Hiver       Saisonnier   \n",
       "\n",
       "   BrandId UniverseLabel TypeBrand  ProductId        ProductType  \\\n",
       "0     66.0      DÃ©tente  Standard    17267.0            Baskets   \n",
       "1    842.0            ND  Standard    30824.0            Baskets   \n",
       "2    988.0         Ville  Standard    62475.0  Bottines et boots   \n",
       "3    769.0         Ville  Standard    43983.0          Escarpins   \n",
       "4   1244.0            ND  Standard    81493.0  Bottines et boots   \n",
       "\n",
       "                         ...                         UpperHeight  HeelHeight  \\\n",
       "0                        ...                                 NaN         0.0   \n",
       "1                        ...                                 0.0         0.0   \n",
       "2                        ...                                 6.0         3.0   \n",
       "3                        ...                                 0.0        13.0   \n",
       "4                        ...                                 8.0         4.0   \n",
       "\n",
       "   PurchasePriceHT  IsNewCollection  SubtypeLabel  UpperMaterialLabel  \\\n",
       "0            30.50              0.0     Montantes                 NaN   \n",
       "1            43.00              0.0     Montantes                 NaN   \n",
       "2            54.90              0.0   Bout pointu                 NaN   \n",
       "3            34.50              0.0     Bout rond                 NaN   \n",
       "4            43.76              0.0     Bout rond                 NaN   \n",
       "\n",
       "   LiningMaterialLabel  OutSoleMaterialLabel  RemovableSole  \\\n",
       "0                  NaN                   NaN          False   \n",
       "1                  NaN                   NaN           True   \n",
       "2                  NaN                   NaN          False   \n",
       "3                  NaN                   NaN          False   \n",
       "4                  NaN                   NaN          False   \n",
       "\n",
       "                               SizeAdviceDescription  \n",
       "0  Prenez une taille en dessous de votre pointure...  \n",
       "1                   Prenez votre pointure habituelle  \n",
       "2                   Prenez votre pointure habituelle  \n",
       "3                   Prenez votre pointure habituelle  \n",
       "4                   Prenez votre pointure habituelle  \n",
       "\n",
       "[5 rows x 25 columns]"
      ]
     },
     "execution_count": 35,
     "metadata": {},
     "output_type": "execute_result"
    }
   ],
   "source": [
    "products.head()"
   ]
  },
  {
   "cell_type": "markdown",
   "metadata": {},
   "source": [
    "#### 1) Fonction qui crée les colonnes nécessaires"
   ]
  },
  {
   "cell_type": "code",
   "execution_count": 36,
   "metadata": {
    "collapsed": true
   },
   "outputs": [],
   "source": [
    "def creation(Table,Colonne,Liste):\n",
    "    for element in Liste:     # On parcourt la liste en entier\n",
    "        names = []\n",
    "        for nuance in element:    # On parcourt chaque nuance de chaque sous-liste\n",
    "            name_col = nuance\n",
    "            name = Table[Colonne].str.contains(nuance).astype('float')\n",
    "            names.append(name)\n",
    "        \n",
    "        col = pd.Series(0,index = range(Table.shape[0]))\n",
    "        for column in names :\n",
    "            col = col+column\n",
    "        \n",
    "        Table[name_col] = col\n",
    "    return ('%d colonne(s) ont étaient ajoutées à la DataFrame' %(len(Liste)))"
   ]
  },
  {
   "cell_type": "markdown",
   "metadata": {},
   "source": [
    "#### 2) Analyse de la table"
   ]
  },
  {
   "cell_type": "code",
   "execution_count": 37,
   "metadata": {},
   "outputs": [
    {
     "data": {
      "text/plain": [
       "VariantId                float64\n",
       "GenderLabel               object\n",
       "MarketTargetLabel         object\n",
       "SeasonLabel               object\n",
       "SeasonalityLabel          object\n",
       "BrandId                  float64\n",
       "UniverseLabel             object\n",
       "TypeBrand                 object\n",
       "ProductId                float64\n",
       "ProductType               object\n",
       "SupplierColor             object\n",
       "ProductColorId           float64\n",
       "MinSize                  float64\n",
       "MaxSize                  float64\n",
       "CalfTurn                 float64\n",
       "UpperHeight              float64\n",
       "HeelHeight               float64\n",
       "PurchasePriceHT          float64\n",
       "IsNewCollection          float64\n",
       "SubtypeLabel              object\n",
       "UpperMaterialLabel        object\n",
       "LiningMaterialLabel       object\n",
       "OutSoleMaterialLabel      object\n",
       "RemovableSole             object\n",
       "SizeAdviceDescription     object\n",
       "dtype: object"
      ]
     },
     "execution_count": 37,
     "metadata": {},
     "output_type": "execute_result"
    }
   ],
   "source": [
    "products.dtypes"
   ]
  },
  {
   "cell_type": "markdown",
   "metadata": {},
   "source": [
    "#### 3) Modification+ajout de colonnes"
   ]
  },
  {
   "cell_type": "markdown",
   "metadata": {},
   "source": [
    "##### * Gender Label"
   ]
  },
  {
   "cell_type": "code",
   "execution_count": 38,
   "metadata": {},
   "outputs": [
    {
     "data": {
      "text/plain": [
       "'5 colonne(s) ont étaient ajoutées à la DataFrame'"
      ]
     },
     "execution_count": 38,
     "metadata": {},
     "output_type": "execute_result"
    }
   ],
   "source": [
    "Label = [['Femme'],['Enfant'],['Homme'],['Sacs'],['Accessoires']]\n",
    "creation(products,'GenderLabel',Label)"
   ]
  },
  {
   "cell_type": "markdown",
   "metadata": {},
   "source": [
    "##### *MarketTargetLabel"
   ]
  },
  {
   "cell_type": "code",
   "execution_count": 39,
   "metadata": {},
   "outputs": [
    {
     "data": {
      "text/plain": [
       "'7 colonne(s) ont étaient ajoutées à la DataFrame'"
      ]
     },
     "execution_count": 39,
     "metadata": {},
     "output_type": "execute_result"
    }
   ],
   "source": [
    "Label2 = [['Contemporaine','contemporain'],['Suiveur'],['Fashionistas'],['Classique'],['Confort'],['Baroudeur','Aventurier'],['Skate']]\n",
    "creation(products,'MarketTargetLabel',Label2)\n"
   ]
  },
  {
   "cell_type": "markdown",
   "metadata": {},
   "source": [
    "##### *SeasonLabel"
   ]
  },
  {
   "cell_type": "code",
   "execution_count": 40,
   "metadata": {
    "collapsed": true
   },
   "outputs": [],
   "source": [
    "Label3 = products['SeasonLabel'].eq('Automne/Hiver').astype('float')\n",
    "products['SeasonLabel'] = Label3"
   ]
  },
  {
   "cell_type": "markdown",
   "metadata": {},
   "source": [
    "##### *SeasonalityLabel"
   ]
  },
  {
   "cell_type": "code",
   "execution_count": 41,
   "metadata": {},
   "outputs": [
    {
     "data": {
      "text/plain": [
       "'3 colonne(s) ont étaient ajoutées à la DataFrame'"
      ]
     },
     "execution_count": 41,
     "metadata": {},
     "output_type": "execute_result"
    }
   ],
   "source": [
    "Label4 = [['Saisonnier'],['Reconduit'],['Permanent']]\n",
    "creation(products,'SeasonalityLabel',Label4)"
   ]
  },
  {
   "cell_type": "markdown",
   "metadata": {},
   "source": [
    "##### *BrandId"
   ]
  },
  {
   "cell_type": "code",
   "execution_count": 42,
   "metadata": {
    "collapsed": true
   },
   "outputs": [],
   "source": [
    "## Problème car représenté par des nombres donc ordonés mais il y en a trop"
   ]
  },
  {
   "cell_type": "markdown",
   "metadata": {},
   "source": [
    "##### *UniverseLabel"
   ]
  },
  {
   "cell_type": "code",
   "execution_count": 43,
   "metadata": {},
   "outputs": [
    {
     "data": {
      "text/plain": [
       "'7 colonne(s) ont étaient ajoutées à la DataFrame'"
      ]
     },
     "execution_count": 43,
     "metadata": {},
     "output_type": "execute_result"
    }
   ],
   "source": [
    "Label5 = [['tente'],['Ville'],['Sport'],['Green'],['Luxe'],['Confort'],['Soir']]\n",
    "creation(products,'UniverseLabel',Label5)"
   ]
  },
  {
   "cell_type": "markdown",
   "metadata": {},
   "source": [
    "##### *TypeBrand"
   ]
  },
  {
   "cell_type": "code",
   "execution_count": 44,
   "metadata": {},
   "outputs": [
    {
     "data": {
      "text/plain": [
       "'3 colonne(s) ont étaient ajoutées à la DataFrame'"
      ]
     },
     "execution_count": 44,
     "metadata": {},
     "output_type": "execute_result"
    }
   ],
   "source": [
    "Label6 = [['Standard'],['Luxe'],['Super']]\n",
    "creation(products,'TypeBrand',Label6)"
   ]
  },
  {
   "cell_type": "markdown",
   "metadata": {},
   "source": [
    "##### *ProductType"
   ]
  },
  {
   "cell_type": "code",
   "execution_count": 45,
   "metadata": {},
   "outputs": [
    {
     "data": {
      "text/plain": [
       "'16 colonne(s) ont étaient ajoutées à la DataFrame'"
      ]
     },
     "execution_count": 45,
     "metadata": {},
     "output_type": "execute_result"
    }
   ],
   "source": [
    "Label7 = [['Baskets'],['Sandales'],['Bottines'],['Escarpin'],['lacets'],['Ballerines'],['sport'],['Bottes']\\\n",
    "          ,['Mocass'],['Tongs'],['Chaussons'],['Mules'],['scratch'],['Sacs'],['Espadrilles'],['Maroquinerie']]\n",
    "creation(products,'ProductType',Label7)"
   ]
  },
  {
   "cell_type": "markdown",
   "metadata": {},
   "source": [
    "##### *SupplierColor"
   ]
  },
  {
   "cell_type": "code",
   "execution_count": 46,
   "metadata": {},
   "outputs": [
    {
     "data": {
      "text/plain": [
       "'2 colonne(s) ont étaient ajoutées à la DataFrame'"
      ]
     },
     "execution_count": 46,
     "metadata": {},
     "output_type": "execute_result"
    }
   ],
   "source": [
    "Label8 = [['Rouge','Red','Bordeaux','rouge','red'],['Jaune','Yellow','jaune','yellow'],\\\n",
    "          ['Vert','vert','green','Green'],['Marine','Bleu','BlUE','Navy','bleu','blue'],\\\n",
    "          ['Noir','Black','Nero','noir','black','nero','Schwarz','NOIR'],\\\n",
    "          ['Blanc','Incolore','Beige','blanc','incolor','beige'],\\\n",
    "          ['Gris','Grey','Anthracite','gris','grey','anthracite'],\\\n",
    "          ['Marron','Brown','Taupe','Tan','Cognac','Chocolate','marron','brown','taupe','tan','cognac'],\\\n",
    "          ['Rose','Pink','rose','pink','purple','Purple']]\n",
    "\n",
    "Label9 = [['Dark','dark','Fonc','fonc'],['Light','light','clair','Clair']]\n",
    "\n",
    "creation(products,'SupplierColor',Label8)\n",
    "creation(products,'SupplierColor',Label9)"
   ]
  },
  {
   "cell_type": "markdown",
   "metadata": {},
   "source": [
    "##### *ProductColorId"
   ]
  },
  {
   "cell_type": "code",
   "execution_count": 47,
   "metadata": {
    "collapsed": true
   },
   "outputs": [],
   "source": [
    "# Faut le del y'a au maximum 20 commande pour un seul ProductColorId"
   ]
  },
  {
   "cell_type": "markdown",
   "metadata": {},
   "source": [
    "##### *MinSize"
   ]
  },
  {
   "cell_type": "code",
   "execution_count": 48,
   "metadata": {
    "collapsed": true
   },
   "outputs": [],
   "source": [
    "Label10 = [35,36,37,38,39,40,41,42,43,200]\n",
    "for i in (Label10):\n",
    "    products['MinSize' + str(i)] = (products['MinSize'].eq(i)).astype('float')\n",
    "\n",
    "products['MinSize' + '18' + '-' + '34'] = ((products['MinSize']>=18) & (products['MinSize']<=34)).astype('float')\n",
    "products['MinSize' + '44' + '-' + '48'] = ((products['MinSize']>=44) & (products['MinSize']<=48)).astype('float')"
   ]
  },
  {
   "cell_type": "markdown",
   "metadata": {},
   "source": [
    "##### *MaxSize"
   ]
  },
  {
   "cell_type": "code",
   "execution_count": 49,
   "metadata": {
    "collapsed": true
   },
   "outputs": [],
   "source": [
    "Label11 = [35,36,37,38,39,40,41,42,43,44,45,200]\n",
    "for i in (Label11):\n",
    "    products['MaxSize' + str(i)] = (products['MaxSize'].eq(i)).astype('float')\n",
    "\n",
    "products['MaxSize' + '18' + '-' + '34'] = ((products['MaxSize']>=18) & (products['MaxSize']<=34)).astype('float')\n",
    "products['MaxSize' + '46' + '-' + '48'] = ((products['MaxSize']>=46) & (products['MaxSize']<=48)).astype('float')"
   ]
  },
  {
   "cell_type": "markdown",
   "metadata": {},
   "source": [
    "##### *CalfTurn"
   ]
  },
  {
   "cell_type": "code",
   "execution_count": 50,
   "metadata": {
    "collapsed": true
   },
   "outputs": [],
   "source": [
    "# Soit il y en a un soit non\n",
    "Label12 = products['CalfTurn'].eq(0).astype('float')\n",
    "products['CalfTurn'] = Label12"
   ]
  },
  {
   "cell_type": "markdown",
   "metadata": {},
   "source": [
    "##### *UpperHeight"
   ]
  },
  {
   "cell_type": "code",
   "execution_count": 51,
   "metadata": {
    "collapsed": true
   },
   "outputs": [],
   "source": [
    "Label13 = [0,2,5,6,7,8,9,10,30]\n",
    "for i in (Label13):\n",
    "    products['UpperHeight' + str(i)] = (products['UpperHeight'].eq(i)).astype('float')\n",
    "\n",
    "products['UpperHeight' + '31' + '-' + '38'] = ((products['UpperHeight']>=31) & (products['UpperHeight']<=38)).astype('float')"
   ]
  },
  {
   "cell_type": "markdown",
   "metadata": {},
   "source": [
    "##### *HeelHeight"
   ]
  },
  {
   "cell_type": "code",
   "execution_count": 52,
   "metadata": {
    "collapsed": true
   },
   "outputs": [],
   "source": [
    "Label14 = [0,1,2,3,4,5,6,7,8,9,10]\n",
    "for i in (Label14):\n",
    "    products['HeelHeight' + str(i)] = (products['HeelHeight'].eq(i)).astype('float')\n",
    "\n",
    "products['HeelHeightsup' + '11'] = ((products['HeelHeight']>=11)).astype('float')"
   ]
  },
  {
   "cell_type": "markdown",
   "metadata": {},
   "source": [
    "##### *PurchasePriceHT"
   ]
  },
  {
   "cell_type": "code",
   "execution_count": 53,
   "metadata": {
    "collapsed": true
   },
   "outputs": [],
   "source": [
    "# Pas besoin de changer, c'est une relation d'ordre"
   ]
  },
  {
   "cell_type": "markdown",
   "metadata": {},
   "source": [
    "##### *IsNewCollection"
   ]
  },
  {
   "cell_type": "code",
   "execution_count": 54,
   "metadata": {
    "collapsed": true
   },
   "outputs": [],
   "source": [
    "# Déja en Binaire"
   ]
  },
  {
   "cell_type": "markdown",
   "metadata": {},
   "source": [
    "##### *SubtypeLabel"
   ]
  },
  {
   "cell_type": "code",
   "execution_count": 55,
   "metadata": {},
   "outputs": [
    {
     "data": {
      "text/plain": [
       "'22 colonne(s) ont étaient ajoutées à la DataFrame'"
      ]
     },
     "execution_count": 55,
     "metadata": {},
     "output_type": "execute_result"
    }
   ],
   "source": [
    "Label15 = [['rond'],['Basses'],['Montantes'],['scratch'],['lacet'],['bride'],['zip'],\\\n",
    "           ['pointu'],['compens'],['carr'],['ouvert'],['lastiques'],['Derbies'],['pluie'],\\\n",
    "           ['Bateau'],['Salom'],['Fourr'],['aiguille'],['boots'],['Spartiates'],['Richelieus'],\\\n",
    "           ['Babies']]\n",
    "creation(products,'SubtypeLabel',Label15)"
   ]
  },
  {
   "cell_type": "markdown",
   "metadata": {},
   "source": [
    "##### *UpperMaterialLabel"
   ]
  },
  {
   "cell_type": "code",
   "execution_count": 56,
   "metadata": {},
   "outputs": [
    {
     "data": {
      "text/plain": [
       "'6 colonne(s) ont étaient ajoutées à la DataFrame'"
      ]
     },
     "execution_count": 56,
     "metadata": {},
     "output_type": "execute_result"
    }
   ],
   "source": [
    "Label16 = [['Cuir'],['Nubuck'],['Textile'],['verni'],['Synth'],['Caoutchouc']]\n",
    "creation(products,'UpperMaterialLabel',Label16)"
   ]
  },
  {
   "cell_type": "markdown",
   "metadata": {},
   "source": [
    "##### *LiningMaterialLabel"
   ]
  },
  {
   "cell_type": "code",
   "execution_count": 57,
   "metadata": {},
   "outputs": [
    {
     "data": {
      "text/plain": [
       "'6 colonne(s) ont étaient ajoutées à la DataFrame'"
      ]
     },
     "execution_count": 57,
     "metadata": {},
     "output_type": "execute_result"
    }
   ],
   "source": [
    "Label17 = [['Textile'],['Cuir'],['Synth'],['doubl']]\n",
    "creation(products,'LiningMaterialLabel',Label16)"
   ]
  },
  {
   "cell_type": "markdown",
   "metadata": {},
   "source": [
    "##### *OutSoleMaterialLabel"
   ]
  },
  {
   "cell_type": "code",
   "execution_count": 58,
   "metadata": {},
   "outputs": [
    {
     "data": {
      "text/plain": [
       "'4 colonne(s) ont étaient ajoutées à la DataFrame'"
      ]
     },
     "execution_count": 58,
     "metadata": {},
     "output_type": "execute_result"
    }
   ],
   "source": [
    "Label18 = [['Gomme'],['Caoutchouc'],['Synth'],['Cuir']]\n",
    "creation(products,'OutSoleMaterialLabel',Label17)"
   ]
  },
  {
   "cell_type": "markdown",
   "metadata": {},
   "source": [
    "##### *RemovableSole"
   ]
  },
  {
   "cell_type": "code",
   "execution_count": 59,
   "metadata": {
    "collapsed": true
   },
   "outputs": [],
   "source": [
    "Label19 = products['RemovableSole'].eq(True).astype('float')\n",
    "products['RemovableSole'] = Label19"
   ]
  },
  {
   "cell_type": "code",
   "execution_count": 60,
   "metadata": {},
   "outputs": [
    {
     "data": {
      "text/plain": [
       "0.0    444714\n",
       "1.0     88806\n",
       "Name: RemovableSole, dtype: int64"
      ]
     },
     "execution_count": 60,
     "metadata": {},
     "output_type": "execute_result"
    }
   ],
   "source": [
    "products['RemovableSole'].value_counts()"
   ]
  },
  {
   "cell_type": "markdown",
   "metadata": {},
   "source": [
    "##### *SizeAdviceDescription"
   ]
  },
  {
   "cell_type": "code",
   "execution_count": 61,
   "metadata": {},
   "outputs": [
    {
     "data": {
      "text/plain": [
       "'5 colonne(s) ont étaient ajoutées à la DataFrame'"
      ]
     },
     "execution_count": 61,
     "metadata": {},
     "output_type": "execute_result"
    }
   ],
   "source": [
    "Label20 = [['chausse normalement','Prenez votre pointure habituelle'],['dessous'],['dessus'],['larges'],['fins']]\n",
    "creation(products,'SizeAdviceDescription',Label20)"
   ]
  },
  {
   "cell_type": "markdown",
   "metadata": {},
   "source": [
    "#### 4) Delete columns"
   ]
  },
  {
   "cell_type": "code",
   "execution_count": 62,
   "metadata": {
    "collapsed": true
   },
   "outputs": [],
   "source": [
    "#del products['VariantId'] # Necessaire pour merge orders/products\n",
    "del products['GenderLabel']\n",
    "del products['MarketTargetLabel']\n",
    "del products['SeasonalityLabel']\n",
    "del products ['UniverseLabel']\n",
    "del products ['TypeBrand']\n",
    "del products ['ProductId'] #environ 600 par productId\n",
    "del products['ProductType']\n",
    "del products['SupplierColor']\n",
    "del products['ProductColorId'] #max 20 par productIdcolor\n",
    "del products['MinSize']\n",
    "del products['MaxSize']\n",
    "del products['CalfTurn']\n",
    "del products['UpperHeight']\n",
    "del products['HeelHeight']\n",
    "del products['SubtypeLabel']\n",
    "del products['UpperMaterialLabel']\n",
    "del products['LiningMaterialLabel']\n",
    "del products['OutSoleMaterialLabel']\n",
    "del products['SizeAdviceDescription']\n",
    "\n",
    "# del products['BrandId']  # peut être a supprimer essayer de le traiter"
   ]
  },
  {
   "cell_type": "code",
   "execution_count": 63,
   "metadata": {
    "collapsed": true
   },
   "outputs": [],
   "source": [
    "products = products.fillna(0)"
   ]
  },
  {
   "cell_type": "code",
   "execution_count": 64,
   "metadata": {},
   "outputs": [
    {
     "data": {
      "text/html": [
       "<div>\n",
       "<style>\n",
       "    .dataframe thead tr:only-child th {\n",
       "        text-align: right;\n",
       "    }\n",
       "\n",
       "    .dataframe thead th {\n",
       "        text-align: left;\n",
       "    }\n",
       "\n",
       "    .dataframe tbody tr th {\n",
       "        vertical-align: top;\n",
       "    }\n",
       "</style>\n",
       "<table border=\"1\" class=\"dataframe\">\n",
       "  <thead>\n",
       "    <tr style=\"text-align: right;\">\n",
       "      <th></th>\n",
       "      <th>VariantId</th>\n",
       "      <th>SeasonLabel</th>\n",
       "      <th>BrandId</th>\n",
       "      <th>PurchasePriceHT</th>\n",
       "      <th>IsNewCollection</th>\n",
       "      <th>RemovableSole</th>\n",
       "      <th>Femme</th>\n",
       "      <th>Enfant</th>\n",
       "      <th>Homme</th>\n",
       "      <th>Sacs</th>\n",
       "      <th>...</th>\n",
       "      <th>Textile</th>\n",
       "      <th>verni</th>\n",
       "      <th>Synth</th>\n",
       "      <th>Caoutchouc</th>\n",
       "      <th>doubl</th>\n",
       "      <th>Prenez votre pointure habituelle</th>\n",
       "      <th>dessous</th>\n",
       "      <th>dessus</th>\n",
       "      <th>larges</th>\n",
       "      <th>fins</th>\n",
       "    </tr>\n",
       "  </thead>\n",
       "  <tbody>\n",
       "    <tr>\n",
       "      <th>0</th>\n",
       "      <td>728257.0</td>\n",
       "      <td>1.0</td>\n",
       "      <td>66.0</td>\n",
       "      <td>30.50</td>\n",
       "      <td>0.0</td>\n",
       "      <td>0.0</td>\n",
       "      <td>0.0</td>\n",
       "      <td>0.0</td>\n",
       "      <td>1.0</td>\n",
       "      <td>0.0</td>\n",
       "      <td>...</td>\n",
       "      <td>0.0</td>\n",
       "      <td>0.0</td>\n",
       "      <td>0.0</td>\n",
       "      <td>0.0</td>\n",
       "      <td>0.0</td>\n",
       "      <td>0.0</td>\n",
       "      <td>1.0</td>\n",
       "      <td>0.0</td>\n",
       "      <td>0.0</td>\n",
       "      <td>0.0</td>\n",
       "    </tr>\n",
       "    <tr>\n",
       "      <th>1</th>\n",
       "      <td>806356.0</td>\n",
       "      <td>1.0</td>\n",
       "      <td>842.0</td>\n",
       "      <td>43.00</td>\n",
       "      <td>0.0</td>\n",
       "      <td>1.0</td>\n",
       "      <td>1.0</td>\n",
       "      <td>0.0</td>\n",
       "      <td>0.0</td>\n",
       "      <td>0.0</td>\n",
       "      <td>...</td>\n",
       "      <td>0.0</td>\n",
       "      <td>0.0</td>\n",
       "      <td>0.0</td>\n",
       "      <td>0.0</td>\n",
       "      <td>0.0</td>\n",
       "      <td>1.0</td>\n",
       "      <td>0.0</td>\n",
       "      <td>0.0</td>\n",
       "      <td>0.0</td>\n",
       "      <td>0.0</td>\n",
       "    </tr>\n",
       "    <tr>\n",
       "      <th>2</th>\n",
       "      <td>768790.0</td>\n",
       "      <td>1.0</td>\n",
       "      <td>988.0</td>\n",
       "      <td>54.90</td>\n",
       "      <td>0.0</td>\n",
       "      <td>0.0</td>\n",
       "      <td>1.0</td>\n",
       "      <td>0.0</td>\n",
       "      <td>0.0</td>\n",
       "      <td>0.0</td>\n",
       "      <td>...</td>\n",
       "      <td>0.0</td>\n",
       "      <td>0.0</td>\n",
       "      <td>0.0</td>\n",
       "      <td>0.0</td>\n",
       "      <td>0.0</td>\n",
       "      <td>1.0</td>\n",
       "      <td>0.0</td>\n",
       "      <td>0.0</td>\n",
       "      <td>0.0</td>\n",
       "      <td>0.0</td>\n",
       "    </tr>\n",
       "    <tr>\n",
       "      <th>3</th>\n",
       "      <td>515679.0</td>\n",
       "      <td>1.0</td>\n",
       "      <td>769.0</td>\n",
       "      <td>34.50</td>\n",
       "      <td>0.0</td>\n",
       "      <td>0.0</td>\n",
       "      <td>1.0</td>\n",
       "      <td>0.0</td>\n",
       "      <td>0.0</td>\n",
       "      <td>0.0</td>\n",
       "      <td>...</td>\n",
       "      <td>0.0</td>\n",
       "      <td>0.0</td>\n",
       "      <td>0.0</td>\n",
       "      <td>0.0</td>\n",
       "      <td>0.0</td>\n",
       "      <td>1.0</td>\n",
       "      <td>0.0</td>\n",
       "      <td>0.0</td>\n",
       "      <td>0.0</td>\n",
       "      <td>0.0</td>\n",
       "    </tr>\n",
       "    <tr>\n",
       "      <th>4</th>\n",
       "      <td>1025246.0</td>\n",
       "      <td>1.0</td>\n",
       "      <td>1244.0</td>\n",
       "      <td>43.76</td>\n",
       "      <td>0.0</td>\n",
       "      <td>0.0</td>\n",
       "      <td>1.0</td>\n",
       "      <td>0.0</td>\n",
       "      <td>0.0</td>\n",
       "      <td>0.0</td>\n",
       "      <td>...</td>\n",
       "      <td>0.0</td>\n",
       "      <td>0.0</td>\n",
       "      <td>0.0</td>\n",
       "      <td>0.0</td>\n",
       "      <td>0.0</td>\n",
       "      <td>1.0</td>\n",
       "      <td>0.0</td>\n",
       "      <td>0.0</td>\n",
       "      <td>0.0</td>\n",
       "      <td>0.0</td>\n",
       "    </tr>\n",
       "  </tbody>\n",
       "</table>\n",
       "<p>5 rows × 135 columns</p>\n",
       "</div>"
      ],
      "text/plain": [
       "   VariantId  SeasonLabel  BrandId  PurchasePriceHT  IsNewCollection  \\\n",
       "0   728257.0          1.0     66.0            30.50              0.0   \n",
       "1   806356.0          1.0    842.0            43.00              0.0   \n",
       "2   768790.0          1.0    988.0            54.90              0.0   \n",
       "3   515679.0          1.0    769.0            34.50              0.0   \n",
       "4  1025246.0          1.0   1244.0            43.76              0.0   \n",
       "\n",
       "   RemovableSole  Femme  Enfant  Homme  Sacs  ...   Textile  verni  Synth  \\\n",
       "0            0.0    0.0     0.0    1.0   0.0  ...       0.0    0.0    0.0   \n",
       "1            1.0    1.0     0.0    0.0   0.0  ...       0.0    0.0    0.0   \n",
       "2            0.0    1.0     0.0    0.0   0.0  ...       0.0    0.0    0.0   \n",
       "3            0.0    1.0     0.0    0.0   0.0  ...       0.0    0.0    0.0   \n",
       "4            0.0    1.0     0.0    0.0   0.0  ...       0.0    0.0    0.0   \n",
       "\n",
       "   Caoutchouc  doubl  Prenez votre pointure habituelle  dessous  dessus  \\\n",
       "0         0.0    0.0                               0.0      1.0     0.0   \n",
       "1         0.0    0.0                               1.0      0.0     0.0   \n",
       "2         0.0    0.0                               1.0      0.0     0.0   \n",
       "3         0.0    0.0                               1.0      0.0     0.0   \n",
       "4         0.0    0.0                               1.0      0.0     0.0   \n",
       "\n",
       "   larges  fins  \n",
       "0     0.0   0.0  \n",
       "1     0.0   0.0  \n",
       "2     0.0   0.0  \n",
       "3     0.0   0.0  \n",
       "4     0.0   0.0  \n",
       "\n",
       "[5 rows x 135 columns]"
      ]
     },
     "execution_count": 64,
     "metadata": {},
     "output_type": "execute_result"
    }
   ],
   "source": [
    "products.head()"
   ]
  },
  {
   "cell_type": "markdown",
   "metadata": {},
   "source": [
    "# MERGING"
   ]
  },
  {
   "cell_type": "markdown",
   "metadata": {},
   "source": [
    "### Merge X_train"
   ]
  },
  {
   "cell_type": "code",
   "execution_count": 65,
   "metadata": {
    "collapsed": true
   },
   "outputs": [],
   "source": [
    "index = pd.DataFrame({'index':np.arange(X_train.shape[0])})\n",
    "orders['index']=index # Evite les duplicata\n",
    "y_train['index']=index"
   ]
  },
  {
   "cell_type": "code",
   "execution_count": 66,
   "metadata": {},
   "outputs": [
    {
     "data": {
      "text/html": [
       "<div>\n",
       "<style>\n",
       "    .dataframe thead tr:only-child th {\n",
       "        text-align: right;\n",
       "    }\n",
       "\n",
       "    .dataframe thead th {\n",
       "        text-align: left;\n",
       "    }\n",
       "\n",
       "    .dataframe tbody tr th {\n",
       "        vertical-align: top;\n",
       "    }\n",
       "</style>\n",
       "<table border=\"1\" class=\"dataframe\">\n",
       "  <thead>\n",
       "    <tr style=\"text-align: right;\">\n",
       "      <th></th>\n",
       "      <th>OrderNumber</th>\n",
       "      <th>LineItem</th>\n",
       "      <th>ReturnQuantity</th>\n",
       "      <th>ReturnQuantityBin</th>\n",
       "      <th>index</th>\n",
       "      <th>VariantId</th>\n",
       "      <th>CustomerId</th>\n",
       "      <th>IsoCode</th>\n",
       "      <th>Quantity</th>\n",
       "      <th>UnitPMPEUR</th>\n",
       "      <th>...</th>\n",
       "      <th>Age55-60</th>\n",
       "      <th>Sexe</th>\n",
       "      <th>FirstOrder-3Y</th>\n",
       "      <th>FirstOrder-4Y</th>\n",
       "      <th>FirstOrder-5Y</th>\n",
       "      <th>FirstOrder-6Y</th>\n",
       "      <th>FirstOrder-7Y</th>\n",
       "      <th>FirstOrder-8Y</th>\n",
       "      <th>FirstOrder-9Y</th>\n",
       "      <th>FirstOrder-10Y+</th>\n",
       "    </tr>\n",
       "  </thead>\n",
       "  <tbody>\n",
       "    <tr>\n",
       "      <th>0</th>\n",
       "      <td>73521754</td>\n",
       "      <td>1</td>\n",
       "      <td>0.0</td>\n",
       "      <td>0.0</td>\n",
       "      <td>0</td>\n",
       "      <td>439729</td>\n",
       "      <td>12443972</td>\n",
       "      <td>FR</td>\n",
       "      <td>1</td>\n",
       "      <td>52,64</td>\n",
       "      <td>...</td>\n",
       "      <td>1.0</td>\n",
       "      <td>1.0</td>\n",
       "      <td>0.0</td>\n",
       "      <td>0.0</td>\n",
       "      <td>0.0</td>\n",
       "      <td>0.0</td>\n",
       "      <td>1.0</td>\n",
       "      <td>0.0</td>\n",
       "      <td>0.0</td>\n",
       "      <td>0.0</td>\n",
       "    </tr>\n",
       "    <tr>\n",
       "      <th>1</th>\n",
       "      <td>73521754</td>\n",
       "      <td>2</td>\n",
       "      <td>0.0</td>\n",
       "      <td>0.0</td>\n",
       "      <td>1</td>\n",
       "      <td>440174</td>\n",
       "      <td>12443972</td>\n",
       "      <td>FR</td>\n",
       "      <td>1</td>\n",
       "      <td>52,64</td>\n",
       "      <td>...</td>\n",
       "      <td>1.0</td>\n",
       "      <td>1.0</td>\n",
       "      <td>0.0</td>\n",
       "      <td>0.0</td>\n",
       "      <td>0.0</td>\n",
       "      <td>0.0</td>\n",
       "      <td>1.0</td>\n",
       "      <td>0.0</td>\n",
       "      <td>0.0</td>\n",
       "      <td>0.0</td>\n",
       "    </tr>\n",
       "    <tr>\n",
       "      <th>2</th>\n",
       "      <td>73525226</td>\n",
       "      <td>1</td>\n",
       "      <td>1.0</td>\n",
       "      <td>1.0</td>\n",
       "      <td>2</td>\n",
       "      <td>494501</td>\n",
       "      <td>12443958</td>\n",
       "      <td>FR</td>\n",
       "      <td>1</td>\n",
       "      <td>13,17</td>\n",
       "      <td>...</td>\n",
       "      <td>0.0</td>\n",
       "      <td>1.0</td>\n",
       "      <td>0.0</td>\n",
       "      <td>0.0</td>\n",
       "      <td>0.0</td>\n",
       "      <td>0.0</td>\n",
       "      <td>1.0</td>\n",
       "      <td>0.0</td>\n",
       "      <td>0.0</td>\n",
       "      <td>0.0</td>\n",
       "    </tr>\n",
       "    <tr>\n",
       "      <th>3</th>\n",
       "      <td>73529009</td>\n",
       "      <td>1</td>\n",
       "      <td>1.0</td>\n",
       "      <td>1.0</td>\n",
       "      <td>3</td>\n",
       "      <td>439590</td>\n",
       "      <td>12443946</td>\n",
       "      <td>FR</td>\n",
       "      <td>1</td>\n",
       "      <td>56,4</td>\n",
       "      <td>...</td>\n",
       "      <td>0.0</td>\n",
       "      <td>1.0</td>\n",
       "      <td>0.0</td>\n",
       "      <td>0.0</td>\n",
       "      <td>0.0</td>\n",
       "      <td>0.0</td>\n",
       "      <td>1.0</td>\n",
       "      <td>0.0</td>\n",
       "      <td>0.0</td>\n",
       "      <td>0.0</td>\n",
       "    </tr>\n",
       "    <tr>\n",
       "      <th>4</th>\n",
       "      <td>73529009</td>\n",
       "      <td>2</td>\n",
       "      <td>1.0</td>\n",
       "      <td>1.0</td>\n",
       "      <td>4</td>\n",
       "      <td>559476</td>\n",
       "      <td>12443946</td>\n",
       "      <td>FR</td>\n",
       "      <td>1</td>\n",
       "      <td>37</td>\n",
       "      <td>...</td>\n",
       "      <td>0.0</td>\n",
       "      <td>1.0</td>\n",
       "      <td>0.0</td>\n",
       "      <td>0.0</td>\n",
       "      <td>0.0</td>\n",
       "      <td>0.0</td>\n",
       "      <td>1.0</td>\n",
       "      <td>0.0</td>\n",
       "      <td>0.0</td>\n",
       "      <td>0.0</td>\n",
       "    </tr>\n",
       "  </tbody>\n",
       "</table>\n",
       "<p>5 rows × 197 columns</p>\n",
       "</div>"
      ],
      "text/plain": [
       "   OrderNumber  LineItem  ReturnQuantity  ReturnQuantityBin  index VariantId  \\\n",
       "0     73521754         1             0.0                0.0      0    439729   \n",
       "1     73521754         2             0.0                0.0      1    440174   \n",
       "2     73525226         1             1.0                1.0      2    494501   \n",
       "3     73529009         1             1.0                1.0      3    439590   \n",
       "4     73529009         2             1.0                1.0      4    559476   \n",
       "\n",
       "  CustomerId IsoCode  Quantity UnitPMPEUR       ...         Age55-60  Sexe  \\\n",
       "0   12443972      FR         1      52,64       ...              1.0   1.0   \n",
       "1   12443972      FR         1      52,64       ...              1.0   1.0   \n",
       "2   12443958      FR         1      13,17       ...              0.0   1.0   \n",
       "3   12443946      FR         1       56,4       ...              0.0   1.0   \n",
       "4   12443946      FR         1         37       ...              0.0   1.0   \n",
       "\n",
       "   FirstOrder-3Y  FirstOrder-4Y  FirstOrder-5Y  FirstOrder-6Y  FirstOrder-7Y  \\\n",
       "0            0.0            0.0            0.0            0.0            1.0   \n",
       "1            0.0            0.0            0.0            0.0            1.0   \n",
       "2            0.0            0.0            0.0            0.0            1.0   \n",
       "3            0.0            0.0            0.0            0.0            1.0   \n",
       "4            0.0            0.0            0.0            0.0            1.0   \n",
       "\n",
       "   FirstOrder-8Y  FirstOrder-9Y  FirstOrder-10Y+  \n",
       "0            0.0            0.0              0.0  \n",
       "1            0.0            0.0              0.0  \n",
       "2            0.0            0.0              0.0  \n",
       "3            0.0            0.0              0.0  \n",
       "4            0.0            0.0              0.0  \n",
       "\n",
       "[5 rows x 197 columns]"
      ]
     },
     "execution_count": 66,
     "metadata": {},
     "output_type": "execute_result"
    }
   ],
   "source": [
    "orders_products = pd.merge(orders,products,how='left',on='VariantId')\n",
    "X_data = pd.merge(orders_products,customers,how='left',on='CustomerId')\n",
    "data = pd.merge(y_train,X_data,how='left',on=\"index\")\n",
    "data = data.sort_values(by='index')\n",
    "data.head()"
   ]
  },
  {
   "cell_type": "code",
   "execution_count": 67,
   "metadata": {},
   "outputs": [
    {
     "data": {
      "text/html": [
       "<div>\n",
       "<style>\n",
       "    .dataframe thead tr:only-child th {\n",
       "        text-align: right;\n",
       "    }\n",
       "\n",
       "    .dataframe thead th {\n",
       "        text-align: left;\n",
       "    }\n",
       "\n",
       "    .dataframe tbody tr th {\n",
       "        vertical-align: top;\n",
       "    }\n",
       "</style>\n",
       "<table border=\"1\" class=\"dataframe\">\n",
       "  <thead>\n",
       "    <tr style=\"text-align: right;\">\n",
       "      <th></th>\n",
       "      <th>OrderNumber</th>\n",
       "      <th>LineItem</th>\n",
       "      <th>ReturnQuantity</th>\n",
       "      <th>ReturnQuantityBin</th>\n",
       "      <th>index</th>\n",
       "    </tr>\n",
       "  </thead>\n",
       "  <tbody>\n",
       "    <tr>\n",
       "      <th>0</th>\n",
       "      <td>73521754</td>\n",
       "      <td>1</td>\n",
       "      <td>0.0</td>\n",
       "      <td>0.0</td>\n",
       "      <td>0</td>\n",
       "    </tr>\n",
       "    <tr>\n",
       "      <th>1</th>\n",
       "      <td>73521754</td>\n",
       "      <td>2</td>\n",
       "      <td>0.0</td>\n",
       "      <td>0.0</td>\n",
       "      <td>1</td>\n",
       "    </tr>\n",
       "    <tr>\n",
       "      <th>2</th>\n",
       "      <td>73525226</td>\n",
       "      <td>1</td>\n",
       "      <td>1.0</td>\n",
       "      <td>1.0</td>\n",
       "      <td>2</td>\n",
       "    </tr>\n",
       "    <tr>\n",
       "      <th>3</th>\n",
       "      <td>73529009</td>\n",
       "      <td>1</td>\n",
       "      <td>1.0</td>\n",
       "      <td>1.0</td>\n",
       "      <td>3</td>\n",
       "    </tr>\n",
       "    <tr>\n",
       "      <th>4</th>\n",
       "      <td>73529009</td>\n",
       "      <td>2</td>\n",
       "      <td>1.0</td>\n",
       "      <td>1.0</td>\n",
       "      <td>4</td>\n",
       "    </tr>\n",
       "  </tbody>\n",
       "</table>\n",
       "</div>"
      ],
      "text/plain": [
       "   OrderNumber  LineItem  ReturnQuantity  ReturnQuantityBin  index\n",
       "0     73521754         1             0.0                0.0      0\n",
       "1     73521754         2             0.0                0.0      1\n",
       "2     73525226         1             1.0                1.0      2\n",
       "3     73529009         1             1.0                1.0      3\n",
       "4     73529009         2             1.0                1.0      4"
      ]
     },
     "execution_count": 67,
     "metadata": {},
     "output_type": "execute_result"
    }
   ],
   "source": [
    "y_train.head()"
   ]
  },
  {
   "cell_type": "markdown",
   "metadata": {},
   "source": [
    "### Delete columns data"
   ]
  },
  {
   "cell_type": "code",
   "execution_count": 68,
   "metadata": {},
   "outputs": [
    {
     "data": {
      "text/plain": [
       "['OrderNumber',\n",
       " 'LineItem',\n",
       " 'ReturnQuantity',\n",
       " 'ReturnQuantityBin',\n",
       " 'index',\n",
       " 'VariantId',\n",
       " 'CustomerId',\n",
       " 'IsoCode',\n",
       " 'Quantity',\n",
       " 'UnitPMPEUR',\n",
       " 'OrderNumCustomer',\n",
       " 'IsOnSale',\n",
       " 'LineItem_1',\n",
       " 'LineItem_2',\n",
       " 'LineItem_3',\n",
       " 'LineItem_4',\n",
       " 'LineItem_5+',\n",
       " 'OrderStatus',\n",
       " 'OrderType',\n",
       " 'Season',\n",
       " 'maestro',\n",
       " 'PayPal',\n",
       " 'Gratuit',\n",
       " 'iDeal',\n",
       " 'que',\n",
       " 'Bank',\n",
       " 'DHL',\n",
       " 'CustomerType',\n",
       " 'Desktop',\n",
       " 'Tablet',\n",
       " 'Mobile',\n",
       " 'Plein',\n",
       " 'Soldes',\n",
       " 'Avec CP',\n",
       " 'Sans CP',\n",
       " 'Vente Priv',\n",
       " 'TotalLineItems_1',\n",
       " 'TotalLineItems_2',\n",
       " 'TotalLineItems_3',\n",
       " 'TotalLineItems_4',\n",
       " 'TotalLineItems_5',\n",
       " 'TotalLineItems_6+',\n",
       " 'Hour_21H_1H',\n",
       " 'SeasonLabel',\n",
       " 'BrandId',\n",
       " 'PurchasePriceHT',\n",
       " 'IsNewCollection',\n",
       " 'RemovableSole',\n",
       " 'Femme',\n",
       " 'Enfant',\n",
       " 'Homme',\n",
       " 'Sacs',\n",
       " 'Accessoires',\n",
       " 'contemporain',\n",
       " 'Suiveur',\n",
       " 'Fashionistas',\n",
       " 'Classique',\n",
       " 'Confort',\n",
       " 'Aventurier',\n",
       " 'Skate',\n",
       " 'Saisonnier',\n",
       " 'Reconduit',\n",
       " 'Permanent',\n",
       " 'tente',\n",
       " 'Ville',\n",
       " 'Sport',\n",
       " 'Green',\n",
       " 'Luxe',\n",
       " 'Soir',\n",
       " 'Standard',\n",
       " 'Super',\n",
       " 'Baskets',\n",
       " 'Sandales',\n",
       " 'Bottines',\n",
       " 'Escarpin',\n",
       " 'lacets',\n",
       " 'Ballerines',\n",
       " 'sport',\n",
       " 'Bottes',\n",
       " 'Mocass',\n",
       " 'Tongs',\n",
       " 'Chaussons',\n",
       " 'Mules',\n",
       " 'scratch',\n",
       " 'Espadrilles',\n",
       " 'Maroquinerie',\n",
       " 'red',\n",
       " 'yellow',\n",
       " 'blue',\n",
       " 'NOIR',\n",
       " 'beige',\n",
       " 'anthracite',\n",
       " 'cognac',\n",
       " 'Purple',\n",
       " 'fonc',\n",
       " 'Clair',\n",
       " 'MinSize35',\n",
       " 'MinSize36',\n",
       " 'MinSize37',\n",
       " 'MinSize38',\n",
       " 'MinSize39',\n",
       " 'MinSize40',\n",
       " 'MinSize41',\n",
       " 'MinSize42',\n",
       " 'MinSize43',\n",
       " 'MinSize200',\n",
       " 'MinSize18-34',\n",
       " 'MinSize44-48',\n",
       " 'MaxSize35',\n",
       " 'MaxSize36',\n",
       " 'MaxSize37',\n",
       " 'MaxSize38',\n",
       " 'MaxSize39',\n",
       " 'MaxSize40',\n",
       " 'MaxSize41',\n",
       " 'MaxSize42',\n",
       " 'MaxSize43',\n",
       " 'MaxSize44',\n",
       " 'MaxSize45',\n",
       " 'MaxSize200',\n",
       " 'MaxSize18-34',\n",
       " 'MaxSize46-48',\n",
       " 'UpperHeight0',\n",
       " 'UpperHeight2',\n",
       " 'UpperHeight5',\n",
       " 'UpperHeight6',\n",
       " 'UpperHeight7',\n",
       " 'UpperHeight8',\n",
       " 'UpperHeight9',\n",
       " 'UpperHeight10',\n",
       " 'UpperHeight30',\n",
       " 'UpperHeight31-38',\n",
       " 'HeelHeight0',\n",
       " 'HeelHeight1',\n",
       " 'HeelHeight2',\n",
       " 'HeelHeight3',\n",
       " 'HeelHeight4',\n",
       " 'HeelHeight5',\n",
       " 'HeelHeight6',\n",
       " 'HeelHeight7',\n",
       " 'HeelHeight8',\n",
       " 'HeelHeight9',\n",
       " 'HeelHeight10',\n",
       " 'HeelHeightsup11',\n",
       " 'rond',\n",
       " 'Basses',\n",
       " 'Montantes',\n",
       " 'lacet',\n",
       " 'bride',\n",
       " 'zip',\n",
       " 'pointu',\n",
       " 'compens',\n",
       " 'carr',\n",
       " 'ouvert',\n",
       " 'lastiques',\n",
       " 'Derbies',\n",
       " 'pluie',\n",
       " 'Bateau',\n",
       " 'Salom',\n",
       " 'Fourr',\n",
       " 'aiguille',\n",
       " 'boots',\n",
       " 'Spartiates',\n",
       " 'Richelieus',\n",
       " 'Babies',\n",
       " 'Cuir',\n",
       " 'Nubuck',\n",
       " 'Textile',\n",
       " 'verni',\n",
       " 'Synth',\n",
       " 'Caoutchouc',\n",
       " 'doubl',\n",
       " 'Prenez votre pointure habituelle',\n",
       " 'dessous',\n",
       " 'dessus',\n",
       " 'larges',\n",
       " 'fins',\n",
       " 'CountryISOCode',\n",
       " 'Age10-15',\n",
       " 'Age15-20',\n",
       " 'Age20-25',\n",
       " 'Age25-30',\n",
       " 'Age30-35',\n",
       " 'Age35-40',\n",
       " 'Age40-45',\n",
       " 'Age45-50',\n",
       " 'Age50-55',\n",
       " 'Age55-60',\n",
       " 'Sexe',\n",
       " 'FirstOrder-3Y',\n",
       " 'FirstOrder-4Y',\n",
       " 'FirstOrder-5Y',\n",
       " 'FirstOrder-6Y',\n",
       " 'FirstOrder-7Y',\n",
       " 'FirstOrder-8Y',\n",
       " 'FirstOrder-9Y',\n",
       " 'FirstOrder-10Y+']"
      ]
     },
     "execution_count": 68,
     "metadata": {},
     "output_type": "execute_result"
    }
   ],
   "source": [
    "data.columns.tolist()"
   ]
  },
  {
   "cell_type": "code",
   "execution_count": 69,
   "metadata": {
    "collapsed": true
   },
   "outputs": [],
   "source": [
    "# del colonne for merging\n",
    "del data['VariantId']\n",
    "del data['CustomerId']\n",
    "del data['OrderNumber']\n",
    "del data['index']\n",
    "del data['LineItem']\n",
    "\n",
    "# Pour tester une premiere fois on supprime ces colonnes\n",
    "#del data['IsoCode']\n",
    "#del data['CountryISOCode']\n",
    "#del data['BrandId']"
   ]
  },
  {
   "cell_type": "markdown",
   "metadata": {},
   "source": [
    "### Delete columns X_data"
   ]
  },
  {
   "cell_type": "code",
   "execution_count": 70,
   "metadata": {},
   "outputs": [
    {
     "data": {
      "text/plain": [
       "['VariantId',\n",
       " 'CustomerId',\n",
       " 'IsoCode',\n",
       " 'Quantity',\n",
       " 'UnitPMPEUR',\n",
       " 'OrderNumCustomer',\n",
       " 'IsOnSale',\n",
       " 'LineItem_1',\n",
       " 'LineItem_2',\n",
       " 'LineItem_3',\n",
       " 'LineItem_4',\n",
       " 'LineItem_5+',\n",
       " 'OrderStatus',\n",
       " 'OrderType',\n",
       " 'Season',\n",
       " 'maestro',\n",
       " 'PayPal',\n",
       " 'Gratuit',\n",
       " 'iDeal',\n",
       " 'que',\n",
       " 'Bank',\n",
       " 'DHL',\n",
       " 'CustomerType',\n",
       " 'Desktop',\n",
       " 'Tablet',\n",
       " 'Mobile',\n",
       " 'Plein',\n",
       " 'Soldes',\n",
       " 'Avec CP',\n",
       " 'Sans CP',\n",
       " 'Vente Priv',\n",
       " 'TotalLineItems_1',\n",
       " 'TotalLineItems_2',\n",
       " 'TotalLineItems_3',\n",
       " 'TotalLineItems_4',\n",
       " 'TotalLineItems_5',\n",
       " 'TotalLineItems_6+',\n",
       " 'Hour_21H_1H',\n",
       " 'index',\n",
       " 'SeasonLabel',\n",
       " 'BrandId',\n",
       " 'PurchasePriceHT',\n",
       " 'IsNewCollection',\n",
       " 'RemovableSole',\n",
       " 'Femme',\n",
       " 'Enfant',\n",
       " 'Homme',\n",
       " 'Sacs',\n",
       " 'Accessoires',\n",
       " 'contemporain',\n",
       " 'Suiveur',\n",
       " 'Fashionistas',\n",
       " 'Classique',\n",
       " 'Confort',\n",
       " 'Aventurier',\n",
       " 'Skate',\n",
       " 'Saisonnier',\n",
       " 'Reconduit',\n",
       " 'Permanent',\n",
       " 'tente',\n",
       " 'Ville',\n",
       " 'Sport',\n",
       " 'Green',\n",
       " 'Luxe',\n",
       " 'Soir',\n",
       " 'Standard',\n",
       " 'Super',\n",
       " 'Baskets',\n",
       " 'Sandales',\n",
       " 'Bottines',\n",
       " 'Escarpin',\n",
       " 'lacets',\n",
       " 'Ballerines',\n",
       " 'sport',\n",
       " 'Bottes',\n",
       " 'Mocass',\n",
       " 'Tongs',\n",
       " 'Chaussons',\n",
       " 'Mules',\n",
       " 'scratch',\n",
       " 'Espadrilles',\n",
       " 'Maroquinerie',\n",
       " 'red',\n",
       " 'yellow',\n",
       " 'blue',\n",
       " 'NOIR',\n",
       " 'beige',\n",
       " 'anthracite',\n",
       " 'cognac',\n",
       " 'Purple',\n",
       " 'fonc',\n",
       " 'Clair',\n",
       " 'MinSize35',\n",
       " 'MinSize36',\n",
       " 'MinSize37',\n",
       " 'MinSize38',\n",
       " 'MinSize39',\n",
       " 'MinSize40',\n",
       " 'MinSize41',\n",
       " 'MinSize42',\n",
       " 'MinSize43',\n",
       " 'MinSize200',\n",
       " 'MinSize18-34',\n",
       " 'MinSize44-48',\n",
       " 'MaxSize35',\n",
       " 'MaxSize36',\n",
       " 'MaxSize37',\n",
       " 'MaxSize38',\n",
       " 'MaxSize39',\n",
       " 'MaxSize40',\n",
       " 'MaxSize41',\n",
       " 'MaxSize42',\n",
       " 'MaxSize43',\n",
       " 'MaxSize44',\n",
       " 'MaxSize45',\n",
       " 'MaxSize200',\n",
       " 'MaxSize18-34',\n",
       " 'MaxSize46-48',\n",
       " 'UpperHeight0',\n",
       " 'UpperHeight2',\n",
       " 'UpperHeight5',\n",
       " 'UpperHeight6',\n",
       " 'UpperHeight7',\n",
       " 'UpperHeight8',\n",
       " 'UpperHeight9',\n",
       " 'UpperHeight10',\n",
       " 'UpperHeight30',\n",
       " 'UpperHeight31-38',\n",
       " 'HeelHeight0',\n",
       " 'HeelHeight1',\n",
       " 'HeelHeight2',\n",
       " 'HeelHeight3',\n",
       " 'HeelHeight4',\n",
       " 'HeelHeight5',\n",
       " 'HeelHeight6',\n",
       " 'HeelHeight7',\n",
       " 'HeelHeight8',\n",
       " 'HeelHeight9',\n",
       " 'HeelHeight10',\n",
       " 'HeelHeightsup11',\n",
       " 'rond',\n",
       " 'Basses',\n",
       " 'Montantes',\n",
       " 'lacet',\n",
       " 'bride',\n",
       " 'zip',\n",
       " 'pointu',\n",
       " 'compens',\n",
       " 'carr',\n",
       " 'ouvert',\n",
       " 'lastiques',\n",
       " 'Derbies',\n",
       " 'pluie',\n",
       " 'Bateau',\n",
       " 'Salom',\n",
       " 'Fourr',\n",
       " 'aiguille',\n",
       " 'boots',\n",
       " 'Spartiates',\n",
       " 'Richelieus',\n",
       " 'Babies',\n",
       " 'Cuir',\n",
       " 'Nubuck',\n",
       " 'Textile',\n",
       " 'verni',\n",
       " 'Synth',\n",
       " 'Caoutchouc',\n",
       " 'doubl',\n",
       " 'Prenez votre pointure habituelle',\n",
       " 'dessous',\n",
       " 'dessus',\n",
       " 'larges',\n",
       " 'fins',\n",
       " 'CountryISOCode',\n",
       " 'Age10-15',\n",
       " 'Age15-20',\n",
       " 'Age20-25',\n",
       " 'Age25-30',\n",
       " 'Age30-35',\n",
       " 'Age35-40',\n",
       " 'Age40-45',\n",
       " 'Age45-50',\n",
       " 'Age50-55',\n",
       " 'Age55-60',\n",
       " 'Sexe',\n",
       " 'FirstOrder-3Y',\n",
       " 'FirstOrder-4Y',\n",
       " 'FirstOrder-5Y',\n",
       " 'FirstOrder-6Y',\n",
       " 'FirstOrder-7Y',\n",
       " 'FirstOrder-8Y',\n",
       " 'FirstOrder-9Y',\n",
       " 'FirstOrder-10Y+']"
      ]
     },
     "execution_count": 70,
     "metadata": {},
     "output_type": "execute_result"
    }
   ],
   "source": [
    "X_data.columns.tolist()"
   ]
  },
  {
   "cell_type": "code",
   "execution_count": 71,
   "metadata": {
    "collapsed": true
   },
   "outputs": [],
   "source": [
    "# del colonne for merging\n",
    "del X_data['VariantId']\n",
    "del X_data['CustomerId']\n",
    "del X_data['index']\n",
    "\n",
    "# Pour tester une premiere fois on supprime ces colonnes\n",
    "#del X_data['IsoCode']\n",
    "#del X_data['CountryISOCode']\n",
    "#del X_data['BrandId']"
   ]
  },
  {
   "cell_type": "code",
   "execution_count": 115,
   "metadata": {
    "collapsed": true
   },
   "outputs": [],
   "source": [
    "del X_data['UnitPMPEUR']\n",
    "del X_data['IsoCode']\n",
    "del X_data['BrandId']"
   ]
  },
  {
   "cell_type": "code",
   "execution_count": 72,
   "metadata": {},
   "outputs": [
    {
     "data": {
      "text/html": [
       "<div>\n",
       "<style>\n",
       "    .dataframe thead tr:only-child th {\n",
       "        text-align: right;\n",
       "    }\n",
       "\n",
       "    .dataframe thead th {\n",
       "        text-align: left;\n",
       "    }\n",
       "\n",
       "    .dataframe tbody tr th {\n",
       "        vertical-align: top;\n",
       "    }\n",
       "</style>\n",
       "<table border=\"1\" class=\"dataframe\">\n",
       "  <thead>\n",
       "    <tr style=\"text-align: right;\">\n",
       "      <th></th>\n",
       "      <th>IsoCode</th>\n",
       "      <th>Quantity</th>\n",
       "      <th>UnitPMPEUR</th>\n",
       "      <th>OrderNumCustomer</th>\n",
       "      <th>IsOnSale</th>\n",
       "      <th>LineItem_1</th>\n",
       "      <th>LineItem_2</th>\n",
       "      <th>LineItem_3</th>\n",
       "      <th>LineItem_4</th>\n",
       "      <th>LineItem_5+</th>\n",
       "      <th>...</th>\n",
       "      <th>Age55-60</th>\n",
       "      <th>Sexe</th>\n",
       "      <th>FirstOrder-3Y</th>\n",
       "      <th>FirstOrder-4Y</th>\n",
       "      <th>FirstOrder-5Y</th>\n",
       "      <th>FirstOrder-6Y</th>\n",
       "      <th>FirstOrder-7Y</th>\n",
       "      <th>FirstOrder-8Y</th>\n",
       "      <th>FirstOrder-9Y</th>\n",
       "      <th>FirstOrder-10Y+</th>\n",
       "    </tr>\n",
       "  </thead>\n",
       "  <tbody>\n",
       "    <tr>\n",
       "      <th>0</th>\n",
       "      <td>FR</td>\n",
       "      <td>1</td>\n",
       "      <td>52,64</td>\n",
       "      <td>1</td>\n",
       "      <td>0.0</td>\n",
       "      <td>1.0</td>\n",
       "      <td>0.0</td>\n",
       "      <td>0.0</td>\n",
       "      <td>0.0</td>\n",
       "      <td>0.0</td>\n",
       "      <td>...</td>\n",
       "      <td>1.0</td>\n",
       "      <td>1.0</td>\n",
       "      <td>0.0</td>\n",
       "      <td>0.0</td>\n",
       "      <td>0.0</td>\n",
       "      <td>0.0</td>\n",
       "      <td>1.0</td>\n",
       "      <td>0.0</td>\n",
       "      <td>0.0</td>\n",
       "      <td>0.0</td>\n",
       "    </tr>\n",
       "    <tr>\n",
       "      <th>1</th>\n",
       "      <td>FR</td>\n",
       "      <td>1</td>\n",
       "      <td>52,64</td>\n",
       "      <td>1</td>\n",
       "      <td>0.0</td>\n",
       "      <td>0.0</td>\n",
       "      <td>1.0</td>\n",
       "      <td>0.0</td>\n",
       "      <td>0.0</td>\n",
       "      <td>0.0</td>\n",
       "      <td>...</td>\n",
       "      <td>1.0</td>\n",
       "      <td>1.0</td>\n",
       "      <td>0.0</td>\n",
       "      <td>0.0</td>\n",
       "      <td>0.0</td>\n",
       "      <td>0.0</td>\n",
       "      <td>1.0</td>\n",
       "      <td>0.0</td>\n",
       "      <td>0.0</td>\n",
       "      <td>0.0</td>\n",
       "    </tr>\n",
       "    <tr>\n",
       "      <th>2</th>\n",
       "      <td>FR</td>\n",
       "      <td>1</td>\n",
       "      <td>13,17</td>\n",
       "      <td>1</td>\n",
       "      <td>0.0</td>\n",
       "      <td>1.0</td>\n",
       "      <td>0.0</td>\n",
       "      <td>0.0</td>\n",
       "      <td>0.0</td>\n",
       "      <td>0.0</td>\n",
       "      <td>...</td>\n",
       "      <td>0.0</td>\n",
       "      <td>1.0</td>\n",
       "      <td>0.0</td>\n",
       "      <td>0.0</td>\n",
       "      <td>0.0</td>\n",
       "      <td>0.0</td>\n",
       "      <td>1.0</td>\n",
       "      <td>0.0</td>\n",
       "      <td>0.0</td>\n",
       "      <td>0.0</td>\n",
       "    </tr>\n",
       "    <tr>\n",
       "      <th>3</th>\n",
       "      <td>FR</td>\n",
       "      <td>1</td>\n",
       "      <td>56,4</td>\n",
       "      <td>1</td>\n",
       "      <td>0.0</td>\n",
       "      <td>1.0</td>\n",
       "      <td>0.0</td>\n",
       "      <td>0.0</td>\n",
       "      <td>0.0</td>\n",
       "      <td>0.0</td>\n",
       "      <td>...</td>\n",
       "      <td>0.0</td>\n",
       "      <td>1.0</td>\n",
       "      <td>0.0</td>\n",
       "      <td>0.0</td>\n",
       "      <td>0.0</td>\n",
       "      <td>0.0</td>\n",
       "      <td>1.0</td>\n",
       "      <td>0.0</td>\n",
       "      <td>0.0</td>\n",
       "      <td>0.0</td>\n",
       "    </tr>\n",
       "    <tr>\n",
       "      <th>4</th>\n",
       "      <td>FR</td>\n",
       "      <td>1</td>\n",
       "      <td>37</td>\n",
       "      <td>1</td>\n",
       "      <td>0.0</td>\n",
       "      <td>0.0</td>\n",
       "      <td>1.0</td>\n",
       "      <td>0.0</td>\n",
       "      <td>0.0</td>\n",
       "      <td>0.0</td>\n",
       "      <td>...</td>\n",
       "      <td>0.0</td>\n",
       "      <td>1.0</td>\n",
       "      <td>0.0</td>\n",
       "      <td>0.0</td>\n",
       "      <td>0.0</td>\n",
       "      <td>0.0</td>\n",
       "      <td>1.0</td>\n",
       "      <td>0.0</td>\n",
       "      <td>0.0</td>\n",
       "      <td>0.0</td>\n",
       "    </tr>\n",
       "  </tbody>\n",
       "</table>\n",
       "<p>5 rows × 190 columns</p>\n",
       "</div>"
      ],
      "text/plain": [
       "  IsoCode  Quantity UnitPMPEUR  OrderNumCustomer  IsOnSale  LineItem_1  \\\n",
       "0      FR         1      52,64                 1       0.0         1.0   \n",
       "1      FR         1      52,64                 1       0.0         0.0   \n",
       "2      FR         1      13,17                 1       0.0         1.0   \n",
       "3      FR         1       56,4                 1       0.0         1.0   \n",
       "4      FR         1         37                 1       0.0         0.0   \n",
       "\n",
       "   LineItem_2  LineItem_3  LineItem_4  LineItem_5+       ...         Age55-60  \\\n",
       "0         0.0         0.0         0.0          0.0       ...              1.0   \n",
       "1         1.0         0.0         0.0          0.0       ...              1.0   \n",
       "2         0.0         0.0         0.0          0.0       ...              0.0   \n",
       "3         0.0         0.0         0.0          0.0       ...              0.0   \n",
       "4         1.0         0.0         0.0          0.0       ...              0.0   \n",
       "\n",
       "   Sexe  FirstOrder-3Y  FirstOrder-4Y  FirstOrder-5Y  FirstOrder-6Y  \\\n",
       "0   1.0            0.0            0.0            0.0            0.0   \n",
       "1   1.0            0.0            0.0            0.0            0.0   \n",
       "2   1.0            0.0            0.0            0.0            0.0   \n",
       "3   1.0            0.0            0.0            0.0            0.0   \n",
       "4   1.0            0.0            0.0            0.0            0.0   \n",
       "\n",
       "   FirstOrder-7Y  FirstOrder-8Y  FirstOrder-9Y  FirstOrder-10Y+  \n",
       "0            1.0            0.0            0.0              0.0  \n",
       "1            1.0            0.0            0.0              0.0  \n",
       "2            1.0            0.0            0.0              0.0  \n",
       "3            1.0            0.0            0.0              0.0  \n",
       "4            1.0            0.0            0.0              0.0  \n",
       "\n",
       "[5 rows x 190 columns]"
      ]
     },
     "execution_count": 72,
     "metadata": {},
     "output_type": "execute_result"
    }
   ],
   "source": [
    "X_data.head()"
   ]
  },
  {
   "cell_type": "markdown",
   "metadata": {},
   "source": [
    "# Preprocessing Test set"
   ]
  },
  {
   "cell_type": "code",
   "execution_count": 73,
   "metadata": {},
   "outputs": [
    {
     "data": {
      "text/html": [
       "<div>\n",
       "<style>\n",
       "    .dataframe thead tr:only-child th {\n",
       "        text-align: right;\n",
       "    }\n",
       "\n",
       "    .dataframe thead th {\n",
       "        text-align: left;\n",
       "    }\n",
       "\n",
       "    .dataframe tbody tr th {\n",
       "        vertical-align: top;\n",
       "    }\n",
       "</style>\n",
       "<table border=\"1\" class=\"dataframe\">\n",
       "  <thead>\n",
       "    <tr style=\"text-align: right;\">\n",
       "      <th></th>\n",
       "      <th>OrderNumber</th>\n",
       "      <th>VariantId</th>\n",
       "      <th>LineItem</th>\n",
       "      <th>CustomerId</th>\n",
       "      <th>OrderStatusLabel</th>\n",
       "      <th>OrderTypelabel</th>\n",
       "      <th>SeasonLabel</th>\n",
       "      <th>PayementModeLabel</th>\n",
       "      <th>CustomerTypeLabel</th>\n",
       "      <th>IsoCode</th>\n",
       "      <th>DeviceTypeLabel</th>\n",
       "      <th>PricingTypeLabel</th>\n",
       "      <th>TotalLineItems</th>\n",
       "      <th>Quantity</th>\n",
       "      <th>UnitPMPEUR</th>\n",
       "      <th>OrderCreationDate</th>\n",
       "      <th>OrderShipDate</th>\n",
       "      <th>OrderNumCustomer</th>\n",
       "      <th>IsOnSale</th>\n",
       "      <th>BillingPostalCode</th>\n",
       "    </tr>\n",
       "  </thead>\n",
       "  <tbody>\n",
       "    <tr>\n",
       "      <th>0</th>\n",
       "      <td>90607166</td>\n",
       "      <td>754279</td>\n",
       "      <td>1</td>\n",
       "      <td>14369241</td>\n",
       "      <td>Expédié</td>\n",
       "      <td>DIRECT</td>\n",
       "      <td>Automne/Hiver</td>\n",
       "      <td>Carte bancaire</td>\n",
       "      <td>Fidélisé</td>\n",
       "      <td>GB</td>\n",
       "      <td>Desktop</td>\n",
       "      <td>Promo Avec CP</td>\n",
       "      <td>2</td>\n",
       "      <td>1</td>\n",
       "      <td>52,92</td>\n",
       "      <td>2014-12-02 14:59:54</td>\n",
       "      <td>2014-12-03 19:40:00</td>\n",
       "      <td>3</td>\n",
       "      <td>0.0</td>\n",
       "      <td>SW4 0DX</td>\n",
       "    </tr>\n",
       "    <tr>\n",
       "      <th>1</th>\n",
       "      <td>90621016</td>\n",
       "      <td>1043714</td>\n",
       "      <td>1</td>\n",
       "      <td>16121040</td>\n",
       "      <td>Expédié</td>\n",
       "      <td>DIRECT</td>\n",
       "      <td>Automne/Hiver</td>\n",
       "      <td>Klarna_Invoice</td>\n",
       "      <td>Fidélisé</td>\n",
       "      <td>DE</td>\n",
       "      <td>Desktop</td>\n",
       "      <td>Promo Avec CP</td>\n",
       "      <td>1</td>\n",
       "      <td>1</td>\n",
       "      <td>32,4355</td>\n",
       "      <td>2014-12-02 15:00:41</td>\n",
       "      <td>2014-12-03 11:24:00</td>\n",
       "      <td>2</td>\n",
       "      <td>0.0</td>\n",
       "      <td>66887</td>\n",
       "    </tr>\n",
       "    <tr>\n",
       "      <th>2</th>\n",
       "      <td>90630628</td>\n",
       "      <td>302486</td>\n",
       "      <td>1</td>\n",
       "      <td>16271310</td>\n",
       "      <td>Expédié</td>\n",
       "      <td>DIRECT</td>\n",
       "      <td>Automne/Hiver</td>\n",
       "      <td>Carte bancaire</td>\n",
       "      <td>Nouveau</td>\n",
       "      <td>FR</td>\n",
       "      <td>Desktop</td>\n",
       "      <td>Plein Tarif</td>\n",
       "      <td>1</td>\n",
       "      <td>1</td>\n",
       "      <td>66,65</td>\n",
       "      <td>2014-12-02 15:01:18</td>\n",
       "      <td>2014-12-03 17:21:00</td>\n",
       "      <td>1</td>\n",
       "      <td>0.0</td>\n",
       "      <td>77600</td>\n",
       "    </tr>\n",
       "    <tr>\n",
       "      <th>3</th>\n",
       "      <td>90641377</td>\n",
       "      <td>1300698</td>\n",
       "      <td>1</td>\n",
       "      <td>16271314</td>\n",
       "      <td>Expédié</td>\n",
       "      <td>DIRECT</td>\n",
       "      <td>Automne/Hiver</td>\n",
       "      <td>PayPal</td>\n",
       "      <td>Nouveau</td>\n",
       "      <td>DE</td>\n",
       "      <td>Desktop</td>\n",
       "      <td>Promo Avec CP</td>\n",
       "      <td>1</td>\n",
       "      <td>1</td>\n",
       "      <td>35,72</td>\n",
       "      <td>2014-12-02 15:03:24</td>\n",
       "      <td>2014-12-03 13:13:00</td>\n",
       "      <td>1</td>\n",
       "      <td>0.0</td>\n",
       "      <td>45879</td>\n",
       "    </tr>\n",
       "    <tr>\n",
       "      <th>4</th>\n",
       "      <td>90652456</td>\n",
       "      <td>1392714</td>\n",
       "      <td>1</td>\n",
       "      <td>16251703</td>\n",
       "      <td>Expédié</td>\n",
       "      <td>DIRECT</td>\n",
       "      <td>Automne/Hiver</td>\n",
       "      <td>BankTransfer_IBAN</td>\n",
       "      <td>Nouveau</td>\n",
       "      <td>ES</td>\n",
       "      <td>Desktop</td>\n",
       "      <td>Plein Tarif</td>\n",
       "      <td>1</td>\n",
       "      <td>1</td>\n",
       "      <td>23,86</td>\n",
       "      <td>2014-12-02 15:04:13</td>\n",
       "      <td>2014-12-04 17:41:00</td>\n",
       "      <td>1</td>\n",
       "      <td>0.0</td>\n",
       "      <td>08006</td>\n",
       "    </tr>\n",
       "  </tbody>\n",
       "</table>\n",
       "</div>"
      ],
      "text/plain": [
       "   OrderNumber  VariantId  LineItem  CustomerId OrderStatusLabel  \\\n",
       "0     90607166     754279         1    14369241          Expédié   \n",
       "1     90621016    1043714         1    16121040          Expédié   \n",
       "2     90630628     302486         1    16271310          Expédié   \n",
       "3     90641377    1300698         1    16271314          Expédié   \n",
       "4     90652456    1392714         1    16251703          Expédié   \n",
       "\n",
       "  OrderTypelabel    SeasonLabel  PayementModeLabel CustomerTypeLabel IsoCode  \\\n",
       "0         DIRECT  Automne/Hiver     Carte bancaire          Fidélisé      GB   \n",
       "1         DIRECT  Automne/Hiver     Klarna_Invoice          Fidélisé      DE   \n",
       "2         DIRECT  Automne/Hiver     Carte bancaire           Nouveau      FR   \n",
       "3         DIRECT  Automne/Hiver             PayPal           Nouveau      DE   \n",
       "4         DIRECT  Automne/Hiver  BankTransfer_IBAN           Nouveau      ES   \n",
       "\n",
       "  DeviceTypeLabel PricingTypeLabel  TotalLineItems  Quantity UnitPMPEUR  \\\n",
       "0         Desktop    Promo Avec CP               2         1      52,92   \n",
       "1         Desktop    Promo Avec CP               1         1    32,4355   \n",
       "2         Desktop      Plein Tarif               1         1      66,65   \n",
       "3         Desktop    Promo Avec CP               1         1      35,72   \n",
       "4         Desktop      Plein Tarif               1         1      23,86   \n",
       "\n",
       "     OrderCreationDate        OrderShipDate  OrderNumCustomer  IsOnSale  \\\n",
       "0  2014-12-02 14:59:54  2014-12-03 19:40:00                 3       0.0   \n",
       "1  2014-12-02 15:00:41  2014-12-03 11:24:00                 2       0.0   \n",
       "2  2014-12-02 15:01:18  2014-12-03 17:21:00                 1       0.0   \n",
       "3  2014-12-02 15:03:24  2014-12-03 13:13:00                 1       0.0   \n",
       "4  2014-12-02 15:04:13  2014-12-04 17:41:00                 1       0.0   \n",
       "\n",
       "  BillingPostalCode  \n",
       "0           SW4 0DX  \n",
       "1             66887  \n",
       "2             77600  \n",
       "3             45879  \n",
       "4             08006  "
      ]
     },
     "execution_count": 73,
     "metadata": {},
     "output_type": "execute_result"
    }
   ],
   "source": [
    "X_test.head()"
   ]
  },
  {
   "cell_type": "markdown",
   "metadata": {},
   "source": [
    "### LineItem"
   ]
  },
  {
   "cell_type": "code",
   "execution_count": 74,
   "metadata": {
    "collapsed": true
   },
   "outputs": [],
   "source": [
    "for i in range(1,5):\n",
    "    X_test['LineItem' + '_' + str(i) ] = (X_test['LineItem']==i).astype('float')\n",
    "X_test['LineItem_5+'] = (X_test['LineItem']>=5).astype('float')"
   ]
  },
  {
   "cell_type": "markdown",
   "metadata": {},
   "source": [
    "### OrderStatusLabel"
   ]
  },
  {
   "cell_type": "code",
   "execution_count": 75,
   "metadata": {
    "collapsed": true
   },
   "outputs": [],
   "source": [
    "X_test['OrderStatus'] = X_test['OrderStatusLabel'].eq('Expédié').astype('float')"
   ]
  },
  {
   "cell_type": "markdown",
   "metadata": {},
   "source": [
    "### OrderTypelabel"
   ]
  },
  {
   "cell_type": "code",
   "execution_count": 76,
   "metadata": {
    "collapsed": true
   },
   "outputs": [],
   "source": [
    "X_test['OrderType'] = X_test['OrderTypelabel'].eq('DIRECT').astype('float')"
   ]
  },
  {
   "cell_type": "markdown",
   "metadata": {},
   "source": [
    "### SeasonLabel"
   ]
  },
  {
   "cell_type": "code",
   "execution_count": 77,
   "metadata": {
    "collapsed": true
   },
   "outputs": [],
   "source": [
    "X_test['Season'] = X_test['SeasonLabel'].eq('Automne/Hiver').astype('float')"
   ]
  },
  {
   "cell_type": "markdown",
   "metadata": {},
   "source": [
    "### PayementModeLabel"
   ]
  },
  {
   "cell_type": "code",
   "execution_count": 78,
   "metadata": {},
   "outputs": [
    {
     "data": {
      "text/plain": [
       "'7 colonne(s) ont étaient ajoutées à la DataFrame'"
      ]
     },
     "execution_count": 78,
     "metadata": {},
     "output_type": "execute_result"
    }
   ],
   "source": [
    "Label = [['Carte','maestro'],['PayPal'],['Gratuit'],['iDeal'],['que'],['Bank'],['DHL']]\n",
    "creation(X_test,'PayementModeLabel',Label)"
   ]
  },
  {
   "cell_type": "markdown",
   "metadata": {},
   "source": [
    "### CustomerTypeLabel"
   ]
  },
  {
   "cell_type": "code",
   "execution_count": 79,
   "metadata": {
    "collapsed": true
   },
   "outputs": [],
   "source": [
    "X_test['CustomerType'] = X_test['CustomerTypeLabel'].eq('Fidélisé').astype('float')"
   ]
  },
  {
   "cell_type": "markdown",
   "metadata": {},
   "source": [
    "### DeviceTypeLabel"
   ]
  },
  {
   "cell_type": "code",
   "execution_count": 80,
   "metadata": {},
   "outputs": [
    {
     "data": {
      "text/plain": [
       "'3 colonne(s) ont étaient ajoutées à la DataFrame'"
      ]
     },
     "execution_count": 80,
     "metadata": {},
     "output_type": "execute_result"
    }
   ],
   "source": [
    "Label2 = [['Desktop'],['Tablet'],['Mobile']]\n",
    "creation(X_test,'DeviceTypeLabel',Label2)"
   ]
  },
  {
   "cell_type": "markdown",
   "metadata": {},
   "source": [
    "### PricingTypeLabel"
   ]
  },
  {
   "cell_type": "code",
   "execution_count": 81,
   "metadata": {},
   "outputs": [
    {
     "data": {
      "text/plain": [
       "'5 colonne(s) ont étaient ajoutées à la DataFrame'"
      ]
     },
     "execution_count": 81,
     "metadata": {},
     "output_type": "execute_result"
    }
   ],
   "source": [
    "Label3 = [['Plein'],['Soldes'],['Avec CP'],['Sans CP'],['Vente Priv']]\n",
    "creation(X_test,'PricingTypeLabel',Label3)"
   ]
  },
  {
   "cell_type": "markdown",
   "metadata": {},
   "source": [
    "### TotalLineItems"
   ]
  },
  {
   "cell_type": "code",
   "execution_count": 82,
   "metadata": {
    "collapsed": true
   },
   "outputs": [],
   "source": [
    "for i in range(1,6):\n",
    "    X_test['TotalLineItems' + '_' + str(i) ] = (X_test['TotalLineItems']==i).astype('float')\n",
    "X_test['TotalLineItems_6+'] = (X_test['TotalLineItems']>=6).astype('float')"
   ]
  },
  {
   "cell_type": "markdown",
   "metadata": {},
   "source": [
    "### OrderCreationDate"
   ]
  },
  {
   "cell_type": "code",
   "execution_count": 83,
   "metadata": {
    "collapsed": true
   },
   "outputs": [],
   "source": [
    "X_test['OrderCreationDate'] = X_test['OrderCreationDate'].apply(lambda x : datetime.strptime(x, '%Y-%m-%d %H:%M:%S') )"
   ]
  },
  {
   "cell_type": "code",
   "execution_count": 84,
   "metadata": {
    "collapsed": true
   },
   "outputs": [],
   "source": [
    "temp = X_test['OrderCreationDate'].apply(lambda x : x.hour)\n",
    "\n",
    "X_test['Hour_21H_1H'] = ((temp<=1) | (temp>=21)).astype('float')"
   ]
  },
  {
   "cell_type": "code",
   "execution_count": 85,
   "metadata": {},
   "outputs": [
    {
     "data": {
      "text/html": [
       "<div>\n",
       "<style>\n",
       "    .dataframe thead tr:only-child th {\n",
       "        text-align: right;\n",
       "    }\n",
       "\n",
       "    .dataframe thead th {\n",
       "        text-align: left;\n",
       "    }\n",
       "\n",
       "    .dataframe tbody tr th {\n",
       "        vertical-align: top;\n",
       "    }\n",
       "</style>\n",
       "<table border=\"1\" class=\"dataframe\">\n",
       "  <thead>\n",
       "    <tr style=\"text-align: right;\">\n",
       "      <th></th>\n",
       "      <th>OrderNumber</th>\n",
       "      <th>VariantId</th>\n",
       "      <th>LineItem</th>\n",
       "      <th>CustomerId</th>\n",
       "      <th>OrderStatusLabel</th>\n",
       "      <th>OrderTypelabel</th>\n",
       "      <th>SeasonLabel</th>\n",
       "      <th>PayementModeLabel</th>\n",
       "      <th>CustomerTypeLabel</th>\n",
       "      <th>IsoCode</th>\n",
       "      <th>...</th>\n",
       "      <th>Avec CP</th>\n",
       "      <th>Sans CP</th>\n",
       "      <th>Vente Priv</th>\n",
       "      <th>TotalLineItems_1</th>\n",
       "      <th>TotalLineItems_2</th>\n",
       "      <th>TotalLineItems_3</th>\n",
       "      <th>TotalLineItems_4</th>\n",
       "      <th>TotalLineItems_5</th>\n",
       "      <th>TotalLineItems_6+</th>\n",
       "      <th>Hour_21H_1H</th>\n",
       "    </tr>\n",
       "  </thead>\n",
       "  <tbody>\n",
       "    <tr>\n",
       "      <th>0</th>\n",
       "      <td>90607166</td>\n",
       "      <td>754279</td>\n",
       "      <td>1</td>\n",
       "      <td>14369241</td>\n",
       "      <td>Expédié</td>\n",
       "      <td>DIRECT</td>\n",
       "      <td>Automne/Hiver</td>\n",
       "      <td>Carte bancaire</td>\n",
       "      <td>Fidélisé</td>\n",
       "      <td>GB</td>\n",
       "      <td>...</td>\n",
       "      <td>1.0</td>\n",
       "      <td>0.0</td>\n",
       "      <td>0.0</td>\n",
       "      <td>0.0</td>\n",
       "      <td>1.0</td>\n",
       "      <td>0.0</td>\n",
       "      <td>0.0</td>\n",
       "      <td>0.0</td>\n",
       "      <td>0.0</td>\n",
       "      <td>0.0</td>\n",
       "    </tr>\n",
       "    <tr>\n",
       "      <th>1</th>\n",
       "      <td>90621016</td>\n",
       "      <td>1043714</td>\n",
       "      <td>1</td>\n",
       "      <td>16121040</td>\n",
       "      <td>Expédié</td>\n",
       "      <td>DIRECT</td>\n",
       "      <td>Automne/Hiver</td>\n",
       "      <td>Klarna_Invoice</td>\n",
       "      <td>Fidélisé</td>\n",
       "      <td>DE</td>\n",
       "      <td>...</td>\n",
       "      <td>1.0</td>\n",
       "      <td>0.0</td>\n",
       "      <td>0.0</td>\n",
       "      <td>1.0</td>\n",
       "      <td>0.0</td>\n",
       "      <td>0.0</td>\n",
       "      <td>0.0</td>\n",
       "      <td>0.0</td>\n",
       "      <td>0.0</td>\n",
       "      <td>0.0</td>\n",
       "    </tr>\n",
       "    <tr>\n",
       "      <th>2</th>\n",
       "      <td>90630628</td>\n",
       "      <td>302486</td>\n",
       "      <td>1</td>\n",
       "      <td>16271310</td>\n",
       "      <td>Expédié</td>\n",
       "      <td>DIRECT</td>\n",
       "      <td>Automne/Hiver</td>\n",
       "      <td>Carte bancaire</td>\n",
       "      <td>Nouveau</td>\n",
       "      <td>FR</td>\n",
       "      <td>...</td>\n",
       "      <td>0.0</td>\n",
       "      <td>0.0</td>\n",
       "      <td>0.0</td>\n",
       "      <td>1.0</td>\n",
       "      <td>0.0</td>\n",
       "      <td>0.0</td>\n",
       "      <td>0.0</td>\n",
       "      <td>0.0</td>\n",
       "      <td>0.0</td>\n",
       "      <td>0.0</td>\n",
       "    </tr>\n",
       "    <tr>\n",
       "      <th>3</th>\n",
       "      <td>90641377</td>\n",
       "      <td>1300698</td>\n",
       "      <td>1</td>\n",
       "      <td>16271314</td>\n",
       "      <td>Expédié</td>\n",
       "      <td>DIRECT</td>\n",
       "      <td>Automne/Hiver</td>\n",
       "      <td>PayPal</td>\n",
       "      <td>Nouveau</td>\n",
       "      <td>DE</td>\n",
       "      <td>...</td>\n",
       "      <td>1.0</td>\n",
       "      <td>0.0</td>\n",
       "      <td>0.0</td>\n",
       "      <td>1.0</td>\n",
       "      <td>0.0</td>\n",
       "      <td>0.0</td>\n",
       "      <td>0.0</td>\n",
       "      <td>0.0</td>\n",
       "      <td>0.0</td>\n",
       "      <td>0.0</td>\n",
       "    </tr>\n",
       "    <tr>\n",
       "      <th>4</th>\n",
       "      <td>90652456</td>\n",
       "      <td>1392714</td>\n",
       "      <td>1</td>\n",
       "      <td>16251703</td>\n",
       "      <td>Expédié</td>\n",
       "      <td>DIRECT</td>\n",
       "      <td>Automne/Hiver</td>\n",
       "      <td>BankTransfer_IBAN</td>\n",
       "      <td>Nouveau</td>\n",
       "      <td>ES</td>\n",
       "      <td>...</td>\n",
       "      <td>0.0</td>\n",
       "      <td>0.0</td>\n",
       "      <td>0.0</td>\n",
       "      <td>1.0</td>\n",
       "      <td>0.0</td>\n",
       "      <td>0.0</td>\n",
       "      <td>0.0</td>\n",
       "      <td>0.0</td>\n",
       "      <td>0.0</td>\n",
       "      <td>0.0</td>\n",
       "    </tr>\n",
       "  </tbody>\n",
       "</table>\n",
       "<p>5 rows × 51 columns</p>\n",
       "</div>"
      ],
      "text/plain": [
       "   OrderNumber  VariantId  LineItem  CustomerId OrderStatusLabel  \\\n",
       "0     90607166     754279         1    14369241          Expédié   \n",
       "1     90621016    1043714         1    16121040          Expédié   \n",
       "2     90630628     302486         1    16271310          Expédié   \n",
       "3     90641377    1300698         1    16271314          Expédié   \n",
       "4     90652456    1392714         1    16251703          Expédié   \n",
       "\n",
       "  OrderTypelabel    SeasonLabel  PayementModeLabel CustomerTypeLabel IsoCode  \\\n",
       "0         DIRECT  Automne/Hiver     Carte bancaire          Fidélisé      GB   \n",
       "1         DIRECT  Automne/Hiver     Klarna_Invoice          Fidélisé      DE   \n",
       "2         DIRECT  Automne/Hiver     Carte bancaire           Nouveau      FR   \n",
       "3         DIRECT  Automne/Hiver             PayPal           Nouveau      DE   \n",
       "4         DIRECT  Automne/Hiver  BankTransfer_IBAN           Nouveau      ES   \n",
       "\n",
       "      ...     Avec CP Sans CP  Vente Priv  TotalLineItems_1 TotalLineItems_2  \\\n",
       "0     ...         1.0     0.0         0.0               0.0              1.0   \n",
       "1     ...         1.0     0.0         0.0               1.0              0.0   \n",
       "2     ...         0.0     0.0         0.0               1.0              0.0   \n",
       "3     ...         1.0     0.0         0.0               1.0              0.0   \n",
       "4     ...         0.0     0.0         0.0               1.0              0.0   \n",
       "\n",
       "  TotalLineItems_3 TotalLineItems_4  TotalLineItems_5  TotalLineItems_6+  \\\n",
       "0              0.0              0.0               0.0                0.0   \n",
       "1              0.0              0.0               0.0                0.0   \n",
       "2              0.0              0.0               0.0                0.0   \n",
       "3              0.0              0.0               0.0                0.0   \n",
       "4              0.0              0.0               0.0                0.0   \n",
       "\n",
       "  Hour_21H_1H  \n",
       "0         0.0  \n",
       "1         0.0  \n",
       "2         0.0  \n",
       "3         0.0  \n",
       "4         0.0  \n",
       "\n",
       "[5 rows x 51 columns]"
      ]
     },
     "execution_count": 85,
     "metadata": {},
     "output_type": "execute_result"
    }
   ],
   "source": [
    "X_test.head()"
   ]
  },
  {
   "cell_type": "markdown",
   "metadata": {},
   "source": [
    "### Delete columns"
   ]
  },
  {
   "cell_type": "code",
   "execution_count": 86,
   "metadata": {
    "collapsed": true
   },
   "outputs": [],
   "source": [
    "# delete columns \n",
    "del X_test['OrderNumber']\n",
    "#del X_test['VariantId'] # Necssaire pour merge orders/products\n",
    "del X_test['LineItem']\n",
    "#del X_test['CustomerId'] # Necessaire pour merge orders/customers\n",
    "del X_test['OrderStatusLabel']\n",
    "del X_test['OrderTypelabel']\n",
    "del X_test['SeasonLabel']\n",
    "del X_test['PayementModeLabel']\n",
    "del X_test['CustomerTypeLabel']\n",
    "del X_test['DeviceTypeLabel']\n",
    "del X_test['PricingTypeLabel']\n",
    "del X_test['TotalLineItems']\n",
    "del X_test['OrderCreationDate']\n",
    "del X_test['OrderShipDate']\n",
    "del X_test['BillingPostalCode']\n",
    "# del X_test['OrderNumCustomer']  # Le garder et voir statistiques dessus, pas traité."
   ]
  },
  {
   "cell_type": "code",
   "execution_count": 87,
   "metadata": {
    "collapsed": true
   },
   "outputs": [],
   "source": [
    "X_test = X_test.fillna(0)"
   ]
  },
  {
   "cell_type": "code",
   "execution_count": 88,
   "metadata": {},
   "outputs": [
    {
     "data": {
      "text/html": [
       "<div>\n",
       "<style>\n",
       "    .dataframe thead tr:only-child th {\n",
       "        text-align: right;\n",
       "    }\n",
       "\n",
       "    .dataframe thead th {\n",
       "        text-align: left;\n",
       "    }\n",
       "\n",
       "    .dataframe tbody tr th {\n",
       "        vertical-align: top;\n",
       "    }\n",
       "</style>\n",
       "<table border=\"1\" class=\"dataframe\">\n",
       "  <thead>\n",
       "    <tr style=\"text-align: right;\">\n",
       "      <th></th>\n",
       "      <th>VariantId</th>\n",
       "      <th>CustomerId</th>\n",
       "      <th>IsoCode</th>\n",
       "      <th>Quantity</th>\n",
       "      <th>UnitPMPEUR</th>\n",
       "      <th>OrderNumCustomer</th>\n",
       "      <th>IsOnSale</th>\n",
       "      <th>LineItem_1</th>\n",
       "      <th>LineItem_2</th>\n",
       "      <th>LineItem_3</th>\n",
       "      <th>...</th>\n",
       "      <th>Avec CP</th>\n",
       "      <th>Sans CP</th>\n",
       "      <th>Vente Priv</th>\n",
       "      <th>TotalLineItems_1</th>\n",
       "      <th>TotalLineItems_2</th>\n",
       "      <th>TotalLineItems_3</th>\n",
       "      <th>TotalLineItems_4</th>\n",
       "      <th>TotalLineItems_5</th>\n",
       "      <th>TotalLineItems_6+</th>\n",
       "      <th>Hour_21H_1H</th>\n",
       "    </tr>\n",
       "  </thead>\n",
       "  <tbody>\n",
       "    <tr>\n",
       "      <th>0</th>\n",
       "      <td>754279</td>\n",
       "      <td>14369241</td>\n",
       "      <td>GB</td>\n",
       "      <td>1</td>\n",
       "      <td>52,92</td>\n",
       "      <td>3</td>\n",
       "      <td>0.0</td>\n",
       "      <td>1.0</td>\n",
       "      <td>0.0</td>\n",
       "      <td>0.0</td>\n",
       "      <td>...</td>\n",
       "      <td>1.0</td>\n",
       "      <td>0.0</td>\n",
       "      <td>0.0</td>\n",
       "      <td>0.0</td>\n",
       "      <td>1.0</td>\n",
       "      <td>0.0</td>\n",
       "      <td>0.0</td>\n",
       "      <td>0.0</td>\n",
       "      <td>0.0</td>\n",
       "      <td>0.0</td>\n",
       "    </tr>\n",
       "    <tr>\n",
       "      <th>1</th>\n",
       "      <td>1043714</td>\n",
       "      <td>16121040</td>\n",
       "      <td>DE</td>\n",
       "      <td>1</td>\n",
       "      <td>32,4355</td>\n",
       "      <td>2</td>\n",
       "      <td>0.0</td>\n",
       "      <td>1.0</td>\n",
       "      <td>0.0</td>\n",
       "      <td>0.0</td>\n",
       "      <td>...</td>\n",
       "      <td>1.0</td>\n",
       "      <td>0.0</td>\n",
       "      <td>0.0</td>\n",
       "      <td>1.0</td>\n",
       "      <td>0.0</td>\n",
       "      <td>0.0</td>\n",
       "      <td>0.0</td>\n",
       "      <td>0.0</td>\n",
       "      <td>0.0</td>\n",
       "      <td>0.0</td>\n",
       "    </tr>\n",
       "    <tr>\n",
       "      <th>2</th>\n",
       "      <td>302486</td>\n",
       "      <td>16271310</td>\n",
       "      <td>FR</td>\n",
       "      <td>1</td>\n",
       "      <td>66,65</td>\n",
       "      <td>1</td>\n",
       "      <td>0.0</td>\n",
       "      <td>1.0</td>\n",
       "      <td>0.0</td>\n",
       "      <td>0.0</td>\n",
       "      <td>...</td>\n",
       "      <td>0.0</td>\n",
       "      <td>0.0</td>\n",
       "      <td>0.0</td>\n",
       "      <td>1.0</td>\n",
       "      <td>0.0</td>\n",
       "      <td>0.0</td>\n",
       "      <td>0.0</td>\n",
       "      <td>0.0</td>\n",
       "      <td>0.0</td>\n",
       "      <td>0.0</td>\n",
       "    </tr>\n",
       "    <tr>\n",
       "      <th>3</th>\n",
       "      <td>1300698</td>\n",
       "      <td>16271314</td>\n",
       "      <td>DE</td>\n",
       "      <td>1</td>\n",
       "      <td>35,72</td>\n",
       "      <td>1</td>\n",
       "      <td>0.0</td>\n",
       "      <td>1.0</td>\n",
       "      <td>0.0</td>\n",
       "      <td>0.0</td>\n",
       "      <td>...</td>\n",
       "      <td>1.0</td>\n",
       "      <td>0.0</td>\n",
       "      <td>0.0</td>\n",
       "      <td>1.0</td>\n",
       "      <td>0.0</td>\n",
       "      <td>0.0</td>\n",
       "      <td>0.0</td>\n",
       "      <td>0.0</td>\n",
       "      <td>0.0</td>\n",
       "      <td>0.0</td>\n",
       "    </tr>\n",
       "    <tr>\n",
       "      <th>4</th>\n",
       "      <td>1392714</td>\n",
       "      <td>16251703</td>\n",
       "      <td>ES</td>\n",
       "      <td>1</td>\n",
       "      <td>23,86</td>\n",
       "      <td>1</td>\n",
       "      <td>0.0</td>\n",
       "      <td>1.0</td>\n",
       "      <td>0.0</td>\n",
       "      <td>0.0</td>\n",
       "      <td>...</td>\n",
       "      <td>0.0</td>\n",
       "      <td>0.0</td>\n",
       "      <td>0.0</td>\n",
       "      <td>1.0</td>\n",
       "      <td>0.0</td>\n",
       "      <td>0.0</td>\n",
       "      <td>0.0</td>\n",
       "      <td>0.0</td>\n",
       "      <td>0.0</td>\n",
       "      <td>0.0</td>\n",
       "    </tr>\n",
       "  </tbody>\n",
       "</table>\n",
       "<p>5 rows × 38 columns</p>\n",
       "</div>"
      ],
      "text/plain": [
       "   VariantId  CustomerId IsoCode  Quantity UnitPMPEUR  OrderNumCustomer  \\\n",
       "0     754279    14369241      GB         1      52,92                 3   \n",
       "1    1043714    16121040      DE         1    32,4355                 2   \n",
       "2     302486    16271310      FR         1      66,65                 1   \n",
       "3    1300698    16271314      DE         1      35,72                 1   \n",
       "4    1392714    16251703      ES         1      23,86                 1   \n",
       "\n",
       "   IsOnSale  LineItem_1  LineItem_2  LineItem_3     ...       Avec CP  \\\n",
       "0       0.0         1.0         0.0         0.0     ...           1.0   \n",
       "1       0.0         1.0         0.0         0.0     ...           1.0   \n",
       "2       0.0         1.0         0.0         0.0     ...           0.0   \n",
       "3       0.0         1.0         0.0         0.0     ...           1.0   \n",
       "4       0.0         1.0         0.0         0.0     ...           0.0   \n",
       "\n",
       "   Sans CP  Vente Priv  TotalLineItems_1  TotalLineItems_2  TotalLineItems_3  \\\n",
       "0      0.0         0.0               0.0               1.0               0.0   \n",
       "1      0.0         0.0               1.0               0.0               0.0   \n",
       "2      0.0         0.0               1.0               0.0               0.0   \n",
       "3      0.0         0.0               1.0               0.0               0.0   \n",
       "4      0.0         0.0               1.0               0.0               0.0   \n",
       "\n",
       "   TotalLineItems_4  TotalLineItems_5  TotalLineItems_6+  Hour_21H_1H  \n",
       "0               0.0               0.0                0.0          0.0  \n",
       "1               0.0               0.0                0.0          0.0  \n",
       "2               0.0               0.0                0.0          0.0  \n",
       "3               0.0               0.0                0.0          0.0  \n",
       "4               0.0               0.0                0.0          0.0  \n",
       "\n",
       "[5 rows x 38 columns]"
      ]
     },
     "execution_count": 88,
     "metadata": {},
     "output_type": "execute_result"
    }
   ],
   "source": [
    "X_test.head()"
   ]
  },
  {
   "cell_type": "markdown",
   "metadata": {},
   "source": [
    "### Merge X_test"
   ]
  },
  {
   "cell_type": "code",
   "execution_count": 89,
   "metadata": {},
   "outputs": [
    {
     "data": {
      "text/html": [
       "<div>\n",
       "<style>\n",
       "    .dataframe thead tr:only-child th {\n",
       "        text-align: right;\n",
       "    }\n",
       "\n",
       "    .dataframe thead th {\n",
       "        text-align: left;\n",
       "    }\n",
       "\n",
       "    .dataframe tbody tr th {\n",
       "        vertical-align: top;\n",
       "    }\n",
       "</style>\n",
       "<table border=\"1\" class=\"dataframe\">\n",
       "  <thead>\n",
       "    <tr style=\"text-align: right;\">\n",
       "      <th></th>\n",
       "      <th>VariantId</th>\n",
       "      <th>CustomerId</th>\n",
       "      <th>IsoCode</th>\n",
       "      <th>Quantity</th>\n",
       "      <th>UnitPMPEUR</th>\n",
       "      <th>OrderNumCustomer</th>\n",
       "      <th>IsOnSale</th>\n",
       "      <th>LineItem_1</th>\n",
       "      <th>LineItem_2</th>\n",
       "      <th>LineItem_3</th>\n",
       "      <th>...</th>\n",
       "      <th>Age55-60</th>\n",
       "      <th>Sexe</th>\n",
       "      <th>FirstOrder-3Y</th>\n",
       "      <th>FirstOrder-4Y</th>\n",
       "      <th>FirstOrder-5Y</th>\n",
       "      <th>FirstOrder-6Y</th>\n",
       "      <th>FirstOrder-7Y</th>\n",
       "      <th>FirstOrder-8Y</th>\n",
       "      <th>FirstOrder-9Y</th>\n",
       "      <th>FirstOrder-10Y+</th>\n",
       "    </tr>\n",
       "  </thead>\n",
       "  <tbody>\n",
       "    <tr>\n",
       "      <th>0</th>\n",
       "      <td>754279</td>\n",
       "      <td>14369241</td>\n",
       "      <td>GB</td>\n",
       "      <td>1</td>\n",
       "      <td>52,92</td>\n",
       "      <td>3</td>\n",
       "      <td>0.0</td>\n",
       "      <td>1.0</td>\n",
       "      <td>0.0</td>\n",
       "      <td>0.0</td>\n",
       "      <td>...</td>\n",
       "      <td>0.0</td>\n",
       "      <td>0.0</td>\n",
       "      <td>0.0</td>\n",
       "      <td>0.0</td>\n",
       "      <td>1.0</td>\n",
       "      <td>0.0</td>\n",
       "      <td>0.0</td>\n",
       "      <td>0.0</td>\n",
       "      <td>0.0</td>\n",
       "      <td>0.0</td>\n",
       "    </tr>\n",
       "    <tr>\n",
       "      <th>1</th>\n",
       "      <td>1043714</td>\n",
       "      <td>16121040</td>\n",
       "      <td>DE</td>\n",
       "      <td>1</td>\n",
       "      <td>32,4355</td>\n",
       "      <td>2</td>\n",
       "      <td>0.0</td>\n",
       "      <td>1.0</td>\n",
       "      <td>0.0</td>\n",
       "      <td>0.0</td>\n",
       "      <td>...</td>\n",
       "      <td>0.0</td>\n",
       "      <td>1.0</td>\n",
       "      <td>0.0</td>\n",
       "      <td>1.0</td>\n",
       "      <td>0.0</td>\n",
       "      <td>0.0</td>\n",
       "      <td>0.0</td>\n",
       "      <td>0.0</td>\n",
       "      <td>0.0</td>\n",
       "      <td>0.0</td>\n",
       "    </tr>\n",
       "    <tr>\n",
       "      <th>2</th>\n",
       "      <td>302486</td>\n",
       "      <td>16271310</td>\n",
       "      <td>FR</td>\n",
       "      <td>1</td>\n",
       "      <td>66,65</td>\n",
       "      <td>1</td>\n",
       "      <td>0.0</td>\n",
       "      <td>1.0</td>\n",
       "      <td>0.0</td>\n",
       "      <td>0.0</td>\n",
       "      <td>...</td>\n",
       "      <td>0.0</td>\n",
       "      <td>1.0</td>\n",
       "      <td>0.0</td>\n",
       "      <td>1.0</td>\n",
       "      <td>0.0</td>\n",
       "      <td>0.0</td>\n",
       "      <td>0.0</td>\n",
       "      <td>0.0</td>\n",
       "      <td>0.0</td>\n",
       "      <td>0.0</td>\n",
       "    </tr>\n",
       "    <tr>\n",
       "      <th>3</th>\n",
       "      <td>1300698</td>\n",
       "      <td>16271314</td>\n",
       "      <td>DE</td>\n",
       "      <td>1</td>\n",
       "      <td>35,72</td>\n",
       "      <td>1</td>\n",
       "      <td>0.0</td>\n",
       "      <td>1.0</td>\n",
       "      <td>0.0</td>\n",
       "      <td>0.0</td>\n",
       "      <td>...</td>\n",
       "      <td>NaN</td>\n",
       "      <td>NaN</td>\n",
       "      <td>NaN</td>\n",
       "      <td>NaN</td>\n",
       "      <td>NaN</td>\n",
       "      <td>NaN</td>\n",
       "      <td>NaN</td>\n",
       "      <td>NaN</td>\n",
       "      <td>NaN</td>\n",
       "      <td>NaN</td>\n",
       "    </tr>\n",
       "    <tr>\n",
       "      <th>4</th>\n",
       "      <td>1392714</td>\n",
       "      <td>16251703</td>\n",
       "      <td>ES</td>\n",
       "      <td>1</td>\n",
       "      <td>23,86</td>\n",
       "      <td>1</td>\n",
       "      <td>0.0</td>\n",
       "      <td>1.0</td>\n",
       "      <td>0.0</td>\n",
       "      <td>0.0</td>\n",
       "      <td>...</td>\n",
       "      <td>0.0</td>\n",
       "      <td>1.0</td>\n",
       "      <td>0.0</td>\n",
       "      <td>1.0</td>\n",
       "      <td>0.0</td>\n",
       "      <td>0.0</td>\n",
       "      <td>0.0</td>\n",
       "      <td>0.0</td>\n",
       "      <td>0.0</td>\n",
       "      <td>0.0</td>\n",
       "    </tr>\n",
       "  </tbody>\n",
       "</table>\n",
       "<p>5 rows × 192 columns</p>\n",
       "</div>"
      ],
      "text/plain": [
       "  VariantId CustomerId IsoCode  Quantity UnitPMPEUR  OrderNumCustomer  \\\n",
       "0    754279   14369241      GB         1      52,92                 3   \n",
       "1   1043714   16121040      DE         1    32,4355                 2   \n",
       "2    302486   16271310      FR         1      66,65                 1   \n",
       "3   1300698   16271314      DE         1      35,72                 1   \n",
       "4   1392714   16251703      ES         1      23,86                 1   \n",
       "\n",
       "   IsOnSale  LineItem_1  LineItem_2  LineItem_3       ...         Age55-60  \\\n",
       "0       0.0         1.0         0.0         0.0       ...              0.0   \n",
       "1       0.0         1.0         0.0         0.0       ...              0.0   \n",
       "2       0.0         1.0         0.0         0.0       ...              0.0   \n",
       "3       0.0         1.0         0.0         0.0       ...              NaN   \n",
       "4       0.0         1.0         0.0         0.0       ...              0.0   \n",
       "\n",
       "   Sexe  FirstOrder-3Y  FirstOrder-4Y  FirstOrder-5Y  FirstOrder-6Y  \\\n",
       "0   0.0            0.0            0.0            1.0            0.0   \n",
       "1   1.0            0.0            1.0            0.0            0.0   \n",
       "2   1.0            0.0            1.0            0.0            0.0   \n",
       "3   NaN            NaN            NaN            NaN            NaN   \n",
       "4   1.0            0.0            1.0            0.0            0.0   \n",
       "\n",
       "   FirstOrder-7Y  FirstOrder-8Y  FirstOrder-9Y  FirstOrder-10Y+  \n",
       "0            0.0            0.0            0.0              0.0  \n",
       "1            0.0            0.0            0.0              0.0  \n",
       "2            0.0            0.0            0.0              0.0  \n",
       "3            NaN            NaN            NaN              NaN  \n",
       "4            0.0            0.0            0.0              0.0  \n",
       "\n",
       "[5 rows x 192 columns]"
      ]
     },
     "execution_count": 89,
     "metadata": {},
     "output_type": "execute_result"
    }
   ],
   "source": [
    "test_products = pd.merge(X_test,products,how='left',on='VariantId')\n",
    "test_data = pd.merge(test_products,customers,how='left',on='CustomerId')\n",
    "test_data.head()"
   ]
  },
  {
   "cell_type": "markdown",
   "metadata": {},
   "source": [
    "### Delete columns test_data"
   ]
  },
  {
   "cell_type": "code",
   "execution_count": 90,
   "metadata": {
    "collapsed": true
   },
   "outputs": [],
   "source": [
    "# del colonne for merging\n",
    "del test_data['VariantId']\n",
    "del test_data['CustomerId']\n",
    "#del test_data['OrderNumber']\n",
    "\n",
    "# Pour tester une premiere fois on supprime ces colonnes\n",
    "#del test_data['IsoCode']\n",
    "#del test_data['CountryISOCode']\n",
    "#del test_data['BrandId']"
   ]
  },
  {
   "cell_type": "code",
   "execution_count": 91,
   "metadata": {},
   "outputs": [
    {
     "data": {
      "text/html": [
       "<div>\n",
       "<style>\n",
       "    .dataframe thead tr:only-child th {\n",
       "        text-align: right;\n",
       "    }\n",
       "\n",
       "    .dataframe thead th {\n",
       "        text-align: left;\n",
       "    }\n",
       "\n",
       "    .dataframe tbody tr th {\n",
       "        vertical-align: top;\n",
       "    }\n",
       "</style>\n",
       "<table border=\"1\" class=\"dataframe\">\n",
       "  <thead>\n",
       "    <tr style=\"text-align: right;\">\n",
       "      <th></th>\n",
       "      <th>IsoCode</th>\n",
       "      <th>Quantity</th>\n",
       "      <th>UnitPMPEUR</th>\n",
       "      <th>OrderNumCustomer</th>\n",
       "      <th>IsOnSale</th>\n",
       "      <th>LineItem_1</th>\n",
       "      <th>LineItem_2</th>\n",
       "      <th>LineItem_3</th>\n",
       "      <th>LineItem_4</th>\n",
       "      <th>LineItem_5+</th>\n",
       "      <th>...</th>\n",
       "      <th>Age55-60</th>\n",
       "      <th>Sexe</th>\n",
       "      <th>FirstOrder-3Y</th>\n",
       "      <th>FirstOrder-4Y</th>\n",
       "      <th>FirstOrder-5Y</th>\n",
       "      <th>FirstOrder-6Y</th>\n",
       "      <th>FirstOrder-7Y</th>\n",
       "      <th>FirstOrder-8Y</th>\n",
       "      <th>FirstOrder-9Y</th>\n",
       "      <th>FirstOrder-10Y+</th>\n",
       "    </tr>\n",
       "  </thead>\n",
       "  <tbody>\n",
       "    <tr>\n",
       "      <th>0</th>\n",
       "      <td>GB</td>\n",
       "      <td>1</td>\n",
       "      <td>52,92</td>\n",
       "      <td>3</td>\n",
       "      <td>0.0</td>\n",
       "      <td>1.0</td>\n",
       "      <td>0.0</td>\n",
       "      <td>0.0</td>\n",
       "      <td>0.0</td>\n",
       "      <td>0.0</td>\n",
       "      <td>...</td>\n",
       "      <td>0.0</td>\n",
       "      <td>0.0</td>\n",
       "      <td>0.0</td>\n",
       "      <td>0.0</td>\n",
       "      <td>1.0</td>\n",
       "      <td>0.0</td>\n",
       "      <td>0.0</td>\n",
       "      <td>0.0</td>\n",
       "      <td>0.0</td>\n",
       "      <td>0.0</td>\n",
       "    </tr>\n",
       "    <tr>\n",
       "      <th>1</th>\n",
       "      <td>DE</td>\n",
       "      <td>1</td>\n",
       "      <td>32,4355</td>\n",
       "      <td>2</td>\n",
       "      <td>0.0</td>\n",
       "      <td>1.0</td>\n",
       "      <td>0.0</td>\n",
       "      <td>0.0</td>\n",
       "      <td>0.0</td>\n",
       "      <td>0.0</td>\n",
       "      <td>...</td>\n",
       "      <td>0.0</td>\n",
       "      <td>1.0</td>\n",
       "      <td>0.0</td>\n",
       "      <td>1.0</td>\n",
       "      <td>0.0</td>\n",
       "      <td>0.0</td>\n",
       "      <td>0.0</td>\n",
       "      <td>0.0</td>\n",
       "      <td>0.0</td>\n",
       "      <td>0.0</td>\n",
       "    </tr>\n",
       "    <tr>\n",
       "      <th>2</th>\n",
       "      <td>FR</td>\n",
       "      <td>1</td>\n",
       "      <td>66,65</td>\n",
       "      <td>1</td>\n",
       "      <td>0.0</td>\n",
       "      <td>1.0</td>\n",
       "      <td>0.0</td>\n",
       "      <td>0.0</td>\n",
       "      <td>0.0</td>\n",
       "      <td>0.0</td>\n",
       "      <td>...</td>\n",
       "      <td>0.0</td>\n",
       "      <td>1.0</td>\n",
       "      <td>0.0</td>\n",
       "      <td>1.0</td>\n",
       "      <td>0.0</td>\n",
       "      <td>0.0</td>\n",
       "      <td>0.0</td>\n",
       "      <td>0.0</td>\n",
       "      <td>0.0</td>\n",
       "      <td>0.0</td>\n",
       "    </tr>\n",
       "    <tr>\n",
       "      <th>3</th>\n",
       "      <td>DE</td>\n",
       "      <td>1</td>\n",
       "      <td>35,72</td>\n",
       "      <td>1</td>\n",
       "      <td>0.0</td>\n",
       "      <td>1.0</td>\n",
       "      <td>0.0</td>\n",
       "      <td>0.0</td>\n",
       "      <td>0.0</td>\n",
       "      <td>0.0</td>\n",
       "      <td>...</td>\n",
       "      <td>NaN</td>\n",
       "      <td>NaN</td>\n",
       "      <td>NaN</td>\n",
       "      <td>NaN</td>\n",
       "      <td>NaN</td>\n",
       "      <td>NaN</td>\n",
       "      <td>NaN</td>\n",
       "      <td>NaN</td>\n",
       "      <td>NaN</td>\n",
       "      <td>NaN</td>\n",
       "    </tr>\n",
       "    <tr>\n",
       "      <th>4</th>\n",
       "      <td>ES</td>\n",
       "      <td>1</td>\n",
       "      <td>23,86</td>\n",
       "      <td>1</td>\n",
       "      <td>0.0</td>\n",
       "      <td>1.0</td>\n",
       "      <td>0.0</td>\n",
       "      <td>0.0</td>\n",
       "      <td>0.0</td>\n",
       "      <td>0.0</td>\n",
       "      <td>...</td>\n",
       "      <td>0.0</td>\n",
       "      <td>1.0</td>\n",
       "      <td>0.0</td>\n",
       "      <td>1.0</td>\n",
       "      <td>0.0</td>\n",
       "      <td>0.0</td>\n",
       "      <td>0.0</td>\n",
       "      <td>0.0</td>\n",
       "      <td>0.0</td>\n",
       "      <td>0.0</td>\n",
       "    </tr>\n",
       "  </tbody>\n",
       "</table>\n",
       "<p>5 rows × 190 columns</p>\n",
       "</div>"
      ],
      "text/plain": [
       "  IsoCode  Quantity UnitPMPEUR  OrderNumCustomer  IsOnSale  LineItem_1  \\\n",
       "0      GB         1      52,92                 3       0.0         1.0   \n",
       "1      DE         1    32,4355                 2       0.0         1.0   \n",
       "2      FR         1      66,65                 1       0.0         1.0   \n",
       "3      DE         1      35,72                 1       0.0         1.0   \n",
       "4      ES         1      23,86                 1       0.0         1.0   \n",
       "\n",
       "   LineItem_2  LineItem_3  LineItem_4  LineItem_5+       ...         Age55-60  \\\n",
       "0         0.0         0.0         0.0          0.0       ...              0.0   \n",
       "1         0.0         0.0         0.0          0.0       ...              0.0   \n",
       "2         0.0         0.0         0.0          0.0       ...              0.0   \n",
       "3         0.0         0.0         0.0          0.0       ...              NaN   \n",
       "4         0.0         0.0         0.0          0.0       ...              0.0   \n",
       "\n",
       "   Sexe  FirstOrder-3Y  FirstOrder-4Y  FirstOrder-5Y  FirstOrder-6Y  \\\n",
       "0   0.0            0.0            0.0            1.0            0.0   \n",
       "1   1.0            0.0            1.0            0.0            0.0   \n",
       "2   1.0            0.0            1.0            0.0            0.0   \n",
       "3   NaN            NaN            NaN            NaN            NaN   \n",
       "4   1.0            0.0            1.0            0.0            0.0   \n",
       "\n",
       "   FirstOrder-7Y  FirstOrder-8Y  FirstOrder-9Y  FirstOrder-10Y+  \n",
       "0            0.0            0.0            0.0              0.0  \n",
       "1            0.0            0.0            0.0              0.0  \n",
       "2            0.0            0.0            0.0              0.0  \n",
       "3            NaN            NaN            NaN              NaN  \n",
       "4            0.0            0.0            0.0              0.0  \n",
       "\n",
       "[5 rows x 190 columns]"
      ]
     },
     "execution_count": 91,
     "metadata": {},
     "output_type": "execute_result"
    }
   ],
   "source": [
    "test_data.head()"
   ]
  },
  {
   "cell_type": "code",
   "execution_count": 116,
   "metadata": {},
   "outputs": [
    {
     "name": "stdout",
     "output_type": "stream",
     "text": [
      "187\n",
      "187\n"
     ]
    }
   ],
   "source": [
    "liste_test = test_data.columns.tolist()\n",
    "liste_train = X_data.columns.tolist()"
   ]
  },
  {
   "cell_type": "code",
   "execution_count": 114,
   "metadata": {
    "collapsed": true
   },
   "outputs": [],
   "source": [
    "del test_data['BrandId']\n",
    "del test_data['UnitPMPEUR']\n",
    "del test_data['IsoCode']"
   ]
  },
  {
   "cell_type": "markdown",
   "metadata": {},
   "source": [
    "# Standardize the data"
   ]
  },
  {
   "cell_type": "code",
   "execution_count": 92,
   "metadata": {
    "collapsed": true
   },
   "outputs": [],
   "source": [
    "#data.UnitPMPEUR"
   ]
  },
  {
   "cell_type": "markdown",
   "metadata": {},
   "source": [
    "# Defining a feature transformation"
   ]
  },
  {
   "cell_type": "code",
   "execution_count": 119,
   "metadata": {
    "collapsed": true
   },
   "outputs": [],
   "source": [
    "def funk_mask(d,masked_features):\n",
    "    \" Defining a simple mask over the input data \"\n",
    "    columns_ext = masked_features\n",
    "    X1 = d.loc[:,[xx for xx in d.columns if xx not in columns_ext]]\n",
    "    print(\"1\")\n",
    "    g = lambda x: x.replace(\",\",\".\")\n",
    "    print(\"2\")\n",
    "    #X1.UnitPMPEUR = map(np.float64,(map(g,X1.UnitPMPEUR)))\n",
    "    print(\"3\")\n",
    "    columns2bin = [x for x in X1.columns if X1[x].dtype == np.dtype('O')]\n",
    "    print(\"4\")\n",
    "    X2 = pd.get_dummies(X1.loc[:,columns2bin])\n",
    "    print(\"5\")\n",
    "    X1 = X1.loc[:,[xx for xx in X1.columns if xx not in columns2bin]]\n",
    "    print(\"6\")\n",
    "    res = pd.concat([X1,X2],axis=1)\n",
    "    print(\"7\")\n",
    "    res = res.fillna(0)\n",
    "    return(res)"
   ]
  },
  {
   "cell_type": "markdown",
   "metadata": {},
   "source": [
    "# Applying the mask"
   ]
  },
  {
   "cell_type": "code",
   "execution_count": 117,
   "metadata": {
    "collapsed": true
   },
   "outputs": [],
   "source": [
    "features = []"
   ]
  },
  {
   "cell_type": "code",
   "execution_count": 120,
   "metadata": {},
   "outputs": [
    {
     "name": "stdout",
     "output_type": "stream",
     "text": [
      "1\n",
      "2\n",
      "3\n",
      "4\n",
      "5\n",
      "6\n",
      "7\n",
      "1\n",
      "2\n",
      "3\n",
      "4\n",
      "5\n",
      "6\n",
      "7\n"
     ]
    }
   ],
   "source": [
    "x1 = funk_mask(X_data,features)\n",
    "x2 = funk_mask(test_data,features)\n",
    "seleckt_columns = np.intersect1d(x1.columns,x2.columns)\n",
    "x1 = x1.loc[:,seleckt_columns]\n",
    "x2 = x2.loc[:,seleckt_columns]"
   ]
  },
  {
   "cell_type": "markdown",
   "metadata": {},
   "source": [
    "# Standardizing the Data"
   ]
  },
  {
   "cell_type": "code",
   "execution_count": 121,
   "metadata": {
    "collapsed": true
   },
   "outputs": [],
   "source": [
    "from sklearn.preprocessing import StandardScaler\n",
    "scaler = StandardScaler()\n",
    "\n",
    "# Fit on training set only.\n",
    "scaler.fit(x1)\n",
    "\n",
    "# Apply transform to both the training set and the test set.\n",
    "x1 = scaler.transform(x1)\n",
    "x2 = scaler.transform(x2)"
   ]
  },
  {
   "cell_type": "markdown",
   "metadata": {},
   "source": [
    "# PCA"
   ]
  },
  {
   "cell_type": "code",
   "execution_count": 105,
   "metadata": {
    "collapsed": true
   },
   "outputs": [],
   "source": [
    "from sklearn.decomposition import PCA"
   ]
  },
  {
   "cell_type": "code",
   "execution_count": 122,
   "metadata": {
    "collapsed": true
   },
   "outputs": [],
   "source": [
    "# Make an instance of the Model\n",
    "pca = PCA(n_components=5)\n",
    "\n",
    "# Fit PCA on training set\n",
    "pca.fit(x1)\n",
    "\n",
    "# Apply the mapping (transform) to both the training set and the test set\n",
    "x1 = pca.transform(x1)\n",
    "x2 = pca.transform(x2)"
   ]
  },
  {
   "cell_type": "markdown",
   "metadata": {},
   "source": [
    "# Supervised learning : Logistic regression model"
   ]
  },
  {
   "cell_type": "code",
   "execution_count": 107,
   "metadata": {},
   "outputs": [
    {
     "name": "stdout",
     "output_type": "stream",
     "text": [
      "0.761779947052\n"
     ]
    }
   ],
   "source": [
    "clf = RandomForestClassifier()\n",
    "clf.fit(x1[:100000], y_train.ReturnQuantityBin[:100000])\n",
    "y_tosubmit = clf.predict_proba(x2)\n",
    "score_forest = np.mean(cross_val_score(clf,x1[:100000], y_train.ReturnQuantityBin[:100000],cv=10))\n",
    "print(score_forest)"
   ]
  },
  {
   "cell_type": "code",
   "execution_count": 123,
   "metadata": {},
   "outputs": [],
   "source": [
    "np.savetxt('y_pred.txt', y_tosubmit[:,1], fmt='%f')"
   ]
  },
  {
   "cell_type": "markdown",
   "metadata": {},
   "source": [
    "# Score of our prediction : on the train"
   ]
  },
  {
   "cell_type": "code",
   "execution_count": 124,
   "metadata": {},
   "outputs": [
    {
     "name": "stdout",
     "output_type": "stream",
     "text": [
      "0.475151799557\n"
     ]
    }
   ],
   "source": [
    "yres = clf.predict_proba(x1[:100001])\n",
    "print(roc_auc_score(y_train.ReturnQuantityBin.iloc[:100001],yres[:,1]))\n",
    "\n",
    "# Submission to the system\n",
    "np.savetxt('y_pred.txt', y_tosubmit[:,1], fmt='%f')"
   ]
  }
 ],
 "metadata": {
  "kernelspec": {
   "display_name": "Python 3",
   "language": "python",
   "name": "python3"
  },
  "language_info": {
   "codemirror_mode": {
    "name": "ipython",
    "version": 3
   },
   "file_extension": ".py",
   "mimetype": "text/x-python",
   "name": "python",
   "nbconvert_exporter": "python",
   "pygments_lexer": "ipython3",
   "version": "3.6.3"
  }
 },
 "nbformat": 4,
 "nbformat_minor": 2
}
