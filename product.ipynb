{
 "cells": [
  {
   "cell_type": "code",
   "execution_count": 1,
   "metadata": {},
   "outputs": [
    {
     "name": "stderr",
     "output_type": "stream",
     "text": [
      "/anaconda3/lib/python3.6/site-packages/statsmodels/compat/pandas.py:56: FutureWarning: The pandas.core.datetools module is deprecated and will be removed in a future version. Please use the pandas.tseries module instead.\n",
      "  from pandas.core import datetools\n"
     ]
    }
   ],
   "source": [
    "%matplotlib inline\n",
    "#basic python packages for plotting and array management\n",
    "import numpy as np\n",
    "import matplotlib.pyplot as plt\n",
    "import random\n",
    "import seaborn as sns\n",
    "import statsmodels.api as sm\n",
    "\n",
    "#for data import\n",
    "import pandas as pd\n",
    "import os\n",
    "import sys\n",
    "from importlib import reload\n",
    "reload(sys)\n",
    "\n",
    "#Preprocessing\n",
    "from sklearn import preprocessing\n",
    "from sklearn.preprocessing import StandardScaler\n",
    "from sklearn.discriminant_analysis import LinearDiscriminantAnalysis\n",
    "from sklearn.decomposition import PCA\n",
    "from sklearn.preprocessing import Imputer\n",
    "from sklearn.preprocessing import LabelEncoder\n",
    "import category_encoders as ce\n",
    "\n",
    "#Classifiers\n",
    "from sklearn.linear_model import LogisticRegression, RidgeClassifier, RidgeClassifierCV, PassiveAggressiveClassifier, Perceptron, SGDClassifier\n",
    "from sklearn.svm import SVC\n",
    "from sklearn.neighbors import KNeighborsClassifier, NearestCentroid\n",
    "from sklearn.gaussian_process import GaussianProcessClassifier\n",
    "from sklearn.naive_bayes import GaussianNB, MultinomialNB, BernoulliNB\n",
    "from sklearn.tree import DecisionTreeClassifier, ExtraTreeClassifier\n",
    "from sklearn.neural_network import MLPClassifier\n",
    "\n",
    "#Ensemble methods and crossvalidation\n",
    "from sklearn.model_selection import GridSearchCV, cross_val_predict, cross_val_score\n",
    "from sklearn.pipeline import Pipeline\n",
    "from sklearn.ensemble import AdaBoostClassifier, BaggingClassifier, ExtraTreesClassifier, GradientBoostingClassifier,RandomForestClassifier, VotingClassifier\n",
    "\n",
    "#PostProcessing\n",
    "from sklearn.metrics import classification_report, confusion_matrix, roc_auc_score\n",
    "\n",
    "import time"
   ]
  },
  {
   "cell_type": "code",
   "execution_count": 2,
   "metadata": {
    "collapsed": true
   },
   "outputs": [],
   "source": [
    "def creation(Table,Colonne,Liste):\n",
    "    for element in Liste:     # On parcourt la liste en entier\n",
    "        names = []\n",
    "        for nuance in element:    # On parcourt chaque nuance de chaque sous-liste\n",
    "            name_col = nuance\n",
    "            name = Table[Colonne].str.contains(nuance).astype('float')\n",
    "            names.append(name)\n",
    "        \n",
    "        col = pd.Series(0,index = range(Table.shape[0]))\n",
    "        for column in names :\n",
    "            col = col+column\n",
    "        \n",
    "        Table[name_col] = col\n",
    "    return ('%d colonne(s) ont été ajoutées à la DataFrame' %(len(Liste)))"
   ]
  },
  {
   "cell_type": "code",
   "execution_count": 3,
   "metadata": {
    "collapsed": true
   },
   "outputs": [],
   "source": [
    "products = pd.read_csv(\"products.csv\")\n",
    "y_train = pd.read_csv(\"y_train.csv\")\n",
    "X_train = pd.read_csv(\"X_train.csv\")\n",
    "X_test   = pd.read_csv(\"X_test.csv\")"
   ]
  },
  {
   "cell_type": "markdown",
   "metadata": {},
   "source": [
    "# I) PRODUCTS"
   ]
  },
  {
   "cell_type": "code",
   "execution_count": 4,
   "metadata": {},
   "outputs": [
    {
     "data": {
      "text/plain": [
       "VariantId                float64\n",
       "GenderLabel               object\n",
       "MarketTargetLabel         object\n",
       "SeasonLabel               object\n",
       "SeasonalityLabel          object\n",
       "BrandId                  float64\n",
       "UniverseLabel             object\n",
       "TypeBrand                 object\n",
       "ProductId                float64\n",
       "ProductType               object\n",
       "SupplierColor             object\n",
       "ProductColorId           float64\n",
       "MinSize                  float64\n",
       "MaxSize                  float64\n",
       "CalfTurn                 float64\n",
       "UpperHeight              float64\n",
       "HeelHeight               float64\n",
       "PurchasePriceHT          float64\n",
       "IsNewCollection          float64\n",
       "SubtypeLabel              object\n",
       "UpperMaterialLabel        object\n",
       "LiningMaterialLabel       object\n",
       "OutSoleMaterialLabel      object\n",
       "RemovableSole             object\n",
       "SizeAdviceDescription     object\n",
       "dtype: object"
      ]
     },
     "execution_count": 4,
     "metadata": {},
     "output_type": "execute_result"
    }
   ],
   "source": [
    "products.dtypes"
   ]
  },
  {
   "cell_type": "code",
   "execution_count": 5,
   "metadata": {},
   "outputs": [
    {
     "data": {
      "text/html": [
       "<div>\n",
       "<style>\n",
       "    .dataframe thead tr:only-child th {\n",
       "        text-align: right;\n",
       "    }\n",
       "\n",
       "    .dataframe thead th {\n",
       "        text-align: left;\n",
       "    }\n",
       "\n",
       "    .dataframe tbody tr th {\n",
       "        vertical-align: top;\n",
       "    }\n",
       "</style>\n",
       "<table border=\"1\" class=\"dataframe\">\n",
       "  <thead>\n",
       "    <tr style=\"text-align: right;\">\n",
       "      <th></th>\n",
       "      <th>VariantId</th>\n",
       "      <th>GenderLabel</th>\n",
       "      <th>MarketTargetLabel</th>\n",
       "      <th>SeasonLabel</th>\n",
       "      <th>SeasonalityLabel</th>\n",
       "      <th>BrandId</th>\n",
       "      <th>UniverseLabel</th>\n",
       "      <th>TypeBrand</th>\n",
       "      <th>ProductId</th>\n",
       "      <th>ProductType</th>\n",
       "      <th>...</th>\n",
       "      <th>UpperHeight</th>\n",
       "      <th>HeelHeight</th>\n",
       "      <th>PurchasePriceHT</th>\n",
       "      <th>IsNewCollection</th>\n",
       "      <th>SubtypeLabel</th>\n",
       "      <th>UpperMaterialLabel</th>\n",
       "      <th>LiningMaterialLabel</th>\n",
       "      <th>OutSoleMaterialLabel</th>\n",
       "      <th>RemovableSole</th>\n",
       "      <th>SizeAdviceDescription</th>\n",
       "    </tr>\n",
       "  </thead>\n",
       "  <tbody>\n",
       "    <tr>\n",
       "      <th>0</th>\n",
       "      <td>728257.0</td>\n",
       "      <td>Homme</td>\n",
       "      <td>Classique</td>\n",
       "      <td>Automne/Hiver</td>\n",
       "      <td>Saisonnier</td>\n",
       "      <td>66.0</td>\n",
       "      <td>DÃ©tente</td>\n",
       "      <td>Standard</td>\n",
       "      <td>17267.0</td>\n",
       "      <td>Baskets</td>\n",
       "      <td>...</td>\n",
       "      <td>NaN</td>\n",
       "      <td>0.0</td>\n",
       "      <td>30.50</td>\n",
       "      <td>0.0</td>\n",
       "      <td>Montantes</td>\n",
       "      <td>NaN</td>\n",
       "      <td>NaN</td>\n",
       "      <td>NaN</td>\n",
       "      <td>False</td>\n",
       "      <td>Prenez une taille en dessous de votre pointure...</td>\n",
       "    </tr>\n",
       "    <tr>\n",
       "      <th>1</th>\n",
       "      <td>806356.0</td>\n",
       "      <td>Femme</td>\n",
       "      <td>ND</td>\n",
       "      <td>Automne/Hiver</td>\n",
       "      <td>Saisonnier</td>\n",
       "      <td>842.0</td>\n",
       "      <td>ND</td>\n",
       "      <td>Standard</td>\n",
       "      <td>30824.0</td>\n",
       "      <td>Baskets</td>\n",
       "      <td>...</td>\n",
       "      <td>0.0</td>\n",
       "      <td>0.0</td>\n",
       "      <td>43.00</td>\n",
       "      <td>0.0</td>\n",
       "      <td>Montantes</td>\n",
       "      <td>NaN</td>\n",
       "      <td>NaN</td>\n",
       "      <td>NaN</td>\n",
       "      <td>True</td>\n",
       "      <td>Prenez votre pointure habituelle</td>\n",
       "    </tr>\n",
       "    <tr>\n",
       "      <th>2</th>\n",
       "      <td>768790.0</td>\n",
       "      <td>Femme</td>\n",
       "      <td>ND</td>\n",
       "      <td>Automne/Hiver</td>\n",
       "      <td>Reconduit</td>\n",
       "      <td>988.0</td>\n",
       "      <td>Ville</td>\n",
       "      <td>Standard</td>\n",
       "      <td>62475.0</td>\n",
       "      <td>Bottines et boots</td>\n",
       "      <td>...</td>\n",
       "      <td>6.0</td>\n",
       "      <td>3.0</td>\n",
       "      <td>54.90</td>\n",
       "      <td>0.0</td>\n",
       "      <td>Bout pointu</td>\n",
       "      <td>NaN</td>\n",
       "      <td>NaN</td>\n",
       "      <td>NaN</td>\n",
       "      <td>False</td>\n",
       "      <td>Prenez votre pointure habituelle</td>\n",
       "    </tr>\n",
       "    <tr>\n",
       "      <th>3</th>\n",
       "      <td>515679.0</td>\n",
       "      <td>Femme</td>\n",
       "      <td>ND</td>\n",
       "      <td>Automne/Hiver</td>\n",
       "      <td>Saisonnier</td>\n",
       "      <td>769.0</td>\n",
       "      <td>Ville</td>\n",
       "      <td>Standard</td>\n",
       "      <td>43983.0</td>\n",
       "      <td>Escarpins</td>\n",
       "      <td>...</td>\n",
       "      <td>0.0</td>\n",
       "      <td>13.0</td>\n",
       "      <td>34.50</td>\n",
       "      <td>0.0</td>\n",
       "      <td>Bout rond</td>\n",
       "      <td>NaN</td>\n",
       "      <td>NaN</td>\n",
       "      <td>NaN</td>\n",
       "      <td>False</td>\n",
       "      <td>Prenez votre pointure habituelle</td>\n",
       "    </tr>\n",
       "    <tr>\n",
       "      <th>4</th>\n",
       "      <td>1025246.0</td>\n",
       "      <td>Femme</td>\n",
       "      <td>ND</td>\n",
       "      <td>Automne/Hiver</td>\n",
       "      <td>Saisonnier</td>\n",
       "      <td>1244.0</td>\n",
       "      <td>ND</td>\n",
       "      <td>Standard</td>\n",
       "      <td>81493.0</td>\n",
       "      <td>Bottines et boots</td>\n",
       "      <td>...</td>\n",
       "      <td>8.0</td>\n",
       "      <td>4.0</td>\n",
       "      <td>43.76</td>\n",
       "      <td>0.0</td>\n",
       "      <td>Bout rond</td>\n",
       "      <td>NaN</td>\n",
       "      <td>NaN</td>\n",
       "      <td>NaN</td>\n",
       "      <td>False</td>\n",
       "      <td>Prenez votre pointure habituelle</td>\n",
       "    </tr>\n",
       "  </tbody>\n",
       "</table>\n",
       "<p>5 rows × 25 columns</p>\n",
       "</div>"
      ],
      "text/plain": [
       "   VariantId GenderLabel MarketTargetLabel    SeasonLabel SeasonalityLabel  \\\n",
       "0   728257.0       Homme         Classique  Automne/Hiver       Saisonnier   \n",
       "1   806356.0       Femme                ND  Automne/Hiver       Saisonnier   \n",
       "2   768790.0       Femme                ND  Automne/Hiver        Reconduit   \n",
       "3   515679.0       Femme                ND  Automne/Hiver       Saisonnier   \n",
       "4  1025246.0       Femme                ND  Automne/Hiver       Saisonnier   \n",
       "\n",
       "   BrandId UniverseLabel TypeBrand  ProductId        ProductType  \\\n",
       "0     66.0      DÃ©tente  Standard    17267.0            Baskets   \n",
       "1    842.0            ND  Standard    30824.0            Baskets   \n",
       "2    988.0         Ville  Standard    62475.0  Bottines et boots   \n",
       "3    769.0         Ville  Standard    43983.0          Escarpins   \n",
       "4   1244.0            ND  Standard    81493.0  Bottines et boots   \n",
       "\n",
       "                         ...                         UpperHeight  HeelHeight  \\\n",
       "0                        ...                                 NaN         0.0   \n",
       "1                        ...                                 0.0         0.0   \n",
       "2                        ...                                 6.0         3.0   \n",
       "3                        ...                                 0.0        13.0   \n",
       "4                        ...                                 8.0         4.0   \n",
       "\n",
       "   PurchasePriceHT  IsNewCollection  SubtypeLabel  UpperMaterialLabel  \\\n",
       "0            30.50              0.0     Montantes                 NaN   \n",
       "1            43.00              0.0     Montantes                 NaN   \n",
       "2            54.90              0.0   Bout pointu                 NaN   \n",
       "3            34.50              0.0     Bout rond                 NaN   \n",
       "4            43.76              0.0     Bout rond                 NaN   \n",
       "\n",
       "   LiningMaterialLabel  OutSoleMaterialLabel  RemovableSole  \\\n",
       "0                  NaN                   NaN          False   \n",
       "1                  NaN                   NaN           True   \n",
       "2                  NaN                   NaN          False   \n",
       "3                  NaN                   NaN          False   \n",
       "4                  NaN                   NaN          False   \n",
       "\n",
       "                               SizeAdviceDescription  \n",
       "0  Prenez une taille en dessous de votre pointure...  \n",
       "1                   Prenez votre pointure habituelle  \n",
       "2                   Prenez votre pointure habituelle  \n",
       "3                   Prenez votre pointure habituelle  \n",
       "4                   Prenez votre pointure habituelle  \n",
       "\n",
       "[5 rows x 25 columns]"
      ]
     },
     "execution_count": 5,
     "metadata": {},
     "output_type": "execute_result"
    }
   ],
   "source": [
    "products.head()"
   ]
  },
  {
   "cell_type": "code",
   "execution_count": 6,
   "metadata": {},
   "outputs": [
    {
     "data": {
      "text/plain": [
       "VariantId                     0\n",
       "GenderLabel                   0\n",
       "MarketTargetLabel             0\n",
       "SeasonLabel                   0\n",
       "SeasonalityLabel              0\n",
       "BrandId                       0\n",
       "UniverseLabel                 0\n",
       "TypeBrand                     0\n",
       "ProductId                     0\n",
       "ProductType                1102\n",
       "SupplierColor                 0\n",
       "ProductColorId                0\n",
       "MinSize                       0\n",
       "MaxSize                       0\n",
       "CalfTurn                 469539\n",
       "UpperHeight              413501\n",
       "HeelHeight                21625\n",
       "PurchasePriceHT               0\n",
       "IsNewCollection               0\n",
       "SubtypeLabel              74305\n",
       "UpperMaterialLabel       465587\n",
       "LiningMaterialLabel      525811\n",
       "OutSoleMaterialLabel     526199\n",
       "RemovableSole             23107\n",
       "SizeAdviceDescription     36301\n",
       "dtype: int64"
      ]
     },
     "execution_count": 6,
     "metadata": {},
     "output_type": "execute_result"
    }
   ],
   "source": [
    "products.isnull().sum()"
   ]
  },
  {
   "cell_type": "code",
   "execution_count": 7,
   "metadata": {},
   "outputs": [
    {
     "data": {
      "text/plain": [
       "(533520, 25)"
      ]
     },
     "execution_count": 7,
     "metadata": {},
     "output_type": "execute_result"
    }
   ],
   "source": [
    "products.shape"
   ]
  },
  {
   "cell_type": "markdown",
   "metadata": {},
   "source": [
    "# 1) Object columns"
   ]
  },
  {
   "cell_type": "code",
   "execution_count": 8,
   "metadata": {},
   "outputs": [
    {
     "data": {
      "text/html": [
       "<div>\n",
       "<style>\n",
       "    .dataframe thead tr:only-child th {\n",
       "        text-align: right;\n",
       "    }\n",
       "\n",
       "    .dataframe thead th {\n",
       "        text-align: left;\n",
       "    }\n",
       "\n",
       "    .dataframe tbody tr th {\n",
       "        vertical-align: top;\n",
       "    }\n",
       "</style>\n",
       "<table border=\"1\" class=\"dataframe\">\n",
       "  <thead>\n",
       "    <tr style=\"text-align: right;\">\n",
       "      <th></th>\n",
       "      <th>GenderLabel</th>\n",
       "      <th>MarketTargetLabel</th>\n",
       "      <th>SeasonLabel</th>\n",
       "      <th>SeasonalityLabel</th>\n",
       "      <th>UniverseLabel</th>\n",
       "      <th>TypeBrand</th>\n",
       "      <th>ProductType</th>\n",
       "      <th>SupplierColor</th>\n",
       "      <th>SubtypeLabel</th>\n",
       "      <th>UpperMaterialLabel</th>\n",
       "      <th>LiningMaterialLabel</th>\n",
       "      <th>OutSoleMaterialLabel</th>\n",
       "      <th>RemovableSole</th>\n",
       "      <th>SizeAdviceDescription</th>\n",
       "    </tr>\n",
       "  </thead>\n",
       "  <tbody>\n",
       "    <tr>\n",
       "      <th>0</th>\n",
       "      <td>Homme</td>\n",
       "      <td>Classique</td>\n",
       "      <td>Automne/Hiver</td>\n",
       "      <td>Saisonnier</td>\n",
       "      <td>DÃ©tente</td>\n",
       "      <td>Standard</td>\n",
       "      <td>Baskets</td>\n",
       "      <td>Vert FoncÃ©</td>\n",
       "      <td>Montantes</td>\n",
       "      <td>NaN</td>\n",
       "      <td>NaN</td>\n",
       "      <td>NaN</td>\n",
       "      <td>False</td>\n",
       "      <td>Prenez une taille en dessous de votre pointure...</td>\n",
       "    </tr>\n",
       "    <tr>\n",
       "      <th>1</th>\n",
       "      <td>Femme</td>\n",
       "      <td>ND</td>\n",
       "      <td>Automne/Hiver</td>\n",
       "      <td>Saisonnier</td>\n",
       "      <td>ND</td>\n",
       "      <td>Standard</td>\n",
       "      <td>Baskets</td>\n",
       "      <td>Jaune - Noir</td>\n",
       "      <td>Montantes</td>\n",
       "      <td>NaN</td>\n",
       "      <td>NaN</td>\n",
       "      <td>NaN</td>\n",
       "      <td>True</td>\n",
       "      <td>Prenez votre pointure habituelle</td>\n",
       "    </tr>\n",
       "    <tr>\n",
       "      <th>2</th>\n",
       "      <td>Femme</td>\n",
       "      <td>ND</td>\n",
       "      <td>Automne/Hiver</td>\n",
       "      <td>Reconduit</td>\n",
       "      <td>Ville</td>\n",
       "      <td>Standard</td>\n",
       "      <td>Bottines et boots</td>\n",
       "      <td>Paston Black</td>\n",
       "      <td>Bout pointu</td>\n",
       "      <td>NaN</td>\n",
       "      <td>NaN</td>\n",
       "      <td>NaN</td>\n",
       "      <td>False</td>\n",
       "      <td>Prenez votre pointure habituelle</td>\n",
       "    </tr>\n",
       "    <tr>\n",
       "      <th>3</th>\n",
       "      <td>Femme</td>\n",
       "      <td>ND</td>\n",
       "      <td>Automne/Hiver</td>\n",
       "      <td>Saisonnier</td>\n",
       "      <td>Ville</td>\n",
       "      <td>Standard</td>\n",
       "      <td>Escarpins</td>\n",
       "      <td>Daim brandy</td>\n",
       "      <td>Bout rond</td>\n",
       "      <td>NaN</td>\n",
       "      <td>NaN</td>\n",
       "      <td>NaN</td>\n",
       "      <td>False</td>\n",
       "      <td>Prenez votre pointure habituelle</td>\n",
       "    </tr>\n",
       "    <tr>\n",
       "      <th>4</th>\n",
       "      <td>Femme</td>\n",
       "      <td>ND</td>\n",
       "      <td>Automne/Hiver</td>\n",
       "      <td>Saisonnier</td>\n",
       "      <td>ND</td>\n",
       "      <td>Standard</td>\n",
       "      <td>Bottines et boots</td>\n",
       "      <td>Negro</td>\n",
       "      <td>Bout rond</td>\n",
       "      <td>NaN</td>\n",
       "      <td>NaN</td>\n",
       "      <td>NaN</td>\n",
       "      <td>False</td>\n",
       "      <td>Prenez votre pointure habituelle</td>\n",
       "    </tr>\n",
       "  </tbody>\n",
       "</table>\n",
       "</div>"
      ],
      "text/plain": [
       "  GenderLabel MarketTargetLabel    SeasonLabel SeasonalityLabel UniverseLabel  \\\n",
       "0       Homme         Classique  Automne/Hiver       Saisonnier      DÃ©tente   \n",
       "1       Femme                ND  Automne/Hiver       Saisonnier            ND   \n",
       "2       Femme                ND  Automne/Hiver        Reconduit         Ville   \n",
       "3       Femme                ND  Automne/Hiver       Saisonnier         Ville   \n",
       "4       Femme                ND  Automne/Hiver       Saisonnier            ND   \n",
       "\n",
       "  TypeBrand        ProductType SupplierColor SubtypeLabel UpperMaterialLabel  \\\n",
       "0  Standard            Baskets   Vert FoncÃ©    Montantes                NaN   \n",
       "1  Standard            Baskets  Jaune - Noir    Montantes                NaN   \n",
       "2  Standard  Bottines et boots  Paston Black  Bout pointu                NaN   \n",
       "3  Standard          Escarpins   Daim brandy    Bout rond                NaN   \n",
       "4  Standard  Bottines et boots         Negro    Bout rond                NaN   \n",
       "\n",
       "  LiningMaterialLabel OutSoleMaterialLabel RemovableSole  \\\n",
       "0                 NaN                  NaN         False   \n",
       "1                 NaN                  NaN          True   \n",
       "2                 NaN                  NaN         False   \n",
       "3                 NaN                  NaN         False   \n",
       "4                 NaN                  NaN         False   \n",
       "\n",
       "                               SizeAdviceDescription  \n",
       "0  Prenez une taille en dessous de votre pointure...  \n",
       "1                   Prenez votre pointure habituelle  \n",
       "2                   Prenez votre pointure habituelle  \n",
       "3                   Prenez votre pointure habituelle  \n",
       "4                   Prenez votre pointure habituelle  "
      ]
     },
     "execution_count": 8,
     "metadata": {},
     "output_type": "execute_result"
    }
   ],
   "source": [
    "obj_df = products.select_dtypes(include=['object']).copy()\n",
    "obj_df.head()"
   ]
  },
  {
   "cell_type": "code",
   "execution_count": 9,
   "metadata": {},
   "outputs": [
    {
     "data": {
      "text/plain": [
       "ND                             515401\n",
       "Contemporaine                    6631\n",
       "Suiveur                          2825\n",
       "Fashionistas                     2214\n",
       "Classique                        2183\n",
       "Confort                          1549\n",
       "Baroudeur                         771\n",
       "Aventurier                        674\n",
       "Skate                             556\n",
       "Ethique                           293\n",
       "Adulescante                       210\n",
       "Monsieur Petit prix/Confort       123\n",
       "contemporain                       89\n",
       "Gothique                            1\n",
       "Name: MarketTargetLabel, dtype: int64"
      ]
     },
     "execution_count": 9,
     "metadata": {},
     "output_type": "execute_result"
    }
   ],
   "source": [
    "obj_df.MarketTargetLabel.value_counts()"
   ]
  },
  {
   "cell_type": "code",
   "execution_count": 10,
   "metadata": {
    "collapsed": true
   },
   "outputs": [],
   "source": [
    "obj_df.drop('MarketTargetLabel',axis=1,inplace=True)"
   ]
  },
  {
   "cell_type": "code",
   "execution_count": 11,
   "metadata": {
    "collapsed": true
   },
   "outputs": [],
   "source": [
    "# GenderLabel\n",
    "obj_df = pd.get_dummies(obj_df, columns=[\"GenderLabel\"])"
   ]
  },
  {
   "cell_type": "code",
   "execution_count": 12,
   "metadata": {
    "collapsed": true
   },
   "outputs": [],
   "source": [
    "# SeasonLabel\n",
    "obj_df = pd.get_dummies(obj_df, columns=[\"SeasonLabel\"])"
   ]
  },
  {
   "cell_type": "code",
   "execution_count": 13,
   "metadata": {
    "collapsed": true
   },
   "outputs": [],
   "source": [
    "# SeasonalityLabel\n",
    "obj_df.drop('SeasonalityLabel',axis=1,inplace=True)"
   ]
  },
  {
   "cell_type": "code",
   "execution_count": 14,
   "metadata": {
    "collapsed": true
   },
   "outputs": [],
   "source": [
    "# UniverseLabel\n",
    "obj_df.drop('UniverseLabel',axis=1,inplace=True)"
   ]
  },
  {
   "cell_type": "code",
   "execution_count": 15,
   "metadata": {},
   "outputs": [
    {
     "data": {
      "text/html": [
       "<div>\n",
       "<style>\n",
       "    .dataframe thead tr:only-child th {\n",
       "        text-align: right;\n",
       "    }\n",
       "\n",
       "    .dataframe thead th {\n",
       "        text-align: left;\n",
       "    }\n",
       "\n",
       "    .dataframe tbody tr th {\n",
       "        vertical-align: top;\n",
       "    }\n",
       "</style>\n",
       "<table border=\"1\" class=\"dataframe\">\n",
       "  <thead>\n",
       "    <tr style=\"text-align: right;\">\n",
       "      <th></th>\n",
       "      <th>TypeBrand</th>\n",
       "      <th>ProductType</th>\n",
       "      <th>SupplierColor</th>\n",
       "      <th>SubtypeLabel</th>\n",
       "      <th>UpperMaterialLabel</th>\n",
       "      <th>LiningMaterialLabel</th>\n",
       "      <th>OutSoleMaterialLabel</th>\n",
       "      <th>RemovableSole</th>\n",
       "      <th>SizeAdviceDescription</th>\n",
       "      <th>GenderLabel_Accessoires</th>\n",
       "      <th>GenderLabel_Enfant</th>\n",
       "      <th>GenderLabel_Femme</th>\n",
       "      <th>GenderLabel_Homme</th>\n",
       "      <th>GenderLabel_Sacs</th>\n",
       "      <th>SeasonLabel_Automne/Hiver</th>\n",
       "      <th>SeasonLabel_Printemps/EtÃ©</th>\n",
       "    </tr>\n",
       "  </thead>\n",
       "  <tbody>\n",
       "    <tr>\n",
       "      <th>0</th>\n",
       "      <td>Standard</td>\n",
       "      <td>Baskets</td>\n",
       "      <td>Vert FoncÃ©</td>\n",
       "      <td>Montantes</td>\n",
       "      <td>NaN</td>\n",
       "      <td>NaN</td>\n",
       "      <td>NaN</td>\n",
       "      <td>False</td>\n",
       "      <td>Prenez une taille en dessous de votre pointure...</td>\n",
       "      <td>0</td>\n",
       "      <td>0</td>\n",
       "      <td>0</td>\n",
       "      <td>1</td>\n",
       "      <td>0</td>\n",
       "      <td>1</td>\n",
       "      <td>0</td>\n",
       "    </tr>\n",
       "    <tr>\n",
       "      <th>1</th>\n",
       "      <td>Standard</td>\n",
       "      <td>Baskets</td>\n",
       "      <td>Jaune - Noir</td>\n",
       "      <td>Montantes</td>\n",
       "      <td>NaN</td>\n",
       "      <td>NaN</td>\n",
       "      <td>NaN</td>\n",
       "      <td>True</td>\n",
       "      <td>Prenez votre pointure habituelle</td>\n",
       "      <td>0</td>\n",
       "      <td>0</td>\n",
       "      <td>1</td>\n",
       "      <td>0</td>\n",
       "      <td>0</td>\n",
       "      <td>1</td>\n",
       "      <td>0</td>\n",
       "    </tr>\n",
       "    <tr>\n",
       "      <th>2</th>\n",
       "      <td>Standard</td>\n",
       "      <td>Bottines et boots</td>\n",
       "      <td>Paston Black</td>\n",
       "      <td>Bout pointu</td>\n",
       "      <td>NaN</td>\n",
       "      <td>NaN</td>\n",
       "      <td>NaN</td>\n",
       "      <td>False</td>\n",
       "      <td>Prenez votre pointure habituelle</td>\n",
       "      <td>0</td>\n",
       "      <td>0</td>\n",
       "      <td>1</td>\n",
       "      <td>0</td>\n",
       "      <td>0</td>\n",
       "      <td>1</td>\n",
       "      <td>0</td>\n",
       "    </tr>\n",
       "    <tr>\n",
       "      <th>3</th>\n",
       "      <td>Standard</td>\n",
       "      <td>Escarpins</td>\n",
       "      <td>Daim brandy</td>\n",
       "      <td>Bout rond</td>\n",
       "      <td>NaN</td>\n",
       "      <td>NaN</td>\n",
       "      <td>NaN</td>\n",
       "      <td>False</td>\n",
       "      <td>Prenez votre pointure habituelle</td>\n",
       "      <td>0</td>\n",
       "      <td>0</td>\n",
       "      <td>1</td>\n",
       "      <td>0</td>\n",
       "      <td>0</td>\n",
       "      <td>1</td>\n",
       "      <td>0</td>\n",
       "    </tr>\n",
       "    <tr>\n",
       "      <th>4</th>\n",
       "      <td>Standard</td>\n",
       "      <td>Bottines et boots</td>\n",
       "      <td>Negro</td>\n",
       "      <td>Bout rond</td>\n",
       "      <td>NaN</td>\n",
       "      <td>NaN</td>\n",
       "      <td>NaN</td>\n",
       "      <td>False</td>\n",
       "      <td>Prenez votre pointure habituelle</td>\n",
       "      <td>0</td>\n",
       "      <td>0</td>\n",
       "      <td>1</td>\n",
       "      <td>0</td>\n",
       "      <td>0</td>\n",
       "      <td>1</td>\n",
       "      <td>0</td>\n",
       "    </tr>\n",
       "  </tbody>\n",
       "</table>\n",
       "</div>"
      ],
      "text/plain": [
       "  TypeBrand        ProductType SupplierColor SubtypeLabel UpperMaterialLabel  \\\n",
       "0  Standard            Baskets   Vert FoncÃ©    Montantes                NaN   \n",
       "1  Standard            Baskets  Jaune - Noir    Montantes                NaN   \n",
       "2  Standard  Bottines et boots  Paston Black  Bout pointu                NaN   \n",
       "3  Standard          Escarpins   Daim brandy    Bout rond                NaN   \n",
       "4  Standard  Bottines et boots         Negro    Bout rond                NaN   \n",
       "\n",
       "  LiningMaterialLabel OutSoleMaterialLabel RemovableSole  \\\n",
       "0                 NaN                  NaN         False   \n",
       "1                 NaN                  NaN          True   \n",
       "2                 NaN                  NaN         False   \n",
       "3                 NaN                  NaN         False   \n",
       "4                 NaN                  NaN         False   \n",
       "\n",
       "                               SizeAdviceDescription  GenderLabel_Accessoires  \\\n",
       "0  Prenez une taille en dessous de votre pointure...                        0   \n",
       "1                   Prenez votre pointure habituelle                        0   \n",
       "2                   Prenez votre pointure habituelle                        0   \n",
       "3                   Prenez votre pointure habituelle                        0   \n",
       "4                   Prenez votre pointure habituelle                        0   \n",
       "\n",
       "   GenderLabel_Enfant  GenderLabel_Femme  GenderLabel_Homme  GenderLabel_Sacs  \\\n",
       "0                   0                  0                  1                 0   \n",
       "1                   0                  1                  0                 0   \n",
       "2                   0                  1                  0                 0   \n",
       "3                   0                  1                  0                 0   \n",
       "4                   0                  1                  0                 0   \n",
       "\n",
       "   SeasonLabel_Automne/Hiver  SeasonLabel_Printemps/EtÃ©  \n",
       "0                          1                           0  \n",
       "1                          1                           0  \n",
       "2                          1                           0  \n",
       "3                          1                           0  \n",
       "4                          1                           0  "
      ]
     },
     "execution_count": 15,
     "metadata": {},
     "output_type": "execute_result"
    }
   ],
   "source": [
    "obj_df.head()"
   ]
  },
  {
   "cell_type": "code",
   "execution_count": 16,
   "metadata": {
    "collapsed": true
   },
   "outputs": [],
   "source": [
    "# TypeBrand\n",
    "obj_df = pd.get_dummies(obj_df, columns=[\"TypeBrand\"])"
   ]
  },
  {
   "cell_type": "code",
   "execution_count": 17,
   "metadata": {},
   "outputs": [
    {
     "data": {
      "text/plain": [
       "Baskets                         148644\n",
       "Sandales et nu-pieds             82596\n",
       "Bottines et boots                81588\n",
       "Escarpins                        36220\n",
       "Chaussures Ã  lacets             35686\n",
       "Ballerines                       35124\n",
       "Chaussures de sport              30383\n",
       "Bottes                           20072\n",
       "Mocassins                        14287\n",
       "Tongs                            13190\n",
       "Chaussons                         8527\n",
       "Mules et sabots                   6341\n",
       "Chaussures Ã  scratch             6187\n",
       "Sacs Ã  main                      5130\n",
       "Espadrilles                       3917\n",
       "Petite Maroquinerie               1047\n",
       "Chaussettes et collants            640\n",
       "Sacs Ã  dos                        521\n",
       "Sacs pochettes                     490\n",
       "Sacs de sport                      387\n",
       "Sacs homme                         362\n",
       "Ceintures                          324\n",
       "Bagages                            290\n",
       "Scolaire                           180\n",
       "Business                            96\n",
       "Semelles                            42\n",
       "Lacets                              34\n",
       "Sacs ordinateur                     34\n",
       "Produits d'entretien                27\n",
       "Divers                              24\n",
       "Soins et beautÃ© des pieds          14\n",
       "Isotherme                           13\n",
       "Chausse-pieds et tire-bottes         1\n",
       "Name: ProductType, dtype: int64"
      ]
     },
     "execution_count": 17,
     "metadata": {},
     "output_type": "execute_result"
    }
   ],
   "source": [
    "obj_df.ProductType.value_counts()"
   ]
  },
  {
   "cell_type": "code",
   "execution_count": 18,
   "metadata": {
    "collapsed": true
   },
   "outputs": [],
   "source": [
    "# Product Type\n",
    "obj_df.drop('ProductType',axis=1,inplace=True)"
   ]
  },
  {
   "cell_type": "code",
   "execution_count": 19,
   "metadata": {},
   "outputs": [
    {
     "data": {
      "text/html": [
       "<div>\n",
       "<style>\n",
       "    .dataframe thead tr:only-child th {\n",
       "        text-align: right;\n",
       "    }\n",
       "\n",
       "    .dataframe thead th {\n",
       "        text-align: left;\n",
       "    }\n",
       "\n",
       "    .dataframe tbody tr th {\n",
       "        vertical-align: top;\n",
       "    }\n",
       "</style>\n",
       "<table border=\"1\" class=\"dataframe\">\n",
       "  <thead>\n",
       "    <tr style=\"text-align: right;\">\n",
       "      <th></th>\n",
       "      <th>SupplierColor</th>\n",
       "      <th>SubtypeLabel</th>\n",
       "      <th>UpperMaterialLabel</th>\n",
       "      <th>LiningMaterialLabel</th>\n",
       "      <th>OutSoleMaterialLabel</th>\n",
       "      <th>RemovableSole</th>\n",
       "      <th>SizeAdviceDescription</th>\n",
       "      <th>GenderLabel_Accessoires</th>\n",
       "      <th>GenderLabel_Enfant</th>\n",
       "      <th>GenderLabel_Femme</th>\n",
       "      <th>GenderLabel_Homme</th>\n",
       "      <th>GenderLabel_Sacs</th>\n",
       "      <th>SeasonLabel_Automne/Hiver</th>\n",
       "      <th>SeasonLabel_Printemps/EtÃ©</th>\n",
       "      <th>TypeBrand_Luxe</th>\n",
       "      <th>TypeBrand_Standard</th>\n",
       "      <th>TypeBrand_Super Luxe</th>\n",
       "    </tr>\n",
       "  </thead>\n",
       "  <tbody>\n",
       "    <tr>\n",
       "      <th>0</th>\n",
       "      <td>Vert FoncÃ©</td>\n",
       "      <td>Montantes</td>\n",
       "      <td>NaN</td>\n",
       "      <td>NaN</td>\n",
       "      <td>NaN</td>\n",
       "      <td>False</td>\n",
       "      <td>Prenez une taille en dessous de votre pointure...</td>\n",
       "      <td>0</td>\n",
       "      <td>0</td>\n",
       "      <td>0</td>\n",
       "      <td>1</td>\n",
       "      <td>0</td>\n",
       "      <td>1</td>\n",
       "      <td>0</td>\n",
       "      <td>0</td>\n",
       "      <td>1</td>\n",
       "      <td>0</td>\n",
       "    </tr>\n",
       "    <tr>\n",
       "      <th>1</th>\n",
       "      <td>Jaune - Noir</td>\n",
       "      <td>Montantes</td>\n",
       "      <td>NaN</td>\n",
       "      <td>NaN</td>\n",
       "      <td>NaN</td>\n",
       "      <td>True</td>\n",
       "      <td>Prenez votre pointure habituelle</td>\n",
       "      <td>0</td>\n",
       "      <td>0</td>\n",
       "      <td>1</td>\n",
       "      <td>0</td>\n",
       "      <td>0</td>\n",
       "      <td>1</td>\n",
       "      <td>0</td>\n",
       "      <td>0</td>\n",
       "      <td>1</td>\n",
       "      <td>0</td>\n",
       "    </tr>\n",
       "    <tr>\n",
       "      <th>2</th>\n",
       "      <td>Paston Black</td>\n",
       "      <td>Bout pointu</td>\n",
       "      <td>NaN</td>\n",
       "      <td>NaN</td>\n",
       "      <td>NaN</td>\n",
       "      <td>False</td>\n",
       "      <td>Prenez votre pointure habituelle</td>\n",
       "      <td>0</td>\n",
       "      <td>0</td>\n",
       "      <td>1</td>\n",
       "      <td>0</td>\n",
       "      <td>0</td>\n",
       "      <td>1</td>\n",
       "      <td>0</td>\n",
       "      <td>0</td>\n",
       "      <td>1</td>\n",
       "      <td>0</td>\n",
       "    </tr>\n",
       "    <tr>\n",
       "      <th>3</th>\n",
       "      <td>Daim brandy</td>\n",
       "      <td>Bout rond</td>\n",
       "      <td>NaN</td>\n",
       "      <td>NaN</td>\n",
       "      <td>NaN</td>\n",
       "      <td>False</td>\n",
       "      <td>Prenez votre pointure habituelle</td>\n",
       "      <td>0</td>\n",
       "      <td>0</td>\n",
       "      <td>1</td>\n",
       "      <td>0</td>\n",
       "      <td>0</td>\n",
       "      <td>1</td>\n",
       "      <td>0</td>\n",
       "      <td>0</td>\n",
       "      <td>1</td>\n",
       "      <td>0</td>\n",
       "    </tr>\n",
       "    <tr>\n",
       "      <th>4</th>\n",
       "      <td>Negro</td>\n",
       "      <td>Bout rond</td>\n",
       "      <td>NaN</td>\n",
       "      <td>NaN</td>\n",
       "      <td>NaN</td>\n",
       "      <td>False</td>\n",
       "      <td>Prenez votre pointure habituelle</td>\n",
       "      <td>0</td>\n",
       "      <td>0</td>\n",
       "      <td>1</td>\n",
       "      <td>0</td>\n",
       "      <td>0</td>\n",
       "      <td>1</td>\n",
       "      <td>0</td>\n",
       "      <td>0</td>\n",
       "      <td>1</td>\n",
       "      <td>0</td>\n",
       "    </tr>\n",
       "  </tbody>\n",
       "</table>\n",
       "</div>"
      ],
      "text/plain": [
       "  SupplierColor SubtypeLabel UpperMaterialLabel LiningMaterialLabel  \\\n",
       "0   Vert FoncÃ©    Montantes                NaN                 NaN   \n",
       "1  Jaune - Noir    Montantes                NaN                 NaN   \n",
       "2  Paston Black  Bout pointu                NaN                 NaN   \n",
       "3   Daim brandy    Bout rond                NaN                 NaN   \n",
       "4         Negro    Bout rond                NaN                 NaN   \n",
       "\n",
       "  OutSoleMaterialLabel RemovableSole  \\\n",
       "0                  NaN         False   \n",
       "1                  NaN          True   \n",
       "2                  NaN         False   \n",
       "3                  NaN         False   \n",
       "4                  NaN         False   \n",
       "\n",
       "                               SizeAdviceDescription  GenderLabel_Accessoires  \\\n",
       "0  Prenez une taille en dessous de votre pointure...                        0   \n",
       "1                   Prenez votre pointure habituelle                        0   \n",
       "2                   Prenez votre pointure habituelle                        0   \n",
       "3                   Prenez votre pointure habituelle                        0   \n",
       "4                   Prenez votre pointure habituelle                        0   \n",
       "\n",
       "   GenderLabel_Enfant  GenderLabel_Femme  GenderLabel_Homme  GenderLabel_Sacs  \\\n",
       "0                   0                  0                  1                 0   \n",
       "1                   0                  1                  0                 0   \n",
       "2                   0                  1                  0                 0   \n",
       "3                   0                  1                  0                 0   \n",
       "4                   0                  1                  0                 0   \n",
       "\n",
       "   SeasonLabel_Automne/Hiver  SeasonLabel_Printemps/EtÃ©  TypeBrand_Luxe  \\\n",
       "0                          1                           0               0   \n",
       "1                          1                           0               0   \n",
       "2                          1                           0               0   \n",
       "3                          1                           0               0   \n",
       "4                          1                           0               0   \n",
       "\n",
       "   TypeBrand_Standard  TypeBrand_Super Luxe  \n",
       "0                   1                     0  \n",
       "1                   1                     0  \n",
       "2                   1                     0  \n",
       "3                   1                     0  \n",
       "4                   1                     0  "
      ]
     },
     "execution_count": 19,
     "metadata": {},
     "output_type": "execute_result"
    }
   ],
   "source": [
    "obj_df.head()"
   ]
  },
  {
   "cell_type": "code",
   "execution_count": 20,
   "metadata": {
    "collapsed": true
   },
   "outputs": [],
   "source": [
    "obj_df.drop(\"SupplierColor\",axis=1,inplace=True)"
   ]
  },
  {
   "cell_type": "code",
   "execution_count": 21,
   "metadata": {
    "collapsed": true
   },
   "outputs": [],
   "source": [
    "obj_df.drop(\"SubtypeLabel\",axis=1,inplace=True)"
   ]
  },
  {
   "cell_type": "code",
   "execution_count": 22,
   "metadata": {
    "collapsed": true
   },
   "outputs": [],
   "source": [
    "obj_df.drop(\"UpperMaterialLabel\",axis=1,inplace=True)\n",
    "obj_df.drop(\"LiningMaterialLabel\",axis=1,inplace=True)\n",
    "obj_df.drop(\"OutSoleMaterialLabel\",axis=1,inplace=True)"
   ]
  },
  {
   "cell_type": "code",
   "execution_count": 23,
   "metadata": {},
   "outputs": [
    {
     "data": {
      "text/html": [
       "<div>\n",
       "<style>\n",
       "    .dataframe thead tr:only-child th {\n",
       "        text-align: right;\n",
       "    }\n",
       "\n",
       "    .dataframe thead th {\n",
       "        text-align: left;\n",
       "    }\n",
       "\n",
       "    .dataframe tbody tr th {\n",
       "        vertical-align: top;\n",
       "    }\n",
       "</style>\n",
       "<table border=\"1\" class=\"dataframe\">\n",
       "  <thead>\n",
       "    <tr style=\"text-align: right;\">\n",
       "      <th></th>\n",
       "      <th>RemovableSole</th>\n",
       "      <th>SizeAdviceDescription</th>\n",
       "      <th>GenderLabel_Accessoires</th>\n",
       "      <th>GenderLabel_Enfant</th>\n",
       "      <th>GenderLabel_Femme</th>\n",
       "      <th>GenderLabel_Homme</th>\n",
       "      <th>GenderLabel_Sacs</th>\n",
       "      <th>SeasonLabel_Automne/Hiver</th>\n",
       "      <th>SeasonLabel_Printemps/EtÃ©</th>\n",
       "      <th>TypeBrand_Luxe</th>\n",
       "      <th>TypeBrand_Standard</th>\n",
       "      <th>TypeBrand_Super Luxe</th>\n",
       "    </tr>\n",
       "  </thead>\n",
       "  <tbody>\n",
       "    <tr>\n",
       "      <th>0</th>\n",
       "      <td>False</td>\n",
       "      <td>Prenez une taille en dessous de votre pointure...</td>\n",
       "      <td>0</td>\n",
       "      <td>0</td>\n",
       "      <td>0</td>\n",
       "      <td>1</td>\n",
       "      <td>0</td>\n",
       "      <td>1</td>\n",
       "      <td>0</td>\n",
       "      <td>0</td>\n",
       "      <td>1</td>\n",
       "      <td>0</td>\n",
       "    </tr>\n",
       "    <tr>\n",
       "      <th>1</th>\n",
       "      <td>True</td>\n",
       "      <td>Prenez votre pointure habituelle</td>\n",
       "      <td>0</td>\n",
       "      <td>0</td>\n",
       "      <td>1</td>\n",
       "      <td>0</td>\n",
       "      <td>0</td>\n",
       "      <td>1</td>\n",
       "      <td>0</td>\n",
       "      <td>0</td>\n",
       "      <td>1</td>\n",
       "      <td>0</td>\n",
       "    </tr>\n",
       "    <tr>\n",
       "      <th>2</th>\n",
       "      <td>False</td>\n",
       "      <td>Prenez votre pointure habituelle</td>\n",
       "      <td>0</td>\n",
       "      <td>0</td>\n",
       "      <td>1</td>\n",
       "      <td>0</td>\n",
       "      <td>0</td>\n",
       "      <td>1</td>\n",
       "      <td>0</td>\n",
       "      <td>0</td>\n",
       "      <td>1</td>\n",
       "      <td>0</td>\n",
       "    </tr>\n",
       "    <tr>\n",
       "      <th>3</th>\n",
       "      <td>False</td>\n",
       "      <td>Prenez votre pointure habituelle</td>\n",
       "      <td>0</td>\n",
       "      <td>0</td>\n",
       "      <td>1</td>\n",
       "      <td>0</td>\n",
       "      <td>0</td>\n",
       "      <td>1</td>\n",
       "      <td>0</td>\n",
       "      <td>0</td>\n",
       "      <td>1</td>\n",
       "      <td>0</td>\n",
       "    </tr>\n",
       "    <tr>\n",
       "      <th>4</th>\n",
       "      <td>False</td>\n",
       "      <td>Prenez votre pointure habituelle</td>\n",
       "      <td>0</td>\n",
       "      <td>0</td>\n",
       "      <td>1</td>\n",
       "      <td>0</td>\n",
       "      <td>0</td>\n",
       "      <td>1</td>\n",
       "      <td>0</td>\n",
       "      <td>0</td>\n",
       "      <td>1</td>\n",
       "      <td>0</td>\n",
       "    </tr>\n",
       "  </tbody>\n",
       "</table>\n",
       "</div>"
      ],
      "text/plain": [
       "  RemovableSole                              SizeAdviceDescription  \\\n",
       "0         False  Prenez une taille en dessous de votre pointure...   \n",
       "1          True                   Prenez votre pointure habituelle   \n",
       "2         False                   Prenez votre pointure habituelle   \n",
       "3         False                   Prenez votre pointure habituelle   \n",
       "4         False                   Prenez votre pointure habituelle   \n",
       "\n",
       "   GenderLabel_Accessoires  GenderLabel_Enfant  GenderLabel_Femme  \\\n",
       "0                        0                   0                  0   \n",
       "1                        0                   0                  1   \n",
       "2                        0                   0                  1   \n",
       "3                        0                   0                  1   \n",
       "4                        0                   0                  1   \n",
       "\n",
       "   GenderLabel_Homme  GenderLabel_Sacs  SeasonLabel_Automne/Hiver  \\\n",
       "0                  1                 0                          1   \n",
       "1                  0                 0                          1   \n",
       "2                  0                 0                          1   \n",
       "3                  0                 0                          1   \n",
       "4                  0                 0                          1   \n",
       "\n",
       "   SeasonLabel_Printemps/EtÃ©  TypeBrand_Luxe  TypeBrand_Standard  \\\n",
       "0                           0               0                   1   \n",
       "1                           0               0                   1   \n",
       "2                           0               0                   1   \n",
       "3                           0               0                   1   \n",
       "4                           0               0                   1   \n",
       "\n",
       "   TypeBrand_Super Luxe  \n",
       "0                     0  \n",
       "1                     0  \n",
       "2                     0  \n",
       "3                     0  \n",
       "4                     0  "
      ]
     },
     "execution_count": 23,
     "metadata": {},
     "output_type": "execute_result"
    }
   ],
   "source": [
    "obj_df.head()"
   ]
  },
  {
   "cell_type": "code",
   "execution_count": 24,
   "metadata": {
    "collapsed": true
   },
   "outputs": [],
   "source": [
    "obj_df = pd.get_dummies(obj_df, columns=[\"RemovableSole\"])"
   ]
  },
  {
   "cell_type": "code",
   "execution_count": 25,
   "metadata": {},
   "outputs": [
    {
     "data": {
      "text/plain": [
       "'5 colonne(s) ont été ajoutées à la DataFrame'"
      ]
     },
     "execution_count": 25,
     "metadata": {},
     "output_type": "execute_result"
    }
   ],
   "source": [
    "# Size advice description\n",
    "Label = [['chausse normalement','Prenez votre pointure habituelle'],['dessous'],['dessus'],['larges'],['fins']]\n",
    "creation(obj_df,'SizeAdviceDescription',Label)"
   ]
  },
  {
   "cell_type": "code",
   "execution_count": 26,
   "metadata": {
    "collapsed": true
   },
   "outputs": [],
   "source": [
    "obj_df['Prenez votre pointure habituelle'].fillna(0,inplace=True)\n",
    "obj_df['dessous'].fillna(0,inplace=True)\n",
    "obj_df['dessus'].fillna(0,inplace=True)\n",
    "obj_df['larges'].fillna(0,inplace=True)\n",
    "obj_df['fins'].fillna(0,inplace=True)"
   ]
  },
  {
   "cell_type": "code",
   "execution_count": 27,
   "metadata": {
    "collapsed": true
   },
   "outputs": [],
   "source": [
    "obj_df.drop(\"SizeAdviceDescription\",axis=1,inplace=True)"
   ]
  },
  {
   "cell_type": "code",
   "execution_count": 28,
   "metadata": {},
   "outputs": [
    {
     "data": {
      "text/plain": [
       "GenderLabel_Accessoires               uint8\n",
       "GenderLabel_Enfant                    uint8\n",
       "GenderLabel_Femme                     uint8\n",
       "GenderLabel_Homme                     uint8\n",
       "GenderLabel_Sacs                      uint8\n",
       "SeasonLabel_Automne/Hiver             uint8\n",
       "SeasonLabel_Printemps/EtÃ©            uint8\n",
       "TypeBrand_Luxe                        uint8\n",
       "TypeBrand_Standard                    uint8\n",
       "TypeBrand_Super Luxe                  uint8\n",
       "RemovableSole_False                   uint8\n",
       "RemovableSole_True                    uint8\n",
       "Prenez votre pointure habituelle    float64\n",
       "dessous                             float64\n",
       "dessus                              float64\n",
       "larges                              float64\n",
       "fins                                float64\n",
       "dtype: object"
      ]
     },
     "execution_count": 28,
     "metadata": {},
     "output_type": "execute_result"
    }
   ],
   "source": [
    "obj_df.dtypes"
   ]
  },
  {
   "cell_type": "markdown",
   "metadata": {},
   "source": [
    "# 2) INT COLUMNS"
   ]
  },
  {
   "cell_type": "code",
   "execution_count": 29,
   "metadata": {},
   "outputs": [
    {
     "data": {
      "text/html": [
       "<div>\n",
       "<style>\n",
       "    .dataframe thead tr:only-child th {\n",
       "        text-align: right;\n",
       "    }\n",
       "\n",
       "    .dataframe thead th {\n",
       "        text-align: left;\n",
       "    }\n",
       "\n",
       "    .dataframe tbody tr th {\n",
       "        vertical-align: top;\n",
       "    }\n",
       "</style>\n",
       "<table border=\"1\" class=\"dataframe\">\n",
       "  <thead>\n",
       "    <tr style=\"text-align: right;\">\n",
       "      <th></th>\n",
       "      <th>VariantId</th>\n",
       "      <th>BrandId</th>\n",
       "      <th>ProductId</th>\n",
       "      <th>ProductColorId</th>\n",
       "      <th>MinSize</th>\n",
       "      <th>MaxSize</th>\n",
       "      <th>CalfTurn</th>\n",
       "      <th>UpperHeight</th>\n",
       "      <th>HeelHeight</th>\n",
       "      <th>PurchasePriceHT</th>\n",
       "      <th>IsNewCollection</th>\n",
       "    </tr>\n",
       "  </thead>\n",
       "  <tbody>\n",
       "    <tr>\n",
       "      <th>0</th>\n",
       "      <td>728257.0</td>\n",
       "      <td>66.0</td>\n",
       "      <td>17267.0</td>\n",
       "      <td>103627.0</td>\n",
       "      <td>41.0</td>\n",
       "      <td>41.0</td>\n",
       "      <td>NaN</td>\n",
       "      <td>NaN</td>\n",
       "      <td>0.0</td>\n",
       "      <td>30.50</td>\n",
       "      <td>0.0</td>\n",
       "    </tr>\n",
       "    <tr>\n",
       "      <th>1</th>\n",
       "      <td>806356.0</td>\n",
       "      <td>842.0</td>\n",
       "      <td>30824.0</td>\n",
       "      <td>114192.0</td>\n",
       "      <td>38.0</td>\n",
       "      <td>38.0</td>\n",
       "      <td>0.0</td>\n",
       "      <td>0.0</td>\n",
       "      <td>0.0</td>\n",
       "      <td>43.00</td>\n",
       "      <td>0.0</td>\n",
       "    </tr>\n",
       "    <tr>\n",
       "      <th>2</th>\n",
       "      <td>768790.0</td>\n",
       "      <td>988.0</td>\n",
       "      <td>62475.0</td>\n",
       "      <td>109185.0</td>\n",
       "      <td>38.0</td>\n",
       "      <td>38.0</td>\n",
       "      <td>NaN</td>\n",
       "      <td>6.0</td>\n",
       "      <td>3.0</td>\n",
       "      <td>54.90</td>\n",
       "      <td>0.0</td>\n",
       "    </tr>\n",
       "    <tr>\n",
       "      <th>3</th>\n",
       "      <td>515679.0</td>\n",
       "      <td>769.0</td>\n",
       "      <td>43983.0</td>\n",
       "      <td>73966.0</td>\n",
       "      <td>42.0</td>\n",
       "      <td>42.0</td>\n",
       "      <td>0.0</td>\n",
       "      <td>0.0</td>\n",
       "      <td>13.0</td>\n",
       "      <td>34.50</td>\n",
       "      <td>0.0</td>\n",
       "    </tr>\n",
       "    <tr>\n",
       "      <th>4</th>\n",
       "      <td>1025246.0</td>\n",
       "      <td>1244.0</td>\n",
       "      <td>81493.0</td>\n",
       "      <td>147548.0</td>\n",
       "      <td>37.0</td>\n",
       "      <td>37.0</td>\n",
       "      <td>NaN</td>\n",
       "      <td>8.0</td>\n",
       "      <td>4.0</td>\n",
       "      <td>43.76</td>\n",
       "      <td>0.0</td>\n",
       "    </tr>\n",
       "  </tbody>\n",
       "</table>\n",
       "</div>"
      ],
      "text/plain": [
       "   VariantId  BrandId  ProductId  ProductColorId  MinSize  MaxSize  CalfTurn  \\\n",
       "0   728257.0     66.0    17267.0        103627.0     41.0     41.0       NaN   \n",
       "1   806356.0    842.0    30824.0        114192.0     38.0     38.0       0.0   \n",
       "2   768790.0    988.0    62475.0        109185.0     38.0     38.0       NaN   \n",
       "3   515679.0    769.0    43983.0         73966.0     42.0     42.0       0.0   \n",
       "4  1025246.0   1244.0    81493.0        147548.0     37.0     37.0       NaN   \n",
       "\n",
       "   UpperHeight  HeelHeight  PurchasePriceHT  IsNewCollection  \n",
       "0          NaN         0.0            30.50              0.0  \n",
       "1          0.0         0.0            43.00              0.0  \n",
       "2          6.0         3.0            54.90              0.0  \n",
       "3          0.0        13.0            34.50              0.0  \n",
       "4          8.0         4.0            43.76              0.0  "
      ]
     },
     "execution_count": 29,
     "metadata": {},
     "output_type": "execute_result"
    }
   ],
   "source": [
    "float_df = products.select_dtypes(include=['float64']).copy()\n",
    "float_df.head()"
   ]
  },
  {
   "cell_type": "code",
   "execution_count": 30,
   "metadata": {
    "collapsed": true
   },
   "outputs": [],
   "source": [
    "float_df.drop(\"BrandId\",axis=1,inplace=True)"
   ]
  },
  {
   "cell_type": "code",
   "execution_count": 31,
   "metadata": {
    "collapsed": true
   },
   "outputs": [],
   "source": [
    "float_df.drop(\"ProductId\",axis=1,inplace=True)"
   ]
  },
  {
   "cell_type": "code",
   "execution_count": 32,
   "metadata": {
    "collapsed": true
   },
   "outputs": [],
   "source": [
    "float_df.drop(\"ProductColorId\",axis=1,inplace=True)"
   ]
  },
  {
   "cell_type": "code",
   "execution_count": 33,
   "metadata": {},
   "outputs": [
    {
     "data": {
      "text/plain": [
       "VariantId               0\n",
       "MinSize                 0\n",
       "MaxSize                 0\n",
       "CalfTurn           469539\n",
       "UpperHeight        413501\n",
       "HeelHeight          21625\n",
       "PurchasePriceHT         0\n",
       "IsNewCollection         0\n",
       "dtype: int64"
      ]
     },
     "execution_count": 33,
     "metadata": {},
     "output_type": "execute_result"
    }
   ],
   "source": [
    "float_df.isnull().sum()"
   ]
  },
  {
   "cell_type": "code",
   "execution_count": 34,
   "metadata": {
    "collapsed": true
   },
   "outputs": [],
   "source": [
    "float_df.drop(\"CalfTurn\",axis=1,inplace=True)"
   ]
  },
  {
   "cell_type": "code",
   "execution_count": 35,
   "metadata": {
    "collapsed": true
   },
   "outputs": [],
   "source": [
    "float_df.drop(\"UpperHeight\",axis=1,inplace=True)"
   ]
  },
  {
   "cell_type": "code",
   "execution_count": 36,
   "metadata": {
    "collapsed": true
   },
   "outputs": [],
   "source": [
    "#HeelHeight\n",
    "\n",
    "#Replace Missing Values with zero\n",
    "float_df['HeelHeight'].fillna(0,inplace=True)"
   ]
  },
  {
   "cell_type": "code",
   "execution_count": 37,
   "metadata": {},
   "outputs": [
    {
     "data": {
      "text/plain": [
       "VariantId          0\n",
       "MinSize            0\n",
       "MaxSize            0\n",
       "HeelHeight         0\n",
       "PurchasePriceHT    0\n",
       "IsNewCollection    0\n",
       "dtype: int64"
      ]
     },
     "execution_count": 37,
     "metadata": {},
     "output_type": "execute_result"
    }
   ],
   "source": [
    "float_df.isnull().sum()"
   ]
  },
  {
   "cell_type": "code",
   "execution_count": 38,
   "metadata": {},
   "outputs": [
    {
     "data": {
      "text/html": [
       "<div>\n",
       "<style>\n",
       "    .dataframe thead tr:only-child th {\n",
       "        text-align: right;\n",
       "    }\n",
       "\n",
       "    .dataframe thead th {\n",
       "        text-align: left;\n",
       "    }\n",
       "\n",
       "    .dataframe tbody tr th {\n",
       "        vertical-align: top;\n",
       "    }\n",
       "</style>\n",
       "<table border=\"1\" class=\"dataframe\">\n",
       "  <thead>\n",
       "    <tr style=\"text-align: right;\">\n",
       "      <th></th>\n",
       "      <th>VariantId</th>\n",
       "      <th>MinSize</th>\n",
       "      <th>MaxSize</th>\n",
       "      <th>HeelHeight</th>\n",
       "      <th>PurchasePriceHT</th>\n",
       "      <th>IsNewCollection</th>\n",
       "    </tr>\n",
       "  </thead>\n",
       "  <tbody>\n",
       "    <tr>\n",
       "      <th>0</th>\n",
       "      <td>728257.0</td>\n",
       "      <td>41.0</td>\n",
       "      <td>41.0</td>\n",
       "      <td>0.0</td>\n",
       "      <td>30.50</td>\n",
       "      <td>0.0</td>\n",
       "    </tr>\n",
       "    <tr>\n",
       "      <th>1</th>\n",
       "      <td>806356.0</td>\n",
       "      <td>38.0</td>\n",
       "      <td>38.0</td>\n",
       "      <td>0.0</td>\n",
       "      <td>43.00</td>\n",
       "      <td>0.0</td>\n",
       "    </tr>\n",
       "    <tr>\n",
       "      <th>2</th>\n",
       "      <td>768790.0</td>\n",
       "      <td>38.0</td>\n",
       "      <td>38.0</td>\n",
       "      <td>3.0</td>\n",
       "      <td>54.90</td>\n",
       "      <td>0.0</td>\n",
       "    </tr>\n",
       "    <tr>\n",
       "      <th>3</th>\n",
       "      <td>515679.0</td>\n",
       "      <td>42.0</td>\n",
       "      <td>42.0</td>\n",
       "      <td>13.0</td>\n",
       "      <td>34.50</td>\n",
       "      <td>0.0</td>\n",
       "    </tr>\n",
       "    <tr>\n",
       "      <th>4</th>\n",
       "      <td>1025246.0</td>\n",
       "      <td>37.0</td>\n",
       "      <td>37.0</td>\n",
       "      <td>4.0</td>\n",
       "      <td>43.76</td>\n",
       "      <td>0.0</td>\n",
       "    </tr>\n",
       "  </tbody>\n",
       "</table>\n",
       "</div>"
      ],
      "text/plain": [
       "   VariantId  MinSize  MaxSize  HeelHeight  PurchasePriceHT  IsNewCollection\n",
       "0   728257.0     41.0     41.0         0.0            30.50              0.0\n",
       "1   806356.0     38.0     38.0         0.0            43.00              0.0\n",
       "2   768790.0     38.0     38.0         3.0            54.90              0.0\n",
       "3   515679.0     42.0     42.0        13.0            34.50              0.0\n",
       "4  1025246.0     37.0     37.0         4.0            43.76              0.0"
      ]
     },
     "execution_count": 38,
     "metadata": {},
     "output_type": "execute_result"
    }
   ],
   "source": [
    "float_df.head()"
   ]
  },
  {
   "cell_type": "code",
   "execution_count": 39,
   "metadata": {},
   "outputs": [
    {
     "data": {
      "text/plain": [
       "<matplotlib.axes._subplots.AxesSubplot at 0x1186de5c0>"
      ]
     },
     "execution_count": 39,
     "metadata": {},
     "output_type": "execute_result"
    },
    {
     "data": {
      "image/png": "[encoded data removed]",
      "text/plain": [
       "<matplotlib.figure.Figure at 0x1c33b18a58>"
      ]
     },
     "metadata": {},
     "output_type": "display_data"
    }
   ],
   "source": [
    "float_df.boxplot(column=['MinSize'],return_type='axes')"
   ]
  },
  {
   "cell_type": "code",
   "execution_count": 40,
   "metadata": {},
   "outputs": [
    {
     "data": {
      "text/plain": [
       "<matplotlib.axes._subplots.AxesSubplot at 0x10fec11d0>"
      ]
     },
     "execution_count": 40,
     "metadata": {},
     "output_type": "execute_result"
    },
    {
     "data": {
      "image/png": "[encoded data removed]",
      "text/plain": [
       "<matplotlib.figure.Figure at 0x1186afa90>"
      ]
     },
     "metadata": {},
     "output_type": "display_data"
    }
   ],
   "source": [
    "float_df['MinSize'] = np.log(float_df['MinSize'])\n",
    "float_df.boxplot(column=['MinSize'],return_type='axes')"
   ]
  },
  {
   "cell_type": "code",
   "execution_count": 41,
   "metadata": {},
   "outputs": [
    {
     "data": {
      "text/plain": [
       "<matplotlib.axes._subplots.AxesSubplot at 0x10fec1ef0>"
      ]
     },
     "execution_count": 41,
     "metadata": {},
     "output_type": "execute_result"
    },
    {
     "data": {
      "image/png": "[encoded data removed]",
      "text/plain": [
       "<matplotlib.figure.Figure at 0x10ff3c3c8>"
      ]
     },
     "metadata": {},
     "output_type": "display_data"
    }
   ],
   "source": [
    "float_df['MaxSize'] = np.log(float_df['MaxSize'])\n",
    "float_df.boxplot(column=['MaxSize'],return_type='axes')"
   ]
  },
  {
   "cell_type": "code",
   "execution_count": 42,
   "metadata": {},
   "outputs": [
    {
     "data": {
      "text/plain": [
       "<matplotlib.axes._subplots.AxesSubplot at 0x118ff69b0>"
      ]
     },
     "execution_count": 42,
     "metadata": {},
     "output_type": "execute_result"
    },
    {
     "data": {
      "image/png": "[encoded data removed]",
      "text/plain": [
       "<matplotlib.figure.Figure at 0x1186afb00>"
      ]
     },
     "metadata": {},
     "output_type": "display_data"
    }
   ],
   "source": [
    "float_df['HeelHeight'] = np.sqrt(float_df['HeelHeight'])\n",
    "float_df.boxplot(column=['HeelHeight'],return_type='axes')"
   ]
  },
  {
   "cell_type": "code",
   "execution_count": 43,
   "metadata": {
    "collapsed": true
   },
   "outputs": [],
   "source": [
    "float_df.drop(\"HeelHeight\",axis=1,inplace=True)"
   ]
  },
  {
   "cell_type": "code",
   "execution_count": 44,
   "metadata": {},
   "outputs": [
    {
     "data": {
      "text/plain": [
       "<matplotlib.axes._subplots.AxesSubplot at 0x1190d6588>"
      ]
     },
     "execution_count": 44,
     "metadata": {},
     "output_type": "execute_result"
    },
    {
     "data": {
      "image/png": "[encoded data removed]",
      "text/plain": [
       "<matplotlib.figure.Figure at 0x119d04320>"
      ]
     },
     "metadata": {},
     "output_type": "display_data"
    }
   ],
   "source": [
    "float_df['PurchasePriceHT'] = np.sqrt(float_df['PurchasePriceHT'])\n",
    "float_df.boxplot(column=['PurchasePriceHT'],return_type='axes')"
   ]
  },
  {
   "cell_type": "markdown",
   "metadata": {},
   "source": [
    "# Concatenation float+object"
   ]
  },
  {
   "cell_type": "code",
   "execution_count": 45,
   "metadata": {},
   "outputs": [
    {
     "data": {
      "text/plain": [
       "VariantId          float64\n",
       "MinSize            float64\n",
       "MaxSize            float64\n",
       "PurchasePriceHT    float64\n",
       "IsNewCollection    float64\n",
       "dtype: object"
      ]
     },
     "execution_count": 45,
     "metadata": {},
     "output_type": "execute_result"
    }
   ],
   "source": [
    "float_df.dtypes"
   ]
  },
  {
   "cell_type": "code",
   "execution_count": 46,
   "metadata": {},
   "outputs": [
    {
     "data": {
      "text/plain": [
       "GenderLabel_Accessoires               uint8\n",
       "GenderLabel_Enfant                    uint8\n",
       "GenderLabel_Femme                     uint8\n",
       "GenderLabel_Homme                     uint8\n",
       "GenderLabel_Sacs                      uint8\n",
       "SeasonLabel_Automne/Hiver             uint8\n",
       "SeasonLabel_Printemps/EtÃ©            uint8\n",
       "TypeBrand_Luxe                        uint8\n",
       "TypeBrand_Standard                    uint8\n",
       "TypeBrand_Super Luxe                  uint8\n",
       "RemovableSole_False                   uint8\n",
       "RemovableSole_True                    uint8\n",
       "Prenez votre pointure habituelle    float64\n",
       "dessous                             float64\n",
       "dessus                              float64\n",
       "larges                              float64\n",
       "fins                                float64\n",
       "dtype: object"
      ]
     },
     "execution_count": 46,
     "metadata": {},
     "output_type": "execute_result"
    }
   ],
   "source": [
    "obj_df.dtypes"
   ]
  },
  {
   "cell_type": "code",
   "execution_count": 47,
   "metadata": {},
   "outputs": [
    {
     "name": "stdout",
     "output_type": "stream",
     "text": [
      "(533520, 5)\n",
      "(533520, 17)\n"
     ]
    }
   ],
   "source": [
    "print(float_df.shape)\n",
    "print(obj_df.shape)"
   ]
  },
  {
   "cell_type": "code",
   "execution_count": 48,
   "metadata": {
    "collapsed": true
   },
   "outputs": [],
   "source": [
    "result_product = pd.concat([float_df,obj_df],axis=1) #nouveau products"
   ]
  },
  {
   "cell_type": "code",
   "execution_count": 49,
   "metadata": {},
   "outputs": [
    {
     "data": {
      "text/plain": [
       "VariantId                           0\n",
       "MinSize                             0\n",
       "MaxSize                             0\n",
       "PurchasePriceHT                     0\n",
       "IsNewCollection                     0\n",
       "GenderLabel_Accessoires             0\n",
       "GenderLabel_Enfant                  0\n",
       "GenderLabel_Femme                   0\n",
       "GenderLabel_Homme                   0\n",
       "GenderLabel_Sacs                    0\n",
       "SeasonLabel_Automne/Hiver           0\n",
       "SeasonLabel_Printemps/EtÃ©          0\n",
       "TypeBrand_Luxe                      0\n",
       "TypeBrand_Standard                  0\n",
       "TypeBrand_Super Luxe                0\n",
       "RemovableSole_False                 0\n",
       "RemovableSole_True                  0\n",
       "Prenez votre pointure habituelle    0\n",
       "dessous                             0\n",
       "dessus                              0\n",
       "larges                              0\n",
       "fins                                0\n",
       "dtype: int64"
      ]
     },
     "execution_count": 49,
     "metadata": {},
     "output_type": "execute_result"
    }
   ],
   "source": [
    "result_product.isnull().sum()"
   ]
  },
  {
   "cell_type": "markdown",
   "metadata": {},
   "source": [
    "# II) ORDERS"
   ]
  },
  {
   "cell_type": "code",
   "execution_count": 50,
   "metadata": {},
   "outputs": [
    {
     "data": {
      "text/plain": [
       "OrderNumber            int64\n",
       "VariantId              int64\n",
       "LineItem               int64\n",
       "CustomerId             int64\n",
       "OrderStatusLabel      object\n",
       "OrderTypelabel        object\n",
       "SeasonLabel           object\n",
       "PayementModeLabel     object\n",
       "CustomerTypeLabel     object\n",
       "IsoCode               object\n",
       "DeviceTypeLabel       object\n",
       "PricingTypeLabel      object\n",
       "TotalLineItems         int64\n",
       "Quantity               int64\n",
       "UnitPMPEUR            object\n",
       "OrderCreationDate     object\n",
       "OrderShipDate         object\n",
       "OrderNumCustomer       int64\n",
       "IsOnSale             float64\n",
       "BillingPostalCode     object\n",
       "dtype: object"
      ]
     },
     "execution_count": 50,
     "metadata": {},
     "output_type": "execute_result"
    }
   ],
   "source": [
    "X_train.dtypes"
   ]
  },
  {
   "cell_type": "code",
   "execution_count": 51,
   "metadata": {},
   "outputs": [
    {
     "data": {
      "text/html": [
       "<div>\n",
       "<style>\n",
       "    .dataframe thead tr:only-child th {\n",
       "        text-align: right;\n",
       "    }\n",
       "\n",
       "    .dataframe thead th {\n",
       "        text-align: left;\n",
       "    }\n",
       "\n",
       "    .dataframe tbody tr th {\n",
       "        vertical-align: top;\n",
       "    }\n",
       "</style>\n",
       "<table border=\"1\" class=\"dataframe\">\n",
       "  <thead>\n",
       "    <tr style=\"text-align: right;\">\n",
       "      <th></th>\n",
       "      <th>OrderNumber</th>\n",
       "      <th>VariantId</th>\n",
       "      <th>LineItem</th>\n",
       "      <th>CustomerId</th>\n",
       "      <th>OrderStatusLabel</th>\n",
       "      <th>OrderTypelabel</th>\n",
       "      <th>SeasonLabel</th>\n",
       "      <th>PayementModeLabel</th>\n",
       "      <th>CustomerTypeLabel</th>\n",
       "      <th>IsoCode</th>\n",
       "      <th>DeviceTypeLabel</th>\n",
       "      <th>PricingTypeLabel</th>\n",
       "      <th>TotalLineItems</th>\n",
       "      <th>Quantity</th>\n",
       "      <th>UnitPMPEUR</th>\n",
       "      <th>OrderCreationDate</th>\n",
       "      <th>OrderShipDate</th>\n",
       "      <th>OrderNumCustomer</th>\n",
       "      <th>IsOnSale</th>\n",
       "      <th>BillingPostalCode</th>\n",
       "    </tr>\n",
       "  </thead>\n",
       "  <tbody>\n",
       "    <tr>\n",
       "      <th>0</th>\n",
       "      <td>73521754</td>\n",
       "      <td>439729</td>\n",
       "      <td>1</td>\n",
       "      <td>12443972</td>\n",
       "      <td>Expédié</td>\n",
       "      <td>DIRECT</td>\n",
       "      <td>Automne/Hiver</td>\n",
       "      <td>Carte bancaire</td>\n",
       "      <td>Nouveau</td>\n",
       "      <td>FR</td>\n",
       "      <td>ND</td>\n",
       "      <td>Plein Tarif</td>\n",
       "      <td>2</td>\n",
       "      <td>1</td>\n",
       "      <td>52,64</td>\n",
       "      <td>2011-10-26 12:10:48</td>\n",
       "      <td>2011-10-26 18:27:00</td>\n",
       "      <td>1</td>\n",
       "      <td>0.0</td>\n",
       "      <td>87000</td>\n",
       "    </tr>\n",
       "    <tr>\n",
       "      <th>1</th>\n",
       "      <td>73521754</td>\n",
       "      <td>440174</td>\n",
       "      <td>2</td>\n",
       "      <td>12443972</td>\n",
       "      <td>Expédié</td>\n",
       "      <td>DIRECT</td>\n",
       "      <td>Automne/Hiver</td>\n",
       "      <td>Carte bancaire</td>\n",
       "      <td>Nouveau</td>\n",
       "      <td>FR</td>\n",
       "      <td>ND</td>\n",
       "      <td>Plein Tarif</td>\n",
       "      <td>2</td>\n",
       "      <td>1</td>\n",
       "      <td>52,64</td>\n",
       "      <td>2011-10-26 12:10:48</td>\n",
       "      <td>2011-10-26 18:27:00</td>\n",
       "      <td>1</td>\n",
       "      <td>0.0</td>\n",
       "      <td>87000</td>\n",
       "    </tr>\n",
       "    <tr>\n",
       "      <th>2</th>\n",
       "      <td>73525226</td>\n",
       "      <td>494501</td>\n",
       "      <td>1</td>\n",
       "      <td>12443958</td>\n",
       "      <td>Expédié</td>\n",
       "      <td>DIRECT</td>\n",
       "      <td>Automne/Hiver</td>\n",
       "      <td>Carte bancaire</td>\n",
       "      <td>Nouveau</td>\n",
       "      <td>FR</td>\n",
       "      <td>ND</td>\n",
       "      <td>Plein Tarif</td>\n",
       "      <td>1</td>\n",
       "      <td>1</td>\n",
       "      <td>13,17</td>\n",
       "      <td>2011-10-26 12:11:38</td>\n",
       "      <td>2011-10-26 17:48:00</td>\n",
       "      <td>1</td>\n",
       "      <td>0.0</td>\n",
       "      <td>77700</td>\n",
       "    </tr>\n",
       "    <tr>\n",
       "      <th>3</th>\n",
       "      <td>73529009</td>\n",
       "      <td>439590</td>\n",
       "      <td>1</td>\n",
       "      <td>12443946</td>\n",
       "      <td>Expédié</td>\n",
       "      <td>DIRECT</td>\n",
       "      <td>Automne/Hiver</td>\n",
       "      <td>Carte bancaire</td>\n",
       "      <td>Nouveau</td>\n",
       "      <td>FR</td>\n",
       "      <td>ND</td>\n",
       "      <td>Plein Tarif</td>\n",
       "      <td>2</td>\n",
       "      <td>1</td>\n",
       "      <td>56,4</td>\n",
       "      <td>2011-10-26 12:13:09</td>\n",
       "      <td>2011-10-26 17:59:00</td>\n",
       "      <td>1</td>\n",
       "      <td>0.0</td>\n",
       "      <td>44600</td>\n",
       "    </tr>\n",
       "    <tr>\n",
       "      <th>4</th>\n",
       "      <td>73529009</td>\n",
       "      <td>559476</td>\n",
       "      <td>2</td>\n",
       "      <td>12443946</td>\n",
       "      <td>Expédié</td>\n",
       "      <td>DIRECT</td>\n",
       "      <td>Automne/Hiver</td>\n",
       "      <td>Carte bancaire</td>\n",
       "      <td>Nouveau</td>\n",
       "      <td>FR</td>\n",
       "      <td>ND</td>\n",
       "      <td>Plein Tarif</td>\n",
       "      <td>2</td>\n",
       "      <td>1</td>\n",
       "      <td>37</td>\n",
       "      <td>2011-10-26 12:13:09</td>\n",
       "      <td>2011-10-26 17:59:00</td>\n",
       "      <td>1</td>\n",
       "      <td>0.0</td>\n",
       "      <td>44600</td>\n",
       "    </tr>\n",
       "  </tbody>\n",
       "</table>\n",
       "</div>"
      ],
      "text/plain": [
       "   OrderNumber  VariantId  LineItem  CustomerId OrderStatusLabel  \\\n",
       "0     73521754     439729         1    12443972          Expédié   \n",
       "1     73521754     440174         2    12443972          Expédié   \n",
       "2     73525226     494501         1    12443958          Expédié   \n",
       "3     73529009     439590         1    12443946          Expédié   \n",
       "4     73529009     559476         2    12443946          Expédié   \n",
       "\n",
       "  OrderTypelabel    SeasonLabel PayementModeLabel CustomerTypeLabel IsoCode  \\\n",
       "0         DIRECT  Automne/Hiver    Carte bancaire           Nouveau      FR   \n",
       "1         DIRECT  Automne/Hiver    Carte bancaire           Nouveau      FR   \n",
       "2         DIRECT  Automne/Hiver    Carte bancaire           Nouveau      FR   \n",
       "3         DIRECT  Automne/Hiver    Carte bancaire           Nouveau      FR   \n",
       "4         DIRECT  Automne/Hiver    Carte bancaire           Nouveau      FR   \n",
       "\n",
       "  DeviceTypeLabel PricingTypeLabel  TotalLineItems  Quantity UnitPMPEUR  \\\n",
       "0              ND      Plein Tarif               2         1      52,64   \n",
       "1              ND      Plein Tarif               2         1      52,64   \n",
       "2              ND      Plein Tarif               1         1      13,17   \n",
       "3              ND      Plein Tarif               2         1       56,4   \n",
       "4              ND      Plein Tarif               2         1         37   \n",
       "\n",
       "     OrderCreationDate        OrderShipDate  OrderNumCustomer  IsOnSale  \\\n",
       "0  2011-10-26 12:10:48  2011-10-26 18:27:00                 1       0.0   \n",
       "1  2011-10-26 12:10:48  2011-10-26 18:27:00                 1       0.0   \n",
       "2  2011-10-26 12:11:38  2011-10-26 17:48:00                 1       0.0   \n",
       "3  2011-10-26 12:13:09  2011-10-26 17:59:00                 1       0.0   \n",
       "4  2011-10-26 12:13:09  2011-10-26 17:59:00                 1       0.0   \n",
       "\n",
       "  BillingPostalCode  \n",
       "0             87000  \n",
       "1             87000  \n",
       "2             77700  \n",
       "3             44600  \n",
       "4             44600  "
      ]
     },
     "execution_count": 51,
     "metadata": {},
     "output_type": "execute_result"
    }
   ],
   "source": [
    "X_train.head()"
   ]
  },
  {
   "cell_type": "code",
   "execution_count": 52,
   "metadata": {},
   "outputs": [
    {
     "data": {
      "text/plain": [
       "OrderNumber             0\n",
       "VariantId               0\n",
       "LineItem                0\n",
       "CustomerId              0\n",
       "OrderStatusLabel        0\n",
       "OrderTypelabel          0\n",
       "SeasonLabel             0\n",
       "PayementModeLabel       0\n",
       "CustomerTypeLabel       0\n",
       "IsoCode                 0\n",
       "DeviceTypeLabel         0\n",
       "PricingTypeLabel        0\n",
       "TotalLineItems          0\n",
       "Quantity                0\n",
       "UnitPMPEUR              0\n",
       "OrderCreationDate       0\n",
       "OrderShipDate           0\n",
       "OrderNumCustomer        0\n",
       "IsOnSale             7815\n",
       "BillingPostalCode      52\n",
       "dtype: int64"
      ]
     },
     "execution_count": 52,
     "metadata": {},
     "output_type": "execute_result"
    }
   ],
   "source": [
    "X_train.isnull().sum()"
   ]
  },
  {
   "cell_type": "code",
   "execution_count": 53,
   "metadata": {},
   "outputs": [
    {
     "data": {
      "text/plain": [
       "(1067290, 20)"
      ]
     },
     "execution_count": 53,
     "metadata": {},
     "output_type": "execute_result"
    }
   ],
   "source": [
    "X_train.shape"
   ]
  },
  {
   "cell_type": "markdown",
   "metadata": {},
   "source": [
    "# 1) OBJECT COLUMNS"
   ]
  },
  {
   "cell_type": "code",
   "execution_count": 54,
   "metadata": {},
   "outputs": [
    {
     "data": {
      "text/html": [
       "<div>\n",
       "<style>\n",
       "    .dataframe thead tr:only-child th {\n",
       "        text-align: right;\n",
       "    }\n",
       "\n",
       "    .dataframe thead th {\n",
       "        text-align: left;\n",
       "    }\n",
       "\n",
       "    .dataframe tbody tr th {\n",
       "        vertical-align: top;\n",
       "    }\n",
       "</style>\n",
       "<table border=\"1\" class=\"dataframe\">\n",
       "  <thead>\n",
       "    <tr style=\"text-align: right;\">\n",
       "      <th></th>\n",
       "      <th>OrderStatusLabel</th>\n",
       "      <th>OrderTypelabel</th>\n",
       "      <th>SeasonLabel</th>\n",
       "      <th>PayementModeLabel</th>\n",
       "      <th>CustomerTypeLabel</th>\n",
       "      <th>IsoCode</th>\n",
       "      <th>DeviceTypeLabel</th>\n",
       "      <th>PricingTypeLabel</th>\n",
       "      <th>UnitPMPEUR</th>\n",
       "      <th>OrderCreationDate</th>\n",
       "      <th>OrderShipDate</th>\n",
       "      <th>BillingPostalCode</th>\n",
       "    </tr>\n",
       "  </thead>\n",
       "  <tbody>\n",
       "    <tr>\n",
       "      <th>0</th>\n",
       "      <td>Expédié</td>\n",
       "      <td>DIRECT</td>\n",
       "      <td>Automne/Hiver</td>\n",
       "      <td>Carte bancaire</td>\n",
       "      <td>Nouveau</td>\n",
       "      <td>FR</td>\n",
       "      <td>ND</td>\n",
       "      <td>Plein Tarif</td>\n",
       "      <td>52,64</td>\n",
       "      <td>2011-10-26 12:10:48</td>\n",
       "      <td>2011-10-26 18:27:00</td>\n",
       "      <td>87000</td>\n",
       "    </tr>\n",
       "    <tr>\n",
       "      <th>1</th>\n",
       "      <td>Expédié</td>\n",
       "      <td>DIRECT</td>\n",
       "      <td>Automne/Hiver</td>\n",
       "      <td>Carte bancaire</td>\n",
       "      <td>Nouveau</td>\n",
       "      <td>FR</td>\n",
       "      <td>ND</td>\n",
       "      <td>Plein Tarif</td>\n",
       "      <td>52,64</td>\n",
       "      <td>2011-10-26 12:10:48</td>\n",
       "      <td>2011-10-26 18:27:00</td>\n",
       "      <td>87000</td>\n",
       "    </tr>\n",
       "    <tr>\n",
       "      <th>2</th>\n",
       "      <td>Expédié</td>\n",
       "      <td>DIRECT</td>\n",
       "      <td>Automne/Hiver</td>\n",
       "      <td>Carte bancaire</td>\n",
       "      <td>Nouveau</td>\n",
       "      <td>FR</td>\n",
       "      <td>ND</td>\n",
       "      <td>Plein Tarif</td>\n",
       "      <td>13,17</td>\n",
       "      <td>2011-10-26 12:11:38</td>\n",
       "      <td>2011-10-26 17:48:00</td>\n",
       "      <td>77700</td>\n",
       "    </tr>\n",
       "    <tr>\n",
       "      <th>3</th>\n",
       "      <td>Expédié</td>\n",
       "      <td>DIRECT</td>\n",
       "      <td>Automne/Hiver</td>\n",
       "      <td>Carte bancaire</td>\n",
       "      <td>Nouveau</td>\n",
       "      <td>FR</td>\n",
       "      <td>ND</td>\n",
       "      <td>Plein Tarif</td>\n",
       "      <td>56,4</td>\n",
       "      <td>2011-10-26 12:13:09</td>\n",
       "      <td>2011-10-26 17:59:00</td>\n",
       "      <td>44600</td>\n",
       "    </tr>\n",
       "    <tr>\n",
       "      <th>4</th>\n",
       "      <td>Expédié</td>\n",
       "      <td>DIRECT</td>\n",
       "      <td>Automne/Hiver</td>\n",
       "      <td>Carte bancaire</td>\n",
       "      <td>Nouveau</td>\n",
       "      <td>FR</td>\n",
       "      <td>ND</td>\n",
       "      <td>Plein Tarif</td>\n",
       "      <td>37</td>\n",
       "      <td>2011-10-26 12:13:09</td>\n",
       "      <td>2011-10-26 17:59:00</td>\n",
       "      <td>44600</td>\n",
       "    </tr>\n",
       "  </tbody>\n",
       "</table>\n",
       "</div>"
      ],
      "text/plain": [
       "  OrderStatusLabel OrderTypelabel    SeasonLabel PayementModeLabel  \\\n",
       "0          Expédié         DIRECT  Automne/Hiver    Carte bancaire   \n",
       "1          Expédié         DIRECT  Automne/Hiver    Carte bancaire   \n",
       "2          Expédié         DIRECT  Automne/Hiver    Carte bancaire   \n",
       "3          Expédié         DIRECT  Automne/Hiver    Carte bancaire   \n",
       "4          Expédié         DIRECT  Automne/Hiver    Carte bancaire   \n",
       "\n",
       "  CustomerTypeLabel IsoCode DeviceTypeLabel PricingTypeLabel UnitPMPEUR  \\\n",
       "0           Nouveau      FR              ND      Plein Tarif      52,64   \n",
       "1           Nouveau      FR              ND      Plein Tarif      52,64   \n",
       "2           Nouveau      FR              ND      Plein Tarif      13,17   \n",
       "3           Nouveau      FR              ND      Plein Tarif       56,4   \n",
       "4           Nouveau      FR              ND      Plein Tarif         37   \n",
       "\n",
       "     OrderCreationDate        OrderShipDate BillingPostalCode  \n",
       "0  2011-10-26 12:10:48  2011-10-26 18:27:00             87000  \n",
       "1  2011-10-26 12:10:48  2011-10-26 18:27:00             87000  \n",
       "2  2011-10-26 12:11:38  2011-10-26 17:48:00             77700  \n",
       "3  2011-10-26 12:13:09  2011-10-26 17:59:00             44600  \n",
       "4  2011-10-26 12:13:09  2011-10-26 17:59:00             44600  "
      ]
     },
     "execution_count": 54,
     "metadata": {},
     "output_type": "execute_result"
    }
   ],
   "source": [
    "ord_df = X_train.select_dtypes(include=['object']).copy()\n",
    "ord_df.head()"
   ]
  },
  {
   "cell_type": "code",
   "execution_count": 55,
   "metadata": {},
   "outputs": [
    {
     "name": "stdout",
     "output_type": "stream",
     "text": [
      "Expédié    1067290\n",
      "Name: OrderStatusLabel, dtype: int64\n"
     ]
    }
   ],
   "source": [
    "# OrderstatusLabel\n",
    "print(ord_df.OrderStatusLabel.value_counts())\n",
    "ord_df.drop(\"OrderStatusLabel\",axis=1,inplace=True)"
   ]
  },
  {
   "cell_type": "code",
   "execution_count": 56,
   "metadata": {},
   "outputs": [
    {
     "name": "stdout",
     "output_type": "stream",
     "text": [
      "DIRECT      1033975\n",
      "EXCHANGE      33315\n",
      "Name: OrderTypelabel, dtype: int64\n"
     ]
    }
   ],
   "source": [
    "# OrderTypelabel\n",
    "print(ord_df.OrderTypelabel.value_counts())\n",
    "ord_df = pd.get_dummies(ord_df, columns=[\"OrderTypelabel\"])"
   ]
  },
  {
   "cell_type": "code",
   "execution_count": 57,
   "metadata": {},
   "outputs": [
    {
     "name": "stdout",
     "output_type": "stream",
     "text": [
      "Printemps/Eté    592694\n",
      "Automne/Hiver    474596\n",
      "Name: SeasonLabel, dtype: int64\n"
     ]
    }
   ],
   "source": [
    "# SeasonLabel\n",
    "print(ord_df.SeasonLabel.value_counts())\n",
    "ord_df = pd.get_dummies(ord_df, columns=[\"SeasonLabel\"])"
   ]
  },
  {
   "cell_type": "code",
   "execution_count": 58,
   "metadata": {},
   "outputs": [
    {
     "name": "stdout",
     "output_type": "stream",
     "text": [
      "Carte bancaire       816469\n",
      "PayPal               154745\n",
      "Gratuit               35241\n",
      "iDeal                 22887\n",
      "Chèque                17313\n",
      "BankTransfer_DE        7039\n",
      "DotPay                 5173\n",
      "maestro                3550\n",
      "Cod_DHL                3386\n",
      "BankTransfer_IBAN      1487\n",
      "Name: PayementModeLabel, dtype: int64\n"
     ]
    }
   ],
   "source": [
    "# PayementModeLabel\n",
    "print(ord_df.PayementModeLabel.value_counts())\n",
    "ord_df.drop(\"PayementModeLabel\",axis=1,inplace=True)"
   ]
  },
  {
   "cell_type": "code",
   "execution_count": 59,
   "metadata": {},
   "outputs": [
    {
     "name": "stdout",
     "output_type": "stream",
     "text": [
      "Fidélisé    615726\n",
      "Nouveau     451564\n",
      "Name: CustomerTypeLabel, dtype: int64\n"
     ]
    }
   ],
   "source": [
    "# CustomerTypeLabel\n",
    "print(ord_df.CustomerTypeLabel.value_counts())\n",
    "ord_df = pd.get_dummies(ord_df, columns=[\"CustomerTypeLabel\"])"
   ]
  },
  {
   "cell_type": "code",
   "execution_count": 60,
   "metadata": {},
   "outputs": [
    {
     "name": "stdout",
     "output_type": "stream",
     "text": [
      "FR    882181\n",
      "DE     37600\n",
      "BE     28845\n",
      "NL     28730\n",
      "GB     26152\n",
      "ES     22582\n",
      "IT     17714\n",
      "PL      9163\n",
      "DK      5957\n",
      "SE      4733\n",
      "LU      1376\n",
      "AT       548\n",
      "FI       456\n",
      "GR       294\n",
      "IE       237\n",
      "PT       208\n",
      "RO       135\n",
      "CZ       127\n",
      "SK        53\n",
      "SI        47\n",
      "HU        37\n",
      "LT        34\n",
      "EE        30\n",
      "BG        29\n",
      "LV        22\n",
      "Name: IsoCode, dtype: int64\n"
     ]
    }
   ],
   "source": [
    "# IsoCode\n",
    "print(ord_df.IsoCode.value_counts())\n",
    "ord_df.drop(\"IsoCode\",axis=1,inplace=True)"
   ]
  },
  {
   "cell_type": "code",
   "execution_count": 61,
   "metadata": {},
   "outputs": [
    {
     "name": "stdout",
     "output_type": "stream",
     "text": [
      "ND         877457\n",
      "Desktop    157382\n",
      "Tablet      23132\n",
      "Mobile       9319\n",
      "Name: DeviceTypeLabel, dtype: int64\n"
     ]
    }
   ],
   "source": [
    "# DeviceTypeLabel\n",
    "print(ord_df.DeviceTypeLabel.value_counts())\n",
    "ord_df.drop(\"DeviceTypeLabel\",axis=1,inplace=True)"
   ]
  },
  {
   "cell_type": "code",
   "execution_count": 62,
   "metadata": {},
   "outputs": [
    {
     "name": "stdout",
     "output_type": "stream",
     "text": [
      "Plein Tarif      450986\n",
      "Soldes           318489\n",
      "Promo Avec CP    144922\n",
      "Promo Sans CP     95377\n",
      "Vente Privée      57516\n",
      "Name: PricingTypeLabel, dtype: int64\n"
     ]
    }
   ],
   "source": [
    "#PricingTypeLabel\n",
    "print(ord_df.PricingTypeLabel.value_counts())\n",
    "ord_df = pd.get_dummies(ord_df, columns=[\"PricingTypeLabel\"])"
   ]
  },
  {
   "cell_type": "code",
   "execution_count": 63,
   "metadata": {
    "collapsed": true
   },
   "outputs": [],
   "source": [
    "g = lambda x: x.replace(\",\",\".\")\n",
    "ord_df.UnitPMPEUR = map(np.float64,(map(g,ord_df.UnitPMPEUR)))"
   ]
  },
  {
   "cell_type": "code",
   "execution_count": 64,
   "metadata": {},
   "outputs": [
    {
     "data": {
      "text/html": [
       "<div>\n",
       "<style>\n",
       "    .dataframe thead tr:only-child th {\n",
       "        text-align: right;\n",
       "    }\n",
       "\n",
       "    .dataframe thead th {\n",
       "        text-align: left;\n",
       "    }\n",
       "\n",
       "    .dataframe tbody tr th {\n",
       "        vertical-align: top;\n",
       "    }\n",
       "</style>\n",
       "<table border=\"1\" class=\"dataframe\">\n",
       "  <thead>\n",
       "    <tr style=\"text-align: right;\">\n",
       "      <th></th>\n",
       "      <th>UnitPMPEUR</th>\n",
       "      <th>OrderCreationDate</th>\n",
       "      <th>OrderShipDate</th>\n",
       "      <th>BillingPostalCode</th>\n",
       "      <th>OrderTypelabel_DIRECT</th>\n",
       "      <th>OrderTypelabel_EXCHANGE</th>\n",
       "      <th>SeasonLabel_Automne/Hiver</th>\n",
       "      <th>SeasonLabel_Printemps/Eté</th>\n",
       "      <th>CustomerTypeLabel_Fidélisé</th>\n",
       "      <th>CustomerTypeLabel_Nouveau</th>\n",
       "      <th>PricingTypeLabel_Plein Tarif</th>\n",
       "      <th>PricingTypeLabel_Promo Avec CP</th>\n",
       "      <th>PricingTypeLabel_Promo Sans CP</th>\n",
       "      <th>PricingTypeLabel_Soldes</th>\n",
       "      <th>PricingTypeLabel_Vente Privée</th>\n",
       "    </tr>\n",
       "  </thead>\n",
       "  <tbody>\n",
       "    <tr>\n",
       "      <th>0</th>\n",
       "      <td>&lt;map object at 0x11933b748&gt;</td>\n",
       "      <td>2011-10-26 12:10:48</td>\n",
       "      <td>2011-10-26 18:27:00</td>\n",
       "      <td>87000</td>\n",
       "      <td>1</td>\n",
       "      <td>0</td>\n",
       "      <td>1</td>\n",
       "      <td>0</td>\n",
       "      <td>0</td>\n",
       "      <td>1</td>\n",
       "      <td>1</td>\n",
       "      <td>0</td>\n",
       "      <td>0</td>\n",
       "      <td>0</td>\n",
       "      <td>0</td>\n",
       "    </tr>\n",
       "    <tr>\n",
       "      <th>1</th>\n",
       "      <td>&lt;map object at 0x11933b748&gt;</td>\n",
       "      <td>2011-10-26 12:10:48</td>\n",
       "      <td>2011-10-26 18:27:00</td>\n",
       "      <td>87000</td>\n",
       "      <td>1</td>\n",
       "      <td>0</td>\n",
       "      <td>1</td>\n",
       "      <td>0</td>\n",
       "      <td>0</td>\n",
       "      <td>1</td>\n",
       "      <td>1</td>\n",
       "      <td>0</td>\n",
       "      <td>0</td>\n",
       "      <td>0</td>\n",
       "      <td>0</td>\n",
       "    </tr>\n",
       "    <tr>\n",
       "      <th>2</th>\n",
       "      <td>&lt;map object at 0x11933b748&gt;</td>\n",
       "      <td>2011-10-26 12:11:38</td>\n",
       "      <td>2011-10-26 17:48:00</td>\n",
       "      <td>77700</td>\n",
       "      <td>1</td>\n",
       "      <td>0</td>\n",
       "      <td>1</td>\n",
       "      <td>0</td>\n",
       "      <td>0</td>\n",
       "      <td>1</td>\n",
       "      <td>1</td>\n",
       "      <td>0</td>\n",
       "      <td>0</td>\n",
       "      <td>0</td>\n",
       "      <td>0</td>\n",
       "    </tr>\n",
       "    <tr>\n",
       "      <th>3</th>\n",
       "      <td>&lt;map object at 0x11933b748&gt;</td>\n",
       "      <td>2011-10-26 12:13:09</td>\n",
       "      <td>2011-10-26 17:59:00</td>\n",
       "      <td>44600</td>\n",
       "      <td>1</td>\n",
       "      <td>0</td>\n",
       "      <td>1</td>\n",
       "      <td>0</td>\n",
       "      <td>0</td>\n",
       "      <td>1</td>\n",
       "      <td>1</td>\n",
       "      <td>0</td>\n",
       "      <td>0</td>\n",
       "      <td>0</td>\n",
       "      <td>0</td>\n",
       "    </tr>\n",
       "    <tr>\n",
       "      <th>4</th>\n",
       "      <td>&lt;map object at 0x11933b748&gt;</td>\n",
       "      <td>2011-10-26 12:13:09</td>\n",
       "      <td>2011-10-26 17:59:00</td>\n",
       "      <td>44600</td>\n",
       "      <td>1</td>\n",
       "      <td>0</td>\n",
       "      <td>1</td>\n",
       "      <td>0</td>\n",
       "      <td>0</td>\n",
       "      <td>1</td>\n",
       "      <td>1</td>\n",
       "      <td>0</td>\n",
       "      <td>0</td>\n",
       "      <td>0</td>\n",
       "      <td>0</td>\n",
       "    </tr>\n",
       "  </tbody>\n",
       "</table>\n",
       "</div>"
      ],
      "text/plain": [
       "                    UnitPMPEUR    OrderCreationDate        OrderShipDate  \\\n",
       "0  <map object at 0x11933b748>  2011-10-26 12:10:48  2011-10-26 18:27:00   \n",
       "1  <map object at 0x11933b748>  2011-10-26 12:10:48  2011-10-26 18:27:00   \n",
       "2  <map object at 0x11933b748>  2011-10-26 12:11:38  2011-10-26 17:48:00   \n",
       "3  <map object at 0x11933b748>  2011-10-26 12:13:09  2011-10-26 17:59:00   \n",
       "4  <map object at 0x11933b748>  2011-10-26 12:13:09  2011-10-26 17:59:00   \n",
       "\n",
       "  BillingPostalCode  OrderTypelabel_DIRECT  OrderTypelabel_EXCHANGE  \\\n",
       "0             87000                      1                        0   \n",
       "1             87000                      1                        0   \n",
       "2             77700                      1                        0   \n",
       "3             44600                      1                        0   \n",
       "4             44600                      1                        0   \n",
       "\n",
       "   SeasonLabel_Automne/Hiver  SeasonLabel_Printemps/Eté  \\\n",
       "0                          1                          0   \n",
       "1                          1                          0   \n",
       "2                          1                          0   \n",
       "3                          1                          0   \n",
       "4                          1                          0   \n",
       "\n",
       "   CustomerTypeLabel_Fidélisé  CustomerTypeLabel_Nouveau  \\\n",
       "0                           0                          1   \n",
       "1                           0                          1   \n",
       "2                           0                          1   \n",
       "3                           0                          1   \n",
       "4                           0                          1   \n",
       "\n",
       "   PricingTypeLabel_Plein Tarif  PricingTypeLabel_Promo Avec CP  \\\n",
       "0                             1                               0   \n",
       "1                             1                               0   \n",
       "2                             1                               0   \n",
       "3                             1                               0   \n",
       "4                             1                               0   \n",
       "\n",
       "   PricingTypeLabel_Promo Sans CP  PricingTypeLabel_Soldes  \\\n",
       "0                               0                        0   \n",
       "1                               0                        0   \n",
       "2                               0                        0   \n",
       "3                               0                        0   \n",
       "4                               0                        0   \n",
       "\n",
       "   PricingTypeLabel_Vente Privée  \n",
       "0                              0  \n",
       "1                              0  \n",
       "2                              0  \n",
       "3                              0  \n",
       "4                              0  "
      ]
     },
     "execution_count": 64,
     "metadata": {},
     "output_type": "execute_result"
    }
   ],
   "source": [
    "ord_df.head()"
   ]
  },
  {
   "cell_type": "code",
   "execution_count": 65,
   "metadata": {
    "collapsed": true
   },
   "outputs": [],
   "source": [
    "# Date\n",
    "ord_df.drop(\"OrderCreationDate\",axis=1,inplace=True)\n",
    "ord_df.drop(\"OrderShipDate\",axis=1,inplace=True)"
   ]
  },
  {
   "cell_type": "code",
   "execution_count": 66,
   "metadata": {
    "collapsed": true
   },
   "outputs": [],
   "source": [
    "# BillingPostalCode\n",
    "ord_df.drop(\"BillingPostalCode\",axis=1,inplace=True)"
   ]
  },
  {
   "cell_type": "code",
   "execution_count": 67,
   "metadata": {},
   "outputs": [
    {
     "data": {
      "text/plain": [
       "UnitPMPEUR                        object\n",
       "OrderTypelabel_DIRECT              uint8\n",
       "OrderTypelabel_EXCHANGE            uint8\n",
       "SeasonLabel_Automne/Hiver          uint8\n",
       "SeasonLabel_Printemps/Eté          uint8\n",
       "CustomerTypeLabel_Fidélisé         uint8\n",
       "CustomerTypeLabel_Nouveau          uint8\n",
       "PricingTypeLabel_Plein Tarif       uint8\n",
       "PricingTypeLabel_Promo Avec CP     uint8\n",
       "PricingTypeLabel_Promo Sans CP     uint8\n",
       "PricingTypeLabel_Soldes            uint8\n",
       "PricingTypeLabel_Vente Privée      uint8\n",
       "dtype: object"
      ]
     },
     "execution_count": 67,
     "metadata": {},
     "output_type": "execute_result"
    }
   ],
   "source": [
    "ord_df.dtypes"
   ]
  },
  {
   "cell_type": "markdown",
   "metadata": {},
   "source": [
    "# 2) FLOAT COLUMNS"
   ]
  },
  {
   "cell_type": "code",
   "execution_count": 68,
   "metadata": {},
   "outputs": [
    {
     "data": {
      "text/html": [
       "<div>\n",
       "<style>\n",
       "    .dataframe thead tr:only-child th {\n",
       "        text-align: right;\n",
       "    }\n",
       "\n",
       "    .dataframe thead th {\n",
       "        text-align: left;\n",
       "    }\n",
       "\n",
       "    .dataframe tbody tr th {\n",
       "        vertical-align: top;\n",
       "    }\n",
       "</style>\n",
       "<table border=\"1\" class=\"dataframe\">\n",
       "  <thead>\n",
       "    <tr style=\"text-align: right;\">\n",
       "      <th></th>\n",
       "      <th>OrderNumber</th>\n",
       "      <th>VariantId</th>\n",
       "      <th>LineItem</th>\n",
       "      <th>CustomerId</th>\n",
       "      <th>TotalLineItems</th>\n",
       "      <th>Quantity</th>\n",
       "      <th>OrderNumCustomer</th>\n",
       "    </tr>\n",
       "  </thead>\n",
       "  <tbody>\n",
       "    <tr>\n",
       "      <th>0</th>\n",
       "      <td>73521754</td>\n",
       "      <td>439729</td>\n",
       "      <td>1</td>\n",
       "      <td>12443972</td>\n",
       "      <td>2</td>\n",
       "      <td>1</td>\n",
       "      <td>1</td>\n",
       "    </tr>\n",
       "    <tr>\n",
       "      <th>1</th>\n",
       "      <td>73521754</td>\n",
       "      <td>440174</td>\n",
       "      <td>2</td>\n",
       "      <td>12443972</td>\n",
       "      <td>2</td>\n",
       "      <td>1</td>\n",
       "      <td>1</td>\n",
       "    </tr>\n",
       "    <tr>\n",
       "      <th>2</th>\n",
       "      <td>73525226</td>\n",
       "      <td>494501</td>\n",
       "      <td>1</td>\n",
       "      <td>12443958</td>\n",
       "      <td>1</td>\n",
       "      <td>1</td>\n",
       "      <td>1</td>\n",
       "    </tr>\n",
       "    <tr>\n",
       "      <th>3</th>\n",
       "      <td>73529009</td>\n",
       "      <td>439590</td>\n",
       "      <td>1</td>\n",
       "      <td>12443946</td>\n",
       "      <td>2</td>\n",
       "      <td>1</td>\n",
       "      <td>1</td>\n",
       "    </tr>\n",
       "    <tr>\n",
       "      <th>4</th>\n",
       "      <td>73529009</td>\n",
       "      <td>559476</td>\n",
       "      <td>2</td>\n",
       "      <td>12443946</td>\n",
       "      <td>2</td>\n",
       "      <td>1</td>\n",
       "      <td>1</td>\n",
       "    </tr>\n",
       "  </tbody>\n",
       "</table>\n",
       "</div>"
      ],
      "text/plain": [
       "   OrderNumber  VariantId  LineItem  CustomerId  TotalLineItems  Quantity  \\\n",
       "0     73521754     439729         1    12443972               2         1   \n",
       "1     73521754     440174         2    12443972               2         1   \n",
       "2     73525226     494501         1    12443958               1         1   \n",
       "3     73529009     439590         1    12443946               2         1   \n",
       "4     73529009     559476         2    12443946               2         1   \n",
       "\n",
       "   OrderNumCustomer  \n",
       "0                 1  \n",
       "1                 1  \n",
       "2                 1  \n",
       "3                 1  \n",
       "4                 1  "
      ]
     },
     "execution_count": 68,
     "metadata": {},
     "output_type": "execute_result"
    }
   ],
   "source": [
    "floatord_df = X_train.select_dtypes(include=['int64']).copy()\n",
    "floatord_df.head()"
   ]
  },
  {
   "cell_type": "code",
   "execution_count": 69,
   "metadata": {},
   "outputs": [
    {
     "data": {
      "text/plain": [
       "<matplotlib.axes._subplots.AxesSubplot at 0x118fef2e8>"
      ]
     },
     "execution_count": 69,
     "metadata": {},
     "output_type": "execute_result"
    },
    {
     "data": {
      "image/png": "[encoded data removed]",
      "text/plain": [
       "<matplotlib.figure.Figure at 0x119346f60>"
      ]
     },
     "metadata": {},
     "output_type": "display_data"
    }
   ],
   "source": [
    "floatord_df['TotalLineItems'] = (np.log(floatord_df['TotalLineItems']))\n",
    "floatord_df['TotalLineItems'] = (floatord_df['TotalLineItems'])/max(floatord_df['TotalLineItems'])\n",
    "floatord_df.boxplot(column=['TotalLineItems'],return_type='axes')"
   ]
  },
  {
   "cell_type": "code",
   "execution_count": 70,
   "metadata": {
    "collapsed": true
   },
   "outputs": [],
   "source": [
    "floatord_df.drop(\"Quantity\",axis=1,inplace=True)"
   ]
  },
  {
   "cell_type": "code",
   "execution_count": 71,
   "metadata": {},
   "outputs": [
    {
     "name": "stderr",
     "output_type": "stream",
     "text": [
      "/anaconda3/lib/python3.6/site-packages/ipykernel_launcher.py:1: RuntimeWarning: invalid value encountered in log\n",
      "  \"\"\"Entry point for launching an IPython kernel.\n"
     ]
    },
    {
     "data": {
      "text/plain": [
       "<matplotlib.axes._subplots.AxesSubplot at 0x118fef668>"
      ]
     },
     "execution_count": 71,
     "metadata": {},
     "output_type": "execute_result"
    },
    {
     "data": {
      "image/png": "[encoded data removed]",
      "text/plain": [
       "<matplotlib.figure.Figure at 0x11933bfd0>"
      ]
     },
     "metadata": {},
     "output_type": "display_data"
    }
   ],
   "source": [
    "floatord_df['OrderNumCustomer'] = (np.log(floatord_df['OrderNumCustomer']))\n",
    "floatord_df['OrderNumCustomer'] = (floatord_df['OrderNumCustomer'])/max(floatord_df['OrderNumCustomer'])\n",
    "floatord_df.boxplot(column=['OrderNumCustomer'],return_type='axes')"
   ]
  },
  {
   "cell_type": "markdown",
   "metadata": {},
   "source": [
    "# 3) CONCATENATE INT+OBJECT"
   ]
  },
  {
   "cell_type": "code",
   "execution_count": 72,
   "metadata": {
    "collapsed": true
   },
   "outputs": [],
   "source": [
    "result_order = pd.concat([floatord_df,ord_df],axis=1) #nouveau X_train"
   ]
  },
  {
   "cell_type": "markdown",
   "metadata": {},
   "source": [
    "# III) X_TEST"
   ]
  },
  {
   "cell_type": "code",
   "execution_count": 73,
   "metadata": {},
   "outputs": [
    {
     "data": {
      "text/plain": [
       "OrderNumber             0\n",
       "VariantId               0\n",
       "LineItem                0\n",
       "CustomerId              0\n",
       "OrderStatusLabel        0\n",
       "OrderTypelabel          0\n",
       "SeasonLabel             0\n",
       "PayementModeLabel       0\n",
       "CustomerTypeLabel       0\n",
       "IsoCode                 0\n",
       "DeviceTypeLabel         0\n",
       "PricingTypeLabel        0\n",
       "TotalLineItems          0\n",
       "Quantity                0\n",
       "UnitPMPEUR              0\n",
       "OrderCreationDate       0\n",
       "OrderShipDate           0\n",
       "OrderNumCustomer        0\n",
       "IsOnSale             2254\n",
       "BillingPostalCode      27\n",
       "dtype: int64"
      ]
     },
     "execution_count": 73,
     "metadata": {},
     "output_type": "execute_result"
    }
   ],
   "source": [
    "X_test.isnull().sum()"
   ]
  },
  {
   "cell_type": "markdown",
   "metadata": {},
   "source": [
    "# 1) OBJECT COLUMNS"
   ]
  },
  {
   "cell_type": "code",
   "execution_count": 74,
   "metadata": {},
   "outputs": [
    {
     "data": {
      "text/html": [
       "<div>\n",
       "<style>\n",
       "    .dataframe thead tr:only-child th {\n",
       "        text-align: right;\n",
       "    }\n",
       "\n",
       "    .dataframe thead th {\n",
       "        text-align: left;\n",
       "    }\n",
       "\n",
       "    .dataframe tbody tr th {\n",
       "        vertical-align: top;\n",
       "    }\n",
       "</style>\n",
       "<table border=\"1\" class=\"dataframe\">\n",
       "  <thead>\n",
       "    <tr style=\"text-align: right;\">\n",
       "      <th></th>\n",
       "      <th>OrderStatusLabel</th>\n",
       "      <th>OrderTypelabel</th>\n",
       "      <th>SeasonLabel</th>\n",
       "      <th>PayementModeLabel</th>\n",
       "      <th>CustomerTypeLabel</th>\n",
       "      <th>IsoCode</th>\n",
       "      <th>DeviceTypeLabel</th>\n",
       "      <th>PricingTypeLabel</th>\n",
       "      <th>UnitPMPEUR</th>\n",
       "      <th>OrderCreationDate</th>\n",
       "      <th>OrderShipDate</th>\n",
       "      <th>BillingPostalCode</th>\n",
       "    </tr>\n",
       "  </thead>\n",
       "  <tbody>\n",
       "    <tr>\n",
       "      <th>0</th>\n",
       "      <td>Expédié</td>\n",
       "      <td>DIRECT</td>\n",
       "      <td>Automne/Hiver</td>\n",
       "      <td>Carte bancaire</td>\n",
       "      <td>Fidélisé</td>\n",
       "      <td>GB</td>\n",
       "      <td>Desktop</td>\n",
       "      <td>Promo Avec CP</td>\n",
       "      <td>52,92</td>\n",
       "      <td>2014-12-02 14:59:54</td>\n",
       "      <td>2014-12-03 19:40:00</td>\n",
       "      <td>SW4 0DX</td>\n",
       "    </tr>\n",
       "    <tr>\n",
       "      <th>1</th>\n",
       "      <td>Expédié</td>\n",
       "      <td>DIRECT</td>\n",
       "      <td>Automne/Hiver</td>\n",
       "      <td>Klarna_Invoice</td>\n",
       "      <td>Fidélisé</td>\n",
       "      <td>DE</td>\n",
       "      <td>Desktop</td>\n",
       "      <td>Promo Avec CP</td>\n",
       "      <td>32,4355</td>\n",
       "      <td>2014-12-02 15:00:41</td>\n",
       "      <td>2014-12-03 11:24:00</td>\n",
       "      <td>66887</td>\n",
       "    </tr>\n",
       "    <tr>\n",
       "      <th>2</th>\n",
       "      <td>Expédié</td>\n",
       "      <td>DIRECT</td>\n",
       "      <td>Automne/Hiver</td>\n",
       "      <td>Carte bancaire</td>\n",
       "      <td>Nouveau</td>\n",
       "      <td>FR</td>\n",
       "      <td>Desktop</td>\n",
       "      <td>Plein Tarif</td>\n",
       "      <td>66,65</td>\n",
       "      <td>2014-12-02 15:01:18</td>\n",
       "      <td>2014-12-03 17:21:00</td>\n",
       "      <td>77600</td>\n",
       "    </tr>\n",
       "    <tr>\n",
       "      <th>3</th>\n",
       "      <td>Expédié</td>\n",
       "      <td>DIRECT</td>\n",
       "      <td>Automne/Hiver</td>\n",
       "      <td>PayPal</td>\n",
       "      <td>Nouveau</td>\n",
       "      <td>DE</td>\n",
       "      <td>Desktop</td>\n",
       "      <td>Promo Avec CP</td>\n",
       "      <td>35,72</td>\n",
       "      <td>2014-12-02 15:03:24</td>\n",
       "      <td>2014-12-03 13:13:00</td>\n",
       "      <td>45879</td>\n",
       "    </tr>\n",
       "    <tr>\n",
       "      <th>4</th>\n",
       "      <td>Expédié</td>\n",
       "      <td>DIRECT</td>\n",
       "      <td>Automne/Hiver</td>\n",
       "      <td>BankTransfer_IBAN</td>\n",
       "      <td>Nouveau</td>\n",
       "      <td>ES</td>\n",
       "      <td>Desktop</td>\n",
       "      <td>Plein Tarif</td>\n",
       "      <td>23,86</td>\n",
       "      <td>2014-12-02 15:04:13</td>\n",
       "      <td>2014-12-04 17:41:00</td>\n",
       "      <td>08006</td>\n",
       "    </tr>\n",
       "  </tbody>\n",
       "</table>\n",
       "</div>"
      ],
      "text/plain": [
       "  OrderStatusLabel OrderTypelabel    SeasonLabel  PayementModeLabel  \\\n",
       "0          Expédié         DIRECT  Automne/Hiver     Carte bancaire   \n",
       "1          Expédié         DIRECT  Automne/Hiver     Klarna_Invoice   \n",
       "2          Expédié         DIRECT  Automne/Hiver     Carte bancaire   \n",
       "3          Expédié         DIRECT  Automne/Hiver             PayPal   \n",
       "4          Expédié         DIRECT  Automne/Hiver  BankTransfer_IBAN   \n",
       "\n",
       "  CustomerTypeLabel IsoCode DeviceTypeLabel PricingTypeLabel UnitPMPEUR  \\\n",
       "0          Fidélisé      GB         Desktop    Promo Avec CP      52,92   \n",
       "1          Fidélisé      DE         Desktop    Promo Avec CP    32,4355   \n",
       "2           Nouveau      FR         Desktop      Plein Tarif      66,65   \n",
       "3           Nouveau      DE         Desktop    Promo Avec CP      35,72   \n",
       "4           Nouveau      ES         Desktop      Plein Tarif      23,86   \n",
       "\n",
       "     OrderCreationDate        OrderShipDate BillingPostalCode  \n",
       "0  2014-12-02 14:59:54  2014-12-03 19:40:00           SW4 0DX  \n",
       "1  2014-12-02 15:00:41  2014-12-03 11:24:00             66887  \n",
       "2  2014-12-02 15:01:18  2014-12-03 17:21:00             77600  \n",
       "3  2014-12-02 15:03:24  2014-12-03 13:13:00             45879  \n",
       "4  2014-12-02 15:04:13  2014-12-04 17:41:00             08006  "
      ]
     },
     "execution_count": 74,
     "metadata": {},
     "output_type": "execute_result"
    }
   ],
   "source": [
    "test_df = X_test.select_dtypes(include=['object']).copy()\n",
    "test_df.head()"
   ]
  },
  {
   "cell_type": "code",
   "execution_count": 75,
   "metadata": {},
   "outputs": [
    {
     "name": "stdout",
     "output_type": "stream",
     "text": [
      "Expédié    800468\n",
      "Name: OrderStatusLabel, dtype: int64\n"
     ]
    }
   ],
   "source": [
    "# OrderstatusLabel\n",
    "print(test_df.OrderStatusLabel.value_counts())\n",
    "test_df.drop(\"OrderStatusLabel\",axis=1,inplace=True)"
   ]
  },
  {
   "cell_type": "code",
   "execution_count": 76,
   "metadata": {},
   "outputs": [
    {
     "name": "stdout",
     "output_type": "stream",
     "text": [
      "DIRECT      775334\n",
      "EXCHANGE     25134\n",
      "Name: OrderTypelabel, dtype: int64\n"
     ]
    }
   ],
   "source": [
    "# OrderTypelabel\n",
    "print(test_df.OrderTypelabel.value_counts())\n",
    "test_df = pd.get_dummies(test_df, columns=[\"OrderTypelabel\"])"
   ]
  },
  {
   "cell_type": "code",
   "execution_count": 77,
   "metadata": {},
   "outputs": [
    {
     "name": "stdout",
     "output_type": "stream",
     "text": [
      "Printemps/Eté    465647\n",
      "Automne/Hiver    334821\n",
      "Name: SeasonLabel, dtype: int64\n"
     ]
    }
   ],
   "source": [
    "# SeasonLabel\n",
    "print(test_df.SeasonLabel.value_counts())\n",
    "test_df = pd.get_dummies(test_df, columns=[\"SeasonLabel\"])"
   ]
  },
  {
   "cell_type": "code",
   "execution_count": 78,
   "metadata": {},
   "outputs": [
    {
     "name": "stdout",
     "output_type": "stream",
     "text": [
      "Carte bancaire          495398\n",
      "PayPal                  127765\n",
      "Klarna_Invoice           44369\n",
      "iDeal                    33954\n",
      "Gratuit                  27033\n",
      "Cod_UPS                  14702\n",
      "maestro                  13392\n",
      "Cod_GLS                  11802\n",
      "DotPay                    6833\n",
      "Chèque                    5642\n",
      "Cod_Nacex                 5309\n",
      "P3X                       5232\n",
      "BankTransfer_DE           4574\n",
      "BankTransfer_IBAN         1478\n",
      "Klarna_Account            1425\n",
      "BankTransfer_PL           1179\n",
      "SwissBilling_Invoice       381\n",
      "Name: PayementModeLabel, dtype: int64\n"
     ]
    }
   ],
   "source": [
    "# PayementModeLabel\n",
    "print(test_df.PayementModeLabel.value_counts())\n",
    "test_df.drop(\"PayementModeLabel\",axis=1,inplace=True)"
   ]
  },
  {
   "cell_type": "code",
   "execution_count": 79,
   "metadata": {},
   "outputs": [
    {
     "name": "stdout",
     "output_type": "stream",
     "text": [
      "Fidélisé    470044\n",
      "Nouveau     330424\n",
      "Name: CustomerTypeLabel, dtype: int64\n"
     ]
    }
   ],
   "source": [
    "# CustomerTypeLabel\n",
    "print(test_df.CustomerTypeLabel.value_counts())\n",
    "test_df = pd.get_dummies(test_df, columns=[\"CustomerTypeLabel\"])"
   ]
  },
  {
   "cell_type": "code",
   "execution_count": 80,
   "metadata": {},
   "outputs": [
    {
     "name": "stdout",
     "output_type": "stream",
     "text": [
      "FR    507355\n",
      "DE     71942\n",
      "NL     50461\n",
      "BE     35096\n",
      "IT     28613\n",
      "ES     28462\n",
      "PL     25366\n",
      "GB     19774\n",
      "SE     13969\n",
      "DK      8288\n",
      "CH      6108\n",
      "AT      1836\n",
      "LU       933\n",
      "FI       338\n",
      "RO       314\n",
      "IE       254\n",
      "PT       225\n",
      "SI       201\n",
      "GR       188\n",
      "HR       179\n",
      "BG       103\n",
      "LT        94\n",
      "CZ        82\n",
      "LV        80\n",
      "HU        76\n",
      "EE        67\n",
      "SK        64\n",
      "Name: IsoCode, dtype: int64\n"
     ]
    }
   ],
   "source": [
    "# IsoCode\n",
    "print(test_df.IsoCode.value_counts())\n",
    "test_df.drop(\"IsoCode\",axis=1,inplace=True)"
   ]
  },
  {
   "cell_type": "code",
   "execution_count": 81,
   "metadata": {},
   "outputs": [
    {
     "name": "stdout",
     "output_type": "stream",
     "text": [
      "Desktop    585610\n",
      "Mobile     110941\n",
      "Tablet     101471\n",
      "ND           2446\n",
      "Name: DeviceTypeLabel, dtype: int64\n"
     ]
    }
   ],
   "source": [
    "# DeviceTypeLabel\n",
    "print(test_df.DeviceTypeLabel.value_counts())\n",
    "test_df.drop(\"DeviceTypeLabel\",axis=1,inplace=True)"
   ]
  },
  {
   "cell_type": "code",
   "execution_count": 82,
   "metadata": {},
   "outputs": [
    {
     "name": "stdout",
     "output_type": "stream",
     "text": [
      "Plein Tarif      370933\n",
      "Soldes           219383\n",
      "Promo Avec CP    147723\n",
      "Promo Sans CP     33153\n",
      "Vente Privée      29276\n",
      "Name: PricingTypeLabel, dtype: int64\n"
     ]
    }
   ],
   "source": [
    "#PricingTypeLabel\n",
    "print(test_df.PricingTypeLabel.value_counts())\n",
    "test_df = pd.get_dummies(test_df, columns=[\"PricingTypeLabel\"])"
   ]
  },
  {
   "cell_type": "code",
   "execution_count": 83,
   "metadata": {
    "collapsed": true
   },
   "outputs": [],
   "source": [
    "# UnitPMPEUR\n",
    "g = lambda x: x.replace(\",\",\".\")\n",
    "test_df.UnitPMPEUR = map(np.float64,(map(g,test_df.UnitPMPEUR)))"
   ]
  },
  {
   "cell_type": "code",
   "execution_count": 84,
   "metadata": {
    "collapsed": true
   },
   "outputs": [],
   "source": [
    "# Date\n",
    "test_df.drop(\"OrderCreationDate\",axis=1,inplace=True)\n",
    "test_df.drop(\"OrderShipDate\",axis=1,inplace=True)"
   ]
  },
  {
   "cell_type": "code",
   "execution_count": 85,
   "metadata": {
    "collapsed": true
   },
   "outputs": [],
   "source": [
    "# BillingPostalCode\n",
    "test_df.drop(\"BillingPostalCode\",axis=1,inplace=True)"
   ]
  },
  {
   "cell_type": "markdown",
   "metadata": {},
   "source": [
    "# 2) INT COLUMNS"
   ]
  },
  {
   "cell_type": "code",
   "execution_count": 86,
   "metadata": {},
   "outputs": [
    {
     "data": {
      "text/html": [
       "<div>\n",
       "<style>\n",
       "    .dataframe thead tr:only-child th {\n",
       "        text-align: right;\n",
       "    }\n",
       "\n",
       "    .dataframe thead th {\n",
       "        text-align: left;\n",
       "    }\n",
       "\n",
       "    .dataframe tbody tr th {\n",
       "        vertical-align: top;\n",
       "    }\n",
       "</style>\n",
       "<table border=\"1\" class=\"dataframe\">\n",
       "  <thead>\n",
       "    <tr style=\"text-align: right;\">\n",
       "      <th></th>\n",
       "      <th>OrderNumber</th>\n",
       "      <th>VariantId</th>\n",
       "      <th>LineItem</th>\n",
       "      <th>CustomerId</th>\n",
       "      <th>TotalLineItems</th>\n",
       "      <th>Quantity</th>\n",
       "      <th>OrderNumCustomer</th>\n",
       "    </tr>\n",
       "  </thead>\n",
       "  <tbody>\n",
       "    <tr>\n",
       "      <th>0</th>\n",
       "      <td>90607166</td>\n",
       "      <td>754279</td>\n",
       "      <td>1</td>\n",
       "      <td>14369241</td>\n",
       "      <td>2</td>\n",
       "      <td>1</td>\n",
       "      <td>3</td>\n",
       "    </tr>\n",
       "    <tr>\n",
       "      <th>1</th>\n",
       "      <td>90621016</td>\n",
       "      <td>1043714</td>\n",
       "      <td>1</td>\n",
       "      <td>16121040</td>\n",
       "      <td>1</td>\n",
       "      <td>1</td>\n",
       "      <td>2</td>\n",
       "    </tr>\n",
       "    <tr>\n",
       "      <th>2</th>\n",
       "      <td>90630628</td>\n",
       "      <td>302486</td>\n",
       "      <td>1</td>\n",
       "      <td>16271310</td>\n",
       "      <td>1</td>\n",
       "      <td>1</td>\n",
       "      <td>1</td>\n",
       "    </tr>\n",
       "    <tr>\n",
       "      <th>3</th>\n",
       "      <td>90641377</td>\n",
       "      <td>1300698</td>\n",
       "      <td>1</td>\n",
       "      <td>16271314</td>\n",
       "      <td>1</td>\n",
       "      <td>1</td>\n",
       "      <td>1</td>\n",
       "    </tr>\n",
       "    <tr>\n",
       "      <th>4</th>\n",
       "      <td>90652456</td>\n",
       "      <td>1392714</td>\n",
       "      <td>1</td>\n",
       "      <td>16251703</td>\n",
       "      <td>1</td>\n",
       "      <td>1</td>\n",
       "      <td>1</td>\n",
       "    </tr>\n",
       "  </tbody>\n",
       "</table>\n",
       "</div>"
      ],
      "text/plain": [
       "   OrderNumber  VariantId  LineItem  CustomerId  TotalLineItems  Quantity  \\\n",
       "0     90607166     754279         1    14369241               2         1   \n",
       "1     90621016    1043714         1    16121040               1         1   \n",
       "2     90630628     302486         1    16271310               1         1   \n",
       "3     90641377    1300698         1    16271314               1         1   \n",
       "4     90652456    1392714         1    16251703               1         1   \n",
       "\n",
       "   OrderNumCustomer  \n",
       "0                 3  \n",
       "1                 2  \n",
       "2                 1  \n",
       "3                 1  \n",
       "4                 1  "
      ]
     },
     "execution_count": 86,
     "metadata": {},
     "output_type": "execute_result"
    }
   ],
   "source": [
    "floattest_df = X_test.select_dtypes(include=['int64']).copy()\n",
    "floattest_df.head()"
   ]
  },
  {
   "cell_type": "code",
   "execution_count": 87,
   "metadata": {
    "collapsed": true
   },
   "outputs": [],
   "source": [
    "floattest_df['TotalLineItems'] = (np.log(floattest_df['TotalLineItems']))\n",
    "floattest_df['TotalLineItems'] = (floattest_df['TotalLineItems'])/max(floattest_df['TotalLineItems'])"
   ]
  },
  {
   "cell_type": "code",
   "execution_count": 88,
   "metadata": {
    "collapsed": true
   },
   "outputs": [],
   "source": [
    "floattest_df.drop(\"Quantity\",axis=1,inplace=True)"
   ]
  },
  {
   "cell_type": "code",
   "execution_count": 89,
   "metadata": {},
   "outputs": [
    {
     "name": "stderr",
     "output_type": "stream",
     "text": [
      "/anaconda3/lib/python3.6/site-packages/ipykernel_launcher.py:1: RuntimeWarning: invalid value encountered in log\n",
      "  \"\"\"Entry point for launching an IPython kernel.\n"
     ]
    }
   ],
   "source": [
    "floattest_df['OrderNumCustomer'] = (np.log(floattest_df['OrderNumCustomer']))\n",
    "floattest_df['OrderNumCustomer'] = (floattest_df['OrderNumCustomer'])/max(floattest_df['OrderNumCustomer'])"
   ]
  },
  {
   "cell_type": "markdown",
   "metadata": {},
   "source": [
    "# 3) CONCATENATE INT+OBJECT"
   ]
  },
  {
   "cell_type": "code",
   "execution_count": 90,
   "metadata": {
    "collapsed": true
   },
   "outputs": [],
   "source": [
    "result_test = pd.concat([floattest_df,test_df],axis=1) #nouveau X_test"
   ]
  },
  {
   "cell_type": "markdown",
   "metadata": {},
   "source": [
    "# Merge X_train avec products"
   ]
  },
  {
   "cell_type": "code",
   "execution_count": 91,
   "metadata": {
    "collapsed": true
   },
   "outputs": [],
   "source": [
    "orders_return = pd.merge(result_order,y_train,how='inner',on=['OrderNumber','LineItem'])"
   ]
  },
  {
   "cell_type": "code",
   "execution_count": 92,
   "metadata": {
    "collapsed": true
   },
   "outputs": [],
   "source": [
    "orders_products = pd.merge(orders_return,result_product,how='inner',on='VariantId')"
   ]
  },
  {
   "cell_type": "code",
   "execution_count": 93,
   "metadata": {
    "collapsed": true
   },
   "outputs": [],
   "source": [
    "y_data = orders_products.ReturnQuantityBin"
   ]
  },
  {
   "cell_type": "code",
   "execution_count": 94,
   "metadata": {
    "collapsed": true
   },
   "outputs": [],
   "source": [
    "data = orders_products.drop(['ReturnQuantity','ReturnQuantityBin'],axis=1,inplace=False)"
   ]
  },
  {
   "cell_type": "code",
   "execution_count": 95,
   "metadata": {
    "collapsed": true
   },
   "outputs": [],
   "source": [
    "# Line Item\n",
    "data['LineItem'] = np.log(data['LineItem'])\n",
    "data['LineItem'] = data['LineItem']/max(data['LineItem'])"
   ]
  },
  {
   "cell_type": "code",
   "execution_count": 96,
   "metadata": {
    "collapsed": true
   },
   "outputs": [],
   "source": [
    "# VariantId, OrderNumber, CustomerId\n",
    "data.drop('VariantId',axis=1,inplace=True) # Ne sert pas\n",
    "data.drop('OrderNumber',axis=1,inplace=True)\n",
    "data.drop('CustomerId',axis=1,inplace=True)"
   ]
  },
  {
   "cell_type": "code",
   "execution_count": 97,
   "metadata": {},
   "outputs": [
    {
     "data": {
      "text/plain": [
       "(689670, 36)"
      ]
     },
     "execution_count": 97,
     "metadata": {},
     "output_type": "execute_result"
    }
   ],
   "source": [
    "data.shape"
   ]
  },
  {
   "cell_type": "markdown",
   "metadata": {},
   "source": [
    "# Merge X_test avec products"
   ]
  },
  {
   "cell_type": "code",
   "execution_count": 98,
   "metadata": {},
   "outputs": [
    {
     "data": {
      "text/plain": [
       "(800468, 18)"
      ]
     },
     "execution_count": 98,
     "metadata": {},
     "output_type": "execute_result"
    }
   ],
   "source": [
    "result_test.shape"
   ]
  },
  {
   "cell_type": "code",
   "execution_count": 99,
   "metadata": {
    "collapsed": true
   },
   "outputs": [],
   "source": [
    "data_test = pd.merge(result_test,result_product,how='left',on='VariantId')\n",
    "#data_test = result_test"
   ]
  },
  {
   "cell_type": "code",
   "execution_count": 100,
   "metadata": {
    "collapsed": true
   },
   "outputs": [],
   "source": [
    "# Line Item\n",
    "data_test['LineItem'] = np.log(data_test['LineItem'])\n",
    "data_test['LineItem'] = data_test['LineItem']/max(data_test['LineItem'])"
   ]
  },
  {
   "cell_type": "code",
   "execution_count": 101,
   "metadata": {
    "collapsed": true
   },
   "outputs": [],
   "source": [
    "# VariantId, OrderNumber, CustomerId\n",
    "data_test.drop('VariantId',axis=1,inplace=True) # Ne sert pas\n",
    "data_test.drop('OrderNumber',axis=1,inplace=True)\n",
    "data_test.drop('CustomerId',axis=1,inplace=True)"
   ]
  },
  {
   "cell_type": "code",
   "execution_count": 102,
   "metadata": {},
   "outputs": [
    {
     "data": {
      "text/plain": [
       "(800468, 36)"
      ]
     },
     "execution_count": 102,
     "metadata": {},
     "output_type": "execute_result"
    }
   ],
   "source": [
    "data_test.shape"
   ]
  },
  {
   "cell_type": "markdown",
   "metadata": {},
   "source": [
    "# Apply the mask"
   ]
  },
  {
   "cell_type": "code",
   "execution_count": 103,
   "metadata": {
    "collapsed": true
   },
   "outputs": [],
   "source": [
    "def funk_mask(d):\n",
    "    \" Defining a simple mask over the input data \"\n",
    "    columns_ext = []\n",
    "    X1 = d.loc[:,[xx for xx in d.columns if xx not in columns_ext]]\n",
    "    g = lambda x: x.replace(\",\",\".\")\n",
    "    #X1.UnitPMPEUR = map(np.float64,(map(g,X1.UnitPMPEUR)))\n",
    "    columns2bin = [x for x in X1.columns if X1[x].dtype == np.dtype('O')]\n",
    "    X2 = pd.get_dummies(X1.loc[:,columns2bin])\n",
    "    X1 = X1.loc[:,[xx for xx in X1.columns if xx not in columns2bin]]\n",
    "    res = pd.concat([X1,X2],axis=1)\n",
    "    res = res.fillna(0)\n",
    "    return(res)"
   ]
  },
  {
   "cell_type": "code",
   "execution_count": 104,
   "metadata": {
    "collapsed": true
   },
   "outputs": [],
   "source": [
    "x1 = funk_mask(data)\n",
    "x2 = funk_mask(data_test)\n",
    "seleckt_columns = np.intersect1d(x1.columns,x2.columns)\n",
    "x1 = x1.loc[:,seleckt_columns]\n",
    "x2 = x2.loc[:,seleckt_columns]"
   ]
  },
  {
   "cell_type": "code",
   "execution_count": 105,
   "metadata": {
    "collapsed": true
   },
   "outputs": [],
   "source": [
    "data.drop(\"UnitPMPEUR\",axis=1,inplace=True)\n",
    "data_test.drop(\"UnitPMPEUR\",axis=1,inplace=True)"
   ]
  },
  {
   "cell_type": "code",
   "execution_count": 106,
   "metadata": {
    "collapsed": true
   },
   "outputs": [],
   "source": [
    "data = data.fillna(0)\n",
    "data_test = data_test.fillna(0)"
   ]
  },
  {
   "cell_type": "code",
   "execution_count": 111,
   "metadata": {},
   "outputs": [],
   "source": [
    "clf = RandomForestClassifier()\n",
    "clf.fit(data.iloc[:500000], y_data[:500000])\n",
    "y_tosubmit = clf.predict_proba(data_test.loc[:,x1.columns])\n",
    "score_forest = np.mean(cross_val_score(clf,data.iloc[:500000], y_data[:500000],cv=10))"
   ]
  },
  {
   "cell_type": "code",
   "execution_count": 112,
   "metadata": {},
   "outputs": [
    {
     "name": "stdout",
     "output_type": "stream",
     "text": [
      "0.742399954477\n"
     ]
    }
   ],
   "source": [
    "print(score_forest)"
   ]
  },
  {
   "cell_type": "code",
   "execution_count": 115,
   "metadata": {},
   "outputs": [
    {
     "name": "stdout",
     "output_type": "stream",
     "text": [
      "0.498619080019\n"
     ]
    }
   ],
   "source": [
    "yres = clf.predict_proba(x1.loc[:500000,x1.columns])\n",
    "print(roc_auc_score(y_train.ReturnQuantityBin.iloc[:500001],yres[:,1]))"
   ]
  },
  {
   "cell_type": "code",
   "execution_count": 114,
   "metadata": {
    "collapsed": true
   },
   "outputs": [],
   "source": [
    "np.savetxt('y_pred.txt', y_tosubmit[:,1], fmt='%f')"
   ]
  }
 ],
 "metadata": {
  "kernelspec": {
   "display_name": "Python 3",
   "language": "python",
   "name": "python3"
  },
  "language_info": {
   "codemirror_mode": {
    "name": "ipython",
    "version": 3
   },
   "file_extension": ".py",
   "mimetype": "text/x-python",
   "name": "python",
   "nbconvert_exporter": "python",
   "pygments_lexer": "ipython3",
   "version": "3.6.3"
  }
 },
 "nbformat": 4,
 "nbformat_minor": 2
}
